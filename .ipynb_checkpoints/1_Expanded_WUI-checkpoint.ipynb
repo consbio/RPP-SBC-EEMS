{
 "cells": [
  {
   "cell_type": "code",
   "execution_count": 2,
   "metadata": {},
   "outputs": [],
   "source": [
    "import pandas as pd\n",
    "import geopandas as gpd\n",
    "import arcpy\n",
    "import os\n",
    "import shutil\n",
    "import math\n",
    "import inspect\n",
    "\n",
    "src_file_path = inspect.getfile(lambda: None)\n",
    "THIS_FOLDER = os.path.dirname(os.path.abspath(src_file_path))"
   ]
  },
  {
   "cell_type": "markdown",
   "metadata": {},
   "source": [
    "# Summary\n",
    "\n",
    "This notebook creates an expanded wildland urban interface (WUI) data layer that establishes the bounds of the EEMS modeling area of interest. This is done by combining multiple WUI datasets, as well as community wildfire protection plan (CWPP) administrative zones. We then clip out the ocean. These various data layers were aquired from Cal Fire, Santa Barbara County Fire, SB City Fire, Los Padres National Forest, as well as digitized from various CWPPs.\n",
    "\n",
    "**Input Data Layers:**\n",
    "- [Multiagency WUIs](https://databasin.org/datasets/492eb38ab0374de99d15d6c6a132e337/)\n",
    "- [CWPP Boundaries](https://databasin.org/datasets/54b02e8e341149f7a09aa6507cfebdd7/)\n",
    "- [SBC Boundary](https://databasin.org/datasets/1cdc07adea7d4dee9cc1f07ab44cfef3/)"
   ]
  },
  {
   "cell_type": "code",
   "execution_count": 3,
   "metadata": {},
   "outputs": [],
   "source": [
    "arcpy.ResetEnvironments()\n",
    "gdb_name = \"Expanded_WUI.gdb\"\n",
    "arcpy.env.overwriteOutput = True\n",
    "path = os.path.join(THIS_FOLDER, gdb_name)\n",
    "arcpy.CreateFileGDB_management(\"./\", gdb_name)\n",
    "arcpy.env.workspace = path\n",
    "arcpy.env.scratchWorkspace = path"
   ]
  },
  {
   "cell_type": "markdown",
   "metadata": {},
   "source": [
    "**Load the various data layers used to create the expanded WUI**"
   ]
  },
  {
   "cell_type": "code",
   "execution_count": 4,
   "metadata": {},
   "outputs": [
    {
     "data": {
      "text/html": [
       "<h2>Output</h2>C:\\Users\\zrcan\\Documents\\GitHub\\RPP-SBC-EEMS\\Expanded_WUI.gdb\\SBC_Boundary_rpj<h2>Messages</h2>Start Time: Friday, July 9, 2021 12:53:44 PM<br/>Succeeded at Friday, July 9, 2021 12:53:45 PM (Elapsed Time: 1.30 seconds)<br/><style>.rendered_html td, .rendered_html th {text-align: left;}.rendered_html tbody {border: 1px solid black;}</style>"
      ],
      "text/plain": [
       "<Result 'C:\\\\Users\\\\zrcan\\\\Documents\\\\GitHub\\\\RPP-SBC-EEMS\\\\Expanded_WUI.gdb\\\\SBC_Boundary_rpj'>"
      ]
     },
     "execution_count": 4,
     "metadata": {},
     "output_type": "execute_result"
    }
   ],
   "source": [
    "wuis = [\"Carpinteria_Summerland_WUI_Boundary\",\n",
    "       \"Goleta_WUI_Boundary\",\n",
    "       \"Montecito_WUI_Boundary\",\n",
    "       \"Santa_Barbara_City_WUI_Boundary\",\n",
    "       \"WUI_Interface\",\n",
    "       \"WUI_Intermix\"]\n",
    "\n",
    "cwpps = [\"Carpinteria_Summerland_CWPP_Boundary\",\n",
    "        \"Gaviota_Coast_CWPP_Boundary\",\n",
    "        \"Mission_Canyon_CWPP_Boundary\",\n",
    "        \"Montecito_CWPP_Boundary\",\n",
    "        \"San_Marcos_Pass_CWPP_Boundary\",\n",
    "        \"Tepusquet_CWPP_Boundary\",\n",
    "        \"SBC_CWPP\", \"GoletaCWPPBoundary\"]\n",
    "\n",
    "crs = arcpy.SpatialReference('NAD 1983 StatePlane California V FIPS 0405 (US Feet)')\n",
    "\n",
    "for sf in wuis:\n",
    "    path = os.path.join(THIS_FOLDER, \"in_data/{}.shp\".format(sf))\n",
    "    arcpy.CopyFeatures_management(path, sf)\n",
    "    arcpy.Project_management(sf, \"{}_rpj\".format(sf), crs)\n",
    "\n",
    "for sf in cwpps:\n",
    "    path = os.path.join(THIS_FOLDER, \"in_data/{}.shp\".format(sf))\n",
    "    arcpy.CopyFeatures_management(path, sf)\n",
    "    arcpy.Project_management(sf, \"{}_rpj\".format(sf), crs)\n",
    "\n",
    "path = os.path.join(THIS_FOLDER, \"in_data/SBC_Boundary.shp\")\n",
    "arcpy.CopyFeatures_management(path, \"SBC_Boundary\")\n",
    "arcpy.Project_management(\"SBC_Boundary\", \"SBC_Boundary_rpj\", crs)"
   ]
  },
  {
   "cell_type": "markdown",
   "metadata": {},
   "source": [
    "**Merge the WUI Intermix and Interface layers and then buffer them by 1.5 miles (the distance used by Cal Fire to create their WUI influence zone)**"
   ]
  },
  {
   "cell_type": "code",
   "execution_count": 5,
   "metadata": {},
   "outputs": [
    {
     "data": {
      "text/html": [
       "<h2>Output</h2>C:\\Users\\zrcan\\Documents\\GitHub\\RPP-SBC-EEMS\\Expanded_WUI.gdb\\WUI_Merge_Buf<h2>Messages</h2>Start Time: Friday, July 9, 2021 12:53:47 PM<br/>Succeeded at Friday, July 9, 2021 12:53:49 PM (Elapsed Time: 1.73 seconds)<br/><style>.rendered_html td, .rendered_html th {text-align: left;}.rendered_html tbody {border: 1px solid black;}</style>"
      ],
      "text/plain": [
       "<Result 'C:\\\\Users\\\\zrcan\\\\Documents\\\\GitHub\\\\RPP-SBC-EEMS\\\\Expanded_WUI.gdb\\\\WUI_Merge_Buf'>"
      ]
     },
     "execution_count": 5,
     "metadata": {},
     "output_type": "execute_result"
    }
   ],
   "source": [
    "arcpy.Merge_management([\"WUI_Interface_rpj\", \"WUI_Intermix_rpj\"], \"WUI_Merge\")\n",
    "arcpy.analysis.Buffer(\"WUI_Merge\", \"WUI_Merge_Buf\", \"1.5 Miles\")"
   ]
  },
  {
   "cell_type": "markdown",
   "metadata": {},
   "source": [
    "**Merge the previous merged and buffered layer with the various organizational WUIs and CWPPs**"
   ]
  },
  {
   "cell_type": "code",
   "execution_count": 6,
   "metadata": {},
   "outputs": [
    {
     "data": {
      "text/html": [
       "<h2>Output</h2>C:\\Users\\zrcan\\Documents\\GitHub\\RPP-SBC-EEMS\\Expanded_WUI.gdb\\Expanded_WUI_wOcean<h2>Messages</h2>Start Time: Friday, July 9, 2021 12:53:50 PM<br/>Succeeded at Friday, July 9, 2021 12:53:54 PM (Elapsed Time: 4.38 seconds)<br/><style>.rendered_html td, .rendered_html th {text-align: left;}.rendered_html tbody {border: 1px solid black;}</style>"
      ],
      "text/plain": [
       "<Result 'C:\\\\Users\\\\zrcan\\\\Documents\\\\GitHub\\\\RPP-SBC-EEMS\\\\Expanded_WUI.gdb\\\\Expanded_WUI_wOcean'>"
      ]
     },
     "execution_count": 6,
     "metadata": {},
     "output_type": "execute_result"
    }
   ],
   "source": [
    "cwpp_wui = [\"WUI_Merge_Buf\"]\n",
    "\n",
    "for sf in wuis:\n",
    "    cwpp_wui.append(\"{}_rpj\".format(sf))\n",
    "    \n",
    "for sf in cwpps:\n",
    "    cwpp_wui.append(\"{}_rpj\".format(sf))\n",
    "\n",
    "arcpy.Merge_management(cwpp_wui, \"Expanded_WUI_wOcean\")"
   ]
  },
  {
   "cell_type": "markdown",
   "metadata": {},
   "source": [
    "**Remove the portions that are in the ocean, aggregate the result to be one geometric feature by using Aggregate Polygon with a 500 ft radius, then export the resulting layer to the out_data folder**"
   ]
  },
  {
   "cell_type": "code",
   "execution_count": 7,
   "metadata": {},
   "outputs": [
    {
     "data": {
      "text/html": [
       "<h2>Output</h2>C:\\Users\\zrcan\\Documents\\GitHub\\RPP-SBC-EEMS\\out_data\\expanded_wui<h2>Messages</h2>Start Time: Friday, July 9, 2021 12:53:59 PM<br/>C:\\Users\\zrcan\\Documents\\GitHub\\RPP-SBC-EEMS\\Expanded_WUI.gdb\\Expanded_WUI Successfully converted:  C:\\Users\\zrcan\\Documents\\GitHub\\RPP-SBC-EEMS\\out_data/expanded_wui\\Expanded_WUI.shp<br/>Succeeded at Friday, July 9, 2021 12:54:00 PM (Elapsed Time: 1.06 seconds)<br/><style>.rendered_html td, .rendered_html th {text-align: left;}.rendered_html tbody {border: 1px solid black;}</style>"
      ],
      "text/plain": [
       "<Result 'C:\\\\Users\\\\zrcan\\\\Documents\\\\GitHub\\\\RPP-SBC-EEMS\\\\out_data\\\\expanded_wui'>"
      ]
     },
     "execution_count": 7,
     "metadata": {},
     "output_type": "execute_result"
    }
   ],
   "source": [
    "dir_path = os.path.join(THIS_FOLDER, \"out_data/expanded_wui\")\n",
    "shutil.rmtree(dir_path)\n",
    "os.mkdir(dir_path)\n",
    "\n",
    "arcpy.Clip_analysis(\"Expanded_WUI_wOcean\", \"SBC_Boundary_rpj\", \n",
    "                    \"Expanded_WUI_nonAgr\")\n",
    "arcpy.AggregatePolygons_cartography(\"Expanded_WUI_nonAgr\", \n",
    "                                    \"Expanded_WUI\", \"500 Feet\")\n",
    "\n",
    "arcpy.conversion.FeatureClassToShapefile(\"Expanded_WUI\", os.path.join(THIS_FOLDER, \"out_data/expanded_wui\"))"
   ]
  },
  {
   "cell_type": "code",
   "execution_count": null,
   "metadata": {},
   "outputs": [],
   "source": []
  },
  {
   "cell_type": "code",
   "execution_count": null,
   "metadata": {},
   "outputs": [],
   "source": []
  }
 ],
 "metadata": {
  "kernelspec": {
   "display_name": "Python 3",
   "language": "python",
   "name": "python3"
  },
  "language_info": {
   "codemirror_mode": {
    "name": "ipython",
    "version": 3
   },
   "file_extension": ".py",
   "mimetype": "text/x-python",
   "name": "python",
   "nbconvert_exporter": "python",
   "pygments_lexer": "ipython3",
   "version": "3.7.9"
  }
 },
 "nbformat": 4,
 "nbformat_minor": 4
}
