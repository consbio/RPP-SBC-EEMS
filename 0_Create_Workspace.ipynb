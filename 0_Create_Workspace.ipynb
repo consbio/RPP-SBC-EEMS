{
 "cells": [
  {
   "cell_type": "code",
   "execution_count": 5,
   "id": "690b47eb",
   "metadata": {},
   "outputs": [
    {
     "name": "stdout",
     "output_type": "stream",
     "text": [
      "C:\\Users\\zrcan\\Documents\\GitHub\\RPP-SBC-EEMS\n"
     ]
    }
   ],
   "source": [
    "import os\n",
    "import inspect\n",
    "import shutil\n",
    "\n",
    "THIS_FOLDER = os.path.dirname(os.path.abspath(\"RPP-SBC-EEMS\"))\n",
    "print(THIS_FOLDER)"
   ]
  },
  {
   "cell_type": "code",
   "execution_count": 11,
   "id": "b63aa424",
   "metadata": {},
   "outputs": [
    {
     "name": "stdout",
     "output_type": "stream",
     "text": [
      "out_data already exists\n",
      "out_data/expanded_wui already exists\n",
      "out_data/ru already exists\n",
      "out_data/building already exists\n",
      "out_data/lu already exists\n",
      "out_data/eems already exists\n",
      "created out_data/ember\n",
      "created out_data/final\n"
     ]
    }
   ],
   "source": [
    "\n",
    "dirs = ['out_data', \"out_data/expanded_wui\", \"out_data/ru\", \"out_data/building\", \"out_data/lu\", \"out_data/eems\", \"out_data/ember\", \"out_data/final\"]\n",
    "\n",
    "for v in dirs:\n",
    "    try:\n",
    "        os.makedirs(v)\n",
    "        print(\"created\", v)\n",
    "    except FileExistsError:\n",
    "        # directory already exists\n",
    "        print(v, \"already exists\")\n",
    "        pass"
   ]
  },
  {
   "cell_type": "code",
   "execution_count": null,
   "id": "8169c32c",
   "metadata": {},
   "outputs": [],
   "source": []
  }
 ],
 "metadata": {
  "kernelspec": {
   "display_name": "Python 3 (ipykernel)",
   "language": "python",
   "name": "python3"
  },
  "language_info": {
   "codemirror_mode": {
    "name": "ipython",
    "version": 3
   },
   "file_extension": ".py",
   "mimetype": "text/x-python",
   "name": "python",
   "nbconvert_exporter": "python",
   "pygments_lexer": "ipython3",
   "version": "3.7.10"
  }
 },
 "nbformat": 4,
 "nbformat_minor": 5
}
