{
 "cells": [
  {
   "cell_type": "code",
   "execution_count": 24,
   "metadata": {},
   "outputs": [],
   "source": [
    "import pandas as pd\n",
    "import geopandas as gpd\n",
    "import arcpy\n",
    "import os\n",
    "from arcpy import env\n",
    "from arcpy.sa import *\n",
    "import math\n",
    "from arcpy import metadata as md\n",
    "import inspect\n",
    "import datetime\n",
    "import shutil\n",
    "import csv\n",
    "\n",
    "src_file_path = inspect.getfile(lambda: None)\n",
    "THIS_FOLDER = os.path.dirname(os.path.abspath(src_file_path))"
   ]
  },
  {
   "cell_type": "markdown",
   "metadata": {},
   "source": [
    "Created by Zac Canter for CBI 3/21\n",
    "\n",
    "Required input data: Expanded WUI (to be created in another notebook), Roads and Gaps (the areas between parcels and SBC county shapefile)\n",
    "\n",
    "**Overall process:**\n",
    "- Select the parcels that intersect the expanded WUI\n",
    "- Clip these parcels by the expanded WUI\n",
    "- Subdivide those that are larger than 150 acres into 100 acre subdivisions\n",
    "- Select parcels that are less than 10 acres, and dissolve boundaries\n",
    "- Of those smaller dissolved boundaries, take those that are over 150 acres and subdivide them into 100 acre subdivisions\n",
    "- Subdivide the roads and gap layers into 10 acre parcel subdivisions\n",
    "- Merge the road and gap subdivisons, the 100 acre subdivisions, the 10 acre subdivisions, and all the remaining geometry\n",
    "- Elimate geometry that is less than 1 acre\n",
    "- Select parcels that are in the WUI Intermix/Interface areas and subdivide them into 10 acre subdivisions\n",
    "- Add APN and create APN table"
   ]
  },
  {
   "cell_type": "code",
   "execution_count": 25,
   "metadata": {},
   "outputs": [],
   "source": [
    "in_data = [\"Expanded_WUI.shp\", \"Roads_Gaps.shp\", \"SBC_Boundary.shp\", \"SBC_Parcels.shp\", \"WUI_IntermixInterface.shp\"]"
   ]
  },
  {
   "cell_type": "markdown",
   "metadata": {},
   "source": [
    "Create the geodatabase"
   ]
  },
  {
   "cell_type": "code",
   "execution_count": 26,
   "metadata": {},
   "outputs": [],
   "source": [
    "arcpy.ResetEnvironments()\n",
    "gdb_name = \"ReportingUnits.gdb\"\n",
    "arcpy.env.overwriteOutput = True\n",
    "path = os.path.join(THIS_FOLDER, gdb_name)\n",
    "# arcpy.CreateFileGDB_management(\"./\", gdb_name)\n",
    "arcpy.env.workspace = path\n",
    "arcpy.env.scratchWorkspace = path"
   ]
  },
  {
   "cell_type": "markdown",
   "metadata": {},
   "source": [
    "Copy all the starting data into the geodatabase and reproject it"
   ]
  },
  {
   "cell_type": "code",
   "execution_count": 27,
   "metadata": {},
   "outputs": [],
   "source": [
    "for v in in_data:\n",
    "    path = os.path.join(THIS_FOLDER, \"in_data/{}\".format(v))\n",
    "    name = v.split(\".\")[0]\n",
    "    arcpy.CopyFeatures_management(path, name)\n",
    "    crs = arcpy.SpatialReference('NAD 1983 StatePlane California V FIPS 0405 (US Feet)')\n",
    "    arcpy.Project_management(name, \"{}_rpj\".format(name), crs)\n",
    "    arcpy.Delete_management(name)"
   ]
  },
  {
   "cell_type": "markdown",
   "metadata": {},
   "source": [
    "Get the parcels that intersect with the WUI"
   ]
  },
  {
   "cell_type": "code",
   "execution_count": 28,
   "metadata": {},
   "outputs": [
    {
     "data": {
      "text/html": [
       "<h2>Output</h2>C:\\Users\\zrcan\\Google Drive\\CBI\\RPP\\RPP_ReportingUnits\\ReportingUnits.gdb\\WUI_Intersecting_Parcels<h2>Messages</h2>Start Time: Thursday, March 25, 2021 12:19:24 PM<br/>Succeeded at Thursday, March 25, 2021 12:19:35 PM (Elapsed Time: 11.62 seconds)<br/><style>.rendered_html td, .rendered_html th {text-align: left;}.rendered_html tbody {border: 1px solid black;}</style>"
      ],
      "text/plain": [
       "<Result 'C:\\\\Users\\\\zrcan\\\\Google Drive\\\\CBI\\\\RPP\\\\RPP_ReportingUnits\\\\ReportingUnits.gdb\\\\WUI_Intersecting_Parcels'>"
      ]
     },
     "execution_count": 28,
     "metadata": {},
     "output_type": "execute_result"
    }
   ],
   "source": [
    "selection = arcpy.SelectLayerByLocation_management(\"SBC_Parcels_rpj\", \"INTERSECT\", \"Expanded_WUI_rpj\")\n",
    "arcpy.CopyFeatures_management(selection, \"WUI_Intersecting_Parcels\")"
   ]
  },
  {
   "cell_type": "markdown",
   "metadata": {},
   "source": [
    "Clip the WUI intersecting parcels by the expanded WUI"
   ]
  },
  {
   "cell_type": "code",
   "execution_count": 29,
   "metadata": {},
   "outputs": [
    {
     "data": {
      "text/html": [
       "<h2>Output</h2>C:\\Users\\zrcan\\Google Drive\\CBI\\RPP\\RPP_ReportingUnits\\ReportingUnits.gdb\\Roads_Gaps_Clip<h2>Messages</h2>Start Time: Thursday, March 25, 2021 12:19:58 PM<br/>Reading Features...<br/>Cracking Features...<br/>Assembling Features...<br/>Succeeded at Thursday, March 25, 2021 12:20:03 PM (Elapsed Time: 4.39 seconds)<br/><style>.rendered_html td, .rendered_html th {text-align: left;}.rendered_html tbody {border: 1px solid black;}</style>"
      ],
      "text/plain": [
       "<Result 'C:\\\\Users\\\\zrcan\\\\Google Drive\\\\CBI\\\\RPP\\\\RPP_ReportingUnits\\\\ReportingUnits.gdb\\\\Roads_Gaps_Clip'>"
      ]
     },
     "execution_count": 29,
     "metadata": {},
     "output_type": "execute_result"
    }
   ],
   "source": [
    "arcpy.Clip_analysis(\"WUI_Intersecting_Parcels\", \"Expanded_WUI_rpj\", \"WUI_Intersecting_Parcels_Clip\")\n",
    "arcpy.Clip_analysis(\"Roads_Gaps_rpj\", \"Expanded_WUI_rpj\", \"Roads_Gaps_Clip\")"
   ]
  },
  {
   "cell_type": "markdown",
   "metadata": {},
   "source": [
    "Create the variables for the cutoffs"
   ]
  },
  {
   "cell_type": "code",
   "execution_count": 30,
   "metadata": {},
   "outputs": [],
   "source": [
    "acre = 43560"
   ]
  },
  {
   "cell_type": "markdown",
   "metadata": {},
   "source": [
    "Select the parcels that are less than or equal to 150 acres and greater than or equal to 10 acres and add those to the reporting units list"
   ]
  },
  {
   "cell_type": "code",
   "execution_count": 39,
   "metadata": {},
   "outputs": [],
   "source": [
    "LTE_Lg_GTE_Sm = arcpy.management.SelectLayerByAttribute(\"WUI_Intersecting_Parcels_Clip\", \"NEW_SELECTION\", \"Shape_Area <= {} And Shape_Area >= {}\".format(150 * acre, 10 * acre), None)\n",
    "arcpy.CopyFeatures_management(LTE_Lg_GTE_Sm, \"LTE_Lg_GTE_Sm\")\n",
    "reporting_units = [\"LTE_Lg_GTE_Sm\"]"
   ]
  },
  {
   "cell_type": "markdown",
   "metadata": {},
   "source": [
    "Select the parcels that are larger than 150 acres and subdivide them into 100 acre subdivisions, add those to the reporting units list"
   ]
  },
  {
   "cell_type": "code",
   "execution_count": 40,
   "metadata": {},
   "outputs": [],
   "source": [
    "GT_Lg = arcpy.management.SelectLayerByAttribute(\"WUI_Intersecting_Parcels_Clip\", \"NEW_SELECTION\", \"Shape_Area > {}\".format(150 * acre), None)\n",
    "GT150_SubDiv100 = arcpy.management.SubdividePolygon(GT_Lg, \"GT150_SubDiv100\", \"EQUAL_AREAS\", None, \"{} SquareFeet\".format(100 * acre), None, 0, \"STACKED_BLOCKS\")\n",
    "reporting_units.append(\"GT150_SubDiv100\")"
   ]
  },
  {
   "cell_type": "code",
   "execution_count": 41,
   "metadata": {},
   "outputs": [],
   "source": [
    "LT_Sm = arcpy.management.SelectLayerByAttribute(WUI_Intersecting_Parcels, \"NEW_SELECTION\", \"Shape_Area < {}\".format(10 * acre), None)\n",
    "LT10_Dis = arcpy.gapro.DissolveBoundaries(LT_Sm, \"LT10_Dis\", \"SINGLE_PART\", None, None, None)"
   ]
  },
  {
   "cell_type": "code",
   "execution_count": 42,
   "metadata": {},
   "outputs": [],
   "source": [
    "GT_Lg_Dis = arcpy.management.SelectLayerByAttribute(LT10_Dis, \"NEW_SELECTION\", \"Shape_Area > {}\".format(150 * acre), None)\n",
    "GT_Lg_Dis_SubDiv = arcpy.management.SubdividePolygon(GT_Lg_Dis, \"GT_Lg_Dis_SubDiv\", \"EQUAL_AREAS\", None, \"{} SquareFeet\".format(100 * acre), None, 0, \"STACKED_BLOCKS\")\n",
    "reporting_units.append(\"GT_Lg_Dis_SubDiv\")"
   ]
  },
  {
   "cell_type": "code",
   "execution_count": 43,
   "metadata": {},
   "outputs": [],
   "source": [
    "LTE_Lg = arcpy.management.SelectLayerByAttribute(LT10_Dis, \"NEW_SELECTION\", \"Shape_Area <= {}\".format(150 * acre), None)\n",
    "arcpy.CopyFeatures_management(LTE_Lg, \"LTE_Lg\")\n",
    "reporting_units.append(\"LTE_Lg\")"
   ]
  },
  {
   "cell_type": "code",
   "execution_count": 44,
   "metadata": {},
   "outputs": [],
   "source": [
    "arcpy.management.SubdividePolygon(\"Roads_Gaps_Clip\", \"Roads_Gaps_Clip_SubDiv\", \"EQUAL_AREAS\", None, \"{} SquareFeet\".format(10 * acre), None, 0, \"STACKED_BLOCKS\")\n",
    "reporting_units.append(\"Roads_Gaps_Clip_SubDiv\")"
   ]
  },
  {
   "cell_type": "code",
   "execution_count": 45,
   "metadata": {},
   "outputs": [
    {
     "data": {
      "text/html": [
       "<h2>Output</h2>C:\\Users\\zrcan\\Google Drive\\CBI\\RPP\\RPP_ReportingUnits\\ReportingUnits.gdb\\Merge1_SP<h2>Messages</h2>Start Time: Thursday, March 25, 2021 12:24:35 PM<br/>Succeeded at Thursday, March 25, 2021 12:24:38 PM (Elapsed Time: 2.51 seconds)<br/><style>.rendered_html td, .rendered_html th {text-align: left;}.rendered_html tbody {border: 1px solid black;}</style>"
      ],
      "text/plain": [
       "<Result 'C:\\\\Users\\\\zrcan\\\\Google Drive\\\\CBI\\\\RPP\\\\RPP_ReportingUnits\\\\ReportingUnits.gdb\\\\Merge1_SP'>"
      ]
     },
     "execution_count": 45,
     "metadata": {},
     "output_type": "execute_result"
    }
   ],
   "source": [
    "arcpy.Merge_management(reporting_units, \"Merge1\")\n",
    "arcpy.management.MultipartToSinglepart(\"Merge1\", \"Merge1_SP\")"
   ]
  },
  {
   "cell_type": "code",
   "execution_count": 46,
   "metadata": {},
   "outputs": [
    {
     "data": {
      "text/html": [
       "<h2>Output</h2>C:\\Users\\zrcan\\Google Drive\\CBI\\RPP\\RPP_ReportingUnits\\ReportingUnits.gdb\\Merge1_SP_Elim<h2>Messages</h2>Start Time: Thursday, March 25, 2021 12:24:38 PM<br/>Reading Features...<br/>Processing Tiles...<br/>Eliminated 10603 feature(s)<br/>Succeeded at Thursday, March 25, 2021 12:24:51 PM (Elapsed Time: 12.85 seconds)<br/><style>.rendered_html td, .rendered_html th {text-align: left;}.rendered_html tbody {border: 1px solid black;}</style>"
      ],
      "text/plain": [
       "<Result 'C:\\\\Users\\\\zrcan\\\\Google Drive\\\\CBI\\\\RPP\\\\RPP_ReportingUnits\\\\ReportingUnits.gdb\\\\Merge1_SP_Elim'>"
      ]
     },
     "execution_count": 46,
     "metadata": {},
     "output_type": "execute_result"
    }
   ],
   "source": [
    "selection = arcpy.management.SelectLayerByAttribute(\"Merge1_SP\", \"NEW_SELECTION\", \"Shape_Area < {}\".format(10 * acre), None)\n",
    "arcpy.management.Eliminate(selection, \"Merge1_SP_Elim\", \"LENGTH\", \"\", None)"
   ]
  },
  {
   "cell_type": "code",
   "execution_count": 47,
   "metadata": {},
   "outputs": [
    {
     "data": {
      "text/html": [
       "<h2>Output</h2>C:\\Users\\zrcan\\Google Drive\\CBI\\RPP\\RPP_ReportingUnits\\ReportingUnits.gdb\\Merge1_SP_Elim_2<h2>Messages</h2>Start Time: Thursday, March 25, 2021 12:28:25 PM<br/>Reading Features...<br/>Processing Tiles...<br/>Eliminated 561 feature(s)<br/>Succeeded at Thursday, March 25, 2021 12:28:30 PM (Elapsed Time: 4.87 seconds)<br/><style>.rendered_html td, .rendered_html th {text-align: left;}.rendered_html tbody {border: 1px solid black;}</style>"
      ],
      "text/plain": [
       "<Result 'C:\\\\Users\\\\zrcan\\\\Google Drive\\\\CBI\\\\RPP\\\\RPP_ReportingUnits\\\\ReportingUnits.gdb\\\\Merge1_SP_Elim_2'>"
      ]
     },
     "execution_count": 47,
     "metadata": {},
     "output_type": "execute_result"
    }
   ],
   "source": [
    "selection = arcpy.management.SelectLayerByAttribute(\"Merge1_SP_Elim\", \"NEW_SELECTION\", \"Shape_Area < {}\".format(2 * acre), None)\n",
    "arcpy.management.Eliminate(selection, \"Merge1_SP_Elim_2\", \"LENGTH\", \"\", None)"
   ]
  },
  {
   "cell_type": "code",
   "execution_count": 69,
   "metadata": {},
   "outputs": [],
   "source": [
    "selection = arcpy.SelectLayerByLocation_management(\"Merge1_SP_Elim_2\", \"INTERSECT\", \"WUI_IntermixInterface_rpj\")\n",
    "arcpy.CopyFeatures_management(selection, \"Priority_Parcels\")\n",
    "arcpy.management.SubdividePolygon(\"Priority_Parcels\", \"Priority_Parcels_SubDiv\", \"EQUAL_AREAS\", None, \"{} SquareFeet\".format(10 * acre), None, 0, \"STACKED_BLOCKS\")\n",
    "reporting_units = [\"Priority_Parcels_SubDiv\"]"
   ]
  },
  {
   "cell_type": "code",
   "execution_count": 70,
   "metadata": {},
   "outputs": [],
   "source": [
    "selection = arcpy.SelectLayerByLocation_management(\"Merge1_SP_Elim_2\", \"INTERSECT\", \"WUI_IntermixInterface_rpj\", invert_spatial_relationship = \"INVERT\")\n",
    "arcpy.CopyFeatures_management(selection, \"Non_Priority_Parcels\")\n",
    "reporting_units.append(\"Non_Priority_Parcels\")"
   ]
  },
  {
   "cell_type": "code",
   "execution_count": 71,
   "metadata": {},
   "outputs": [
    {
     "data": {
      "text/html": [
       "<h2>Output</h2>C:\\Users\\zrcan\\Google Drive\\CBI\\RPP\\RPP_ReportingUnits\\ReportingUnits.gdb\\Merge_Reporting_Units_SP<h2>Messages</h2>Start Time: Thursday, March 25, 2021 1:32:44 PM<br/>Succeeded at Thursday, March 25, 2021 1:32:47 PM (Elapsed Time: 2.13 seconds)<br/><style>.rendered_html td, .rendered_html th {text-align: left;}.rendered_html tbody {border: 1px solid black;}</style>"
      ],
      "text/plain": [
       "<Result 'C:\\\\Users\\\\zrcan\\\\Google Drive\\\\CBI\\\\RPP\\\\RPP_ReportingUnits\\\\ReportingUnits.gdb\\\\Merge_Reporting_Units_SP'>"
      ]
     },
     "execution_count": 71,
     "metadata": {},
     "output_type": "execute_result"
    }
   ],
   "source": [
    "arcpy.Merge_management(reporting_units, \"Merge_Reporting_Units\")\n",
    "arcpy.management.MultipartToSinglepart(\"Merge_Reporting_Units\", \"Merge_Reporting_Units_SP\")"
   ]
  },
  {
   "cell_type": "code",
   "execution_count": 72,
   "metadata": {},
   "outputs": [
    {
     "name": "stdout",
     "output_type": "stream",
     "text": [
      "['OBJECTID', 'Shape', 'apn', 'layer', 'situs1', 'situs2', 'acreage', 'landuse', 'usecode', 'tra', 'docnum', 'docdate', 'pcttransf', 'valreason', 'nontaxcode', 'sbeno', 'agpres', 'landvalue', 'strimpr', 'tradefix', 'livimpr', 'perpropdec', 'perspropun', 'mobilehome', 'exemptions', 'exempcode', 'homeowex', 'netsecval', 'net_impr', 'net_pers', 'net_unx', 'net_av', 'mailx1', 'mailx2', 'mnumber', 'mfrac', 'mdir', 'mstreet', 'mstrsuffix', 'munittype', 'munitnumb', 'pobox', 'mcity', 'mzip', 'mzipext', 'mstate', 'country', 'snum', 'sfra', 'sdir', 'sstreet', 'sstreetsuf', 'sunittype', 'sunitnumb', 'scity', 'szip', 'szipext', 'm_address1', 'm_address2', 'asmrollid', 'apn9', 'propid', 'sqfootage', 'yearbuilt', 'bedrooms', 'bathrooms', 'taxbill', 'permit', 'bkpglnk', 'gen_inquir', 'web_link', 'maptype', 'recmapnum', 'tractname', 'recmapbook', 'recmapdate', 'blocksecti', 'lotnum', 'unitnum', 'cbiinputs_', 'areaunit', 'recdatetim', 'recuserid', 'recuserlog', 'section', 'township', 'range', 'shape_leng', 'shape_Le_1', 'COUNT', 'FID_SB_onl', 'NAME_PCASE', 'NAME_UCASE', 'FMNAME_PC', 'FMNAME_UC', 'ABBREV', 'NUM', 'ABCODE', 'FIPS', 'ANSI', 'ISLAND', 'FID_Assess', 'ORIG_FID', 'Shape_Length', 'Shape_Area']\n"
     ]
    }
   ],
   "source": [
    "fieldObs = arcpy.ListFields(\"Merge_Reporting_Units_SP\")  \n",
    "\n",
    "fieldNames = []  \n",
    "for field in fieldObs:  \n",
    "    fieldNames.append(field.name)  \n",
    "del fieldObs  \n",
    "\n",
    "print(fieldNames)"
   ]
  },
  {
   "cell_type": "code",
   "execution_count": 73,
   "metadata": {},
   "outputs": [
    {
     "data": {
      "text/html": [
       "<h2>Output</h2>C:\\Users\\zrcan\\Google Drive\\CBI\\RPP\\RPP_ReportingUnits\\ReportingUnits.gdb\\Merge_Reporting_Units_SP<h2>Messages</h2>Start Time: Thursday, March 25, 2021 1:32:47 PM<br/>Succeeded at Thursday, March 25, 2021 1:33:21 PM (Elapsed Time: 34.03 seconds)<br/><style>.rendered_html td, .rendered_html th {text-align: left;}.rendered_html tbody {border: 1px solid black;}</style>"
      ],
      "text/plain": [
       "<Result 'C:\\\\Users\\\\zrcan\\\\Google Drive\\\\CBI\\\\RPP\\\\RPP_ReportingUnits\\\\ReportingUnits.gdb\\\\Merge_Reporting_Units_SP'>"
      ]
     },
     "execution_count": 73,
     "metadata": {},
     "output_type": "execute_result"
    }
   ],
   "source": [
    "FCfields = [f.name for f in arcpy.ListFields(\"Merge_Reporting_Units_SP\")]\n",
    "DontDeleteFields = ['Shape_Length', 'Shape_Area', 'OBJECTID', 'Shape']\n",
    "fields2Delete = list(set(FCfields) - set(DontDeleteFields))\n",
    "arcpy.DeleteField_management(\"Merge_Reporting_Units_SP\", fields2Delete)"
   ]
  },
  {
   "cell_type": "code",
   "execution_count": 75,
   "metadata": {},
   "outputs": [
    {
     "data": {
      "text/html": [
       "<h2>Output</h2><table><tr><th>id</th><th>value</th></tr><tr><td>0</td><td>C:\\Users\\zrcan\\Google Drive\\CBI\\RPP\\RPP_ReportingUnits\\ReportingUnits.gdb\\Reporting_Units</td></tr><tr><td>1</td><td>C:\\Users\\zrcan\\Google Drive\\CBI\\RPP\\RPP_ReportingUnits\\ReportingUnits.gdb\\apn_Summary</td></tr></table><h2>Messages</h2>Start Time: Thursday, March 25, 2021 1:40:14 PM<br/>Succeeded at Thursday, March 25, 2021 1:41:44 PM (Elapsed Time: 1 minutes 29 seconds)<br/><style>.rendered_html td, .rendered_html th {text-align: left;}.rendered_html tbody {border: 1px solid black;}</style>"
      ],
      "text/plain": [
       "<Result 'C:\\\\Users\\\\zrcan\\\\Google Drive\\\\CBI\\\\RPP\\\\RPP_ReportingUnits\\\\ReportingUnits.gdb\\\\Reporting_Units'>"
      ]
     },
     "execution_count": 75,
     "metadata": {},
     "output_type": "execute_result"
    }
   ],
   "source": [
    "arcpy.analysis.SummarizeWithin(\"Merge_Reporting_Units_SP\", \"WUI_Intersecting_Parcels_Clip\", \"Reporting_Units\", \"KEEP_ALL\", None, \"ADD_SHAPE_SUM\", \"SQUAREKILOMETERS\", \"apn\", \"NO_MIN_MAJ\", \"NO_PERCENT\", \"apn_Summary\")"
   ]
  },
  {
   "cell_type": "code",
   "execution_count": 76,
   "metadata": {},
   "outputs": [
    {
     "data": {
      "text/html": [
       "<h2>Output</h2>C:\\Users\\zrcan\\Google Drive\\CBI\\RPP\\RPP_ReportingUnits\\ReportingUnits.gdb\\Reporting_Units<h2>Messages</h2>Start Time: Thursday, March 25, 2021 1:43:35 PM<br/>Succeeded at Thursday, March 25, 2021 1:43:35 PM (Elapsed Time: 0.46 seconds)<br/><style>.rendered_html td, .rendered_html th {text-align: left;}.rendered_html tbody {border: 1px solid black;}</style>"
      ],
      "text/plain": [
       "<Result 'C:\\\\Users\\\\zrcan\\\\Google Drive\\\\CBI\\\\RPP\\\\RPP_ReportingUnits\\\\ReportingUnits.gdb\\\\Reporting_Units'>"
      ]
     },
     "execution_count": 76,
     "metadata": {},
     "output_type": "execute_result"
    }
   ],
   "source": [
    "FCfields = [f.name for f in arcpy.ListFields(\"Reporting_Units\")]\n",
    "DontDeleteFields = ['Shape_Length', 'Shape_Area', 'OBJECTID', 'Shape', \"Join_ID\"]\n",
    "fields2Delete = list(set(FCfields) - set(DontDeleteFields))\n",
    "arcpy.DeleteField_management(\"Reporting_Units\", fields2Delete)"
   ]
  },
  {
   "cell_type": "code",
   "execution_count": 77,
   "metadata": {},
   "outputs": [
    {
     "data": {
      "text/html": [
       "<h2>Output</h2>C:\\Users\\zrcan\\Google Drive\\CBI\\RPP\\RPP_ReportingUnits\\APN_RU_Table.xlsx<h2>Messages</h2>Start Time: Thursday, March 25, 2021 2:00:46 PM<br/>Succeeded at Thursday, March 25, 2021 2:00:59 PM (Elapsed Time: 13.28 seconds)<br/><style>.rendered_html td, .rendered_html th {text-align: left;}.rendered_html tbody {border: 1px solid black;}</style>"
      ],
      "text/plain": [
       "<Result 'C:\\\\Users\\\\zrcan\\\\Google Drive\\\\CBI\\\\RPP\\\\RPP_ReportingUnits\\\\APN_RU_Table.xlsx'>"
      ]
     },
     "execution_count": 77,
     "metadata": {},
     "output_type": "execute_result"
    }
   ],
   "source": [
    "xcel_path = os.path.join(THIS_FOLDER, \"APN_RU_Table.xlsx\")\n",
    "arcpy.conversion.TableToExcel(\"apn_Summary\", xcel_path, \"NAME\", \"CODE\")"
   ]
  },
  {
   "cell_type": "code",
   "execution_count": 79,
   "metadata": {},
   "outputs": [
    {
     "name": "stdout",
     "output_type": "stream",
     "text": [
      "['OBJECTID', 'Shape', 'apn', 'layer', 'situs1', 'situs2', 'acreage', 'landuse', 'usecode', 'tra', 'docnum', 'docdate', 'pcttransf', 'valreason', 'nontaxcode', 'sbeno', 'agpres', 'landvalue', 'strimpr', 'tradefix', 'livimpr', 'perpropdec', 'perspropun', 'mobilehome', 'exemptions', 'exempcode', 'homeowex', 'netsecval', 'net_impr', 'net_pers', 'net_unx', 'net_av', 'mailx1', 'mailx2', 'mnumber', 'mfrac', 'mdir', 'mstreet', 'mstrsuffix', 'munittype', 'munitnumb', 'pobox', 'mcity', 'mzip', 'mzipext', 'mstate', 'country', 'snum', 'sfra', 'sdir', 'sstreet', 'sstreetsuf', 'sunittype', 'sunitnumb', 'scity', 'szip', 'szipext', 'm_address1', 'm_address2', 'asmrollid', 'apn9', 'propid', 'sqfootage', 'yearbuilt', 'bedrooms', 'bathrooms', 'taxbill', 'permit', 'bkpglnk', 'gen_inquir', 'web_link', 'maptype', 'recmapnum', 'tractname', 'recmapbook', 'recmapdate', 'blocksecti', 'lotnum', 'unitnum', 'cbiinputs_', 'areaunit', 'recdatetim', 'recuserid', 'recuserlog', 'section', 'township', 'range', 'shape_leng', 'shape_Le_1', 'Shape_Length', 'Shape_Area']\n"
     ]
    }
   ],
   "source": [
    "fieldObs = arcpy.ListFields(\"WUI_Intersecting_Parcels_Clip\")  \n",
    "\n",
    "fieldNames = []  \n",
    "for field in fieldObs:  \n",
    "    fieldNames.append(field.name)  \n",
    "del fieldObs  \n",
    "\n",
    "print(fieldNames)"
   ]
  },
  {
   "cell_type": "code",
   "execution_count": 82,
   "metadata": {},
   "outputs": [
    {
     "data": {
      "text/html": [
       "<h2>Output</h2>C:\\Users\\zrcan\\Google Drive\\CBI\\RPP\\RPP_ReportingUnits\\ReportingUnits.gdb\\Reporting_Units_APN<h2>Messages</h2>Start Time: Thursday, March 25, 2021 2:36:08 PM<br/>Succeeded at Thursday, March 25, 2021 2:36:29 PM (Elapsed Time: 20.41 seconds)<br/><style>.rendered_html td, .rendered_html th {text-align: left;}.rendered_html tbody {border: 1px solid black;}</style>"
      ],
      "text/plain": [
       "<Result 'C:\\\\Users\\\\zrcan\\\\Google Drive\\\\CBI\\\\RPP\\\\RPP_ReportingUnits\\\\ReportingUnits.gdb\\\\Reporting_Units_APN'>"
      ]
     },
     "execution_count": 82,
     "metadata": {},
     "output_type": "execute_result"
    }
   ],
   "source": [
    "fieldmappings = arcpy.FieldMappings()\n",
    "fieldmappings.addTable(\"Reporting_Units\")\n",
    "fieldmappings.addTable(\"WUI_Intersecting_Parcels_Clip\")\n",
    "\n",
    "keepers = [\"Join_ID, apn\"]\n",
    "\n",
    "pcFieldIndex = fieldmappings.findFieldMapIndex(\"apn\")\n",
    "pcfieldmap = fieldmappings.getFieldMap(pcFieldIndex)\n",
    "pcnew = pcfieldmap.outputField\n",
    "pcnew.name = \"apn_join\"\n",
    "pcnew.aliasName = \"apn_join\"\n",
    "pcfieldmap.outputField = pcnew\n",
    "pcfieldmap.mergeRule = \"First\"\n",
    "\n",
    "fieldmappings.replaceFieldMap(pcFieldIndex, pcfieldmap)\n",
    "\n",
    "for field in fieldmappings.fields:\n",
    "    if field.name not in keepers:\n",
    "        fieldmappings.removeFieldMap(fieldmappings.findFieldMapIndex(field.name))\n",
    "\n",
    "arcpy.SpatialJoin_analysis(\"Reporting_Units\", \"WUI_Intersecting_Parcels_Clip\", \n",
    "                           \"Reporting_Units_APN\", \"JOIN_ONE_TO_ONE\", \"#\", fieldmappings) "
   ]
  },
  {
   "cell_type": "code",
   "execution_count": 83,
   "metadata": {},
   "outputs": [
    {
     "data": {
      "text/html": [
       "<h2>Output</h2>C:\\Users\\zrcan\\Google Drive\\CBI\\RPP\\RPP_ReportingUnits\\ReportingUnits.gdb\\Reporting_Units_APN<h2>Messages</h2>Start Time: Thursday, March 25, 2021 2:38:05 PM<br/>Succeeded at Thursday, March 25, 2021 2:38:36 PM (Elapsed Time: 30.35 seconds)<br/><style>.rendered_html td, .rendered_html th {text-align: left;}.rendered_html tbody {border: 1px solid black;}</style>"
      ],
      "text/plain": [
       "<Result 'C:\\\\Users\\\\zrcan\\\\Google Drive\\\\CBI\\\\RPP\\\\RPP_ReportingUnits\\\\ReportingUnits.gdb\\\\Reporting_Units_APN'>"
      ]
     },
     "execution_count": 83,
     "metadata": {},
     "output_type": "execute_result"
    }
   ],
   "source": [
    "FCfields = [f.name for f in arcpy.ListFields(\"Reporting_Units_APN\")]\n",
    "DontDeleteFields = ['Shape_Length', 'Shape_Area', 'OBJECTID', 'Shape', \"Join_ID\", \"apn\"]\n",
    "fields2Delete = list(set(FCfields) - set(DontDeleteFields))\n",
    "arcpy.DeleteField_management(\"Reporting_Units_APN\", fields2Delete)"
   ]
  },
  {
   "cell_type": "code",
   "execution_count": null,
   "metadata": {},
   "outputs": [],
   "source": []
  }
 ],
 "metadata": {
  "kernelspec": {
   "display_name": "Python 3",
   "language": "python",
   "name": "python3"
  },
  "language_info": {
   "codemirror_mode": {
    "name": "ipython",
    "version": 3
   },
   "file_extension": ".py",
   "mimetype": "text/x-python",
   "name": "python",
   "nbconvert_exporter": "python",
   "pygments_lexer": "ipython3",
   "version": "3.7.9"
  }
 },
 "nbformat": 4,
 "nbformat_minor": 4
}
