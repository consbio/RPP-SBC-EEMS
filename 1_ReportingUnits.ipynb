{
 "cells": [
  {
   "cell_type": "code",
   "execution_count": 67,
   "metadata": {},
   "outputs": [],
   "source": [
    "import pandas as pd\n",
    "import geopandas as gpd\n",
    "import arcpy\n",
    "import os\n",
    "from arcpy import env\n",
    "from arcpy.sa import *\n",
    "import math\n",
    "from arcpy import metadata as md\n",
    "import inspect\n",
    "import datetime\n",
    "import shutil\n",
    "import csv\n",
    "\n",
    "src_file_path = inspect.getfile(lambda: None)\n",
    "THIS_FOLDER = os.path.dirname(os.path.abspath(src_file_path))"
   ]
  },
  {
   "cell_type": "markdown",
   "metadata": {},
   "source": [
    "Created by Zac Canter for CBI 3/21\n",
    "\n",
    "Required input data: Expanded WUI (to be created in another notebook), Roads and Gaps (the areas between parcels and SBC county shapefile)\n",
    "\n",
    "**Overall process:**\n",
    "- 1) Select the parcels that intersect the expanded WUI\n",
    "- 2) Subdivide those that are larger than 150 acres into 100 acre subdivisions\n",
    "- 3) Select parcels that are less than 10 acres, and dissolve boundaries\n",
    "- 4) Of those smaller dissolved boundaries, take those that are over 150 acres and subdivide them into 10 acre subdivisions\n",
    "- 5) Subdivide the roads and gap layers into 10 acre parcel subdivisions\n",
    "- 6) Merge the road and gap subdivisons, the 100 acre subdivisions, the 10 acre subdivisions, and all the remaining geometry\n",
    "- 7) Elimate geometry that is less than 1 acre\n",
    "- 8) Add APN and GRID_ID attribute"
   ]
  },
  {
   "cell_type": "code",
   "execution_count": 68,
   "metadata": {},
   "outputs": [],
   "source": [
    "in_data = [\"Expanded_WUI.shp\", \"Roads_Gaps.shp\", \"SBC_Boundary.shp\", \"SBC_Parcels.shp\"]"
   ]
  },
  {
   "cell_type": "markdown",
   "metadata": {},
   "source": [
    "Create the geodatabase"
   ]
  },
  {
   "cell_type": "code",
   "execution_count": 69,
   "metadata": {},
   "outputs": [],
   "source": [
    "gdb_name = \"RPP_ReportingUnits.gdb\"\n",
    "arcpy.ResetEnvironments()\n",
    "arcpy.env.overwriteOutput = True\n",
    "arcpy.CreateFileGDB_management(\"./\", gdb_name)\n",
    "path = os.path.join(THIS_FOLDER, gdb_name)\n",
    "arcpy.env.workspace = path\n",
    "arcpy.env.scratchWorkspace = path"
   ]
  },
  {
   "cell_type": "markdown",
   "metadata": {},
   "source": [
    "Copy all the starting data into the geodatabase and reproject it"
   ]
  },
  {
   "cell_type": "code",
   "execution_count": 70,
   "metadata": {},
   "outputs": [],
   "source": [
    "for v in in_data:\n",
    "    path = os.path.join(THIS_FOLDER, \"in_data/{}\".format(v))\n",
    "    name = v.split(\".\")[0]\n",
    "    arcpy.CopyFeatures_management(path, name)\n",
    "    crs = arcpy.SpatialReference('NAD 1983 StatePlane California V FIPS 0405 (US Feet)')\n",
    "    arcpy.Project_management(name, \"{}_rpj\".format(name), crs)\n",
    "    arcpy.Delete_management(name)"
   ]
  },
  {
   "cell_type": "markdown",
   "metadata": {},
   "source": [
    "Get the parcels that intersect with the WUI"
   ]
  },
  {
   "cell_type": "code",
   "execution_count": 71,
   "metadata": {},
   "outputs": [],
   "source": [
    "selection = arcpy.SelectLayerByLocation_management(\"SBC_Parcels_rpj\", \"INTERSECT\", \"Expanded_WUI_rpj\")\n",
    "WUI_Intersecting_Parcels = arcpy.CopyFeatures_management(selection, \"WUI_Intersecting_Parcels\")"
   ]
  },
  {
   "cell_type": "markdown",
   "metadata": {},
   "source": [
    "Create the variables for the cutoffs"
   ]
  },
  {
   "cell_type": "code",
   "execution_count": 72,
   "metadata": {},
   "outputs": [],
   "source": [
    "LgCutoff = 150\n",
    "SmCutoff = 10\n",
    "XSmCutoff = 1\n",
    "BigBlock = 100\n",
    "SmBlock = 10\n",
    "acre = 43560"
   ]
  },
  {
   "cell_type": "markdown",
   "metadata": {},
   "source": [
    "Select the parcels that are less than or equal to 150 acres and greater than or equal to 10 acres and add those to the reporting units list"
   ]
  },
  {
   "cell_type": "code",
   "execution_count": 73,
   "metadata": {},
   "outputs": [],
   "source": [
    "LTE_Lg_GTE_Sm = arcpy.management.SelectLayerByAttribute(WUI_Intersecting_Parcels, \"NEW_SELECTION\", \"Shape_Area <= {} And Shape_Area >= {}\".format(LgCutoff * acre, SmCutoff * acre), None)\n",
    "arcpy.CopyFeatures_management(LTE_Lg_GTE_Sm, \"LTE_Lg_GTE_Sm\")\n",
    "reporting_units = [\"LTE_Lg_GTE_Sm\"]"
   ]
  },
  {
   "cell_type": "markdown",
   "metadata": {},
   "source": [
    "Select the parcels that are larger than 150 acres and subdivide them into 100 acre subdivisions, add those to the reporting units list"
   ]
  },
  {
   "cell_type": "code",
   "execution_count": 74,
   "metadata": {},
   "outputs": [],
   "source": [
    "GT_Lg = arcpy.management.SelectLayerByAttribute(WUI_Intersecting_Parcels, \"NEW_SELECTION\", \"Shape_Area > {}\".format(LgCutoff * acre), None)\n",
    "GT150_SubDiv100 = arcpy.management.SubdividePolygon(GT_Lg, \"GT150_SubDiv100\", \"EQUAL_AREAS\", None, \"{} SquareFeet\".format(BigBlock * acre), None, 0, \"STACKED_BLOCKS\")\n",
    "reporting_units.append(\"GT150_SubDiv100\")"
   ]
  },
  {
   "cell_type": "markdown",
   "metadata": {},
   "source": [
    "Now we process parcels that are less than 10 acres. We will first select them, and dissolve their boundaries. The resulting ones that are larger than 150 acres are subdivided into 10 acre subdivisions, then these are all added to the reporting units list"
   ]
  },
  {
   "cell_type": "code",
   "execution_count": 75,
   "metadata": {},
   "outputs": [],
   "source": [
    "LT_Sm = arcpy.management.SelectLayerByAttribute(WUI_Intersecting_Parcels, \"NEW_SELECTION\", \"Shape_Area < {}\".format(SmCutoff * acre), None)\n",
    "LT10_Dis = arcpy.gapro.DissolveBoundaries(LT_Sm, \"LT10_Dis\", \"SINGLE_PART\", None, None, None)\n",
    "\n",
    "GT_Lg_Dis = arcpy.management.SelectLayerByAttribute(LT10_Dis, \"NEW_SELECTION\", \"Shape_Area > {}\".format(LgCutoff * acre), None)\n",
    "GT_Lg_Dis_SubDiv = arcpy.management.SubdividePolygon(GT_Lg_Dis, \"GT_Lg_Dis_SubDiv\", \"EQUAL_AREAS\", None, \"{} SquareFeet\".format(SmBlock * acre), None, 0, \"STACKED_BLOCKS\")\n",
    "reporting_units.append(\"GT_Lg_Dis_SubDiv\")"
   ]
  },
  {
   "cell_type": "code",
   "execution_count": 76,
   "metadata": {},
   "outputs": [],
   "source": [
    "LTE_Lg = arcpy.management.SelectLayerByAttribute(LT10_Dis, \"NEW_SELECTION\", \"Shape_Area <= {}\".format(LgCutoff * acre), None)\n",
    "arcpy.CopyFeatures_management(LTE_Lg, \"LTE_Lg\")\n",
    "reporting_units.append(\"LTE_Lg\")"
   ]
  },
  {
   "cell_type": "markdown",
   "metadata": {},
   "source": [
    "Subdivide roads and gaps into 10 acre subdivisions and add those to the reporting units list"
   ]
  },
  {
   "cell_type": "code",
   "execution_count": 77,
   "metadata": {},
   "outputs": [],
   "source": [
    "arcpy.management.SubdividePolygon(\"Roads_Gaps_rpj\", \"Roads_Gaps_rpj_SubDiv\", \"EQUAL_AREAS\", None, \"{} SquareFeet\".format(SmBlock * acre), None, 0, \"STACKED_BLOCKS\")\n",
    "reporting_units.append(\"Roads_Gaps_rpj_SubDiv\")"
   ]
  },
  {
   "cell_type": "markdown",
   "metadata": {},
   "source": [
    "Merge the reporting units list and convert them to single part for elimination process"
   ]
  },
  {
   "cell_type": "code",
   "execution_count": 78,
   "metadata": {},
   "outputs": [
    {
     "data": {
      "text/html": [
       "<h2>Output</h2>C:\\Users\\zrcan\\Google Drive\\CBI\\RPP\\RPP_ReportingUnits\\RPP_ReportingUnits.gdb\\Merge1_SP<h2>Messages</h2>Start Time: Monday, March 22, 2021 10:26:10 AM<br/>Succeeded at Monday, March 22, 2021 10:26:13 AM (Elapsed Time: 3.03 seconds)<br/><style>.rendered_html td, .rendered_html th {text-align: left;}.rendered_html tbody {border: 1px solid black;}</style>"
      ],
      "text/plain": [
       "<Result 'C:\\\\Users\\\\zrcan\\\\Google Drive\\\\CBI\\\\RPP\\\\RPP_ReportingUnits\\\\RPP_ReportingUnits.gdb\\\\Merge1_SP'>"
      ]
     },
     "execution_count": 78,
     "metadata": {},
     "output_type": "execute_result"
    }
   ],
   "source": [
    "arcpy.Merge_management(reporting_units, \"Merge1\")\n",
    "arcpy.management.MultipartToSinglepart(\"Merge1\", \"Merge1_SP\")"
   ]
  },
  {
   "cell_type": "markdown",
   "metadata": {},
   "source": [
    "Eliminate geometry that is smaller than 1 acre"
   ]
  },
  {
   "cell_type": "code",
   "execution_count": 79,
   "metadata": {},
   "outputs": [
    {
     "data": {
      "text/html": [
       "<h2>Output</h2>C:\\Users\\zrcan\\Google Drive\\CBI\\RPP\\RPP_ReportingUnits\\RPP_ReportingUnits.gdb\\Merge1_SP_Elim<h2>Messages</h2>Start Time: Monday, March 22, 2021 10:26:14 AM<br/>Reading Features...<br/>Processing Tiles...<br/>Eliminated 7115 feature(s)<br/>Succeeded at Monday, March 22, 2021 10:26:28 AM (Elapsed Time: 13.86 seconds)<br/><style>.rendered_html td, .rendered_html th {text-align: left;}.rendered_html tbody {border: 1px solid black;}</style>"
      ],
      "text/plain": [
       "<Result 'C:\\\\Users\\\\zrcan\\\\Google Drive\\\\CBI\\\\RPP\\\\RPP_ReportingUnits\\\\RPP_ReportingUnits.gdb\\\\Merge1_SP_Elim'>"
      ]
     },
     "execution_count": 79,
     "metadata": {},
     "output_type": "execute_result"
    }
   ],
   "source": [
    "selection = arcpy.management.SelectLayerByAttribute(\"Merge1_SP\", \"NEW_SELECTION\", \"Shape_Area < {}\".format(XSmCutoff * acre), None)\n",
    "arcpy.management.Eliminate(selection, \"Merge1_SP_Elim\", \"LENGTH\", \"\", None)"
   ]
  },
  {
   "cell_type": "markdown",
   "metadata": {},
   "source": [
    "The merged layer is beyond the extent of the WUI parcels so we need to aggregate those parcels to get an outline shape then we can use them to clip the roads and gaps appropriately. First we aggregate the polygons within 500 feet of each other, we also set the minimum hole size to 100 acres."
   ]
  },
  {
   "cell_type": "code",
   "execution_count": 88,
   "metadata": {},
   "outputs": [
    {
     "data": {
      "text/html": [
       "<h2>Output</h2>C:\\Users\\zrcan\\Google Drive\\CBI\\RPP\\RPP_ReportingUnits\\RPP_ReportingUnits.gdb\\Reporting_Units<h2>Messages</h2>Start Time: Monday, March 22, 2021 12:49:16 PM<br/>Reading Features...<br/>Cracking Features...<br/>Assembling Features...<br/>Succeeded at Monday, March 22, 2021 12:49:24 PM (Elapsed Time: 8.60 seconds)<br/><style>.rendered_html td, .rendered_html th {text-align: left;}.rendered_html tbody {border: 1px solid black;}</style>"
      ],
      "text/plain": [
       "<Result 'C:\\\\Users\\\\zrcan\\\\Google Drive\\\\CBI\\\\RPP\\\\RPP_ReportingUnits\\\\RPP_ReportingUnits.gdb\\\\Reporting_Units'>"
      ]
     },
     "execution_count": 88,
     "metadata": {},
     "output_type": "execute_result"
    }
   ],
   "source": [
    "arcpy.cartography.AggregatePolygons(\"WUI_Intersecting_Parcels\", \"WUI_Parcel_Boundary\", \"500 Feet\", \"0 SquareFeet\", \"4356000 SquareFeet\", \"NON_ORTHOGONAL\", None, \"WUI_Parcel_Boundary_Tbl\", None)\n",
    "arcpy.analysis.Clip(\"Merge1_SP_Elim\", \"WUI_Parcel_Boundary\", \"Reporting_Units\", None)"
   ]
  },
  {
   "cell_type": "markdown",
   "metadata": {},
   "source": [
    "Remove all fields besides APN and mandatory ones"
   ]
  },
  {
   "cell_type": "code",
   "execution_count": 89,
   "metadata": {},
   "outputs": [
    {
     "name": "stdout",
     "output_type": "stream",
     "text": [
      "['OBJECTID', 'Shape', 'apn', 'Shape_Length', 'Shape_Area']\n"
     ]
    }
   ],
   "source": [
    "fieldObs = arcpy.ListFields(\"Reporting_Units\")  \n",
    "\n",
    "fieldNames = []  \n",
    "for field in fieldObs:  \n",
    "    fieldNames.append(field.name)  \n",
    "del fieldObs  \n",
    "\n",
    "print(fieldNames)"
   ]
  },
  {
   "cell_type": "code",
   "execution_count": 86,
   "metadata": {},
   "outputs": [
    {
     "data": {
      "text/html": [
       "<h2>Output</h2>C:\\Users\\zrcan\\Google Drive\\CBI\\RPP\\RPP_ReportingUnits\\RPP_ReportingUnits.gdb\\Merge1_SP_Elim<h2>Messages</h2>Start Time: Monday, March 22, 2021 10:54:45 AM<br/>Succeeded at Monday, March 22, 2021 10:55:12 AM (Elapsed Time: 26.78 seconds)<br/><style>.rendered_html td, .rendered_html th {text-align: left;}.rendered_html tbody {border: 1px solid black;}</style>"
      ],
      "text/plain": [
       "<Result 'C:\\\\Users\\\\zrcan\\\\Google Drive\\\\CBI\\\\RPP\\\\RPP_ReportingUnits\\\\RPP_ReportingUnits.gdb\\\\Merge1_SP_Elim'>"
      ]
     },
     "execution_count": 86,
     "metadata": {},
     "output_type": "execute_result"
    }
   ],
   "source": [
    "FCfields = [f.name for f in arcpy.ListFields(\"Merge1_SP_Elim\")]\n",
    "DontDeleteFields = ['Shape_Length', 'Shape_Area', 'OBJECTID', 'apn', 'Shape']\n",
    "fields2Delete = list(set(FCfields) - set(DontDeleteFields))\n",
    "arcpy.DeleteField_management(\"Merge1_SP_Elim\", fields2Delete)"
   ]
  },
  {
   "cell_type": "code",
   "execution_count": null,
   "metadata": {},
   "outputs": [],
   "source": []
  }
 ],
 "metadata": {
  "kernelspec": {
   "display_name": "Python 3",
   "language": "python",
   "name": "python3"
  },
  "language_info": {
   "codemirror_mode": {
    "name": "ipython",
    "version": 3
   },
   "file_extension": ".py",
   "mimetype": "text/x-python",
   "name": "python",
   "nbconvert_exporter": "python",
   "pygments_lexer": "ipython3",
   "version": "3.7.9"
  }
 },
 "nbformat": 4,
 "nbformat_minor": 4
}
