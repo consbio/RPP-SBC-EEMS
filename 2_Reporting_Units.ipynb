{
 "cells": [
  {
   "cell_type": "code",
   "execution_count": 1,
   "metadata": {},
   "outputs": [],
   "source": [
    "import pandas as pd\n",
    "import geopandas as gpd\n",
    "import arcpy\n",
    "import os\n",
    "import shutil\n",
    "import math\n",
    "import inspect\n",
    "\n",
    "src_file_path = inspect.getfile(lambda: None)\n",
    "THIS_FOLDER = os.path.dirname(os.path.abspath(src_file_path))"
   ]
  },
  {
   "cell_type": "markdown",
   "metadata": {},
   "source": [
    "# Summary\n",
    "\n",
    "This notebook creates the reporting units dataset. It does not, however, summarize data into the reporting units.\n",
    "\n",
    "The geoprocessing workflow for creating these reporting units is quite complex, but the overall goal is to have a more or less uniform set of polygons that maintain parcel boundary lines, while combining small parcels, and subdividing large parcels, while also paying attention to the WUI interface and intermix zones.\n",
    "\n",
    "There is also an outputted APN table which can be joined to these reporting units to determine which APNs correspond to which reporting unit. \n",
    "\n",
    "**Input Data Layers:**\n",
    "- Expanded WUI/AOI (created in `1_Expanded_WUI.ipynb`)\n",
    "- [SBC Parcels](https://databasin.org/datasets/008da0ba3dc14be18aa3bcfd90dc9615/)\n",
    "- [SBC Boundary](https://databasin.org/datasets/1cdc07adea7d4dee9cc1f07ab44cfef3/)\n",
    "- [WUI Intermix & Interface](https://databasin.org/datasets/218e54cf56f94342a46fefcf05c64f9a/)"
   ]
  },
  {
   "cell_type": "code",
   "execution_count": 2,
   "metadata": {},
   "outputs": [],
   "source": [
    "arcpy.ResetEnvironments()\n",
    "gdb_name = \"Reporting_Units.gdb\"\n",
    "arcpy.env.overwriteOutput = True\n",
    "path = os.path.join(THIS_FOLDER, gdb_name)\n",
    "arcpy.CreateFileGDB_management(\"./\", gdb_name)\n",
    "arcpy.env.workspace = path\n",
    "arcpy.env.scratchWorkspace = path"
   ]
  },
  {
   "cell_type": "markdown",
   "metadata": {},
   "source": [
    "**Import starting data layers and create WUI merge**"
   ]
  },
  {
   "cell_type": "code",
   "execution_count": 3,
   "metadata": {},
   "outputs": [
    {
     "data": {
      "text/html": [
       "<h2>Output</h2>C:\\Users\\zrcan\\Documents\\GitHub\\RPP-SBC-EEMS\\Reporting_Units.gdb\\WUI_Merge<h2>Messages</h2>Start Time: Friday, July 9, 2021 12:54:54 PM<br/>Succeeded at Friday, July 9, 2021 12:54:55 PM (Elapsed Time: 0.68 seconds)<br/><style>.rendered_html td, .rendered_html th {text-align: left;}.rendered_html tbody {border: 1px solid black;}</style>"
      ],
      "text/plain": [
       "<Result 'C:\\\\Users\\\\zrcan\\\\Documents\\\\GitHub\\\\RPP-SBC-EEMS\\\\Reporting_Units.gdb\\\\WUI_Merge'>"
      ]
     },
     "execution_count": 3,
     "metadata": {},
     "output_type": "execute_result"
    }
   ],
   "source": [
    "crs = arcpy.SpatialReference('NAD 1983 StatePlane California V FIPS 0405 (US Feet)')\n",
    "\n",
    "in_data = [\"SBC_Parcels\", \"SBC_Boundary\", \"WUI_Intermix\", \"WUI_Interface\"]\n",
    "\n",
    "for sf in in_data:\n",
    "    path = os.path.join(THIS_FOLDER, \"in_data/{}.shp\".format(sf))\n",
    "    arcpy.CopyFeatures_management(path, sf)\n",
    "    arcpy.Project_management(sf, \"{}_rpj\".format(sf), crs)\n",
    "\n",
    "path = os.path.join(THIS_FOLDER, \"out_data/expanded_wui/Expanded_WUI.shp\")\n",
    "arcpy.CopyFeatures_management(path, \"Expanded_WUI\")\n",
    "\n",
    "arcpy.Merge_management([\"WUI_Interface_rpj\", \"WUI_Intermix_rpj\"], \n",
    "                       \"WUI_Merge\")"
   ]
  },
  {
   "cell_type": "markdown",
   "metadata": {},
   "source": [
    "**Create the Roads and Gaps layer**"
   ]
  },
  {
   "cell_type": "code",
   "execution_count": 4,
   "metadata": {},
   "outputs": [
    {
     "data": {
      "text/html": [
       "<h2>Output</h2>C:\\Users\\zrcan\\Documents\\GitHub\\RPP-SBC-EEMS\\Reporting_Units.gdb\\Roads_Gaps<h2>Messages</h2>Start Time: Friday, July 9, 2021 12:55:21 PM<br/>Reading Features...<br/>Cracking Features...<br/>Assembling Features...<br/>Succeeded at Friday, July 9, 2021 12:55:28 PM (Elapsed Time: 7.15 seconds)<br/><style>.rendered_html td, .rendered_html th {text-align: left;}.rendered_html tbody {border: 1px solid black;}</style>"
      ],
      "text/plain": [
       "<Result 'C:\\\\Users\\\\zrcan\\\\Documents\\\\GitHub\\\\RPP-SBC-EEMS\\\\Reporting_Units.gdb\\\\Roads_Gaps'>"
      ]
     },
     "execution_count": 4,
     "metadata": {},
     "output_type": "execute_result"
    }
   ],
   "source": [
    "arcpy.Clip_analysis(\"SBC_Parcels_rpj\", \"SBC_Boundary_rpj\", \n",
    "                    \"SBC_Parcels_NoIslands\")\n",
    "arcpy.analysis.Erase(\"SBC_Boundary_rpj\", \"SBC_Parcels_NoIslands\", \n",
    "                     \"Roads_Gaps\", None)"
   ]
  },
  {
   "cell_type": "markdown",
   "metadata": {},
   "source": [
    "**Clip the parcels and roads and gaps to the expanded WUI geometry**"
   ]
  },
  {
   "cell_type": "code",
   "execution_count": 5,
   "metadata": {},
   "outputs": [
    {
     "data": {
      "text/html": [
       "<h2>Output</h2>C:\\Users\\zrcan\\Documents\\GitHub\\RPP-SBC-EEMS\\Reporting_Units.gdb\\Roads_Gaps_Clip<h2>Messages</h2>Start Time: Friday, July 9, 2021 12:55:56 PM<br/>Reading Features...<br/>Cracking Features...<br/>Assembling Features...<br/>Succeeded at Friday, July 9, 2021 12:56:02 PM (Elapsed Time: 5.75 seconds)<br/><style>.rendered_html td, .rendered_html th {text-align: left;}.rendered_html tbody {border: 1px solid black;}</style>"
      ],
      "text/plain": [
       "<Result 'C:\\\\Users\\\\zrcan\\\\Documents\\\\GitHub\\\\RPP-SBC-EEMS\\\\Reporting_Units.gdb\\\\Roads_Gaps_Clip'>"
      ]
     },
     "execution_count": 5,
     "metadata": {},
     "output_type": "execute_result"
    }
   ],
   "source": [
    "arcpy.Clip_analysis(\"SBC_Parcels_NoIslands\", \"Expanded_WUI\", \"WUI_Parcels_Clip\")\n",
    "arcpy.Clip_analysis(\"Roads_Gaps\", \"Expanded_WUI\", \"Roads_Gaps_Clip\")"
   ]
  },
  {
   "cell_type": "markdown",
   "metadata": {},
   "source": [
    "**Add parcels that are less than or equal to 150 acres and greater than or equal to 10 acres to the final reporting units layer**"
   ]
  },
  {
   "cell_type": "code",
   "execution_count": 6,
   "metadata": {},
   "outputs": [],
   "source": [
    "acre = 43560"
   ]
  },
  {
   "cell_type": "code",
   "execution_count": 7,
   "metadata": {},
   "outputs": [],
   "source": [
    "selection = arcpy.management.SelectLayerByAttribute(\"WUI_Parcels_Clip\", \"NEW_SELECTION\", \"Shape_Area <= {} And Shape_Area >= {}\".format(150 * acre, 10 * acre), None)\n",
    "arcpy.CopyFeatures_management(selection, \"LTE_Lg_GTE_Sm\")\n",
    "reporting_units = [\"LTE_Lg_GTE_Sm\"]"
   ]
  },
  {
   "cell_type": "markdown",
   "metadata": {},
   "source": [
    "**Select parcels that are larger than 150 acres and subdivide them into 100 acre subdivisions, then add that to the reporting units layer**"
   ]
  },
  {
   "cell_type": "code",
   "execution_count": 8,
   "metadata": {},
   "outputs": [],
   "source": [
    "selection = arcpy.management.SelectLayerByAttribute(\"WUI_Parcels_Clip\", \"NEW_SELECTION\", \"Shape_Area > {}\".format(150 * acre), None)\n",
    "arcpy.management.SubdividePolygon(selection, \"GT150_SubDiv100\", \"EQUAL_AREAS\", None, \"{} SquareFeet\".format(100 * acre), None, 0, \"STACKED_BLOCKS\")\n",
    "reporting_units.append(\"GT150_SubDiv100\")"
   ]
  },
  {
   "cell_type": "markdown",
   "metadata": {},
   "source": [
    "**Select parcels that are less than 10 acres and dissolve boundaries (this makes the city blocks individual polygons)**"
   ]
  },
  {
   "cell_type": "code",
   "execution_count": 9,
   "metadata": {},
   "outputs": [
    {
     "data": {
      "text/html": [
       "<h2>Output</h2>C:\\Users\\zrcan\\Documents\\GitHub\\RPP-SBC-EEMS\\Reporting_Units.gdb\\LT10_Dis<h2>Messages</h2>Start Time: Friday, July 9, 2021 12:56:07 PM<br/>Started Spark Job 1 with 8 tasks.<br/>Spark Job 1 completed in 4.4 seconds.<br/>Started Spark Job 2 with 24 tasks.<br/>Spark Job 2 completed in 38.3 seconds.<br/>Succeeded at Friday, July 9, 2021 12:57:26 PM (Elapsed Time: 1 minutes 18 seconds)<br/><style>.rendered_html td, .rendered_html th {text-align: left;}.rendered_html tbody {border: 1px solid black;}</style>"
      ],
      "text/plain": [
       "<Result 'C:\\\\Users\\\\zrcan\\\\Documents\\\\GitHub\\\\RPP-SBC-EEMS\\\\Reporting_Units.gdb\\\\LT10_Dis'>"
      ]
     },
     "execution_count": 9,
     "metadata": {},
     "output_type": "execute_result"
    }
   ],
   "source": [
    "selection = arcpy.management.SelectLayerByAttribute(\"WUI_Parcels_Clip\", \"NEW_SELECTION\", \"Shape_Area < {}\".format(10 * acre), None)\n",
    "arcpy.gapro.DissolveBoundaries(selection, \"LT10_Dis\", \"SINGLE_PART\", None, None, None)"
   ]
  },
  {
   "cell_type": "markdown",
   "metadata": {},
   "source": [
    "**From the newly dissolved boundaries layer, select polygons that are larger that 150 acres and subdivide those into 100 acres subdivisions and add those to the reporting units**"
   ]
  },
  {
   "cell_type": "code",
   "execution_count": 10,
   "metadata": {},
   "outputs": [],
   "source": [
    "selection = arcpy.management.SelectLayerByAttribute(\"LT10_Dis\", \"NEW_SELECTION\", \"Shape_Area > {}\".format(150 * acre), None)\n",
    "arcpy.management.SubdividePolygon(selection, \"GT_Lg_Dis_SubDiv\", \"EQUAL_AREAS\", None, \"{} SquareFeet\".format(100 * acre), None, 0, \"STACKED_BLOCKS\")\n",
    "reporting_units.append(\"GT_Lg_Dis_SubDiv\")"
   ]
  },
  {
   "cell_type": "markdown",
   "metadata": {},
   "source": [
    "**Again from the dissolved boundaries layer, select parcels that are less than or equal to 150 acres and add those to the reporting units**"
   ]
  },
  {
   "cell_type": "code",
   "execution_count": 11,
   "metadata": {},
   "outputs": [],
   "source": [
    "selection = arcpy.management.SelectLayerByAttribute(\"LT10_Dis\", \"NEW_SELECTION\", \"Shape_Area <= {}\".format(150 * acre), None)\n",
    "arcpy.CopyFeatures_management(selection, \"LTE_Lg\")\n",
    "reporting_units.append(\"LTE_Lg\")"
   ]
  },
  {
   "cell_type": "markdown",
   "metadata": {},
   "source": [
    "**Now subdivide the WUI-clipped Roads and Gaps layer into 10 acre subdivisions and add that to the reporting units**"
   ]
  },
  {
   "cell_type": "code",
   "execution_count": 12,
   "metadata": {},
   "outputs": [],
   "source": [
    "arcpy.management.SubdividePolygon(\"Roads_Gaps_Clip\", \"Roads_Gaps_Clip_SubDiv\", \"EQUAL_AREAS\", None, \"{} SquareFeet\".format(10 * acre), None, 0, \"STACKED_BLOCKS\")\n",
    "reporting_units.append(\"Roads_Gaps_Clip_SubDiv\")"
   ]
  },
  {
   "cell_type": "markdown",
   "metadata": {},
   "source": [
    "**Merge all the various reporting units and turn them into singlepart polygons. We need to do this in order to elimate sliver polygons**"
   ]
  },
  {
   "cell_type": "code",
   "execution_count": 13,
   "metadata": {},
   "outputs": [
    {
     "data": {
      "text/html": [
       "<h2>Output</h2>C:\\Users\\zrcan\\Documents\\GitHub\\RPP-SBC-EEMS\\Reporting_Units.gdb\\Merge1_SP<h2>Messages</h2>Start Time: Friday, July 9, 2021 12:58:37 PM<br/>Succeeded at Friday, July 9, 2021 12:58:40 PM (Elapsed Time: 2.49 seconds)<br/><style>.rendered_html td, .rendered_html th {text-align: left;}.rendered_html tbody {border: 1px solid black;}</style>"
      ],
      "text/plain": [
       "<Result 'C:\\\\Users\\\\zrcan\\\\Documents\\\\GitHub\\\\RPP-SBC-EEMS\\\\Reporting_Units.gdb\\\\Merge1_SP'>"
      ]
     },
     "execution_count": 13,
     "metadata": {},
     "output_type": "execute_result"
    }
   ],
   "source": [
    "arcpy.Merge_management(reporting_units, \"Merge1\")\n",
    "arcpy.management.MultipartToSinglepart(\"Merge1\", \"Merge1_SP\")"
   ]
  },
  {
   "cell_type": "markdown",
   "metadata": {},
   "source": [
    "**Eliminate polygons less than 10 acres (need to do it twice, not sure why)**"
   ]
  },
  {
   "cell_type": "code",
   "execution_count": 14,
   "metadata": {},
   "outputs": [
    {
     "data": {
      "text/html": [
       "<h2>Output</h2>C:\\Users\\zrcan\\Documents\\GitHub\\RPP-SBC-EEMS\\Reporting_Units.gdb\\Merge1_SP_Elim_2<h2>Messages</h2>Start Time: Friday, July 9, 2021 12:58:57 PM<br/>Reading Features...<br/>Processing Tiles...<br/>Eliminated 585 feature(s)<br/>Succeeded at Friday, July 9, 2021 12:59:04 PM (Elapsed Time: 7.36 seconds)<br/><style>.rendered_html td, .rendered_html th {text-align: left;}.rendered_html tbody {border: 1px solid black;}</style>"
      ],
      "text/plain": [
       "<Result 'C:\\\\Users\\\\zrcan\\\\Documents\\\\GitHub\\\\RPP-SBC-EEMS\\\\Reporting_Units.gdb\\\\Merge1_SP_Elim_2'>"
      ]
     },
     "execution_count": 14,
     "metadata": {},
     "output_type": "execute_result"
    }
   ],
   "source": [
    "selection = arcpy.management.SelectLayerByAttribute(\"Merge1_SP\", \"NEW_SELECTION\", \"Shape_Area < {}\".format(10 * acre), None)\n",
    "arcpy.management.Eliminate(selection, \"Merge1_SP_Elim\", \"LENGTH\", \"\", None)\n",
    "\n",
    "selection = arcpy.management.SelectLayerByAttribute(\"Merge1_SP_Elim\", \"NEW_SELECTION\", \"Shape_Area < {}\".format(2 * acre), None)\n",
    "arcpy.management.Eliminate(selection, \"Merge1_SP_Elim_2\", \"LENGTH\", \"\", None)"
   ]
  },
  {
   "cell_type": "markdown",
   "metadata": {},
   "source": [
    "**Now we handle the parcels and polygons that are in the WUI intermix/interface areas. These polygons have smaller subdivision rules (10 acre subdivisions). We also delete unneccessary fields**"
   ]
  },
  {
   "cell_type": "code",
   "execution_count": 15,
   "metadata": {},
   "outputs": [
    {
     "data": {
      "text/html": [
       "<h2>Output</h2>C:\\Users\\zrcan\\Documents\\GitHub\\RPP-SBC-EEMS\\Reporting_Units.gdb\\Merge_Reporting_Units_SP<h2>Messages</h2>Start Time: Friday, July 9, 2021 12:59:22 PM<br/>Succeeded at Friday, July 9, 2021 1:00:03 PM (Elapsed Time: 40.38 seconds)<br/><style>.rendered_html td, .rendered_html th {text-align: left;}.rendered_html tbody {border: 1px solid black;}</style>"
      ],
      "text/plain": [
       "<Result 'C:\\\\Users\\\\zrcan\\\\Documents\\\\GitHub\\\\RPP-SBC-EEMS\\\\Reporting_Units.gdb\\\\Merge_Reporting_Units_SP'>"
      ]
     },
     "execution_count": 15,
     "metadata": {},
     "output_type": "execute_result"
    }
   ],
   "source": [
    "selection = arcpy.SelectLayerByLocation_management(\"Merge1_SP_Elim_2\", \"INTERSECT\", \"WUI_Merge\")\n",
    "arcpy.CopyFeatures_management(selection, \"Priority_Parcels\")\n",
    "arcpy.management.SubdividePolygon(\"Priority_Parcels\", \"Priority_Parcels_SubDiv\", \"EQUAL_AREAS\", None, \"{} SquareFeet\".format(10 * acre), None, 0, \"STACKED_BLOCKS\")\n",
    "reporting_units = [\"Priority_Parcels_SubDiv\"]\n",
    "\n",
    "selection = arcpy.SelectLayerByLocation_management(\"Merge1_SP_Elim_2\", \"INTERSECT\", \"WUI_Merge\", invert_spatial_relationship = \"INVERT\")\n",
    "arcpy.CopyFeatures_management(selection, \"Non_Priority_Parcels\")\n",
    "reporting_units.append(\"Non_Priority_Parcels\")\n",
    "\n",
    "arcpy.Merge_management(reporting_units, \"Merge_Reporting_Units\")\n",
    "arcpy.management.MultipartToSinglepart(\"Merge_Reporting_Units\", \"Merge_Reporting_Units_SP\")\n",
    "\n",
    "FCfields = [f.name for f in arcpy.ListFields(\"Merge_Reporting_Units_SP\")]\n",
    "DontDeleteFields = ['Shape_Length', 'Shape_Area', 'OBJECTID', 'Shape']\n",
    "fields2Delete = list(set(FCfields) - set(DontDeleteFields))\n",
    "arcpy.DeleteField_management(\"Merge_Reporting_Units_SP\", fields2Delete)"
   ]
  },
  {
   "cell_type": "markdown",
   "metadata": {},
   "source": [
    "**Here we create the APN table that corresponds to the reporting units**"
   ]
  },
  {
   "cell_type": "code",
   "execution_count": 16,
   "metadata": {},
   "outputs": [
    {
     "data": {
      "text/html": [
       "<h2>Output</h2>C:\\Users\\zrcan\\Documents\\GitHub\\RPP-SBC-EEMS\\Reporting_Units.gdb\\Reporting_Units_APN<h2>Messages</h2>Start Time: Friday, July 9, 2021 1:02:35 PM<br/>Succeeded at Friday, July 9, 2021 1:03:12 PM (Elapsed Time: 36.69 seconds)<br/><style>.rendered_html td, .rendered_html th {text-align: left;}.rendered_html tbody {border: 1px solid black;}</style>"
      ],
      "text/plain": [
       "<Result 'C:\\\\Users\\\\zrcan\\\\Documents\\\\GitHub\\\\RPP-SBC-EEMS\\\\Reporting_Units.gdb\\\\Reporting_Units_APN'>"
      ]
     },
     "execution_count": 16,
     "metadata": {},
     "output_type": "execute_result"
    }
   ],
   "source": [
    "arcpy.analysis.SummarizeWithin(\"Merge_Reporting_Units_SP\", \"WUI_Parcels_Clip\", \"Reporting_Units\", \"KEEP_ALL\", None, \"ADD_SHAPE_SUM\", \"SQUAREKILOMETERS\", \"apn\", \"NO_MIN_MAJ\", \"NO_PERCENT\", \"apn_Summary\")\n",
    "\n",
    "FCfields = [f.name for f in arcpy.ListFields(\"Reporting_Units\")]\n",
    "DontDeleteFields = ['Shape_Length', 'Shape_Area', 'OBJECTID', 'Shape', \"Join_ID\"]\n",
    "fields2Delete = list(set(FCfields) - set(DontDeleteFields))\n",
    "arcpy.DeleteField_management(\"Reporting_Units\", fields2Delete)\n",
    "\n",
    "fieldmappings = arcpy.FieldMappings()\n",
    "fieldmappings.addTable(\"Reporting_Units\")\n",
    "fieldmappings.addTable(\"WUI_Parcels_Clip\")\n",
    "\n",
    "keepers = [\"Join_ID, apn\"]\n",
    "\n",
    "pcFieldIndex = fieldmappings.findFieldMapIndex(\"apn\")\n",
    "pcfieldmap = fieldmappings.getFieldMap(pcFieldIndex)\n",
    "pcnew = pcfieldmap.outputField\n",
    "pcnew.name = \"apn_join\"\n",
    "pcnew.aliasName = \"apn_join\"\n",
    "pcfieldmap.outputField = pcnew\n",
    "pcfieldmap.mergeRule = \"First\"\n",
    "\n",
    "fieldmappings.replaceFieldMap(pcFieldIndex, pcfieldmap)\n",
    "\n",
    "for field in fieldmappings.fields:\n",
    "    if field.name not in keepers:\n",
    "        fieldmappings.removeFieldMap(fieldmappings.findFieldMapIndex(field.name))\n",
    "\n",
    "arcpy.SpatialJoin_analysis(\"Reporting_Units\", \"WUI_Parcels_Clip\", \n",
    "                           \"Reporting_Units_APN\", \"JOIN_ONE_TO_ONE\", \"#\", fieldmappings) \n",
    "\n",
    "FCfields = [f.name for f in arcpy.ListFields(\"Reporting_Units_APN\")]\n",
    "DontDeleteFields = ['Shape_Length', 'Shape_Area', 'OBJECTID', 'Shape', \"Join_ID\", \"apn\"]\n",
    "fields2Delete = list(set(FCfields) - set(DontDeleteFields))\n",
    "arcpy.DeleteField_management(\"Reporting_Units_APN\", fields2Delete)"
   ]
  },
  {
   "cell_type": "markdown",
   "metadata": {},
   "source": [
    "**Finally export the Expanded WUI intersecting parcels, the reporting units, and the APN table**"
   ]
  },
  {
   "cell_type": "code",
   "execution_count": 17,
   "metadata": {},
   "outputs": [
    {
     "data": {
      "text/html": [
       "<h2>Output</h2>C:\\Users\\zrcan\\Documents\\GitHub\\RPP-SBC-EEMS\\out_data\\ru<h2>Messages</h2>Start Time: Friday, July 9, 2021 1:04:00 PM<br/>C:\\Users\\zrcan\\Documents\\GitHub\\RPP-SBC-EEMS\\Reporting_Units.gdb\\Reporting_Units_APN Successfully converted:  C:\\Users\\zrcan\\Documents\\GitHub\\RPP-SBC-EEMS\\out_data/ru\\Reporting_Units_APN.shp<br/>Succeeded at Friday, July 9, 2021 1:04:03 PM (Elapsed Time: 2.65 seconds)<br/><style>.rendered_html td, .rendered_html th {text-align: left;}.rendered_html tbody {border: 1px solid black;}</style>"
      ],
      "text/plain": [
       "<Result 'C:\\\\Users\\\\zrcan\\\\Documents\\\\GitHub\\\\RPP-SBC-EEMS\\\\out_data\\\\ru'>"
      ]
     },
     "execution_count": 17,
     "metadata": {},
     "output_type": "execute_result"
    }
   ],
   "source": [
    "dir_path = os.path.join(THIS_FOLDER, \"out_data/ru\")\n",
    "shutil.rmtree(dir_path)\n",
    "os.mkdir(dir_path)\n",
    "\n",
    "xcel_path = os.path.join(THIS_FOLDER, \"APN_RU_Table.xlsx\")\n",
    "arcpy.conversion.TableToExcel(\"apn_Summary\", xcel_path, \"NAME\", \"CODE\")\n",
    "\n",
    "arcpy.conversion.FeatureClassToShapefile(\"WUI_Parcels_Clip\", \n",
    "                                        os.path.join(THIS_FOLDER, \"out_data/ru\"))\n",
    "arcpy.conversion.FeatureClassToShapefile(\"Reporting_Units_APN\", \n",
    "                                        os.path.join(THIS_FOLDER, \"out_data/ru\"))"
   ]
  },
  {
   "cell_type": "code",
   "execution_count": null,
   "metadata": {},
   "outputs": [],
   "source": []
  }
 ],
 "metadata": {
  "kernelspec": {
   "display_name": "Python 3",
   "language": "python",
   "name": "python3"
  },
  "language_info": {
   "codemirror_mode": {
    "name": "ipython",
    "version": 3
   },
   "file_extension": ".py",
   "mimetype": "text/x-python",
   "name": "python",
   "nbconvert_exporter": "python",
   "pygments_lexer": "ipython3",
   "version": "3.7.9"
  }
 },
 "nbformat": 4,
 "nbformat_minor": 4
}
