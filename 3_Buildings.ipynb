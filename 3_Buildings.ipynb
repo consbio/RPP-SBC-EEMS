{
 "cells": [
  {
   "cell_type": "code",
   "execution_count": 1,
   "metadata": {},
   "outputs": [
    {
     "name": "stdout",
     "output_type": "stream",
     "text": [
      "C:\\Users\\zrcan\\Documents\\GitHub\\RPP-SBC-EEMS\n"
     ]
    }
   ],
   "source": [
    "import mpilot\n",
    "import arcpy\n",
    "import pandas as pd\n",
    "import geopandas as gpd\n",
    "import os\n",
    "import shutil\n",
    "from shapely import wkt\n",
    "from pyproj import CRS\n",
    "from arcpy.sa import *\n",
    "THIS_FOLDER = os.path.dirname(os.path.abspath(\"RPP-SBC-EEMS\"))\n",
    "print(THIS_FOLDER)"
   ]
  },
  {
   "cell_type": "code",
   "execution_count": 2,
   "metadata": {},
   "outputs": [],
   "source": [
    "arcpy.ResetEnvironments()\n",
    "gdb_name = \"Buildings.gdb\"\n",
    "arcpy.env.overwriteOutput = True\n",
    "path = os.path.join(THIS_FOLDER, gdb_name)\n",
    "try:\n",
    "    arcpy.CreateFileGDB_management(\"./\", gdb_name)\n",
    "except:\n",
    "    print(\"{} already exists\".format(gdb_name))\n",
    "    pass\n",
    "arcpy.env.workspace = path\n",
    "arcpy.env.scratchWorkspace = path"
   ]
  },
  {
   "cell_type": "code",
   "execution_count": 4,
   "metadata": {},
   "outputs": [
    {
     "data": {
      "text/html": [
       "<h2>Output</h2>C:\\Users\\zrcan\\Documents\\GitHub\\RPP-SBC-EEMS\\Buildings.gdb\\Reporting_Units_rpj<h2>Messages</h2>Start Time: Monday, September 20, 2021 2:10:47 PM<br/>Succeeded at Monday, September 20, 2021 2:10:48 PM (Elapsed Time: 0.86 seconds)<br/><style>.rendered_html td, .rendered_html th {text-align: left;}.rendered_html tbody {border: 1px solid black;}</style>"
      ],
      "text/plain": [
       "<Result 'C:\\\\Users\\\\zrcan\\\\Documents\\\\GitHub\\\\RPP-SBC-EEMS\\\\Buildings.gdb\\\\Reporting_Units_rpj'>"
      ]
     },
     "execution_count": 4,
     "metadata": {},
     "output_type": "execute_result"
    }
   ],
   "source": [
    "path = os.path.join(THIS_FOLDER, \"in_data/SBC_Buildings.shp\")\n",
    "arcpy.CopyFeatures_management(path, \"SBC_Buildings\")\n",
    "crs = arcpy.SpatialReference('NAD 1983 StatePlane California V FIPS 0405 (US Feet)')\n",
    "arcpy.Project_management(\"SBC_Buildings\", \"SBC_Buildings_rpj\", crs)\n",
    "\n",
    "path = os.path.join(THIS_FOLDER, \"out_data/ru/Reporting_Units.shp\")\n",
    "arcpy.CopyFeatures_management(path, \"Reporting_Units\")\n",
    "crs = arcpy.SpatialReference('NAD 1983 StatePlane California V FIPS 0405 (US Feet)')\n",
    "arcpy.Project_management(\"Reporting_Units\", \"Reporting_Units_rpj\", crs)"
   ]
  },
  {
   "cell_type": "code",
   "execution_count": 5,
   "metadata": {},
   "outputs": [
    {
     "data": {
      "text/html": [
       "<h2>Output</h2>C:\\Users\\zrcan\\Documents\\GitHub\\RPP-SBC-EEMS\\Buildings.gdb\\SBC_Buildings_rpj_SP<h2>Messages</h2>Start Time: Monday, September 20, 2021 2:10:48 PM<br/>Succeeded at Monday, September 20, 2021 2:10:57 PM (Elapsed Time: 8.41 seconds)<br/><style>.rendered_html td, .rendered_html th {text-align: left;}.rendered_html tbody {border: 1px solid black;}</style>"
      ],
      "text/plain": [
       "<Result 'C:\\\\Users\\\\zrcan\\\\Documents\\\\GitHub\\\\RPP-SBC-EEMS\\\\Buildings.gdb\\\\SBC_Buildings_rpj_SP'>"
      ]
     },
     "execution_count": 5,
     "metadata": {},
     "output_type": "execute_result"
    }
   ],
   "source": [
    "arcpy.management.MultipartToSinglepart(\"SBC_Buildings_rpj\", \"SBC_Buildings_rpj_SP\")"
   ]
  },
  {
   "cell_type": "code",
   "execution_count": 6,
   "metadata": {},
   "outputs": [
    {
     "data": {
      "text/html": [
       "<h2>Output</h2>C:\\Users\\zrcan\\Documents\\GitHub\\RPP-SBC-EEMS\\Buildings.gdb\\Building_Intersect<h2>Messages</h2>Start Time: Monday, September 20, 2021 2:10:57 PM<br/>Assembling Features...<br/>Reading Features...<br/>Cracking Features...<br/>Succeeded at Monday, September 20, 2021 2:11:12 PM (Elapsed Time: 14.56 seconds)<br/><style>.rendered_html td, .rendered_html th {text-align: left;}.rendered_html tbody {border: 1px solid black;}</style>"
      ],
      "text/plain": [
       "<Result 'C:\\\\Users\\\\zrcan\\\\Documents\\\\GitHub\\\\RPP-SBC-EEMS\\\\Buildings.gdb\\\\Building_Intersect'>"
      ]
     },
     "execution_count": 6,
     "metadata": {},
     "output_type": "execute_result"
    }
   ],
   "source": [
    "arcpy.Intersect_analysis([\"Reporting_Units_rpj\", \"SBC_Buildings_rpj_SP\"], \"Building_Intersect\")"
   ]
  },
  {
   "cell_type": "code",
   "execution_count": 7,
   "metadata": {},
   "outputs": [
    {
     "data": {
      "text/html": [
       "<h2>Output</h2>C:\\Users\\zrcan\\Documents\\GitHub\\RPP-SBC-EEMS\\out_data\\building<h2>Messages</h2>Start Time: Monday, September 20, 2021 2:11:12 PM<br/>C:\\Users\\zrcan\\Documents\\GitHub\\RPP-SBC-EEMS\\Buildings.gdb\\Building_Intersect Successfully converted:  C:\\Users\\zrcan\\Documents\\GitHub\\RPP-SBC-EEMS\\out_data/building\\Building_Intersect.shp<br/>Succeeded at Monday, September 20, 2021 2:11:20 PM (Elapsed Time: 7.79 seconds)<br/><style>.rendered_html td, .rendered_html th {text-align: left;}.rendered_html tbody {border: 1px solid black;}</style>"
      ],
      "text/plain": [
       "<Result 'C:\\\\Users\\\\zrcan\\\\Documents\\\\GitHub\\\\RPP-SBC-EEMS\\\\out_data\\\\building'>"
      ]
     },
     "execution_count": 7,
     "metadata": {},
     "output_type": "execute_result"
    }
   ],
   "source": [
    "dir_path = os.path.join(THIS_FOLDER, \"out_data/building\")\n",
    "shutil.rmtree(dir_path)\n",
    "os.mkdir(dir_path)\n",
    "\n",
    "arcpy.conversion.FeatureClassToShapefile(\"Building_Intersect\", os.path.join(THIS_FOLDER, \"out_data/building\"))"
   ]
  },
  {
   "cell_type": "code",
   "execution_count": null,
   "metadata": {},
   "outputs": [],
   "source": [
    "# HOUSING DENSITY\n",
    "\n",
    "# arcpy.management.FeatureToPoint(\"SBC_Buildings_rpj_SP\", \"SBC_Buildings_Pts\")  \n",
    "\n",
    "# pdensOut = PointDensity(\"SBC_Buildings_Pts\", \"NONE\", 200, NbrCircle(1000, \"MAP\"))\n",
    "# out_raster = arcpy.ia.Int(pdensOut)\n",
    "# arcpy.RasterToPolygon_conversion(out_raster, \"point_density_1000ft\", \"NO_SIMPLIFY\", \"VALUE\")\n",
    "\n",
    "# pdensOut = PointDensity(\"SBC_Buildings_Pts\", \"NONE\", 200, NbrCircle(2640, \"MAP\"))\n",
    "# out_raster = arcpy.ia.Int(pdensOut)\n",
    "# arcpy.RasterToPolygon_conversion(out_raster, \"point_density_0p5mi\", \"NO_SIMPLIFY\", \"VALUE\")\n",
    "\n",
    "# pdensOut = PointDensity(\"SBC_Buildings_Pts\", \"NONE\", 200, NbrCircle(15840, \"MAP\"))\n",
    "# out_raster = arcpy.ia.Int(pdensOut)\n",
    "# arcpy.RasterToPolygon_conversion(out_raster, \"point_density_3mi\", \"NO_SIMPLIFY\", \"VALUE\")\n",
    "\n",
    "# arcpy.ClearWorkspaceCache_management()\n",
    "# del pdensOut\n",
    "# del out_raster\n",
    "\n",
    "# dir_path = os.path.join(THIS_FOLDER, \"out_data/dense_dev\")\n",
    "# shutil.rmtree(dir_path)\n",
    "# os.mkdir(dir_path)\n",
    "\n",
    "\n",
    "# arcpy.conversion.FeatureClassToShapefile(\"point_density_1000ft\", \n",
    "#                                         os.path.join(THIS_FOLDER, \"out_data/dense_dev\"))\n",
    "\n",
    "# arcpy.conversion.FeatureClassToShapefile(\"point_density_0p5mi\", \n",
    "#                                         os.path.join(THIS_FOLDER, \"out_data/dense_dev\"))\n",
    "\n",
    "# arcpy.conversion.FeatureClassToShapefile(\"point_density_3mi\", \n",
    "#                                         os.path.join(THIS_FOLDER, \"out_data/dense_dev\"))"
   ]
  },
  {
   "cell_type": "code",
   "execution_count": null,
   "metadata": {},
   "outputs": [],
   "source": [
    "# gdf = gpd.read_file(os.path.join(THIS_FOLDER, \"in_data/SBC_Parcels.shp\"))"
   ]
  },
  {
   "cell_type": "markdown",
   "metadata": {},
   "source": [
    "Land Value, Land Use Type, Year Built, Acreage, Land Value, Sq Footage, Bathrooms, Ag Presence"
   ]
  },
  {
   "cell_type": "code",
   "execution_count": null,
   "metadata": {},
   "outputs": [],
   "source": [
    "# gdf.info()"
   ]
  },
  {
   "cell_type": "code",
   "execution_count": null,
   "metadata": {},
   "outputs": [],
   "source": [
    "# print(gdf['landuse'].unique())"
   ]
  },
  {
   "cell_type": "code",
   "execution_count": null,
   "metadata": {},
   "outputs": [],
   "source": [
    "# field_names = [f.name for f in arcpy.ListFields(\"point_density_1000ft\")]\n",
    "# print(field_names)"
   ]
  },
  {
   "cell_type": "code",
   "execution_count": null,
   "metadata": {},
   "outputs": [],
   "source": []
  },
  {
   "cell_type": "code",
   "execution_count": null,
   "metadata": {},
   "outputs": [],
   "source": []
  },
  {
   "cell_type": "code",
   "execution_count": null,
   "metadata": {},
   "outputs": [],
   "source": [
    "# gdf[\"int_yr_blt\"] = pd.to_numeric(gdf['yearbuilt'], downcast='integer')\n",
    "# gdf = gdf[gdf[\"int_yr_blt\"] > 1900]"
   ]
  },
  {
   "cell_type": "code",
   "execution_count": null,
   "metadata": {},
   "outputs": [],
   "source": [
    "# gdf.to_file(driver = 'ESRI Shapefile', filename= \"out_data/final/Year_Built2.shp\")"
   ]
  },
  {
   "cell_type": "code",
   "execution_count": null,
   "metadata": {},
   "outputs": [],
   "source": [
    "# arcpy.ResetEnvironments()\n",
    "# gdb_name = \"Year_Built.gdb\"\n",
    "# arcpy.env.overwriteOutput = True\n",
    "# path = os.path.join(THIS_FOLDER, gdb_name)\n",
    "# # arcpy.CreateFileGDB_management(\"./\", gdb_name)\n",
    "# arcpy.env.workspace = path\n",
    "# arcpy.env.scratchWorkspace = path"
   ]
  },
  {
   "cell_type": "code",
   "execution_count": null,
   "metadata": {},
   "outputs": [],
   "source": [
    "# path = os.path.join(THIS_FOLDER, \"out_data/final/Year_Built2.shp\")\n",
    "# arcpy.CopyFeatures_management(path, \"Year_Built\")\n",
    "# crs = arcpy.SpatialReference('NAD 1983 StatePlane California V FIPS 0405 (US Feet)')\n",
    "# arcpy.Project_management(\"Year_Built\", \"Year_Built_rpj\", crs)\n",
    "\n",
    "# path = os.path.join(THIS_FOLDER, \"out_data/final/Final_EEMS_Output.shp\")\n",
    "# arcpy.CopyFeatures_management(path, \"Final_EEMS_Output\")\n",
    "# crs = arcpy.SpatialReference('NAD 1983 StatePlane California V FIPS 0405 (US Feet)')\n",
    "# arcpy.Project_management(\"Final_EEMS_Output\", \"Final_EEMS_Output_rpj\", crs)"
   ]
  },
  {
   "cell_type": "code",
   "execution_count": null,
   "metadata": {},
   "outputs": [],
   "source": [
    "# field_names = [f.name for f in arcpy.ListFields(\"Year_Built_rpj\")]\n",
    "# print(field_names)"
   ]
  },
  {
   "cell_type": "code",
   "execution_count": null,
   "metadata": {},
   "outputs": [],
   "source": [
    "# arcpy.analysis.SummarizeWithin(\"Final_EEMS_Output_rpj\", \"Year_Built_rpj\", \n",
    "#                                \"EEMS_WYRBUILT\", \"KEEP_ALL\", \"int_yr_blt Mean\", \n",
    "#                                \"NO_SHAPE_SUM\", \"SQUAREKILOMETERS\", None, \"NO_MIN_MAJ\", \"NO_PERCENT\", None)"
   ]
  },
  {
   "cell_type": "code",
   "execution_count": null,
   "metadata": {},
   "outputs": [],
   "source": []
  }
 ],
 "metadata": {
  "kernelspec": {
   "display_name": "Python 3 (ipykernel)",
   "language": "python",
   "name": "python3"
  },
  "language_info": {
   "codemirror_mode": {
    "name": "ipython",
    "version": 3
   },
   "file_extension": ".py",
   "mimetype": "text/x-python",
   "name": "python",
   "nbconvert_exporter": "python",
   "pygments_lexer": "ipython3",
   "version": "3.7.10"
  }
 },
 "nbformat": 4,
 "nbformat_minor": 4
}
