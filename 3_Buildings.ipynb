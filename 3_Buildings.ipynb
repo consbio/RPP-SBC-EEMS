{
 "cells": [
  {
   "cell_type": "code",
   "execution_count": 1,
   "metadata": {},
   "outputs": [],
   "source": [
    "import mpilot\n",
    "import arcpy\n",
    "import inspect\n",
    "import pandas as pd\n",
    "import geopandas as gpd\n",
    "import os\n",
    "import shutil\n",
    "from shapely import wkt\n",
    "from pyproj import CRS\n",
    "from arcpy.sa import *\n",
    "\n",
    "src_file_path = inspect.getfile(lambda: None)\n",
    "THIS_FOLDER = os.path.dirname(os.path.abspath(src_file_path))"
   ]
  },
  {
   "cell_type": "code",
   "execution_count": 2,
   "metadata": {},
   "outputs": [],
   "source": [
    "arcpy.ResetEnvironments()\n",
    "gdb_name = \"Buildings.gdb\"\n",
    "arcpy.env.overwriteOutput = True\n",
    "path = os.path.join(THIS_FOLDER, gdb_name)\n",
    "arcpy.CreateFileGDB_management(\"./\", gdb_name)\n",
    "arcpy.env.workspace = path\n",
    "arcpy.env.scratchWorkspace = path"
   ]
  },
  {
   "cell_type": "code",
   "execution_count": 5,
   "metadata": {},
   "outputs": [
    {
     "data": {
      "text/html": [
       "<h2>Output</h2>C:\\Users\\zrcan\\Documents\\GitHub\\RPP-SBC-EEMS\\Buildings.gdb\\Reporting_Units_rpj<h2>Messages</h2>Start Time: Wednesday, May 12, 2021 8:52:23 PM<br/>Succeeded at Wednesday, May 12, 2021 8:52:27 PM (Elapsed Time: 3.59 seconds)<br/><style>.rendered_html td, .rendered_html th {text-align: left;}.rendered_html tbody {border: 1px solid black;}</style>"
      ],
      "text/plain": [
       "<Result 'C:\\\\Users\\\\zrcan\\\\Documents\\\\GitHub\\\\RPP-SBC-EEMS\\\\Buildings.gdb\\\\Reporting_Units_rpj'>"
      ]
     },
     "execution_count": 5,
     "metadata": {},
     "output_type": "execute_result"
    }
   ],
   "source": [
    "path = os.path.join(THIS_FOLDER, \"in_data/SBC_Buildings.shp\")\n",
    "arcpy.CopyFeatures_management(path, \"SBC_Buildings\")\n",
    "crs = arcpy.SpatialReference('NAD 1983 StatePlane California V FIPS 0405 (US Feet)')\n",
    "arcpy.Project_management(\"SBC_Buildings\", \"SBC_Buildings_rpj\", crs)\n",
    "\n",
    "path = os.path.join(THIS_FOLDER, \"out_data/ru/Reporting_Units_APN.shp\")\n",
    "arcpy.CopyFeatures_management(path, \"Reporting_Units\")\n",
    "crs = arcpy.SpatialReference('NAD 1983 StatePlane California V FIPS 0405 (US Feet)')\n",
    "arcpy.Project_management(\"Reporting_Units\", \"Reporting_Units_rpj\", crs)"
   ]
  },
  {
   "cell_type": "code",
   "execution_count": 6,
   "metadata": {},
   "outputs": [
    {
     "data": {
      "text/html": [
       "<h2>Output</h2>C:\\Users\\zrcan\\Documents\\GitHub\\RPP-SBC-EEMS\\Buildings.gdb\\SBC_Buildings_rpj_SP<h2>Messages</h2>Start Time: Wednesday, May 12, 2021 8:52:28 PM<br/>Succeeded at Wednesday, May 12, 2021 8:52:54 PM (Elapsed Time: 26.28 seconds)<br/><style>.rendered_html td, .rendered_html th {text-align: left;}.rendered_html tbody {border: 1px solid black;}</style>"
      ],
      "text/plain": [
       "<Result 'C:\\\\Users\\\\zrcan\\\\Documents\\\\GitHub\\\\RPP-SBC-EEMS\\\\Buildings.gdb\\\\SBC_Buildings_rpj_SP'>"
      ]
     },
     "execution_count": 6,
     "metadata": {},
     "output_type": "execute_result"
    }
   ],
   "source": [
    "arcpy.management.MultipartToSinglepart(\"SBC_Buildings_rpj\", \"SBC_Buildings_rpj_SP\")"
   ]
  },
  {
   "cell_type": "code",
   "execution_count": 7,
   "metadata": {},
   "outputs": [
    {
     "data": {
      "text/html": [
       "<h2>Output</h2>C:\\Users\\zrcan\\Documents\\GitHub\\RPP-SBC-EEMS\\Buildings.gdb\\Building_Intersect<h2>Messages</h2>Start Time: Wednesday, May 12, 2021 8:52:55 PM<br/>Reading Features...<br/>Cracking Features...<br/>Assembling Features...<br/>Succeeded at Wednesday, May 12, 2021 8:53:34 PM (Elapsed Time: 38.79 seconds)<br/><style>.rendered_html td, .rendered_html th {text-align: left;}.rendered_html tbody {border: 1px solid black;}</style>"
      ],
      "text/plain": [
       "<Result 'C:\\\\Users\\\\zrcan\\\\Documents\\\\GitHub\\\\RPP-SBC-EEMS\\\\Buildings.gdb\\\\Building_Intersect'>"
      ]
     },
     "execution_count": 7,
     "metadata": {},
     "output_type": "execute_result"
    }
   ],
   "source": [
    "arcpy.Intersect_analysis([\"Reporting_Units_rpj\", \"SBC_Buildings_rpj_SP\"], \"Building_Intersect\")"
   ]
  },
  {
   "cell_type": "code",
   "execution_count": 10,
   "metadata": {},
   "outputs": [
    {
     "data": {
      "text/html": [
       "<h2>Output</h2>C:\\Users\\zrcan\\Documents\\GitHub\\RPP-SBC-EEMS\\out_data\\building<h2>Messages</h2>Start Time: Wednesday, May 12, 2021 9:03:45 PM<br/>C:\\Users\\zrcan\\Documents\\GitHub\\RPP-SBC-EEMS\\Buildings.gdb\\Building_Intersect Successfully converted:  C:\\Users\\zrcan\\Documents\\GitHub\\RPP-SBC-EEMS\\out_data/building\\Building_Intersect.shp<br/>Succeeded at Wednesday, May 12, 2021 9:04:08 PM (Elapsed Time: 23.40 seconds)<br/><style>.rendered_html td, .rendered_html th {text-align: left;}.rendered_html tbody {border: 1px solid black;}</style>"
      ],
      "text/plain": [
       "<Result 'C:\\\\Users\\\\zrcan\\\\Documents\\\\GitHub\\\\RPP-SBC-EEMS\\\\out_data\\\\building'>"
      ]
     },
     "execution_count": 10,
     "metadata": {},
     "output_type": "execute_result"
    }
   ],
   "source": [
    "dir_path = os.path.join(THIS_FOLDER, \"out_data/building\")\n",
    "shutil.rmtree(dir_path)\n",
    "os.mkdir(dir_path)\n",
    "\n",
    "arcpy.conversion.FeatureClassToShapefile(\"Building_Intersect\", os.path.join(THIS_FOLDER, \"out_data/building\"))"
   ]
  },
  {
   "cell_type": "code",
   "execution_count": 8,
   "metadata": {},
   "outputs": [],
   "source": [
    "# HOUSING DENSITY\n",
    "\n",
    "# arcpy.management.FeatureToPoint(\"SBC_Buildings_rpj_SP\", \"SBC_Buildings_Pts\")  \n",
    "\n",
    "# pdensOut = PointDensity(\"SBC_Buildings_Pts\", \"NONE\", 200, NbrCircle(1000, \"MAP\"))\n",
    "# out_raster = arcpy.ia.Int(pdensOut)\n",
    "# arcpy.RasterToPolygon_conversion(out_raster, \"point_density_1000ft\", \"NO_SIMPLIFY\", \"VALUE\")\n",
    "\n",
    "# pdensOut = PointDensity(\"SBC_Buildings_Pts\", \"NONE\", 200, NbrCircle(2640, \"MAP\"))\n",
    "# out_raster = arcpy.ia.Int(pdensOut)\n",
    "# arcpy.RasterToPolygon_conversion(out_raster, \"point_density_0p5mi\", \"NO_SIMPLIFY\", \"VALUE\")\n",
    "\n",
    "# pdensOut = PointDensity(\"SBC_Buildings_Pts\", \"NONE\", 200, NbrCircle(15840, \"MAP\"))\n",
    "# out_raster = arcpy.ia.Int(pdensOut)\n",
    "# arcpy.RasterToPolygon_conversion(out_raster, \"point_density_3mi\", \"NO_SIMPLIFY\", \"VALUE\")\n",
    "\n",
    "# arcpy.ClearWorkspaceCache_management()\n",
    "# del pdensOut\n",
    "# del out_raster\n",
    "\n",
    "# dir_path = os.path.join(THIS_FOLDER, \"out_data/dense_dev\")\n",
    "# shutil.rmtree(dir_path)\n",
    "# os.mkdir(dir_path)\n",
    "\n",
    "\n",
    "# arcpy.conversion.FeatureClassToShapefile(\"point_density_1000ft\", \n",
    "#                                         os.path.join(THIS_FOLDER, \"out_data/dense_dev\"))\n",
    "\n",
    "# arcpy.conversion.FeatureClassToShapefile(\"point_density_0p5mi\", \n",
    "#                                         os.path.join(THIS_FOLDER, \"out_data/dense_dev\"))\n",
    "\n",
    "# arcpy.conversion.FeatureClassToShapefile(\"point_density_3mi\", \n",
    "#                                         os.path.join(THIS_FOLDER, \"out_data/dense_dev\"))"
   ]
  },
  {
   "cell_type": "code",
   "execution_count": 9,
   "metadata": {},
   "outputs": [],
   "source": [
    "gdf = gpd.read_file(os.path.join(THIS_FOLDER, \"in_data/SBC_Parcels.shp\"))"
   ]
  },
  {
   "cell_type": "markdown",
   "metadata": {},
   "source": [
    "Land Value, Land Use Type, Year Built, Acreage, Land Value, Sq Footage, Bathrooms, Ag Presence"
   ]
  },
  {
   "cell_type": "code",
   "execution_count": 10,
   "metadata": {},
   "outputs": [
    {
     "name": "stdout",
     "output_type": "stream",
     "text": [
      "<class 'geopandas.geodataframe.GeoDataFrame'>\n",
      "RangeIndex: 132479 entries, 0 to 132478\n",
      "Data columns (total 89 columns):\n",
      " #   Column      Non-Null Count   Dtype   \n",
      "---  ------      --------------   -----   \n",
      " 0   apn         132479 non-null  object  \n",
      " 1   layer       132479 non-null  object  \n",
      " 2   situs1      122560 non-null  object  \n",
      " 3   situs2      122558 non-null  object  \n",
      " 4   acreage     132479 non-null  float64 \n",
      " 5   landuse     131568 non-null  object  \n",
      " 6   usecode     131754 non-null  object  \n",
      " 7   tra         131754 non-null  object  \n",
      " 8   docnum      118501 non-null  object  \n",
      " 9   docdate     132479 non-null  object  \n",
      " 10  pcttransf   132479 non-null  float64 \n",
      " 11  valreason   131537 non-null  object  \n",
      " 12  nontaxcode  9101 non-null    object  \n",
      " 13  sbeno       420 non-null     object  \n",
      " 14  agpres      2174 non-null    object  \n",
      " 15  landvalue   132479 non-null  int64   \n",
      " 16  strimpr     132479 non-null  int64   \n",
      " 17  tradefix    132479 non-null  int64   \n",
      " 18  livimpr     132479 non-null  int64   \n",
      " 19  perpropdec  132479 non-null  int64   \n",
      " 20  perspropun  132479 non-null  int64   \n",
      " 21  mobilehome  132479 non-null  int64   \n",
      " 22  exemptions  132479 non-null  int64   \n",
      " 23  exempcode   1835 non-null    object  \n",
      " 24  homeowex    132479 non-null  int64   \n",
      " 25  netsecval   132479 non-null  int64   \n",
      " 26  net_impr    132479 non-null  int64   \n",
      " 27  net_pers    132479 non-null  int64   \n",
      " 28  net_unx     132479 non-null  float64 \n",
      " 29  net_av      132479 non-null  float64 \n",
      " 30  mailx1      6684 non-null    object  \n",
      " 31  mailx2      2647 non-null    object  \n",
      " 32  mnumber     118445 non-null  object  \n",
      " 33  mfrac       221 non-null     object  \n",
      " 34  mdir        29346 non-null   object  \n",
      " 35  mstreet     118736 non-null  object  \n",
      " 36  mstrsuffix  94799 non-null   object  \n",
      " 37  munittype   12150 non-null   object  \n",
      " 38  munitnumb   17244 non-null   object  \n",
      " 39  pobox       10759 non-null   object  \n",
      " 40  mcity       129603 non-null  object  \n",
      " 41  mzip        129514 non-null  object  \n",
      " 42  mzipext     8834 non-null    object  \n",
      " 43  mstate      129581 non-null  object  \n",
      " 44  country     105 non-null     object  \n",
      " 45  snum        121845 non-null  object  \n",
      " 46  sfra        187 non-null     object  \n",
      " 47  sdir        35721 non-null   object  \n",
      " 48  sstreet     122556 non-null  object  \n",
      " 49  sstreetsuf  109873 non-null  object  \n",
      " 50  sunittype   2228 non-null    object  \n",
      " 51  sunitnumb   16133 non-null   object  \n",
      " 52  scity       122558 non-null  object  \n",
      " 53  szip        122180 non-null  object  \n",
      " 54  szipext     3795 non-null    object  \n",
      " 55  m_address1  129506 non-null  object  \n",
      " 56  m_address2  129608 non-null  object  \n",
      " 57  asmrollid   132479 non-null  int64   \n",
      " 58  apn9        131755 non-null  object  \n",
      " 59  propid      131755 non-null  object  \n",
      " 60  sqfootage   132479 non-null  int64   \n",
      " 61  yearbuilt   100420 non-null  object  \n",
      " 62  bedrooms    132479 non-null  int64   \n",
      " 63  bathrooms   132479 non-null  float64 \n",
      " 64  taxbill     131755 non-null  object  \n",
      " 65  permit      0 non-null       object  \n",
      " 66  bkpglnk     131755 non-null  object  \n",
      " 67  gen_inquir  131755 non-null  object  \n",
      " 68  web_link    131755 non-null  object  \n",
      " 69  maptype     95757 non-null   object  \n",
      " 70  recmapnum   67309 non-null   object  \n",
      " 71  tractname   59608 non-null   object  \n",
      " 72  recmapbook  93680 non-null   object  \n",
      " 73  recmapdate  132479 non-null  object  \n",
      " 74  blocksecti  15863 non-null   object  \n",
      " 75  lotnum      94221 non-null   object  \n",
      " 76  unitnum     12523 non-null   object  \n",
      " 77  cbiinputs_  132479 non-null  float64 \n",
      " 78  areaunit    0 non-null       object  \n",
      " 79  recdatetim  132479 non-null  object  \n",
      " 80  recuserid   132479 non-null  int64   \n",
      " 81  recuserlog  0 non-null       object  \n",
      " 82  section     132479 non-null  int64   \n",
      " 83  township    132479 non-null  int64   \n",
      " 84  range       132479 non-null  int64   \n",
      " 85  shape_leng  132479 non-null  float64 \n",
      " 86  shape_Le_1  132479 non-null  float64 \n",
      " 87  shape_Area  132479 non-null  float64 \n",
      " 88  geometry    132479 non-null  geometry\n",
      "dtypes: float64(9), geometry(1), int64(19), object(60)\n",
      "memory usage: 90.0+ MB\n"
     ]
    }
   ],
   "source": [
    "gdf.info()"
   ]
  },
  {
   "cell_type": "code",
   "execution_count": 15,
   "metadata": {},
   "outputs": [
    {
     "name": "stdout",
     "output_type": "stream",
     "text": [
      "['SINGLE FAMILY RESIDENCE' 'PASTURE OF GRAZING, DRY'\n",
      " 'TRUCK CROPS-IRRIGATED' 'MISCELLANEOUS' 'RECREATION'\n",
      " 'FIELD CROPS-IRRIGATED' 'UTILITY,WATER COMPANY' 'RIVERS AND LAKES'\n",
      " 'IRRIGATED FARMS, MISC' 'RECREATIONAL OPEN (MISC)'\n",
      " 'RANCHO ESTATES (RURAL HOME SITES)' 'COMMERCIAL (MISC)' 'VACANT' None\n",
      " 'LIGHT MANUFACTURING' 'SCHOOLS' 'APARTMENTS, 5 OR MORE UNITS'\n",
      " 'CHURCHES, RECTORY' 'WAREHOUSING' 'OTHER FOOD PROCESSING, BAKERIES'\n",
      " 'INDUSTRIAL, MISC' 'AUTO SALES, REPAIR, STORAGE, CAR WASH, ETC'\n",
      " 'INDUSTRIAL CONDOS,PUDS' 'FIELD CROPS, DRY' 'CONDOS,COMMUNITY APT PROJS'\n",
      " 'ORCHARDS, IRRIGATED' 'BEACHES, SAND DUNES' 'VINEYARDS'\n",
      " 'DRY FARMS (MISC)' 'RESIDENTIAL INCOME, 2-4 UNITS'\n",
      " 'OFFICE BUILDINGS, SINGLE STORY' 'RIGHTS OF WAY,SEWER,LAND FILLS,ETC'\n",
      " 'HORSES' 'PARKS' 'FLOWERS' 'NURSERIES,GREENHOUSES' 'WATER RIGHTS,PUMPS'\n",
      " 'CAMPS, CABINS' 'OFFICE BUILDINGS, MULTI-STORY' 'HOTELS'\n",
      " 'MOBILE HOME PARKS' 'SERVICE STATIONS' 'BANKS, S&LS'\n",
      " 'SHOPPING CENTERS (NEIGHBORHOOD)' 'HIGHWAYS AND STREETS'\n",
      " 'PETROLEUM AND GAS' 'PIPELINES,CANALS' 'PASTURE-IRRIGATED'\n",
      " 'INSTITUTIONAL (MISC)' 'RETAIL STORES, SINGLE STORY' 'PARKING LOTS'\n",
      " 'RESTAURANTS,BARS' 'MIXED USE-COMMERCIAL/RESIDENTIAL'\n",
      " 'LUMBER YARDS, MILLS' 'SUPERMARKETS' 'STORE AND OFFICE COMBINATION'\n",
      " 'CLUBS, LODGE HALLS' 'REST HOMES' 'HOSPITALS'\n",
      " 'VINES AND BUSH FRUIT-IRRIGATED'\n",
      " 'PUBLIC BLDGS,FIREHOUSES,MUSEUMS,POST OFFICES,ETC' 'GOLF COURSES'\n",
      " 'BED AND BREAKFAST' 'PACKING PLANTS' 'MORTUARIES,CEMETERIES,MAUSOLEUMS'\n",
      " 'RACE TRACKS, RIDING STABLES' 'PROFESSIONAL BUILDINGS' 'COLLEGES'\n",
      " 'WHOLESALE LAUNDRY' 'MINERAL PROCESSING' 'DAY CARE'\n",
      " 'OPEN STORAGE, BULK PLANT' 'AUDITORIUMS, STADIUMS'\n",
      " 'COMMERCIAL AND OFFICE CONDOS,PUDS' 'DANCE HALLS' 'DEPARTMENT STORES'\n",
      " 'MOBILE HOMES' 'SHOPPING CENTERS (REGIONAL)' 'WASTE' 'ORCHARDS'\n",
      " 'TREE FARMS' 'BOWLING ALLEYS' 'HEAVY INDUSTRY' 'MINING'\n",
      " 'DRIVE-IN THEATRES' 'FEED LOTS' 'DAIRIES' 'POULTRY']\n"
     ]
    }
   ],
   "source": [
    "print(gdf['landuse'].unique())"
   ]
  },
  {
   "cell_type": "code",
   "execution_count": 38,
   "metadata": {},
   "outputs": [
    {
     "name": "stdout",
     "output_type": "stream",
     "text": [
      "['OBJECTID', 'Shape', 'Id', 'gridcode', 'Shape_Length', 'Shape_Area']\n"
     ]
    }
   ],
   "source": [
    "field_names = [f.name for f in arcpy.ListFields(\"point_density_1000ft\")]\n",
    "print(field_names)"
   ]
  },
  {
   "cell_type": "code",
   "execution_count": 10,
   "metadata": {},
   "outputs": [],
   "source": []
  },
  {
   "cell_type": "code",
   "execution_count": 11,
   "metadata": {},
   "outputs": [
    {
     "name": "stdout",
     "output_type": "stream",
     "text": [
      "<class 'geopandas.geodataframe.GeoDataFrame'>\n",
      "RangeIndex: 132479 entries, 0 to 132478\n",
      "Data columns (total 89 columns):\n",
      " #   Column      Non-Null Count   Dtype   \n",
      "---  ------      --------------   -----   \n",
      " 0   apn         132479 non-null  object  \n",
      " 1   layer       132479 non-null  object  \n",
      " 2   situs1      122560 non-null  object  \n",
      " 3   situs2      122558 non-null  object  \n",
      " 4   acreage     132479 non-null  float64 \n",
      " 5   landuse     131568 non-null  object  \n",
      " 6   usecode     131754 non-null  object  \n",
      " 7   tra         131754 non-null  object  \n",
      " 8   docnum      118501 non-null  object  \n",
      " 9   docdate     132479 non-null  object  \n",
      " 10  pcttransf   132479 non-null  float64 \n",
      " 11  valreason   131537 non-null  object  \n",
      " 12  nontaxcode  9101 non-null    object  \n",
      " 13  sbeno       420 non-null     object  \n",
      " 14  agpres      2174 non-null    object  \n",
      " 15  landvalue   132479 non-null  int64   \n",
      " 16  strimpr     132479 non-null  int64   \n",
      " 17  tradefix    132479 non-null  int64   \n",
      " 18  livimpr     132479 non-null  int64   \n",
      " 19  perpropdec  132479 non-null  int64   \n",
      " 20  perspropun  132479 non-null  int64   \n",
      " 21  mobilehome  132479 non-null  int64   \n",
      " 22  exemptions  132479 non-null  int64   \n",
      " 23  exempcode   1835 non-null    object  \n",
      " 24  homeowex    132479 non-null  int64   \n",
      " 25  netsecval   132479 non-null  int64   \n",
      " 26  net_impr    132479 non-null  int64   \n",
      " 27  net_pers    132479 non-null  int64   \n",
      " 28  net_unx     132479 non-null  float64 \n",
      " 29  net_av      132479 non-null  float64 \n",
      " 30  mailx1      6684 non-null    object  \n",
      " 31  mailx2      2647 non-null    object  \n",
      " 32  mnumber     118445 non-null  object  \n",
      " 33  mfrac       221 non-null     object  \n",
      " 34  mdir        29346 non-null   object  \n",
      " 35  mstreet     118736 non-null  object  \n",
      " 36  mstrsuffix  94799 non-null   object  \n",
      " 37  munittype   12150 non-null   object  \n",
      " 38  munitnumb   17244 non-null   object  \n",
      " 39  pobox       10759 non-null   object  \n",
      " 40  mcity       129603 non-null  object  \n",
      " 41  mzip        129514 non-null  object  \n",
      " 42  mzipext     8834 non-null    object  \n",
      " 43  mstate      129581 non-null  object  \n",
      " 44  country     105 non-null     object  \n",
      " 45  snum        121845 non-null  object  \n",
      " 46  sfra        187 non-null     object  \n",
      " 47  sdir        35721 non-null   object  \n",
      " 48  sstreet     122556 non-null  object  \n",
      " 49  sstreetsuf  109873 non-null  object  \n",
      " 50  sunittype   2228 non-null    object  \n",
      " 51  sunitnumb   16133 non-null   object  \n",
      " 52  scity       122558 non-null  object  \n",
      " 53  szip        122180 non-null  object  \n",
      " 54  szipext     3795 non-null    object  \n",
      " 55  m_address1  129506 non-null  object  \n",
      " 56  m_address2  129608 non-null  object  \n",
      " 57  asmrollid   132479 non-null  int64   \n",
      " 58  apn9        131755 non-null  object  \n",
      " 59  propid      131755 non-null  object  \n",
      " 60  sqfootage   132479 non-null  int64   \n",
      " 61  yearbuilt   100420 non-null  object  \n",
      " 62  bedrooms    132479 non-null  int64   \n",
      " 63  bathrooms   132479 non-null  float64 \n",
      " 64  taxbill     131755 non-null  object  \n",
      " 65  permit      0 non-null       object  \n",
      " 66  bkpglnk     131755 non-null  object  \n",
      " 67  gen_inquir  131755 non-null  object  \n",
      " 68  web_link    131755 non-null  object  \n",
      " 69  maptype     95757 non-null   object  \n",
      " 70  recmapnum   67309 non-null   object  \n",
      " 71  tractname   59608 non-null   object  \n",
      " 72  recmapbook  93680 non-null   object  \n",
      " 73  recmapdate  132479 non-null  object  \n",
      " 74  blocksecti  15863 non-null   object  \n",
      " 75  lotnum      94221 non-null   object  \n",
      " 76  unitnum     12523 non-null   object  \n",
      " 77  cbiinputs_  132479 non-null  float64 \n",
      " 78  areaunit    0 non-null       object  \n",
      " 79  recdatetim  132479 non-null  object  \n",
      " 80  recuserid   132479 non-null  int64   \n",
      " 81  recuserlog  0 non-null       object  \n",
      " 82  section     132479 non-null  int64   \n",
      " 83  township    132479 non-null  int64   \n",
      " 84  range       132479 non-null  int64   \n",
      " 85  shape_leng  132479 non-null  float64 \n",
      " 86  shape_Le_1  132479 non-null  float64 \n",
      " 87  shape_Area  132479 non-null  float64 \n",
      " 88  geometry    132479 non-null  geometry\n",
      "dtypes: float64(9), geometry(1), int64(19), object(60)\n",
      "memory usage: 90.0+ MB\n"
     ]
    }
   ],
   "source": []
  },
  {
   "cell_type": "code",
   "execution_count": 19,
   "metadata": {},
   "outputs": [],
   "source": [
    "gdf[\"int_yr_blt\"] = pd.to_numeric(gdf['yearbuilt'], downcast='integer')\n",
    "gdf = gdf[gdf[\"int_yr_blt\"] > 1900]"
   ]
  },
  {
   "cell_type": "code",
   "execution_count": 20,
   "metadata": {},
   "outputs": [],
   "source": [
    "gdf.to_file(driver = 'ESRI Shapefile', filename= \"out_data/final/Year_Built2.shp\")"
   ]
  },
  {
   "cell_type": "code",
   "execution_count": 21,
   "metadata": {},
   "outputs": [],
   "source": [
    "arcpy.ResetEnvironments()\n",
    "gdb_name = \"Year_Built.gdb\"\n",
    "arcpy.env.overwriteOutput = True\n",
    "path = os.path.join(THIS_FOLDER, gdb_name)\n",
    "# arcpy.CreateFileGDB_management(\"./\", gdb_name)\n",
    "arcpy.env.workspace = path\n",
    "arcpy.env.scratchWorkspace = path"
   ]
  },
  {
   "cell_type": "code",
   "execution_count": 25,
   "metadata": {},
   "outputs": [
    {
     "data": {
      "text/html": [
       "<h2>Output</h2>C:\\Users\\zrcan\\Documents\\GitHub\\RPP-SBC-EEMS\\Year_Built.gdb\\Final_EEMS_Output_rpj<h2>Messages</h2>Start Time: Tuesday, April 27, 2021 9:52:32 AM<br/>Succeeded at Tuesday, April 27, 2021 9:52:34 AM (Elapsed Time: 2.42 seconds)<br/><style>.rendered_html td, .rendered_html th {text-align: left;}.rendered_html tbody {border: 1px solid black;}</style>"
      ],
      "text/plain": [
       "<Result 'C:\\\\Users\\\\zrcan\\\\Documents\\\\GitHub\\\\RPP-SBC-EEMS\\\\Year_Built.gdb\\\\Final_EEMS_Output_rpj'>"
      ]
     },
     "execution_count": 25,
     "metadata": {},
     "output_type": "execute_result"
    }
   ],
   "source": [
    "path = os.path.join(THIS_FOLDER, \"out_data/final/Year_Built2.shp\")\n",
    "arcpy.CopyFeatures_management(path, \"Year_Built\")\n",
    "crs = arcpy.SpatialReference('NAD 1983 StatePlane California V FIPS 0405 (US Feet)')\n",
    "arcpy.Project_management(\"Year_Built\", \"Year_Built_rpj\", crs)\n",
    "\n",
    "path = os.path.join(THIS_FOLDER, \"out_data/final/Final_EEMS_Output.shp\")\n",
    "arcpy.CopyFeatures_management(path, \"Final_EEMS_Output\")\n",
    "crs = arcpy.SpatialReference('NAD 1983 StatePlane California V FIPS 0405 (US Feet)')\n",
    "arcpy.Project_management(\"Final_EEMS_Output\", \"Final_EEMS_Output_rpj\", crs)"
   ]
  },
  {
   "cell_type": "code",
   "execution_count": 26,
   "metadata": {},
   "outputs": [
    {
     "name": "stdout",
     "output_type": "stream",
     "text": [
      "['OBJECTID', 'Shape', 'apn', 'layer', 'situs1', 'situs2', 'acreage', 'landuse', 'usecode', 'tra', 'docnum', 'docdate', 'pcttransf', 'valreason', 'nontaxcode', 'sbeno', 'agpres', 'landvalue', 'strimpr', 'tradefix', 'livimpr', 'perpropdec', 'perspropun', 'mobilehome', 'exemptions', 'exempcode', 'homeowex', 'netsecval', 'net_impr', 'net_pers', 'net_unx', 'net_av', 'mailx1', 'mailx2', 'mnumber', 'mfrac', 'mdir', 'mstreet', 'mstrsuffix', 'munittype', 'munitnumb', 'pobox', 'mcity', 'mzip', 'mzipext', 'mstate', 'country', 'snum', 'sfra', 'sdir', 'sstreet', 'sstreetsuf', 'sunittype', 'sunitnumb', 'scity', 'szip', 'szipext', 'm_address1', 'm_address2', 'asmrollid', 'apn9', 'propid', 'sqfootage', 'yearbuilt', 'bedrooms', 'bathrooms', 'taxbill', 'permit', 'bkpglnk', 'gen_inquir', 'web_link', 'maptype', 'recmapnum', 'tractname', 'recmapbook', 'recmapdate', 'blocksecti', 'lotnum', 'unitnum', 'cbiinputs_', 'areaunit', 'recdatetim', 'recuserid', 'recuserlog', 'section', 'township', 'range', 'shape_leng', 'shape_Le_1', 'int_yr_blt', 'Shape_Length', 'Shape_Area']\n"
     ]
    }
   ],
   "source": [
    "field_names = [f.name for f in arcpy.ListFields(\"Year_Built_rpj\")]\n",
    "print(field_names)"
   ]
  },
  {
   "cell_type": "code",
   "execution_count": 27,
   "metadata": {},
   "outputs": [
    {
     "data": {
      "text/html": [
       "<h2>Output</h2><table><tr><th>id</th><th>value</th></tr><tr><td>0</td><td>C:\\Users\\zrcan\\Documents\\GitHub\\RPP-SBC-EEMS\\Year_Built.gdb\\EEMS_WYRBUILT</td></tr><tr><td>1</td><td></td></tr></table><h2>Messages</h2>Start Time: Tuesday, April 27, 2021 9:52:35 AM<br/>Succeeded at Tuesday, April 27, 2021 9:53:16 AM (Elapsed Time: 41.06 seconds)<br/><style>.rendered_html td, .rendered_html th {text-align: left;}.rendered_html tbody {border: 1px solid black;}</style>"
      ],
      "text/plain": [
       "<Result 'C:\\\\Users\\\\zrcan\\\\Documents\\\\GitHub\\\\RPP-SBC-EEMS\\\\Year_Built.gdb\\\\EEMS_WYRBUILT'>"
      ]
     },
     "execution_count": 27,
     "metadata": {},
     "output_type": "execute_result"
    }
   ],
   "source": [
    "arcpy.analysis.SummarizeWithin(\"Final_EEMS_Output_rpj\", \"Year_Built_rpj\", \n",
    "                               \"EEMS_WYRBUILT\", \"KEEP_ALL\", \"int_yr_blt Mean\", \n",
    "                               \"NO_SHAPE_SUM\", \"SQUAREKILOMETERS\", None, \"NO_MIN_MAJ\", \"NO_PERCENT\", None)"
   ]
  },
  {
   "cell_type": "code",
   "execution_count": null,
   "metadata": {},
   "outputs": [],
   "source": []
  }
 ],
 "metadata": {
  "kernelspec": {
   "display_name": "Python 3",
   "language": "python",
   "name": "python3"
  },
  "language_info": {
   "codemirror_mode": {
    "name": "ipython",
    "version": 3
   },
   "file_extension": ".py",
   "mimetype": "text/x-python",
   "name": "python",
   "nbconvert_exporter": "python",
   "pygments_lexer": "ipython3",
   "version": "3.7.9"
  }
 },
 "nbformat": 4,
 "nbformat_minor": 4
}
