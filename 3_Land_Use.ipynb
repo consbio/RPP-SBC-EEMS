{
 "cells": [
  {
   "cell_type": "code",
   "execution_count": 6,
   "metadata": {},
   "outputs": [],
   "source": [
    "import pandas as pd\n",
    "import geopandas as gpd\n",
    "import arcpy\n",
    "import os\n",
    "import shutil\n",
    "import math\n",
    "import inspect\n",
    "\n",
    "src_file_path = inspect.getfile(lambda: None)\n",
    "THIS_FOLDER = os.path.dirname(os.path.abspath(src_file_path))"
   ]
  },
  {
   "cell_type": "markdown",
   "metadata": {},
   "source": [
    "**Load the initial layers**"
   ]
  },
  {
   "cell_type": "code",
   "execution_count": 9,
   "metadata": {},
   "outputs": [],
   "source": [
    "arcpy.ResetEnvironments()\n",
    "gdb_name = \"Land_Use.gdb\"\n",
    "arcpy.env.overwriteOutput = True\n",
    "path = os.path.join(THIS_FOLDER, gdb_name)\n",
    "# arcpy.CreateFileGDB_management(\"./\", gdb_name)\n",
    "arcpy.env.workspace = path\n",
    "arcpy.env.scratchWorkspace = path"
   ]
  },
  {
   "cell_type": "code",
   "execution_count": 10,
   "metadata": {},
   "outputs": [],
   "source": [
    "crs = arcpy.SpatialReference('NAD 1983 StatePlane California V FIPS 0405 (US Feet)')\n",
    "\n",
    "in_data = [\"SBC_Parcels\", \"SBC_Ag\", \"SBC_Lakes\", \"SBC_Desert\", \"SBC_Golf\"]\n",
    "\n",
    "for sf in in_data:\n",
    "    path = os.path.join(THIS_FOLDER, \"in_data/{}.shp\".format(sf))\n",
    "    arcpy.CopyFeatures_management(path, sf)\n",
    "    arcpy.Project_management(sf, \"{}_rpj\".format(sf), crs)"
   ]
  },
  {
   "cell_type": "markdown",
   "metadata": {},
   "source": [
    "**We are only interested in large lakes (>10 acres)**"
   ]
  },
  {
   "cell_type": "code",
   "execution_count": 11,
   "metadata": {},
   "outputs": [
    {
     "data": {
      "text/html": [
       "<h2>Output</h2>C:\\Users\\zrcan\\Documents\\GitHub\\RPP-SBC-EEMS\\Land_Use.gdb\\Lg_Lakes<h2>Messages</h2>Start Time: Friday, May 7, 2021 1:50:58 PM<br/>Succeeded at Friday, May 7, 2021 1:50:59 PM (Elapsed Time: 1.04 seconds)<br/><style>.rendered_html td, .rendered_html th {text-align: left;}.rendered_html tbody {border: 1px solid black;}</style>"
      ],
      "text/plain": [
       "<Result 'C:\\\\Users\\\\zrcan\\\\Documents\\\\GitHub\\\\RPP-SBC-EEMS\\\\Land_Use.gdb\\\\Lg_Lakes'>"
      ]
     },
     "execution_count": 11,
     "metadata": {},
     "output_type": "execute_result"
    }
   ],
   "source": [
    "selection = arcpy.management.SelectLayerByAttribute(\"SBC_Lakes_rpj\", \"NEW_SELECTION\", \"Shape_Area > 435600\", None)\n",
    "arcpy.CopyFeatures_management(selection, \"Lg_Lakes\")"
   ]
  },
  {
   "cell_type": "markdown",
   "metadata": {},
   "source": [
    "**Now we merge the land-use categories together and set the fields accordingly**"
   ]
  },
  {
   "cell_type": "code",
   "execution_count": 12,
   "metadata": {},
   "outputs": [
    {
     "data": {
      "text/html": [
       "<h2>Output</h2>C:\\Users\\zrcan\\Documents\\GitHub\\RPP-SBC-EEMS\\Land_Use.gdb\\LU_merged<h2>Messages</h2>Start Time: Friday, May 7, 2021 1:51:00 PM<br/>Succeeded at Friday, May 7, 2021 1:51:02 PM (Elapsed Time: 1.44 seconds)<br/><style>.rendered_html td, .rendered_html th {text-align: left;}.rendered_html tbody {border: 1px solid black;}</style>"
      ],
      "text/plain": [
       "<Result 'C:\\\\Users\\\\zrcan\\\\Documents\\\\GitHub\\\\RPP-SBC-EEMS\\\\Land_Use.gdb\\\\LU_merged'>"
      ]
     },
     "execution_count": 12,
     "metadata": {},
     "output_type": "execute_result"
    }
   ],
   "source": [
    "lu_cats = [\"SBC_Ag_rpj\", \"Lg_Lakes\", \"SBC_Desert_rpj\", \"SBC_Golf_rpj\"]\n",
    "\n",
    "arcpy.Merge_management(lu_cats, \"LU_merged\")"
   ]
  },
  {
   "cell_type": "code",
   "execution_count": 13,
   "metadata": {},
   "outputs": [
    {
     "data": {
      "text/html": [
       "<h2>Output</h2>C:\\Users\\zrcan\\Documents\\GitHub\\RPP-SBC-EEMS\\Land_Use.gdb\\LU_merged<h2>Messages</h2>Start Time: Friday, May 7, 2021 1:51:10 PM<br/>Succeeded at Friday, May 7, 2021 1:51:29 PM (Elapsed Time: 19.20 seconds)<br/><style>.rendered_html td, .rendered_html th {text-align: left;}.rendered_html tbody {border: 1px solid black;}</style>"
      ],
      "text/plain": [
       "<Result 'C:\\\\Users\\\\zrcan\\\\Documents\\\\GitHub\\\\RPP-SBC-EEMS\\\\Land_Use.gdb\\\\LU_merged'>"
      ]
     },
     "execution_count": 13,
     "metadata": {},
     "output_type": "execute_result"
    }
   ],
   "source": [
    "arcpy.AddField_management(\"LU_merged\", \"golf\", \"LONG\")\n",
    "arcpy.AddField_management(\"LU_merged\", \"ag\", \"LONG\")\n",
    "arcpy.AddField_management(\"LU_merged\", \"lake\", \"LONG\")\n",
    "arcpy.AddField_management(\"LU_merged\", \"desert\", \"LONG\")\n",
    "\n",
    "codeblock = \"\"\"\n",
    "def getClass(a):\n",
    "    if a is None:\n",
    "        return 0\n",
    "    else:\n",
    "        return 1\n",
    "\"\"\"\n",
    "\n",
    "arcpy.CalculateField_management(\"LU_merged\",  \"golf\", \"getClass(!apn!)\", \"PYTHON3\", codeblock)\n",
    "arcpy.CalculateField_management(\"LU_merged\",  \"ag\", \"getClass(!CropCatego!)\", \"PYTHON3\", codeblock)\n",
    "arcpy.CalculateField_management(\"LU_merged\",  \"lake\", \"getClass(!WETLAND_TY!)\", \"PYTHON3\", codeblock)\n",
    "arcpy.CalculateField_management(\"LU_merged\",  \"desert\", \"getClass(!WHRTYPE!)\", \"PYTHON3\", codeblock)\n",
    "\n",
    "\n",
    "FCfields = [f.name for f in arcpy.ListFields(\"LU_merged\")]\n",
    "DontDeleteFields = ['Shape_Length', 'Shape_Area', 'OBJECTID', 'OBJECTID_1', 'Shape', \"golf\", \"ag\", \"lake\", \"desert\"]\n",
    "fields2Delete = list(set(FCfields) - set(DontDeleteFields))\n",
    "arcpy.DeleteField_management(\"LU_merged\", fields2Delete)"
   ]
  },
  {
   "cell_type": "markdown",
   "metadata": {},
   "source": [
    "**Create a single field to specify land-use category (1=ag, 2=desert, 3=lglake, 4=golf, 0=everything else)**"
   ]
  },
  {
   "cell_type": "code",
   "execution_count": 15,
   "metadata": {},
   "outputs": [
    {
     "data": {
      "text/html": [
       "<h2>Output</h2>C:\\Users\\zrcan\\Documents\\GitHub\\RPP-SBC-EEMS\\Land_Use.gdb\\LU_merged<h2>Messages</h2>Start Time: Friday, May 7, 2021 1:51:47 PM<br/>Succeeded at Friday, May 7, 2021 1:51:48 PM (Elapsed Time: 0.71 seconds)<br/><style>.rendered_html td, .rendered_html th {text-align: left;}.rendered_html tbody {border: 1px solid black;}</style>"
      ],
      "text/plain": [
       "<Result 'C:\\\\Users\\\\zrcan\\\\Documents\\\\GitHub\\\\RPP-SBC-EEMS\\\\Land_Use.gdb\\\\LU_merged'>"
      ]
     },
     "execution_count": 15,
     "metadata": {},
     "output_type": "execute_result"
    }
   ],
   "source": [
    "arcpy.AddField_management(\"LU_merged\", \"LU_Cat\", \"LONG\")\n",
    "\n",
    "expression = \"getClass(!golf!, !ag!, !lake!, !desert!)\"\n",
    "\n",
    "codeblock = \"\"\"\n",
    "def getClass(g, a, l, d):\n",
    "    if a == 1:\n",
    "        return 1\n",
    "    elif d == 1:\n",
    "        return 2\n",
    "    elif l == 1:\n",
    "        return 3\n",
    "    elif g == 1:\n",
    "        return 4\n",
    "    else:\n",
    "        return 0\n",
    "\"\"\"\n",
    "\n",
    "arcpy.CalculateField_management(\"LU_merged\",  \"LU_Cat\", expression, \"PYTHON3\", codeblock)"
   ]
  },
  {
   "cell_type": "markdown",
   "metadata": {},
   "source": [
    "**Export the land-use category to out_data**"
   ]
  },
  {
   "cell_type": "code",
   "execution_count": 16,
   "metadata": {},
   "outputs": [
    {
     "data": {
      "text/html": [
       "<h2>Output</h2>C:\\Users\\zrcan\\Documents\\GitHub\\RPP-SBC-EEMS\\out_data\\lu<h2>Messages</h2>Start Time: Friday, May 7, 2021 1:51:50 PM<br/>C:\\Users\\zrcan\\Documents\\GitHub\\RPP-SBC-EEMS\\Land_Use.gdb\\LU_merged Successfully converted:  C:\\Users\\zrcan\\Documents\\GitHub\\RPP-SBC-EEMS\\out_data/lu\\LU_merged.shp<br/>Succeeded at Friday, May 7, 2021 1:51:51 PM (Elapsed Time: 1.46 seconds)<br/><style>.rendered_html td, .rendered_html th {text-align: left;}.rendered_html tbody {border: 1px solid black;}</style>"
      ],
      "text/plain": [
       "<Result 'C:\\\\Users\\\\zrcan\\\\Documents\\\\GitHub\\\\RPP-SBC-EEMS\\\\out_data\\\\lu'>"
      ]
     },
     "execution_count": 16,
     "metadata": {},
     "output_type": "execute_result"
    }
   ],
   "source": [
    "dir_path = os.path.join(THIS_FOLDER, \"out_data/lu\")\n",
    "shutil.rmtree(dir_path)\n",
    "os.mkdir(dir_path)\n",
    "\n",
    "arcpy.conversion.FeatureClassToShapefile(\"LU_merged\", \n",
    "                                        os.path.join(THIS_FOLDER, \"out_data/lu\"))"
   ]
  },
  {
   "cell_type": "code",
   "execution_count": null,
   "metadata": {},
   "outputs": [],
   "source": []
  },
  {
   "cell_type": "code",
   "execution_count": null,
   "metadata": {},
   "outputs": [],
   "source": []
  },
  {
   "cell_type": "code",
   "execution_count": null,
   "metadata": {},
   "outputs": [],
   "source": []
  }
 ],
 "metadata": {
  "kernelspec": {
   "display_name": "Python 3",
   "language": "python",
   "name": "python3"
  },
  "language_info": {
   "codemirror_mode": {
    "name": "ipython",
    "version": 3
   },
   "file_extension": ".py",
   "mimetype": "text/x-python",
   "name": "python",
   "nbconvert_exporter": "python",
   "pygments_lexer": "ipython3",
   "version": "3.7.9"
  }
 },
 "nbformat": 4,
 "nbformat_minor": 4
}
