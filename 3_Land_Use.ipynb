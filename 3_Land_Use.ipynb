{
 "cells": [
  {
   "cell_type": "code",
   "execution_count": 1,
   "metadata": {},
   "outputs": [],
   "source": [
    "import pandas as pd\n",
    "import geopandas as gpd\n",
    "import arcpy\n",
    "import os\n",
    "import shutil\n",
    "import math\n",
    "import inspect\n",
    "\n",
    "src_file_path = inspect.getfile(lambda: None)\n",
    "THIS_FOLDER = os.path.dirname(os.path.abspath(src_file_path))"
   ]
  },
  {
   "cell_type": "markdown",
   "metadata": {},
   "source": [
    "**Load the initial layers**"
   ]
  },
  {
   "cell_type": "code",
   "execution_count": 2,
   "metadata": {},
   "outputs": [],
   "source": [
    "arcpy.ResetEnvironments()\n",
    "gdb_name = \"Land_Use.gdb\"\n",
    "arcpy.env.overwriteOutput = True\n",
    "path = os.path.join(THIS_FOLDER, gdb_name)\n",
    "arcpy.CreateFileGDB_management(\"./\", gdb_name)\n",
    "arcpy.env.workspace = path\n",
    "arcpy.env.scratchWorkspace = path"
   ]
  },
  {
   "cell_type": "code",
   "execution_count": 3,
   "metadata": {},
   "outputs": [],
   "source": [
    "crs = arcpy.SpatialReference('NAD 1983 StatePlane California V FIPS 0405 (US Feet)')\n",
    "\n",
    "in_data = [\"SBC_Parcels\", \"SBC_Ag\", \"SBC_Lakes\", \"SBC_Desert\", \"SBC_Golf\", \"SBC_Rx_Grz\"]\n",
    "\n",
    "for sf in in_data:\n",
    "    path = os.path.join(THIS_FOLDER, \"in_data/{}.shp\".format(sf))\n",
    "    arcpy.CopyFeatures_management(path, sf)\n",
    "    arcpy.Project_management(sf, \"{}_rpj\".format(sf), crs)"
   ]
  },
  {
   "cell_type": "markdown",
   "metadata": {},
   "source": [
    "**We are only interested in large lakes (>10 acres)**"
   ]
  },
  {
   "cell_type": "code",
   "execution_count": 4,
   "metadata": {},
   "outputs": [
    {
     "data": {
      "text/html": [
       "<h2>Output</h2>C:\\Users\\zrcan\\Documents\\GitHub\\RPP-SBC-EEMS\\Land_Use.gdb\\Lg_Lakes<h2>Messages</h2>Start Time: Friday, April 30, 2021 9:17:50 AM<br/>Succeeded at Friday, April 30, 2021 9:17:51 AM (Elapsed Time: 0.84 seconds)<br/><style>.rendered_html td, .rendered_html th {text-align: left;}.rendered_html tbody {border: 1px solid black;}</style>"
      ],
      "text/plain": [
       "<Result 'C:\\\\Users\\\\zrcan\\\\Documents\\\\GitHub\\\\RPP-SBC-EEMS\\\\Land_Use.gdb\\\\Lg_Lakes'>"
      ]
     },
     "execution_count": 4,
     "metadata": {},
     "output_type": "execute_result"
    }
   ],
   "source": [
    "selection = arcpy.management.SelectLayerByAttribute(\"SBC_Lakes_rpj\", \"NEW_SELECTION\", \"Shape_Area > 435600\", None)\n",
    "arcpy.CopyFeatures_management(selection, \"Lg_Lakes\")"
   ]
  },
  {
   "cell_type": "markdown",
   "metadata": {},
   "source": [
    "**Now we merge the land-use categories together and set the fields accordingly**"
   ]
  },
  {
   "cell_type": "code",
   "execution_count": 5,
   "metadata": {},
   "outputs": [
    {
     "data": {
      "text/html": [
       "<h2>Output</h2>C:\\Users\\zrcan\\Documents\\GitHub\\RPP-SBC-EEMS\\Land_Use.gdb\\LU_merged<h2>Messages</h2>Start Time: Friday, April 30, 2021 9:17:52 AM<br/>Succeeded at Friday, April 30, 2021 9:17:54 AM (Elapsed Time: 2.59 seconds)<br/><style>.rendered_html td, .rendered_html th {text-align: left;}.rendered_html tbody {border: 1px solid black;}</style>"
      ],
      "text/plain": [
       "<Result 'C:\\\\Users\\\\zrcan\\\\Documents\\\\GitHub\\\\RPP-SBC-EEMS\\\\Land_Use.gdb\\\\LU_merged'>"
      ]
     },
     "execution_count": 5,
     "metadata": {},
     "output_type": "execute_result"
    }
   ],
   "source": [
    "lu_cats = [\"SBC_Ag_rpj\", \"Lg_Lakes\", \"SBC_Desert_rpj\", \"SBC_Golf_rpj\", \"SBC_Rx_Grz_rpj\"]\n",
    "\n",
    "arcpy.Merge_management(lu_cats, \"LU_merged\")"
   ]
  },
  {
   "cell_type": "code",
   "execution_count": 6,
   "metadata": {},
   "outputs": [
    {
     "data": {
      "text/html": [
       "<h2>Output</h2>C:\\Users\\zrcan\\Documents\\GitHub\\RPP-SBC-EEMS\\Land_Use.gdb\\LU_merged<h2>Messages</h2>Start Time: Friday, April 30, 2021 9:21:52 AM<br/>Succeeded at Friday, April 30, 2021 9:22:12 AM (Elapsed Time: 20.28 seconds)<br/><style>.rendered_html td, .rendered_html th {text-align: left;}.rendered_html tbody {border: 1px solid black;}</style>"
      ],
      "text/plain": [
       "<Result 'C:\\\\Users\\\\zrcan\\\\Documents\\\\GitHub\\\\RPP-SBC-EEMS\\\\Land_Use.gdb\\\\LU_merged'>"
      ]
     },
     "execution_count": 6,
     "metadata": {},
     "output_type": "execute_result"
    }
   ],
   "source": [
    "arcpy.AddField_management(\"LU_merged\", \"golf\", \"LONG\")\n",
    "arcpy.AddField_management(\"LU_merged\", \"ag\", \"LONG\")\n",
    "arcpy.AddField_management(\"LU_merged\", \"lake\", \"LONG\")\n",
    "arcpy.AddField_management(\"LU_merged\", \"desert\", \"LONG\")\n",
    "arcpy.AddField_management(\"LU_merged\", \"rx_grz\", \"LONG\")\n",
    "\n",
    "codeblock = \"\"\"\n",
    "def getClass(a):\n",
    "    if a is None:\n",
    "        return 0\n",
    "    else:\n",
    "        return 1\n",
    "\"\"\"\n",
    "\n",
    "arcpy.CalculateField_management(\"LU_merged\",  \"golf\", \"getClass(!apn!)\", \"PYTHON3\", codeblock)\n",
    "arcpy.CalculateField_management(\"LU_merged\",  \"ag\", \"getClass(!CropCatego!)\", \"PYTHON3\", codeblock)\n",
    "arcpy.CalculateField_management(\"LU_merged\",  \"lake\", \"getClass(!WETLAND_TY!)\", \"PYTHON3\", codeblock)\n",
    "arcpy.CalculateField_management(\"LU_merged\",  \"desert\", \"getClass(!WHRTYPE!)\", \"PYTHON3\", codeblock)\n",
    "arcpy.CalculateField_management(\"LU_merged\",  \"rx_grz\", \"getClass(!FolderPath!)\", \"PYTHON3\", codeblock)\n",
    "\n",
    "\n",
    "FCfields = [f.name for f in arcpy.ListFields(\"LU_merged\")]\n",
    "DontDeleteFields = ['Shape_Length', 'Shape_Area', 'OBJECTID', 'OBJECTID_1', 'Shape', \"golf\", \"ag\", \"lake\", \"desert\", \"rx_grz\"]\n",
    "fields2Delete = list(set(FCfields) - set(DontDeleteFields))\n",
    "arcpy.DeleteField_management(\"LU_merged\", fields2Delete)"
   ]
  },
  {
   "cell_type": "markdown",
   "metadata": {},
   "source": [
    "**Create a single field to specify land-use category (1=ag, 2=desert, 3=lglake, 4=golf, 0=everything else)**"
   ]
  },
  {
   "cell_type": "code",
   "execution_count": 7,
   "metadata": {},
   "outputs": [
    {
     "data": {
      "text/html": [
       "<h2>Output</h2>C:\\Users\\zrcan\\Documents\\GitHub\\RPP-SBC-EEMS\\Land_Use.gdb\\LU_merged<h2>Messages</h2>Start Time: Friday, April 30, 2021 9:22:19 AM<br/>Succeeded at Friday, April 30, 2021 9:22:20 AM (Elapsed Time: 0.70 seconds)<br/><style>.rendered_html td, .rendered_html th {text-align: left;}.rendered_html tbody {border: 1px solid black;}</style>"
      ],
      "text/plain": [
       "<Result 'C:\\\\Users\\\\zrcan\\\\Documents\\\\GitHub\\\\RPP-SBC-EEMS\\\\Land_Use.gdb\\\\LU_merged'>"
      ]
     },
     "execution_count": 7,
     "metadata": {},
     "output_type": "execute_result"
    }
   ],
   "source": [
    "arcpy.AddField_management(\"LU_merged\", \"LU_Cat\", \"LONG\")\n",
    "\n",
    "expression = \"getClass(!golf!, !ag!, !lake!, !desert!, !rx_grz!)\"\n",
    "\n",
    "codeblock = \"\"\"\n",
    "def getClass(g, a, l, d, r):\n",
    "    if a == 1:\n",
    "        return 1\n",
    "    elif d == 1:\n",
    "        return 2\n",
    "    elif l == 1:\n",
    "        return 3\n",
    "    elif g == 1:\n",
    "        return 4\n",
    "    elif r == 1:\n",
    "        return 5\n",
    "    else:\n",
    "        return 0\n",
    "\"\"\"\n",
    "\n",
    "arcpy.CalculateField_management(\"LU_merged\",  \"LU_Cat\", expression, \"PYTHON3\", codeblock)"
   ]
  },
  {
   "cell_type": "markdown",
   "metadata": {},
   "source": [
    "**Export the land-use category to out_data**"
   ]
  },
  {
   "cell_type": "code",
   "execution_count": 8,
   "metadata": {},
   "outputs": [
    {
     "data": {
      "text/html": [
       "<h2>Output</h2>C:\\Users\\zrcan\\Documents\\GitHub\\RPP-SBC-EEMS\\out_data\\lu<h2>Messages</h2>Start Time: Friday, April 30, 2021 9:22:30 AM<br/>C:\\Users\\zrcan\\Documents\\GitHub\\RPP-SBC-EEMS\\Land_Use.gdb\\LU_merged Successfully converted:  C:\\Users\\zrcan\\Documents\\GitHub\\RPP-SBC-EEMS\\out_data/lu\\LU_merged.shp<br/>Succeeded at Friday, April 30, 2021 9:22:32 AM (Elapsed Time: 1.81 seconds)<br/><style>.rendered_html td, .rendered_html th {text-align: left;}.rendered_html tbody {border: 1px solid black;}</style>"
      ],
      "text/plain": [
       "<Result 'C:\\\\Users\\\\zrcan\\\\Documents\\\\GitHub\\\\RPP-SBC-EEMS\\\\out_data\\\\lu'>"
      ]
     },
     "execution_count": 8,
     "metadata": {},
     "output_type": "execute_result"
    }
   ],
   "source": [
    "dir_path = os.path.join(THIS_FOLDER, \"out_data/lu\")\n",
    "shutil.rmtree(dir_path)\n",
    "os.mkdir(dir_path)\n",
    "\n",
    "arcpy.conversion.FeatureClassToShapefile(\"LU_merged\", \n",
    "                                        os.path.join(THIS_FOLDER, \"out_data/lu\"))"
   ]
  },
  {
   "cell_type": "code",
   "execution_count": null,
   "metadata": {},
   "outputs": [],
   "source": []
  },
  {
   "cell_type": "code",
   "execution_count": null,
   "metadata": {},
   "outputs": [],
   "source": []
  },
  {
   "cell_type": "code",
   "execution_count": null,
   "metadata": {},
   "outputs": [],
   "source": []
  }
 ],
 "metadata": {
  "kernelspec": {
   "display_name": "Python 3",
   "language": "python",
   "name": "python3"
  },
  "language_info": {
   "codemirror_mode": {
    "name": "ipython",
    "version": 3
   },
   "file_extension": ".py",
   "mimetype": "text/x-python",
   "name": "python",
   "nbconvert_exporter": "python",
   "pygments_lexer": "ipython3",
   "version": "3.7.9"
  }
 },
 "nbformat": 4,
 "nbformat_minor": 4
}
