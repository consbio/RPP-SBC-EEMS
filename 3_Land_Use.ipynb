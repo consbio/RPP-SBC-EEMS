{
 "cells": [
  {
   "cell_type": "code",
   "execution_count": 1,
   "metadata": {},
   "outputs": [],
   "source": [
    "import pandas as pd\n",
    "import geopandas as gpd\n",
    "import arcpy\n",
    "import os\n",
    "import shutil\n",
    "import math\n",
    "import inspect\n",
    "from yelpapi import YelpAPI\n",
    "import pprint\n",
    "\n",
    "yelp_api = YelpAPI(\"1TUPhIwjhhaG_ran5ng7KTMqHkYOA1tlIA8PUznpxrd2_Xojx1I0w8wGP7u_PRfDmyWKtHIUA8ScT-AEDidmQ19SSnfVz0ps94jlEvFVi-aiXMF__nz1eCIIrD-uXXYx\")\n",
    "src_file_path = inspect.getfile(lambda: None)\n",
    "THIS_FOLDER = os.path.dirname(os.path.abspath(src_file_path))"
   ]
  },
  {
   "cell_type": "markdown",
   "metadata": {},
   "source": [
    "# Summary\n",
    "\n",
    "This notebook creates the land-use layer. It creates a golf courses layer using a combination of the Yelp API and the SBC Parcels layer. It also preprocesses the land-use categories for use in the EEMS modeling process. These will likely be updated and added to as the modeling process moves forward.\n",
    "\n",
    "**Input Data Layers:**\n",
    "- [SBC Parcels](https://databasin.org/datasets/008da0ba3dc14be18aa3bcfd90dc9615/)\n",
    "- [SBC Agriculture](https://databasin.org/datasets/85876647b469495dbbde075274aaace1/)\n",
    "- [SBC Lakes](https://databasin.org/datasets/0278b9eedb6a4536b5cbb155956ee284/)\n",
    "- [SBC Desert](https://sbcblueprint.databasin.org/datasets/0b69c5ff46aa4f41820c2780d115c74e/)"
   ]
  },
  {
   "cell_type": "markdown",
   "metadata": {},
   "source": [
    "**The YelpAPI provides list of golf course points for Santa Barbara County, which were intersected with SBC Parcels to get golf courses in SBC. The process is not completely automated and does require you to double check that the correct parcels are indeed selected. This was QA/QC'd in ArcGIS with a satellite imagery basemap. While this notebook shows how to use the Yelp API, it ultimately uses the QA/QC'd golf course layer**"
   ]
  },
  {
   "cell_type": "code",
   "execution_count": 10,
   "metadata": {},
   "outputs": [],
   "source": [
    "response = yelp_api.search_query(categories='golf', location='Santa Barbara County, California', sort_by='rating', limit=50)\n",
    "\n",
    "names = []\n",
    "lats = []\n",
    "lons = []\n",
    "\n",
    "for v in response['businesses']:\n",
    "    lat = v['coordinates']['latitude']\n",
    "    lon = v['coordinates']['longitude']\n",
    "    name = v['name']\n",
    "    names.append(name)\n",
    "    lats.append(lat)\n",
    "    lons.append(lon)\n",
    "\n",
    "data = {'name': names,\n",
    "       'latitude': lats,\n",
    "       'longitude': lons} \n",
    "\n",
    "df = pd.DataFrame(data)\n",
    "# df.to_csv(\"out_data/lu/golf.csv\", index=False)"
   ]
  },
  {
   "cell_type": "markdown",
   "metadata": {},
   "source": [
    "**Load the initial layers**"
   ]
  },
  {
   "cell_type": "code",
   "execution_count": 11,
   "metadata": {},
   "outputs": [],
   "source": [
    "arcpy.ResetEnvironments()\n",
    "gdb_name = \"Land_Use.gdb\"\n",
    "arcpy.env.overwriteOutput = True\n",
    "path = os.path.join(THIS_FOLDER, gdb_name)\n",
    "arcpy.CreateFileGDB_management(\"./\", gdb_name)\n",
    "arcpy.env.workspace = path\n",
    "arcpy.env.scratchWorkspace = path"
   ]
  },
  {
   "cell_type": "code",
   "execution_count": 12,
   "metadata": {},
   "outputs": [],
   "source": [
    "crs = arcpy.SpatialReference('NAD 1983 StatePlane California V FIPS 0405 (US Feet)')\n",
    "\n",
    "in_data = [\"SBC_Parcels\", \"SBC_Ag\", \"SBC_Lakes\", \"SBC_Desert\", \"SBC_Golf\"]\n",
    "\n",
    "for sf in in_data:\n",
    "    path = os.path.join(THIS_FOLDER, \"in_data/{}.shp\".format(sf))\n",
    "    arcpy.CopyFeatures_management(path, sf)\n",
    "    arcpy.Project_management(sf, \"{}_rpj\".format(sf), crs)"
   ]
  },
  {
   "cell_type": "markdown",
   "metadata": {},
   "source": [
    "**We are only interested in large lakes (<10 acres)**"
   ]
  },
  {
   "cell_type": "code",
   "execution_count": 13,
   "metadata": {},
   "outputs": [
    {
     "data": {
      "text/html": [
       "<h2>Output</h2>C:\\Users\\zrcan\\Documents\\GitHub\\RPP-SBC-EEMS\\Land_Use.gdb\\Lg_Lakes<h2>Messages</h2>Start Time: Friday, April 9, 2021 5:15:14 PM<br/>Succeeded at Friday, April 9, 2021 5:15:15 PM (Elapsed Time: 0.96 seconds)<br/><style>.rendered_html td, .rendered_html th {text-align: left;}.rendered_html tbody {border: 1px solid black;}</style>"
      ],
      "text/plain": [
       "<Result 'C:\\\\Users\\\\zrcan\\\\Documents\\\\GitHub\\\\RPP-SBC-EEMS\\\\Land_Use.gdb\\\\Lg_Lakes'>"
      ]
     },
     "execution_count": 13,
     "metadata": {},
     "output_type": "execute_result"
    }
   ],
   "source": [
    "selection = arcpy.management.SelectLayerByAttribute(\"SBC_Lakes_rpj\", \"NEW_SELECTION\", \"Shape_Area > 435600\", None)\n",
    "arcpy.CopyFeatures_management(selection, \"Lg_Lakes\")"
   ]
  },
  {
   "cell_type": "markdown",
   "metadata": {},
   "source": [
    "**Now we merge the land-use categories together and set the fields accordingly**"
   ]
  },
  {
   "cell_type": "code",
   "execution_count": 17,
   "metadata": {},
   "outputs": [],
   "source": [
    "lu_cats = [\"SBC_Ag_rpj\", \"Lg_Lakes\", \"SBC_Desert_rpj\", \"SBC_Golf_rpj\"]\n",
    "\n",
    "arcpy.Merge_management(lu_cats, \"LU_merged\")"
   ]
  },
  {
   "cell_type": "code",
   "execution_count": 18,
   "metadata": {},
   "outputs": [
    {
     "data": {
      "text/html": [
       "<h2>Output</h2>C:\\Users\\zrcan\\Documents\\GitHub\\RPP-SBC-EEMS\\Land_Use.gdb\\LU_merged<h2>Messages</h2>Start Time: Friday, April 9, 2021 5:40:02 PM<br/>Succeeded at Friday, April 9, 2021 5:40:04 PM (Elapsed Time: 1.72 seconds)<br/><style>.rendered_html td, .rendered_html th {text-align: left;}.rendered_html tbody {border: 1px solid black;}</style>"
      ],
      "text/plain": [
       "<Result 'C:\\\\Users\\\\zrcan\\\\Documents\\\\GitHub\\\\RPP-SBC-EEMS\\\\Land_Use.gdb\\\\LU_merged'>"
      ]
     },
     "execution_count": 18,
     "metadata": {},
     "output_type": "execute_result"
    }
   ],
   "source": [
    "arcpy.AddField_management(\"LU_merged\", \"golf\", \"LONG\")\n",
    "arcpy.AddField_management(\"LU_merged\", \"ag\", \"LONG\")\n",
    "arcpy.AddField_management(\"LU_merged\", \"lake\", \"LONG\")\n",
    "arcpy.AddField_management(\"LU_merged\", \"desert\", \"LONG\")\n",
    "\n",
    "codeblock = \"\"\"\n",
    "def getClass(a):\n",
    "    if a is None:\n",
    "        return 0\n",
    "    else:\n",
    "        return 1\n",
    "\"\"\"\n",
    "\n",
    "arcpy.CalculateField_management(\"LU_merged\",  \"golf\", \"getClass(!apn!)\", \"PYTHON3\", codeblock)\n",
    "arcpy.CalculateField_management(\"LU_merged\",  \"ag\", \"getClass(!CropCatego!)\", \"PYTHON3\", codeblock)\n",
    "arcpy.CalculateField_management(\"LU_merged\",  \"lake\", \"getClass(!WETLAND_TY!)\", \"PYTHON3\", codeblock)\n",
    "arcpy.CalculateField_management(\"LU_merged\",  \"desert\", \"getClass(!WHRTYPE!)\", \"PYTHON3\", codeblock)\n",
    "\n",
    "FCfields = [f.name for f in arcpy.ListFields(\"LU_merged\")]\n",
    "DontDeleteFields = ['Shape_Length', 'Shape_Area', 'OBJECTID', 'OBJECTID_1', 'Shape', \"golf\", \"ag\", \"lake\", \"desert\"]\n",
    "fields2Delete = list(set(FCfields) - set(DontDeleteFields))\n",
    "arcpy.DeleteField_management(\"LU_merged\", fields2Delete)"
   ]
  },
  {
   "cell_type": "markdown",
   "metadata": {},
   "source": [
    "**Create a single field to specify land-use category**"
   ]
  },
  {
   "cell_type": "code",
   "execution_count": 23,
   "metadata": {},
   "outputs": [
    {
     "data": {
      "text/html": [
       "<h2>Output</h2>C:\\Users\\zrcan\\Documents\\GitHub\\RPP-SBC-EEMS\\Land_Use.gdb\\LU_merged<h2>Messages</h2>Start Time: Friday, April 9, 2021 5:45:53 PM<br/>Succeeded at Friday, April 9, 2021 5:45:54 PM (Elapsed Time: 1.67 seconds)<br/><style>.rendered_html td, .rendered_html th {text-align: left;}.rendered_html tbody {border: 1px solid black;}</style>"
      ],
      "text/plain": [
       "<Result 'C:\\\\Users\\\\zrcan\\\\Documents\\\\GitHub\\\\RPP-SBC-EEMS\\\\Land_Use.gdb\\\\LU_merged'>"
      ]
     },
     "execution_count": 23,
     "metadata": {},
     "output_type": "execute_result"
    }
   ],
   "source": [
    "arcpy.AddField_management(\"LU_merged\", \"LU_Cat\", \"LONG\")\n",
    "\n",
    "expression = \"getClass(!golf!, !ag!, !lake!, !desert!)\"\n",
    "\n",
    "codeblock = \"\"\"\n",
    "def getClass(a, d, l, g):\n",
    "    if a == 1:\n",
    "        return 1\n",
    "    elif d == 1:\n",
    "        return 2\n",
    "    elif l == 1:\n",
    "        return 3\n",
    "    elif g == 1:\n",
    "        return 4\n",
    "    else:\n",
    "        return 0\"\"\"\n",
    "\n",
    "arcpy.CalculateField_management(\"LU_merged\",  \"LU_Cat\", expression, \"PYTHON3\", codeblock)"
   ]
  },
  {
   "cell_type": "markdown",
   "metadata": {},
   "source": [
    "**Export the land-use category to out_data**"
   ]
  },
  {
   "cell_type": "code",
   "execution_count": 24,
   "metadata": {},
   "outputs": [
    {
     "data": {
      "text/html": [
       "<h2>Output</h2>C:\\Users\\zrcan\\Documents\\GitHub\\RPP-SBC-EEMS\\out_data\\lu<h2>Messages</h2>Start Time: Friday, April 9, 2021 5:48:03 PM<br/>C:\\Users\\zrcan\\Documents\\GitHub\\RPP-SBC-EEMS\\Land_Use.gdb\\LU_merged Successfully converted:  C:\\Users\\zrcan\\Documents\\GitHub\\RPP-SBC-EEMS\\out_data/lu\\LU_merged.shp<br/>Succeeded at Friday, April 9, 2021 5:48:05 PM (Elapsed Time: 2.51 seconds)<br/><style>.rendered_html td, .rendered_html th {text-align: left;}.rendered_html tbody {border: 1px solid black;}</style>"
      ],
      "text/plain": [
       "<Result 'C:\\\\Users\\\\zrcan\\\\Documents\\\\GitHub\\\\RPP-SBC-EEMS\\\\out_data\\\\lu'>"
      ]
     },
     "execution_count": 24,
     "metadata": {},
     "output_type": "execute_result"
    }
   ],
   "source": [
    "dir_path = os.path.join(THIS_FOLDER, \"out_data/lu\")\n",
    "shutil.rmtree(dir_path)\n",
    "os.mkdir(dir_path)\n",
    "\n",
    "arcpy.conversion.FeatureClassToShapefile(\"LU_merged\", \n",
    "                                        os.path.join(THIS_FOLDER, \"out_data/lu\"))"
   ]
  },
  {
   "cell_type": "code",
   "execution_count": null,
   "metadata": {},
   "outputs": [],
   "source": []
  }
 ],
 "metadata": {
  "kernelspec": {
   "display_name": "Python 3",
   "language": "python",
   "name": "python3"
  },
  "language_info": {
   "codemirror_mode": {
    "name": "ipython",
    "version": 3
   },
   "file_extension": ".py",
   "mimetype": "text/x-python",
   "name": "python",
   "nbconvert_exporter": "python",
   "pygments_lexer": "ipython3",
   "version": "3.7.9"
  }
 },
 "nbformat": 4,
 "nbformat_minor": 4
}
