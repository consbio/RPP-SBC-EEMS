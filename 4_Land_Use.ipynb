{
 "cells": [
  {
   "cell_type": "code",
   "execution_count": 1,
   "metadata": {},
   "outputs": [
    {
     "name": "stdout",
     "output_type": "stream",
     "text": [
      "C:\\Users\\zrcan\\Documents\\GitHub\\RPP-SBC-EEMS\n"
     ]
    }
   ],
   "source": [
    "import pandas as pd\n",
    "import geopandas as gpd\n",
    "import arcpy\n",
    "import os\n",
    "import shutil\n",
    "import math\n",
    "\n",
    "THIS_FOLDER = os.path.dirname(os.path.abspath(\"RPP-SBC-EEMS\"))\n",
    "print(THIS_FOLDER)"
   ]
  },
  {
   "cell_type": "markdown",
   "metadata": {},
   "source": [
    "**Load the initial layers**"
   ]
  },
  {
   "cell_type": "code",
   "execution_count": 2,
   "metadata": {},
   "outputs": [],
   "source": [
    "arcpy.ResetEnvironments()\n",
    "gdb_name = \"Land_Use.gdb\"\n",
    "arcpy.env.overwriteOutput = True\n",
    "path = os.path.join(THIS_FOLDER, gdb_name)\n",
    "try:\n",
    "    arcpy.CreateFileGDB_management(\"./\", gdb_name)\n",
    "except:\n",
    "    print(\"{} already exists\".format(gdb_name))\n",
    "    pass\n",
    "arcpy.env.workspace = path\n",
    "arcpy.env.scratchWorkspace = path"
   ]
  },
  {
   "cell_type": "code",
   "execution_count": 3,
   "metadata": {},
   "outputs": [],
   "source": [
    "crs = arcpy.SpatialReference('NAD 1983 StatePlane California V FIPS 0405 (US Feet)')\n",
    "\n",
    "in_data = [\"SBC_Parcels\", \"SBC_Ag\", \"SBC_Lakes\", \"SBC_Desert\", \"SBC_Golf\"]\n",
    "\n",
    "for sf in in_data:\n",
    "    path = os.path.join(THIS_FOLDER, \"in_data/{}.shp\".format(sf))\n",
    "    arcpy.CopyFeatures_management(path, sf)\n",
    "    arcpy.Project_management(sf, \"{}_rpj\".format(sf), crs)"
   ]
  },
  {
   "cell_type": "markdown",
   "metadata": {},
   "source": [
    "**We are only interested in large lakes (>10 acres)**"
   ]
  },
  {
   "cell_type": "code",
   "execution_count": 4,
   "metadata": {},
   "outputs": [
    {
     "data": {
      "text/html": [
       "<h2>Output</h2>C:\\Users\\zrcan\\Documents\\GitHub\\RPP-SBC-EEMS\\Land_Use.gdb\\Lg_Lakes<h2>Messages</h2>Start Time: Wednesday, November 10, 2021 11:28:25 AM<br/>Succeeded at Wednesday, November 10, 2021 11:28:26 AM (Elapsed Time: 0.31 seconds)<br/><style>.rendered_html td, .rendered_html th {text-align: left;}.rendered_html tbody {border: 1px solid black;}</style>"
      ],
      "text/plain": [
       "<Result 'C:\\\\Users\\\\zrcan\\\\Documents\\\\GitHub\\\\RPP-SBC-EEMS\\\\Land_Use.gdb\\\\Lg_Lakes'>"
      ]
     },
     "execution_count": 4,
     "metadata": {},
     "output_type": "execute_result"
    }
   ],
   "source": [
    "selection = arcpy.management.SelectLayerByAttribute(\"SBC_Lakes_rpj\", \"NEW_SELECTION\", \"Shape_Area > 435600\", None)\n",
    "arcpy.CopyFeatures_management(selection, \"Lg_Lakes\")"
   ]
  },
  {
   "cell_type": "markdown",
   "metadata": {},
   "source": [
    "**Now we merge the land-use categories together and set the fields accordingly**"
   ]
  },
  {
   "cell_type": "code",
   "execution_count": 5,
   "metadata": {},
   "outputs": [
    {
     "data": {
      "text/html": [
       "<h2>Output</h2>C:\\Users\\zrcan\\Documents\\GitHub\\RPP-SBC-EEMS\\Land_Use.gdb\\LU_merged<h2>Messages</h2>Start Time: Wednesday, November 10, 2021 11:28:26 AM<br/>Succeeded at Wednesday, November 10, 2021 11:28:27 AM (Elapsed Time: 0.78 seconds)<br/><style>.rendered_html td, .rendered_html th {text-align: left;}.rendered_html tbody {border: 1px solid black;}</style>"
      ],
      "text/plain": [
       "<Result 'C:\\\\Users\\\\zrcan\\\\Documents\\\\GitHub\\\\RPP-SBC-EEMS\\\\Land_Use.gdb\\\\LU_merged'>"
      ]
     },
     "execution_count": 5,
     "metadata": {},
     "output_type": "execute_result"
    }
   ],
   "source": [
    "lu_cats = [\"SBC_Ag_rpj\", \"Lg_Lakes\", \"SBC_Desert_rpj\", \"SBC_Golf_rpj\"]\n",
    "\n",
    "arcpy.Merge_management(lu_cats, \"LU_merged\")"
   ]
  },
  {
   "cell_type": "code",
   "execution_count": 6,
   "metadata": {},
   "outputs": [
    {
     "data": {
      "text/html": [
       "<h2>Output</h2>C:\\Users\\zrcan\\Documents\\GitHub\\RPP-SBC-EEMS\\Land_Use.gdb\\LU_merged<h2>Messages</h2>Start Time: Wednesday, November 10, 2021 11:28:30 AM<br/>Succeeded at Wednesday, November 10, 2021 11:28:44 AM (Elapsed Time: 13.17 seconds)<br/><style>.rendered_html td, .rendered_html th {text-align: left;}.rendered_html tbody {border: 1px solid black;}</style>"
      ],
      "text/plain": [
       "<Result 'C:\\\\Users\\\\zrcan\\\\Documents\\\\GitHub\\\\RPP-SBC-EEMS\\\\Land_Use.gdb\\\\LU_merged'>"
      ]
     },
     "execution_count": 6,
     "metadata": {},
     "output_type": "execute_result"
    }
   ],
   "source": [
    "arcpy.AddField_management(\"LU_merged\", \"golf\", \"LONG\")\n",
    "arcpy.AddField_management(\"LU_merged\", \"ag\", \"LONG\")\n",
    "arcpy.AddField_management(\"LU_merged\", \"lake\", \"LONG\")\n",
    "arcpy.AddField_management(\"LU_merged\", \"desert\", \"LONG\")\n",
    "\n",
    "codeblock = \"\"\"\n",
    "def getClass(a):\n",
    "    if a is None:\n",
    "        return 0\n",
    "    else:\n",
    "        return 1\n",
    "\"\"\"\n",
    "\n",
    "arcpy.CalculateField_management(\"LU_merged\",  \"golf\", \"getClass(!apn!)\", \"PYTHON3\", codeblock)\n",
    "arcpy.CalculateField_management(\"LU_merged\",  \"ag\", \"getClass(!CropCatego!)\", \"PYTHON3\", codeblock)\n",
    "arcpy.CalculateField_management(\"LU_merged\",  \"lake\", \"getClass(!WETLAND_TY!)\", \"PYTHON3\", codeblock)\n",
    "arcpy.CalculateField_management(\"LU_merged\",  \"desert\", \"getClass(!WHRTYPE!)\", \"PYTHON3\", codeblock)\n",
    "\n",
    "\n",
    "FCfields = [f.name for f in arcpy.ListFields(\"LU_merged\")]\n",
    "DontDeleteFields = ['Shape_Length', 'Shape_Area', 'OBJECTID', 'OBJECTID_1', 'Shape', \"golf\", \"ag\", \"lake\", \"desert\"]\n",
    "fields2Delete = list(set(FCfields) - set(DontDeleteFields))\n",
    "arcpy.DeleteField_management(\"LU_merged\", fields2Delete)"
   ]
  },
  {
   "cell_type": "markdown",
   "metadata": {},
   "source": [
    "**Create a single field to specify land-use category (1=ag, 2=desert, 3=lglake, 4=golf, 0=everything else)**"
   ]
  },
  {
   "cell_type": "code",
   "execution_count": 7,
   "metadata": {},
   "outputs": [
    {
     "data": {
      "text/html": [
       "<h2>Output</h2>C:\\Users\\zrcan\\Documents\\GitHub\\RPP-SBC-EEMS\\Land_Use.gdb\\LU_merged<h2>Messages</h2>Start Time: Wednesday, November 10, 2021 11:28:44 AM<br/>Succeeded at Wednesday, November 10, 2021 11:28:44 AM (Elapsed Time: 0.43 seconds)<br/><style>.rendered_html td, .rendered_html th {text-align: left;}.rendered_html tbody {border: 1px solid black;}</style>"
      ],
      "text/plain": [
       "<Result 'C:\\\\Users\\\\zrcan\\\\Documents\\\\GitHub\\\\RPP-SBC-EEMS\\\\Land_Use.gdb\\\\LU_merged'>"
      ]
     },
     "execution_count": 7,
     "metadata": {},
     "output_type": "execute_result"
    }
   ],
   "source": [
    "arcpy.AddField_management(\"LU_merged\", \"LU_Cat\", \"LONG\")\n",
    "\n",
    "expression = \"getClass(!golf!, !ag!, !lake!, !desert!)\"\n",
    "\n",
    "codeblock = \"\"\"\n",
    "def getClass(g, a, l, d):\n",
    "    if a == 1:\n",
    "        return 1\n",
    "    elif d == 1:\n",
    "        return 2\n",
    "    elif l == 1:\n",
    "        return 3\n",
    "    elif g == 1:\n",
    "        return 4\n",
    "    else:\n",
    "        return 0\n",
    "\"\"\"\n",
    "\n",
    "arcpy.CalculateField_management(\"LU_merged\",  \"LU_Cat\", expression, \"PYTHON3\", codeblock)"
   ]
  },
  {
   "cell_type": "markdown",
   "metadata": {},
   "source": [
    "**Export the land-use category to out_data**"
   ]
  },
  {
   "cell_type": "code",
   "execution_count": 8,
   "metadata": {},
   "outputs": [
    {
     "data": {
      "text/html": [
       "<h2>Output</h2>C:\\Users\\zrcan\\Documents\\GitHub\\RPP-SBC-EEMS\\out_data\\lu<h2>Messages</h2>Start Time: Wednesday, November 10, 2021 11:28:45 AM<br/>C:\\Users\\zrcan\\Documents\\GitHub\\RPP-SBC-EEMS\\Land_Use.gdb\\LU_merged Successfully converted:  C:\\Users\\zrcan\\Documents\\GitHub\\RPP-SBC-EEMS\\out_data/lu\\LU_merged.shp<br/>Succeeded at Wednesday, November 10, 2021 11:28:46 AM (Elapsed Time: 1.13 seconds)<br/><style>.rendered_html td, .rendered_html th {text-align: left;}.rendered_html tbody {border: 1px solid black;}</style>"
      ],
      "text/plain": [
       "<Result 'C:\\\\Users\\\\zrcan\\\\Documents\\\\GitHub\\\\RPP-SBC-EEMS\\\\out_data\\\\lu'>"
      ]
     },
     "execution_count": 8,
     "metadata": {},
     "output_type": "execute_result"
    }
   ],
   "source": [
    "dir_path = os.path.join(THIS_FOLDER, \"out_data/lu\")\n",
    "shutil.rmtree(dir_path)\n",
    "os.mkdir(dir_path)\n",
    "\n",
    "arcpy.conversion.FeatureClassToShapefile(\"LU_merged\", os.path.join(THIS_FOLDER, \"out_data/lu\"))"
   ]
  },
  {
   "cell_type": "code",
   "execution_count": null,
   "metadata": {},
   "outputs": [],
   "source": []
  },
  {
   "cell_type": "code",
   "execution_count": null,
   "metadata": {},
   "outputs": [],
   "source": []
  },
  {
   "cell_type": "code",
   "execution_count": null,
   "metadata": {},
   "outputs": [],
   "source": []
  }
 ],
 "metadata": {
  "kernelspec": {
   "display_name": "Python 3 (ipykernel)",
   "language": "python",
   "name": "python3"
  },
  "language_info": {
   "codemirror_mode": {
    "name": "ipython",
    "version": 3
   },
   "file_extension": ".py",
   "mimetype": "text/x-python",
   "name": "python",
   "nbconvert_exporter": "python",
   "pygments_lexer": "ipython3",
   "version": "3.7.11"
  }
 },
 "nbformat": 4,
 "nbformat_minor": 4
}
