{
 "cells": [
  {
   "cell_type": "code",
   "execution_count": 50,
   "metadata": {},
   "outputs": [],
   "source": [
    "import pandas as pd\n",
    "import geopandas as gpd\n",
    "import arcpy\n",
    "import os\n",
    "import shutil\n",
    "import math\n",
    "import inspect\n",
    "\n",
    "src_file_path = inspect.getfile(lambda: None)\n",
    "THIS_FOLDER = os.path.dirname(os.path.abspath(src_file_path))"
   ]
  },
  {
   "cell_type": "code",
   "execution_count": 52,
   "metadata": {},
   "outputs": [],
   "source": [
    "arcpy.ResetEnvironments()\n",
    "gdb_name = \"Summarize_Reporting_Units.gdb\"\n",
    "arcpy.env.overwriteOutput = True\n",
    "path = os.path.join(THIS_FOLDER, gdb_name)\n",
    "# arcpy.CreateFileGDB_management(\"./\", gdb_name)\n",
    "arcpy.env.workspace = path\n",
    "arcpy.env.scratchWorkspace = path"
   ]
  },
  {
   "cell_type": "code",
   "execution_count": 53,
   "metadata": {},
   "outputs": [],
   "source": [
    "data = [\"in_data/Pr_Lg_Fire.shp\", \"in_data/Pr_Fire_Ign.shp\",\n",
    "        \"in_data/Pct_Cg_Lg_Fi.shp\", \"in_data/Pct_Cg_Fi_Ign.shp\",\n",
    "        \"in_data/WUI_Intermix.shp\", \"in_data/WUI_Interface.shp\",\n",
    "        \"in_data/FloraFaunaMerge.shp\",\n",
    "        \"out_data/lu/LU_merged.shp\", \"out_data/ru/Reporting_Units_APN.shp\",\n",
    "        \"out_data/building/Building_Intersect.shp\",\n",
    "        \"in_data/Slope.shp\", \"in_data/Veg_Only.shp\"]\n",
    "\n",
    "for v in data:\n",
    "    path = os.path.join(THIS_FOLDER, \"{}\".format(v))\n",
    "    name = v.rsplit('/', 1)[-1].split(\".\")[0]\n",
    "    arcpy.CopyFeatures_management(path, name)\n",
    "    crs = arcpy.SpatialReference('NAD 1983 StatePlane California V FIPS 0405 (US Feet)')\n",
    "    arcpy.Project_management(name, \"{}_rpj\".format(name), crs)"
   ]
  },
  {
   "cell_type": "code",
   "execution_count": 54,
   "metadata": {},
   "outputs": [
    {
     "data": {
      "text/html": [
       "<h2>Output</h2><table><tr><th>id</th><th>value</th></tr><tr><td>0</td><td>C:\\Users\\zrcan\\Documents\\GitHub\\RPP-SBC-EEMS\\Summarize_Reporting_Units.gdb\\A_RU_1</td></tr><tr><td>1</td><td></td></tr></table><h2>Messages</h2>Start Time: Saturday, May 22, 2021 11:03:19 PM<br/>Succeeded at Saturday, May 22, 2021 11:04:04 PM (Elapsed Time: 44.91 seconds)<br/><style>.rendered_html td, .rendered_html th {text-align: left;}.rendered_html tbody {border: 1px solid black;}</style>"
      ],
      "text/plain": [
       "<Result 'C:\\\\Users\\\\zrcan\\\\Documents\\\\GitHub\\\\RPP-SBC-EEMS\\\\Summarize_Reporting_Units.gdb\\\\A_RU_1'>"
      ]
     },
     "execution_count": 54,
     "metadata": {},
     "output_type": "execute_result"
    }
   ],
   "source": [
    "arcpy.analysis.SummarizeWithin(\"Reporting_Units_APN_rpj\", \"Pr_Lg_Fire_rpj\", \n",
    "                               \"A_RU_1\", \"KEEP_ALL\", \"gridcode Mean\", \n",
    "                               \"NO_SHAPE_SUM\", \"SQUAREFEET\", None, \"NO_MIN_MAJ\", \"NO_PERCENT\", None)"
   ]
  },
  {
   "cell_type": "code",
   "execution_count": 55,
   "metadata": {},
   "outputs": [
    {
     "data": {
      "text/html": [
       "<h2>Output</h2><table><tr><th>id</th><th>value</th></tr><tr><td>0</td><td>C:\\Users\\zrcan\\Documents\\GitHub\\RPP-SBC-EEMS\\Summarize_Reporting_Units.gdb\\A_RU_2</td></tr><tr><td>1</td><td></td></tr></table><h2>Messages</h2>Start Time: Saturday, May 22, 2021 11:04:04 PM<br/>Succeeded at Saturday, May 22, 2021 11:04:47 PM (Elapsed Time: 42.29 seconds)<br/><style>.rendered_html td, .rendered_html th {text-align: left;}.rendered_html tbody {border: 1px solid black;}</style>"
      ],
      "text/plain": [
       "<Result 'C:\\\\Users\\\\zrcan\\\\Documents\\\\GitHub\\\\RPP-SBC-EEMS\\\\Summarize_Reporting_Units.gdb\\\\A_RU_2'>"
      ]
     },
     "execution_count": 55,
     "metadata": {},
     "output_type": "execute_result"
    }
   ],
   "source": [
    "arcpy.analysis.SummarizeWithin(\"A_RU_1\", \"Pr_Fire_Ign_rpj\", \n",
    "                               \"A_RU_2\", \"KEEP_ALL\", \"gridcode Mean\", \n",
    "                               \"NO_SHAPE_SUM\", \"SQUAREFEET\", None, \"NO_MIN_MAJ\", \"NO_PERCENT\", None)"
   ]
  },
  {
   "cell_type": "code",
   "execution_count": 56,
   "metadata": {},
   "outputs": [
    {
     "data": {
      "text/html": [
       "<h2>Output</h2><table><tr><th>id</th><th>value</th></tr><tr><td>0</td><td>C:\\Users\\zrcan\\Documents\\GitHub\\RPP-SBC-EEMS\\Summarize_Reporting_Units.gdb\\A_RU_3</td></tr><tr><td>1</td><td></td></tr></table><h2>Messages</h2>Start Time: Saturday, May 22, 2021 11:04:47 PM<br/>Succeeded at Saturday, May 22, 2021 11:05:24 PM (Elapsed Time: 37.25 seconds)<br/><style>.rendered_html td, .rendered_html th {text-align: left;}.rendered_html tbody {border: 1px solid black;}</style>"
      ],
      "text/plain": [
       "<Result 'C:\\\\Users\\\\zrcan\\\\Documents\\\\GitHub\\\\RPP-SBC-EEMS\\\\Summarize_Reporting_Units.gdb\\\\A_RU_3'>"
      ]
     },
     "execution_count": 56,
     "metadata": {},
     "output_type": "execute_result"
    }
   ],
   "source": [
    "arcpy.analysis.SummarizeWithin(\"A_RU_2\", \"Pct_Cg_Lg_Fi_rpj\", \n",
    "                               \"A_RU_3\", \"KEEP_ALL\", \"gridcode Mean\", \n",
    "                               \"NO_SHAPE_SUM\", \"SQUAREFEET\", None, \"NO_MIN_MAJ\", \"NO_PERCENT\", None)"
   ]
  },
  {
   "cell_type": "code",
   "execution_count": 57,
   "metadata": {},
   "outputs": [
    {
     "data": {
      "text/html": [
       "<h2>Output</h2><table><tr><th>id</th><th>value</th></tr><tr><td>0</td><td>C:\\Users\\zrcan\\Documents\\GitHub\\RPP-SBC-EEMS\\Summarize_Reporting_Units.gdb\\A_RU_4</td></tr><tr><td>1</td><td></td></tr></table><h2>Messages</h2>Start Time: Saturday, May 22, 2021 11:05:25 PM<br/>Succeeded at Saturday, May 22, 2021 11:06:06 PM (Elapsed Time: 41.63 seconds)<br/><style>.rendered_html td, .rendered_html th {text-align: left;}.rendered_html tbody {border: 1px solid black;}</style>"
      ],
      "text/plain": [
       "<Result 'C:\\\\Users\\\\zrcan\\\\Documents\\\\GitHub\\\\RPP-SBC-EEMS\\\\Summarize_Reporting_Units.gdb\\\\A_RU_4'>"
      ]
     },
     "execution_count": 57,
     "metadata": {},
     "output_type": "execute_result"
    }
   ],
   "source": [
    "arcpy.analysis.SummarizeWithin(\"A_RU_3\", \"Pct_Cg_Fi_Ign_rpj\", \n",
    "                               \"A_RU_4\", \"KEEP_ALL\", \"gridcode Mean\", \n",
    "                               \"NO_SHAPE_SUM\", \"SQUAREFEET\", None, \"NO_MIN_MAJ\", \"NO_PERCENT\", None)"
   ]
  },
  {
   "cell_type": "code",
   "execution_count": 58,
   "metadata": {},
   "outputs": [
    {
     "data": {
      "text/html": [
       "<h2>Output</h2><table><tr><th>id</th><th>value</th></tr><tr><td>0</td><td>C:\\Users\\zrcan\\Documents\\GitHub\\RPP-SBC-EEMS\\Summarize_Reporting_Units.gdb\\A_RU_6</td></tr><tr><td>1</td><td></td></tr></table><h2>Messages</h2>Start Time: Saturday, May 22, 2021 11:06:22 PM<br/>Succeeded at Saturday, May 22, 2021 11:06:38 PM (Elapsed Time: 15.99 seconds)<br/><style>.rendered_html td, .rendered_html th {text-align: left;}.rendered_html tbody {border: 1px solid black;}</style>"
      ],
      "text/plain": [
       "<Result 'C:\\\\Users\\\\zrcan\\\\Documents\\\\GitHub\\\\RPP-SBC-EEMS\\\\Summarize_Reporting_Units.gdb\\\\A_RU_6'>"
      ]
     },
     "execution_count": 58,
     "metadata": {},
     "output_type": "execute_result"
    }
   ],
   "source": [
    "arcpy.analysis.SummarizeWithin(\"A_RU_4\", \"WUI_Intermix_rpj\", \n",
    "                               \"A_RU_5\", \"KEEP_ALL\", None, \n",
    "                               \"ADD_SHAPE_SUM\", \"SQUAREFEET\", None, \"NO_MIN_MAJ\", \"NO_PERCENT\", None)\n",
    "arcpy.analysis.SummarizeWithin(\"A_RU_5\", \"WUI_Interface_rpj\", \n",
    "                               \"A_RU_6\", \"KEEP_ALL\", None, \n",
    "                               \"ADD_SHAPE_SUM\", \"SQUAREFEET\", None, \"NO_MIN_MAJ\", \"NO_PERCENT\", None)"
   ]
  },
  {
   "cell_type": "code",
   "execution_count": 59,
   "metadata": {},
   "outputs": [
    {
     "data": {
      "text/html": [
       "<h2>Output</h2><table><tr><th>id</th><th>value</th></tr><tr><td>0</td><td>C:\\Users\\zrcan\\Documents\\GitHub\\RPP-SBC-EEMS\\Summarize_Reporting_Units.gdb\\A_RU_7</td></tr><tr><td>1</td><td>C:\\Users\\zrcan\\Documents\\GitHub\\RPP-SBC-EEMS\\Summarize_Reporting_Units.gdb\\LU_Cat_Summary</td></tr></table><h2>Messages</h2>Start Time: Saturday, May 22, 2021 11:06:38 PM<br/>Succeeded at Saturday, May 22, 2021 11:07:13 PM (Elapsed Time: 35.04 seconds)<br/><style>.rendered_html td, .rendered_html th {text-align: left;}.rendered_html tbody {border: 1px solid black;}</style>"
      ],
      "text/plain": [
       "<Result 'C:\\\\Users\\\\zrcan\\\\Documents\\\\GitHub\\\\RPP-SBC-EEMS\\\\Summarize_Reporting_Units.gdb\\\\A_RU_7'>"
      ]
     },
     "execution_count": 59,
     "metadata": {},
     "output_type": "execute_result"
    }
   ],
   "source": [
    "arcpy.analysis.SummarizeWithin(\"A_RU_6\", \"LU_Merged_rpj\", \n",
    "                               \"A_RU_7\", \"KEEP_ALL\", \"LU_Cat Max\", \n",
    "                               \"NO_SHAPE_SUM\", \"SQUAREFEET\", \"LU_Cat\", \"ADD_MIN_MAJ\", \"ADD_PERCENT\", None)"
   ]
  },
  {
   "cell_type": "code",
   "execution_count": 60,
   "metadata": {},
   "outputs": [
    {
     "data": {
      "text/html": [
       "<h2>Output</h2><table><tr><th>id</th><th>value</th></tr><tr><td>0</td><td>C:\\Users\\zrcan\\Documents\\GitHub\\RPP-SBC-EEMS\\Summarize_Reporting_Units.gdb\\A_RU_8</td></tr><tr><td>1</td><td></td></tr></table><h2>Messages</h2>Start Time: Saturday, May 22, 2021 11:07:14 PM<br/>Succeeded at Saturday, May 22, 2021 11:07:41 PM (Elapsed Time: 27.51 seconds)<br/><style>.rendered_html td, .rendered_html th {text-align: left;}.rendered_html tbody {border: 1px solid black;}</style>"
      ],
      "text/plain": [
       "<Result 'C:\\\\Users\\\\zrcan\\\\Documents\\\\GitHub\\\\RPP-SBC-EEMS\\\\Summarize_Reporting_Units.gdb\\\\A_RU_8'>"
      ]
     },
     "execution_count": 60,
     "metadata": {},
     "output_type": "execute_result"
    }
   ],
   "source": [
    "arcpy.analysis.SummarizeWithin(\"A_RU_7\", \"FloraFaunaMerge_rpj\", \n",
    "                               \"A_RU_8\", \"KEEP_ALL\", \"Flora_Faun Mean\", \n",
    "                               \"NO_SHAPE_SUM\", \"SQUAREFEET\", None, \"NO_MIN_MAJ\", \"NO_PERCENT\", None)"
   ]
  },
  {
   "cell_type": "code",
   "execution_count": 61,
   "metadata": {},
   "outputs": [
    {
     "data": {
      "text/html": [
       "<h2>Output</h2><table><tr><th>id</th><th>value</th></tr><tr><td>0</td><td>C:\\Users\\zrcan\\Documents\\GitHub\\RPP-SBC-EEMS\\Summarize_Reporting_Units.gdb\\A_RU_9</td></tr><tr><td>1</td><td></td></tr></table><h2>Messages</h2>Start Time: Saturday, May 22, 2021 11:07:42 PM<br/>Succeeded at Saturday, May 22, 2021 11:08:35 PM (Elapsed Time: 53.01 seconds)<br/><style>.rendered_html td, .rendered_html th {text-align: left;}.rendered_html tbody {border: 1px solid black;}</style>"
      ],
      "text/plain": [
       "<Result 'C:\\\\Users\\\\zrcan\\\\Documents\\\\GitHub\\\\RPP-SBC-EEMS\\\\Summarize_Reporting_Units.gdb\\\\A_RU_9'>"
      ]
     },
     "execution_count": 61,
     "metadata": {},
     "output_type": "execute_result"
    }
   ],
   "source": [
    "arcpy.analysis.SummarizeWithin(\"A_RU_8\", \"Building_Intersect_rpj\", \n",
    "                               \"A_RU_9\", \"KEEP_ALL\", \"\", \n",
    "                               \"ADD_SHAPE_SUM\", \"SQUAREFEET\", None, \"NO_MIN_MAJ\", \"NO_PERCENT\", None)"
   ]
  },
  {
   "cell_type": "code",
   "execution_count": 62,
   "metadata": {},
   "outputs": [
    {
     "data": {
      "text/html": [
       "<h2>Output</h2><table><tr><th>id</th><th>value</th></tr><tr><td>0</td><td>C:\\Users\\zrcan\\Documents\\GitHub\\RPP-SBC-EEMS\\Summarize_Reporting_Units.gdb\\A_RU_10</td></tr><tr><td>1</td><td></td></tr></table><h2>Messages</h2>Start Time: Saturday, May 22, 2021 11:08:35 PM<br/>Succeeded at Saturday, May 22, 2021 11:15:11 PM (Elapsed Time: 6 minutes 35 seconds)<br/><style>.rendered_html td, .rendered_html th {text-align: left;}.rendered_html tbody {border: 1px solid black;}</style>"
      ],
      "text/plain": [
       "<Result 'C:\\\\Users\\\\zrcan\\\\Documents\\\\GitHub\\\\RPP-SBC-EEMS\\\\Summarize_Reporting_Units.gdb\\\\A_RU_10'>"
      ]
     },
     "execution_count": 62,
     "metadata": {},
     "output_type": "execute_result"
    }
   ],
   "source": [
    "arcpy.analysis.SummarizeWithin(\"A_RU_9\", \"Slope_rpj\", \n",
    "                               \"A_RU_10\", \"KEEP_ALL\", \"gridcode Mean\", \n",
    "                               \"NO_SHAPE_SUM\", \"SQUAREFEET\", None, \"NO_MIN_MAJ\", \"NO_PERCENT\", None)"
   ]
  },
  {
   "cell_type": "code",
   "execution_count": 64,
   "metadata": {},
   "outputs": [
    {
     "data": {
      "text/html": [
       "<h2>Output</h2><table><tr><th>id</th><th>value</th></tr><tr><td>0</td><td>C:\\Users\\zrcan\\Documents\\GitHub\\RPP-SBC-EEMS\\Summarize_Reporting_Units.gdb\\A_RU_11</td></tr><tr><td>1</td><td>C:\\Users\\zrcan\\Documents\\GitHub\\RPP-SBC-EEMS\\Summarize_Reporting_Units.gdb\\gridcode_Summary</td></tr></table><h2>Messages</h2>Start Time: Saturday, May 22, 2021 11:16:03 PM<br/>Succeeded at Saturday, May 22, 2021 11:16:39 PM (Elapsed Time: 36.09 seconds)<br/><style>.rendered_html td, .rendered_html th {text-align: left;}.rendered_html tbody {border: 1px solid black;}</style>"
      ],
      "text/plain": [
       "<Result 'C:\\\\Users\\\\zrcan\\\\Documents\\\\GitHub\\\\RPP-SBC-EEMS\\\\Summarize_Reporting_Units.gdb\\\\A_RU_11'>"
      ]
     },
     "execution_count": 64,
     "metadata": {},
     "output_type": "execute_result"
    }
   ],
   "source": [
    "arcpy.analysis.SummarizeWithin(\"A_RU_10\", \"Veg_Only_rpj\", \n",
    "                               \"A_RU_11\", \"KEEP_ALL\", \"gridcode Max\", \n",
    "                               \"NO_SHAPE_SUM\", \"SQUAREFEET\", \"gridcode\", \"ADD_MIN_MAJ\", \"ADD_PERCENT\", None)"
   ]
  },
  {
   "cell_type": "code",
   "execution_count": 65,
   "metadata": {},
   "outputs": [],
   "source": [
    "fieldObs = arcpy.ListFields(\"A_RU_11\")  \n",
    "\n",
    "fieldNames = []  \n",
    "for field in fieldObs:  \n",
    "    fieldNames.append(field.name)\n",
    "del fieldObs  \n",
    "fieldCount = len(fieldNames) \n",
    "\n",
    "with arcpy.da.UpdateCursor(\"A_RU_11\", fieldNames) as curU:  \n",
    "    for row in curU:  \n",
    "        rowU = row  \n",
    "        for field in range(fieldCount):  \n",
    "            if rowU[field] == None:  \n",
    "                rowU[field] = \"0\"  \n",
    "        curU.updateRow(rowU)\n",
    "\n",
    "del curU"
   ]
  },
  {
   "cell_type": "code",
   "execution_count": 66,
   "metadata": {},
   "outputs": [
    {
     "data": {
      "text/html": [
       "<h2>Output</h2>C:\\Users\\zrcan\\Documents\\GitHub\\RPP-SBC-EEMS\\Summarize_Reporting_Units.gdb\\A_RU_11<h2>Messages</h2>Start Time: Saturday, May 22, 2021 11:18:41 PM<br/>Succeeded at Saturday, May 22, 2021 11:18:42 PM (Elapsed Time: 0.78 seconds)<br/><style>.rendered_html td, .rendered_html th {text-align: left;}.rendered_html tbody {border: 1px solid black;}</style>"
      ],
      "text/plain": [
       "<Result 'C:\\\\Users\\\\zrcan\\\\Documents\\\\GitHub\\\\RPP-SBC-EEMS\\\\Summarize_Reporting_Units.gdb\\\\A_RU_11'>"
      ]
     },
     "execution_count": 66,
     "metadata": {},
     "output_type": "execute_result"
    }
   ],
   "source": [
    "arcpy.AddField_management(\"A_RU_11\", \"WUI_Interm\", \"LONG\")\n",
    "arcpy.AddField_management(\"A_RU_11\", \"WUI_Interf\", \"LONG\")\n",
    "\n",
    "codeblock = \"\"\"\n",
    "def get_val(m):\n",
    "    if m > 0:\n",
    "        return 1\n",
    "    else:\n",
    "        return 0\n",
    "\"\"\"\n",
    "\n",
    "# Execute CalculateField \n",
    "arcpy.CalculateField_management(\"A_RU_11\", \"WUI_Interm\", \"get_val(!SUM_Area_SQUAREFEET!)\", \"PYTHON3\", codeblock)\n",
    "arcpy.CalculateField_management(\"A_RU_11\", \"WUI_Interf\", \"get_val(!SUM_Area_SQUAREFEET_1!)\", \"PYTHON3\", codeblock)\n",
    "\n",
    "arcpy.DeleteField_management(\"A_RU_11\", \n",
    "                             ['SUM_Area_SQUAREFEET', 'SUM_Area_SQUAREFEET_1'])"
   ]
  },
  {
   "cell_type": "code",
   "execution_count": 67,
   "metadata": {},
   "outputs": [
    {
     "data": {
      "text/html": [
       "<h2>Output</h2>C:\\Users\\zrcan\\Documents\\GitHub\\RPP-SBC-EEMS\\Summarize_Reporting_Units.gdb\\A_RU_11<h2>Messages</h2>Start Time: Saturday, May 22, 2021 11:18:43 PM<br/>Succeeded at Saturday, May 22, 2021 11:18:45 PM (Elapsed Time: 1.97 seconds)<br/><style>.rendered_html td, .rendered_html th {text-align: left;}.rendered_html tbody {border: 1px solid black;}</style>"
      ],
      "text/plain": [
       "<Result 'C:\\\\Users\\\\zrcan\\\\Documents\\\\GitHub\\\\RPP-SBC-EEMS\\\\Summarize_Reporting_Units.gdb\\\\A_RU_11'>"
      ]
     },
     "execution_count": 67,
     "metadata": {},
     "output_type": "execute_result"
    }
   ],
   "source": [
    "arcpy.AddField_management(\"A_RU_11\", \"Mj_LU_Cat\", \"LONG\")\n",
    "\n",
    "codeblock = \"\"\"\n",
    "def get_val(a, m):\n",
    "    if m >= 50:\n",
    "        return a\n",
    "    else:\n",
    "        return 0\n",
    "\"\"\"\n",
    "\n",
    "# Execute CalculateField \n",
    "arcpy.CalculateField_management(\"A_RU_11\", \"Mj_LU_Cat\", \"get_val(!Majority_LU_Cat!, !Majority_LU_Cat_Percent!)\", \"PYTHON3\", codeblock)\n",
    "\n",
    "arcpy.DeleteField_management(\"A_RU_11\", \n",
    "                             ['MAX_LU_Cat', 'Minority_LU_Cat', 'Majority_LU_Cat', 'Majority_LU_Cat_Percent', 'Minority_LU_Cat_Percent'])"
   ]
  },
  {
   "cell_type": "code",
   "execution_count": 68,
   "metadata": {},
   "outputs": [
    {
     "data": {
      "text/html": [
       "<h2>Output</h2>C:\\Users\\zrcan\\Documents\\GitHub\\RPP-SBC-EEMS\\Summarize_Reporting_Units.gdb\\A_RU_11<h2>Messages</h2>Start Time: Saturday, May 22, 2021 11:18:47 PM<br/>Succeeded at Saturday, May 22, 2021 11:18:48 PM (Elapsed Time: 1.18 seconds)<br/><style>.rendered_html td, .rendered_html th {text-align: left;}.rendered_html tbody {border: 1px solid black;}</style>"
      ],
      "text/plain": [
       "<Result 'C:\\\\Users\\\\zrcan\\\\Documents\\\\GitHub\\\\RPP-SBC-EEMS\\\\Summarize_Reporting_Units.gdb\\\\A_RU_11'>"
      ]
     },
     "execution_count": 68,
     "metadata": {},
     "output_type": "execute_result"
    }
   ],
   "source": [
    "arcpy.AddField_management(\"A_RU_11\", \"Vg_Pct\", \"FLOAT\")\n",
    "\n",
    "codeblock = \"\"\"\n",
    "def get_val(a, m):\n",
    "    return round(m/100, 2)\n",
    "\"\"\"\n",
    "\n",
    "# Execute CalculateField \n",
    "arcpy.CalculateField_management(\"A_RU_11\", \"Vg_Pct\", \"get_val(!Majority_gridcode!, !Majority_gridcode_Percent!)\", \"PYTHON3\", codeblock)\n",
    "\n",
    "arcpy.DeleteField_management(\"A_RU_11\", \n",
    "                             ['MAX_gridcode', 'Minority_gridcode', 'Minority_gridcode_Percent'])"
   ]
  },
  {
   "cell_type": "code",
   "execution_count": 69,
   "metadata": {},
   "outputs": [
    {
     "data": {
      "text/html": [
       "<h2>Output</h2>C:\\Users\\zrcan\\Documents\\GitHub\\RPP-SBC-EEMS\\Summarize_Reporting_Units.gdb\\A_RU_11<h2>Messages</h2>Start Time: Saturday, May 22, 2021 11:18:50 PM<br/>Succeeded at Saturday, May 22, 2021 11:18:52 PM (Elapsed Time: 1.47 seconds)<br/><style>.rendered_html td, .rendered_html th {text-align: left;}.rendered_html tbody {border: 1px solid black;}</style>"
      ],
      "text/plain": [
       "<Result 'C:\\\\Users\\\\zrcan\\\\Documents\\\\GitHub\\\\RPP-SBC-EEMS\\\\Summarize_Reporting_Units.gdb\\\\A_RU_11'>"
      ]
     },
     "execution_count": 69,
     "metadata": {},
     "output_type": "execute_result"
    }
   ],
   "source": [
    "arcpy.AlterField_management('A_RU_11', \n",
    "                            'MEAN_gridcode', 'Pr_Lg_Fr', 'Pr_Lg_Fr')\n",
    "arcpy.AlterField_management('A_RU_11', \n",
    "                            'MEAN_gridcode_1', 'Pr_Fi_Ign', 'Pr_Fi_Ign')\n",
    "arcpy.AlterField_management('A_RU_11', \n",
    "                            'MEAN_gridcode_12', 'Pc_Cg_LgFi', 'Pc_Cg_LgFi')\n",
    "arcpy.AlterField_management('A_RU_11', \n",
    "                            'MEAN_gridcode_12_13', 'Pc_Fi_Ign', 'Pc_Fi_Ign')\n",
    "arcpy.AlterField_management('A_RU_11', \n",
    "                            'MEAN_gridcode_12_13_14', 'Slp', 'Slp')\n",
    "\n",
    "arcpy.AlterField_management('A_RU_11', \n",
    "                            'MEAN_Flora_Faun', 'Fl_Fa', 'Fl_Fa')\n",
    "\n",
    "arcpy.AlterField_management('A_RU_11', \n",
    "                            'SUM_Area_SQUAREFEET_12_13', 'Buil_Ar', 'Buil_Ar')\n",
    "\n",
    "arcpy.DeleteField_management(\"A_RU_11\", \n",
    "                             ['SUM_Area_SQUAREFEET_12', 'Join_ID_1', 'Shape_Leng', 'SUM_Area_SQUAREFEET_12_13_14'])"
   ]
  },
  {
   "cell_type": "code",
   "execution_count": 70,
   "metadata": {},
   "outputs": [
    {
     "data": {
      "text/html": [
       "<h2>Output</h2>C:\\Users\\zrcan\\Documents\\GitHub\\RPP-SBC-EEMS\\Summarize_Reporting_Units.gdb\\A_RU_11<h2>Messages</h2>Start Time: Saturday, May 22, 2021 11:18:52 PM<br/>Succeeded at Saturday, May 22, 2021 11:18:53 PM (Elapsed Time: 1.02 seconds)<br/><style>.rendered_html td, .rendered_html th {text-align: left;}.rendered_html tbody {border: 1px solid black;}</style>"
      ],
      "text/plain": [
       "<Result 'C:\\\\Users\\\\zrcan\\\\Documents\\\\GitHub\\\\RPP-SBC-EEMS\\\\Summarize_Reporting_Units.gdb\\\\A_RU_11'>"
      ]
     },
     "execution_count": 70,
     "metadata": {},
     "output_type": "execute_result"
    }
   ],
   "source": [
    "arcpy.AddField_management(\"A_RU_11\", \"Buil_Rat\", \"FLOAT\")\n",
    "\n",
    "arcpy.CalculateField_management(\"A_RU_11\", \"Buil_Rat\", \n",
    "                                '!Buil_Ar!/!Shape_Area!', \"PYTHON3\")"
   ]
  },
  {
   "cell_type": "code",
   "execution_count": 71,
   "metadata": {},
   "outputs": [
    {
     "name": "stdout",
     "output_type": "stream",
     "text": [
      "OBJECTID\n",
      "Shape\n",
      "Join_ID\n",
      "apn\n",
      "Pr_Lg_Fr\n",
      "Pr_Fi_Ign\n",
      "Pc_Cg_LgFi\n",
      "Pc_Fi_Ign\n",
      "Fl_Fa\n",
      "Buil_Ar\n",
      "Slp\n",
      "Shape_Length\n",
      "Shape_Area\n",
      "Majority_gridcode\n",
      "Majority_gridcode_Percent\n",
      "WUI_Interm\n",
      "WUI_Interf\n",
      "Mj_LU_Cat\n",
      "Vg_Pct\n",
      "Buil_Rat\n"
     ]
    }
   ],
   "source": [
    "fieldObs = arcpy.ListFields(\"A_RU_11\") \n",
    "\n",
    "fieldNames = []  \n",
    "for field in fieldObs: \n",
    "    print(field.name)\n",
    "    fieldNames.append(field.name)  \n",
    "del fieldObs"
   ]
  },
  {
   "cell_type": "code",
   "execution_count": 72,
   "metadata": {},
   "outputs": [
    {
     "data": {
      "text/html": [
       "<h2>Output</h2>C:\\Users\\zrcan\\Documents\\GitHub\\RPP-SBC-EEMS\\out_data\\eems<h2>Messages</h2>Start Time: Saturday, May 22, 2021 11:29:08 PM<br/>C:\\Users\\zrcan\\Documents\\GitHub\\RPP-SBC-EEMS\\Summarize_Reporting_Units.gdb\\A_RU_11 Successfully converted:  C:\\Users\\zrcan\\Documents\\GitHub\\RPP-SBC-EEMS\\out_data/eems\\A_RU_11.shp<br/>Succeeded at Saturday, May 22, 2021 11:29:11 PM (Elapsed Time: 2.76 seconds)<br/><style>.rendered_html td, .rendered_html th {text-align: left;}.rendered_html tbody {border: 1px solid black;}</style>"
      ],
      "text/plain": [
       "<Result 'C:\\\\Users\\\\zrcan\\\\Documents\\\\GitHub\\\\RPP-SBC-EEMS\\\\out_data\\\\eems'>"
      ]
     },
     "execution_count": 72,
     "metadata": {},
     "output_type": "execute_result"
    }
   ],
   "source": [
    "dir_path = os.path.join(THIS_FOLDER, \"out_data/eems\")\n",
    "shutil.rmtree(dir_path)\n",
    "os.mkdir(dir_path)\n",
    "\n",
    "arcpy.conversion.FeatureClassToShapefile(\"A_RU_11\", \n",
    "                                        os.path.join(THIS_FOLDER, \"out_data/eems\"))"
   ]
  },
  {
   "cell_type": "code",
   "execution_count": 73,
   "metadata": {},
   "outputs": [
    {
     "name": "stdout",
     "output_type": "stream",
     "text": [
      "<class 'geopandas.geodataframe.GeoDataFrame'>\n",
      "RangeIndex: 18180 entries, 0 to 18179\n",
      "Data columns (total 19 columns):\n",
      " #   Column      Non-Null Count  Dtype   \n",
      "---  ------      --------------  -----   \n",
      " 0   Join_ID     18180 non-null  int64   \n",
      " 1   apn         18179 non-null  object  \n",
      " 2   Pr_Lg_Fr    18180 non-null  float64 \n",
      " 3   Pr_Fi_Ign   18180 non-null  float64 \n",
      " 4   Pc_Cg_LgFi  18180 non-null  float64 \n",
      " 5   Pc_Fi_Ign   18180 non-null  float64 \n",
      " 6   Fl_Fa       18180 non-null  float64 \n",
      " 7   Buil_Ar     18180 non-null  float64 \n",
      " 8   Slp         18180 non-null  float64 \n",
      " 9   Shape_Leng  18180 non-null  float64 \n",
      " 10  Shape_Area  18180 non-null  float64 \n",
      " 11  Majority_g  18180 non-null  object  \n",
      " 12  Majority_1  18180 non-null  float64 \n",
      " 13  WUI_Interm  18180 non-null  int64   \n",
      " 14  WUI_Interf  18180 non-null  int64   \n",
      " 15  Mj_LU_Cat   18180 non-null  int64   \n",
      " 16  Vg_Pct      18180 non-null  float64 \n",
      " 17  Buil_Rat    18180 non-null  float64 \n",
      " 18  geometry    18180 non-null  geometry\n",
      "dtypes: float64(12), geometry(1), int64(4), object(2)\n",
      "memory usage: 2.6+ MB\n"
     ]
    }
   ],
   "source": [
    "gdf = gpd.read_file(os.path.join(THIS_FOLDER, \"out_data/eems/A_RU_11.shp\"))\n",
    "gdf.info()"
   ]
  },
  {
   "cell_type": "code",
   "execution_count": 74,
   "metadata": {},
   "outputs": [],
   "source": [
    "gdf.to_csv(\"out_data/eems/A_RU_11.csv\", index=False)"
   ]
  },
  {
   "cell_type": "code",
   "execution_count": null,
   "metadata": {},
   "outputs": [],
   "source": []
  }
 ],
 "metadata": {
  "kernelspec": {
   "display_name": "Python 3",
   "language": "python",
   "name": "python3"
  },
  "language_info": {
   "codemirror_mode": {
    "name": "ipython",
    "version": 3
   },
   "file_extension": ".py",
   "mimetype": "text/x-python",
   "name": "python",
   "nbconvert_exporter": "python",
   "pygments_lexer": "ipython3",
   "version": "3.7.9"
  }
 },
 "nbformat": 4,
 "nbformat_minor": 4
}
