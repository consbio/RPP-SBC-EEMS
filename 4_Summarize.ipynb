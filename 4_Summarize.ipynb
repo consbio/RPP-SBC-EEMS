{
 "cells": [
  {
   "cell_type": "code",
   "execution_count": 1,
   "metadata": {},
   "outputs": [],
   "source": [
    "import pandas as pd\n",
    "import geopandas as gpd\n",
    "import arcpy\n",
    "import os\n",
    "import shutil\n",
    "import math\n",
    "import inspect\n",
    "\n",
    "src_file_path = inspect.getfile(lambda: None)\n",
    "THIS_FOLDER = os.path.dirname(os.path.abspath(src_file_path))"
   ]
  },
  {
   "cell_type": "markdown",
   "metadata": {},
   "source": [
    "# Summary\n",
    "\n",
    "This notebook summarizes the various layers into the reporting units layer in preperation for EEMS modeling. It also describes the various methodological decisions made in order to summarize the layers into reporting units. \n",
    "\n",
    "**Input Data Layers:**\n",
    "- Reporting Units (created in `2_Reporting_Units.ipynb`, to be uploaded to DB)\n",
    "- Land Use Categories (created in `3_Land_Use.ipynb`, to be uploaded to DB)\n",
    "- [Large Fire Probability](https://databasin.org/datasets/760913fb26844afd9e891209a2dd3811/)\n",
    "- [Fire Ignition Probability](https://databasin.org/datasets/2d9df577e42b4abe8fd495f75d35a3f1/)\n",
    "- [WUI Intermix & Interface](https://databasin.org/datasets/218e54cf56f94342a46fefcf05c64f9a/)\n"
   ]
  },
  {
   "cell_type": "code",
   "execution_count": null,
   "metadata": {},
   "outputs": [],
   "source": []
  }
 ],
 "metadata": {
  "kernelspec": {
   "display_name": "Python 3",
   "language": "python",
   "name": "python3"
  },
  "language_info": {
   "codemirror_mode": {
    "name": "ipython",
    "version": 3
   },
   "file_extension": ".py",
   "mimetype": "text/x-python",
   "name": "python",
   "nbconvert_exporter": "python",
   "pygments_lexer": "ipython3",
   "version": "3.7.9"
  }
 },
 "nbformat": 4,
 "nbformat_minor": 4
}
