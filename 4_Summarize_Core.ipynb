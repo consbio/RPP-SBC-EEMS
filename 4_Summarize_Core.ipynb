{
 "cells": [
  {
   "cell_type": "code",
   "execution_count": 35,
   "metadata": {},
   "outputs": [],
   "source": [
    "import pandas as pd\n",
    "import geopandas as gpd\n",
    "import arcpy\n",
    "import os\n",
    "import shutil\n",
    "import math\n",
    "import inspect\n",
    "\n",
    "src_file_path = inspect.getfile(lambda: None)\n",
    "THIS_FOLDER = os.path.dirname(os.path.abspath(src_file_path))"
   ]
  },
  {
   "cell_type": "code",
   "execution_count": 36,
   "metadata": {},
   "outputs": [],
   "source": [
    "arcpy.ResetEnvironments()\n",
    "gdb_name = \"Summarize_Reporting_Units.gdb\"\n",
    "arcpy.env.overwriteOutput = True\n",
    "path = os.path.join(THIS_FOLDER, gdb_name)\n",
    "# arcpy.CreateFileGDB_management(\"./\", gdb_name)\n",
    "arcpy.env.workspace = path\n",
    "arcpy.env.scratchWorkspace = path"
   ]
  },
  {
   "cell_type": "code",
   "execution_count": 37,
   "metadata": {},
   "outputs": [],
   "source": [
    "data = [\"in_data/Pr_Lg_Fire.shp\", \"in_data/Pr_Fire_Ign.shp\",\n",
    "        \"in_data/Pct_Cg_Lg_Fi.shp\", \"in_data/Pct_Cg_Fi_Ign.shp\",\n",
    "        \"in_data/WUI_Intermix.shp\", \"in_data/WUI_Interface.shp\",\n",
    "        \"in_data/FloraFaunaMerge.shp\",\n",
    "        \"out_data/lu/LU_merged.shp\", \"out_data/ru/Reporting_Units_APN.shp\",\n",
    "        \"out_data/building/Building_Intersect.shp\"]\n",
    "\n",
    "for v in data:\n",
    "    path = os.path.join(THIS_FOLDER, \"{}\".format(v))\n",
    "    name = v.rsplit('/', 1)[-1].split(\".\")[0]\n",
    "    arcpy.CopyFeatures_management(path, name)\n",
    "    crs = arcpy.SpatialReference('NAD 1983 StatePlane California V FIPS 0405 (US Feet)')\n",
    "    arcpy.Project_management(name, \"{}_rpj\".format(name), crs)"
   ]
  },
  {
   "cell_type": "code",
   "execution_count": 38,
   "metadata": {},
   "outputs": [
    {
     "data": {
      "text/html": [
       "<h2>Output</h2><table><tr><th>id</th><th>value</th></tr><tr><td>0</td><td>C:\\Users\\zrcan\\Documents\\GitHub\\RPP-SBC-EEMS\\Summarize_Reporting_Units.gdb\\A_RU_1</td></tr><tr><td>1</td><td></td></tr></table><h2>Messages</h2>Start Time: Thursday, May 13, 2021 10:11:18 AM<br/>Succeeded at Thursday, May 13, 2021 10:11:58 AM (Elapsed Time: 40.08 seconds)<br/><style>.rendered_html td, .rendered_html th {text-align: left;}.rendered_html tbody {border: 1px solid black;}</style>"
      ],
      "text/plain": [
       "<Result 'C:\\\\Users\\\\zrcan\\\\Documents\\\\GitHub\\\\RPP-SBC-EEMS\\\\Summarize_Reporting_Units.gdb\\\\A_RU_1'>"
      ]
     },
     "execution_count": 38,
     "metadata": {},
     "output_type": "execute_result"
    }
   ],
   "source": [
    "arcpy.analysis.SummarizeWithin(\"Reporting_Units_APN_rpj\", \"Pr_Lg_Fire_rpj\", \n",
    "                               \"A_RU_1\", \"KEEP_ALL\", \"gridcode Mean\", \n",
    "                               \"NO_SHAPE_SUM\", \"SQUAREFEET\", None, \"NO_MIN_MAJ\", \"NO_PERCENT\", None)"
   ]
  },
  {
   "cell_type": "code",
   "execution_count": 39,
   "metadata": {},
   "outputs": [
    {
     "data": {
      "text/html": [
       "<h2>Output</h2><table><tr><th>id</th><th>value</th></tr><tr><td>0</td><td>C:\\Users\\zrcan\\Documents\\GitHub\\RPP-SBC-EEMS\\Summarize_Reporting_Units.gdb\\A_RU_2</td></tr><tr><td>1</td><td></td></tr></table><h2>Messages</h2>Start Time: Thursday, May 13, 2021 10:11:58 AM<br/>Succeeded at Thursday, May 13, 2021 10:12:39 AM (Elapsed Time: 40.79 seconds)<br/><style>.rendered_html td, .rendered_html th {text-align: left;}.rendered_html tbody {border: 1px solid black;}</style>"
      ],
      "text/plain": [
       "<Result 'C:\\\\Users\\\\zrcan\\\\Documents\\\\GitHub\\\\RPP-SBC-EEMS\\\\Summarize_Reporting_Units.gdb\\\\A_RU_2'>"
      ]
     },
     "execution_count": 39,
     "metadata": {},
     "output_type": "execute_result"
    }
   ],
   "source": [
    "arcpy.analysis.SummarizeWithin(\"A_RU_1\", \"Pr_Fire_Ign_rpj\", \n",
    "                               \"A_RU_2\", \"KEEP_ALL\", \"gridcode Mean\", \n",
    "                               \"NO_SHAPE_SUM\", \"SQUAREFEET\", None, \"NO_MIN_MAJ\", \"NO_PERCENT\", None)"
   ]
  },
  {
   "cell_type": "code",
   "execution_count": 40,
   "metadata": {},
   "outputs": [
    {
     "data": {
      "text/html": [
       "<h2>Output</h2><table><tr><th>id</th><th>value</th></tr><tr><td>0</td><td>C:\\Users\\zrcan\\Documents\\GitHub\\RPP-SBC-EEMS\\Summarize_Reporting_Units.gdb\\A_RU_3</td></tr><tr><td>1</td><td></td></tr></table><h2>Messages</h2>Start Time: Thursday, May 13, 2021 10:12:39 AM<br/>Succeeded at Thursday, May 13, 2021 10:13:14 AM (Elapsed Time: 35.22 seconds)<br/><style>.rendered_html td, .rendered_html th {text-align: left;}.rendered_html tbody {border: 1px solid black;}</style>"
      ],
      "text/plain": [
       "<Result 'C:\\\\Users\\\\zrcan\\\\Documents\\\\GitHub\\\\RPP-SBC-EEMS\\\\Summarize_Reporting_Units.gdb\\\\A_RU_3'>"
      ]
     },
     "execution_count": 40,
     "metadata": {},
     "output_type": "execute_result"
    }
   ],
   "source": [
    "arcpy.analysis.SummarizeWithin(\"A_RU_2\", \"Pct_Cg_Lg_Fi_rpj\", \n",
    "                               \"A_RU_3\", \"KEEP_ALL\", \"gridcode Mean\", \n",
    "                               \"NO_SHAPE_SUM\", \"SQUAREFEET\", None, \"NO_MIN_MAJ\", \"NO_PERCENT\", None)"
   ]
  },
  {
   "cell_type": "code",
   "execution_count": 41,
   "metadata": {},
   "outputs": [
    {
     "data": {
      "text/html": [
       "<h2>Output</h2><table><tr><th>id</th><th>value</th></tr><tr><td>0</td><td>C:\\Users\\zrcan\\Documents\\GitHub\\RPP-SBC-EEMS\\Summarize_Reporting_Units.gdb\\A_RU_4</td></tr><tr><td>1</td><td></td></tr></table><h2>Messages</h2>Start Time: Thursday, May 13, 2021 10:13:15 AM<br/>Succeeded at Thursday, May 13, 2021 10:13:54 AM (Elapsed Time: 39.18 seconds)<br/><style>.rendered_html td, .rendered_html th {text-align: left;}.rendered_html tbody {border: 1px solid black;}</style>"
      ],
      "text/plain": [
       "<Result 'C:\\\\Users\\\\zrcan\\\\Documents\\\\GitHub\\\\RPP-SBC-EEMS\\\\Summarize_Reporting_Units.gdb\\\\A_RU_4'>"
      ]
     },
     "execution_count": 41,
     "metadata": {},
     "output_type": "execute_result"
    }
   ],
   "source": [
    "arcpy.analysis.SummarizeWithin(\"A_RU_3\", \"Pct_Cg_Fi_Ign_rpj\", \n",
    "                               \"A_RU_4\", \"KEEP_ALL\", \"gridcode Mean\", \n",
    "                               \"NO_SHAPE_SUM\", \"SQUAREFEET\", None, \"NO_MIN_MAJ\", \"NO_PERCENT\", None)"
   ]
  },
  {
   "cell_type": "code",
   "execution_count": 42,
   "metadata": {},
   "outputs": [
    {
     "data": {
      "text/html": [
       "<h2>Output</h2><table><tr><th>id</th><th>value</th></tr><tr><td>0</td><td>C:\\Users\\zrcan\\Documents\\GitHub\\RPP-SBC-EEMS\\Summarize_Reporting_Units.gdb\\A_RU_6</td></tr><tr><td>1</td><td></td></tr></table><h2>Messages</h2>Start Time: Thursday, May 13, 2021 10:14:10 AM<br/>Succeeded at Thursday, May 13, 2021 10:14:25 AM (Elapsed Time: 15.42 seconds)<br/><style>.rendered_html td, .rendered_html th {text-align: left;}.rendered_html tbody {border: 1px solid black;}</style>"
      ],
      "text/plain": [
       "<Result 'C:\\\\Users\\\\zrcan\\\\Documents\\\\GitHub\\\\RPP-SBC-EEMS\\\\Summarize_Reporting_Units.gdb\\\\A_RU_6'>"
      ]
     },
     "execution_count": 42,
     "metadata": {},
     "output_type": "execute_result"
    }
   ],
   "source": [
    "arcpy.analysis.SummarizeWithin(\"A_RU_4\", \"WUI_Intermix_rpj\", \n",
    "                               \"A_RU_5\", \"KEEP_ALL\", None, \n",
    "                               \"ADD_SHAPE_SUM\", \"SQUAREFEET\", None, \"NO_MIN_MAJ\", \"NO_PERCENT\", None)\n",
    "arcpy.analysis.SummarizeWithin(\"A_RU_5\", \"WUI_Interface_rpj\", \n",
    "                               \"A_RU_6\", \"KEEP_ALL\", None, \n",
    "                               \"ADD_SHAPE_SUM\", \"SQUAREFEET\", None, \"NO_MIN_MAJ\", \"NO_PERCENT\", None)"
   ]
  },
  {
   "cell_type": "code",
   "execution_count": 43,
   "metadata": {},
   "outputs": [
    {
     "data": {
      "text/html": [
       "<h2>Output</h2><table><tr><th>id</th><th>value</th></tr><tr><td>0</td><td>C:\\Users\\zrcan\\Documents\\GitHub\\RPP-SBC-EEMS\\Summarize_Reporting_Units.gdb\\A_RU_7</td></tr><tr><td>1</td><td>C:\\Users\\zrcan\\Documents\\GitHub\\RPP-SBC-EEMS\\Summarize_Reporting_Units.gdb\\LU_Cat_Summary</td></tr></table><h2>Messages</h2>Start Time: Thursday, May 13, 2021 10:14:26 AM<br/>Succeeded at Thursday, May 13, 2021 10:15:00 AM (Elapsed Time: 34.12 seconds)<br/><style>.rendered_html td, .rendered_html th {text-align: left;}.rendered_html tbody {border: 1px solid black;}</style>"
      ],
      "text/plain": [
       "<Result 'C:\\\\Users\\\\zrcan\\\\Documents\\\\GitHub\\\\RPP-SBC-EEMS\\\\Summarize_Reporting_Units.gdb\\\\A_RU_7'>"
      ]
     },
     "execution_count": 43,
     "metadata": {},
     "output_type": "execute_result"
    }
   ],
   "source": [
    "arcpy.analysis.SummarizeWithin(\"A_RU_6\", \"LU_Merged_rpj\", \n",
    "                               \"A_RU_7\", \"KEEP_ALL\", \"LU_Cat Max\", \n",
    "                               \"NO_SHAPE_SUM\", \"SQUAREFEET\", \"LU_Cat\", \"ADD_MIN_MAJ\", \"NO_PERCENT\", None)"
   ]
  },
  {
   "cell_type": "code",
   "execution_count": 44,
   "metadata": {},
   "outputs": [
    {
     "data": {
      "text/html": [
       "<h2>Output</h2><table><tr><th>id</th><th>value</th></tr><tr><td>0</td><td>C:\\Users\\zrcan\\Documents\\GitHub\\RPP-SBC-EEMS\\Summarize_Reporting_Units.gdb\\A_RU_8</td></tr><tr><td>1</td><td></td></tr></table><h2>Messages</h2>Start Time: Thursday, May 13, 2021 10:15:00 AM<br/>Succeeded at Thursday, May 13, 2021 10:15:31 AM (Elapsed Time: 30.40 seconds)<br/><style>.rendered_html td, .rendered_html th {text-align: left;}.rendered_html tbody {border: 1px solid black;}</style>"
      ],
      "text/plain": [
       "<Result 'C:\\\\Users\\\\zrcan\\\\Documents\\\\GitHub\\\\RPP-SBC-EEMS\\\\Summarize_Reporting_Units.gdb\\\\A_RU_8'>"
      ]
     },
     "execution_count": 44,
     "metadata": {},
     "output_type": "execute_result"
    }
   ],
   "source": [
    "arcpy.analysis.SummarizeWithin(\"A_RU_7\", \"FloraFaunaMerge_rpj\", \n",
    "                               \"A_RU_8\", \"KEEP_ALL\", \"Flora_Faun Mean\", \n",
    "                               \"NO_SHAPE_SUM\", \"SQUAREFEET\", None, \"NO_MIN_MAJ\", \"NO_PERCENT\", None)"
   ]
  },
  {
   "cell_type": "code",
   "execution_count": 49,
   "metadata": {},
   "outputs": [
    {
     "data": {
      "text/html": [
       "<h2>Output</h2><table><tr><th>id</th><th>value</th></tr><tr><td>0</td><td>C:\\Users\\zrcan\\Documents\\GitHub\\RPP-SBC-EEMS\\Summarize_Reporting_Units.gdb\\A_RU_9</td></tr><tr><td>1</td><td></td></tr></table><h2>Messages</h2>Start Time: Thursday, May 13, 2021 10:23:51 AM<br/>Succeeded at Thursday, May 13, 2021 10:24:59 AM (Elapsed Time: 1 minutes 8 seconds)<br/><style>.rendered_html td, .rendered_html th {text-align: left;}.rendered_html tbody {border: 1px solid black;}</style>"
      ],
      "text/plain": [
       "<Result 'C:\\\\Users\\\\zrcan\\\\Documents\\\\GitHub\\\\RPP-SBC-EEMS\\\\Summarize_Reporting_Units.gdb\\\\A_RU_9'>"
      ]
     },
     "execution_count": 49,
     "metadata": {},
     "output_type": "execute_result"
    }
   ],
   "source": [
    "arcpy.analysis.SummarizeWithin(\"A_RU_8\", \"Building_Intersect_rpj\", \n",
    "                               \"A_RU_9\", \"KEEP_ALL\", \"\", \n",
    "                               \"ADD_SHAPE_SUM\", \"SQUAREFEET\", None, \"NO_MIN_MAJ\", \"NO_PERCENT\", None)"
   ]
  },
  {
   "cell_type": "code",
   "execution_count": 50,
   "metadata": {},
   "outputs": [],
   "source": [
    "fieldObs = arcpy.ListFields(\"A_RU_9\")  \n",
    "\n",
    "fieldNames = []  \n",
    "for field in fieldObs:  \n",
    "    fieldNames.append(field.name)  \n",
    "del fieldObs  \n",
    "fieldCount = len(fieldNames) \n",
    "\n",
    "with arcpy.da.UpdateCursor(\"A_RU_9\", fieldNames) as curU:  \n",
    "    for row in curU:  \n",
    "        rowU = row  \n",
    "        for field in range(fieldCount):  \n",
    "            if rowU[field] == None:  \n",
    "                rowU[field] = \"0\"  \n",
    "        curU.updateRow(rowU)\n",
    "\n",
    "del curU"
   ]
  },
  {
   "cell_type": "code",
   "execution_count": 52,
   "metadata": {},
   "outputs": [
    {
     "data": {
      "text/html": [
       "<h2>Output</h2>C:\\Users\\zrcan\\Documents\\GitHub\\RPP-SBC-EEMS\\Summarize_Reporting_Units.gdb\\A_RU_9<h2>Messages</h2>Start Time: Thursday, May 13, 2021 10:27:24 AM<br/>Succeeded at Thursday, May 13, 2021 10:27:25 AM (Elapsed Time: 1.12 seconds)<br/><style>.rendered_html td, .rendered_html th {text-align: left;}.rendered_html tbody {border: 1px solid black;}</style>"
      ],
      "text/plain": [
       "<Result 'C:\\\\Users\\\\zrcan\\\\Documents\\\\GitHub\\\\RPP-SBC-EEMS\\\\Summarize_Reporting_Units.gdb\\\\A_RU_9'>"
      ]
     },
     "execution_count": 52,
     "metadata": {},
     "output_type": "execute_result"
    }
   ],
   "source": [
    "codeblock = \"\"\"\n",
    "def get_val(m):\n",
    "    if m > 0:\n",
    "        return 1\n",
    "    else:\n",
    "        return 0\n",
    "\"\"\"\n",
    "\n",
    "# Execute CalculateField \n",
    "arcpy.CalculateField_management(\"A_RU_9\", \"WUI_Interm\", \"get_val(!SUM_Area_SQUAREFEET!)\", \"PYTHON3\", codeblock)\n",
    "arcpy.CalculateField_management(\"A_RU_9\", \"WUI_Interf\", \"get_val(!SUM_Area_SQUAREFEET_1!)\", \"PYTHON3\", codeblock)\n",
    "\n",
    "arcpy.DeleteField_management(\"A_RU_9\", \n",
    "                             ['SUM_Area_SQUAREFEET', 'SUM_Area_SQUAREFEET_1'])"
   ]
  },
  {
   "cell_type": "code",
   "execution_count": 53,
   "metadata": {},
   "outputs": [
    {
     "name": "stdout",
     "output_type": "stream",
     "text": [
      "OBJECTID\n",
      "Shape\n",
      "Join_ID\n",
      "apn\n",
      "Shape_Leng\n",
      "MEAN_gridcode\n",
      "MEAN_gridcode_1\n",
      "MEAN_gridcode_12\n",
      "MEAN_gridcode_12_13\n",
      "SUM_Area_SQUAREFEET_12\n",
      "MAX_LU_Cat\n",
      "Minority_LU_Cat\n",
      "Majority_LU_Cat\n",
      "Join_ID_1\n",
      "MEAN_Flora_Faun\n",
      "Shape_Length\n",
      "Shape_Area\n",
      "SUM_Area_SQUAREFEET_12_13\n",
      "WUI_Interm\n",
      "WUI_Interf\n"
     ]
    }
   ],
   "source": [
    "fieldObs = arcpy.ListFields(\"A_RU_9\") \n",
    "\n",
    "fieldNames = []  \n",
    "for field in fieldObs: \n",
    "    print(field.name)\n",
    "    fieldNames.append(field.name)  \n",
    "del fieldObs"
   ]
  },
  {
   "cell_type": "code",
   "execution_count": 55,
   "metadata": {},
   "outputs": [
    {
     "data": {
      "text/html": [
       "<h2>Output</h2>C:\\Users\\zrcan\\Documents\\GitHub\\RPP-SBC-EEMS\\Summarize_Reporting_Units.gdb\\A_RU_9<h2>Messages</h2>Start Time: Thursday, May 13, 2021 10:28:25 AM<br/>Succeeded at Thursday, May 13, 2021 10:28:27 AM (Elapsed Time: 2.27 seconds)<br/><style>.rendered_html td, .rendered_html th {text-align: left;}.rendered_html tbody {border: 1px solid black;}</style>"
      ],
      "text/plain": [
       "<Result 'C:\\\\Users\\\\zrcan\\\\Documents\\\\GitHub\\\\RPP-SBC-EEMS\\\\Summarize_Reporting_Units.gdb\\\\A_RU_9'>"
      ]
     },
     "execution_count": 55,
     "metadata": {},
     "output_type": "execute_result"
    }
   ],
   "source": [
    "arcpy.AlterField_management('A_RU_9', \n",
    "                            'MEAN_gridcode', 'Pr_Lg_Fr', 'Pr_Lg_Fr')\n",
    "arcpy.AlterField_management('A_RU_9', \n",
    "                            'MEAN_gridcode_1', 'Pr_Fi_Ign', 'Pr_Fi_Ign')\n",
    "arcpy.AlterField_management('A_RU_9', \n",
    "                            'MEAN_gridcode_12', 'Pc_Cg_LgFi', 'Pc_Cg_LgFi')\n",
    "arcpy.AlterField_management('A_RU_9', \n",
    "                            'MEAN_gridcode_12_13', 'Pc_Fi_Ign', 'Pc_Fi_Ign')\n",
    "\n",
    "arcpy.AlterField_management('A_RU_9', \n",
    "                            'MEAN_Flora_Faun', 'Fl_Fa', 'Fl_Fa')\n",
    "\n",
    "arcpy.AlterField_management('A_RU_9', \n",
    "                            'SUM_Area_SQUAREFEET_12_13', 'Buil_Ar', 'Buil_Ar')\n",
    "\n",
    "arcpy.AlterField_management('A_RU_9', \n",
    "                            'Majority_LU_Cat', 'Mj_LU_Cat', 'Mj_LU_Cat')\n",
    "arcpy.DeleteField_management(\"A_RU_9\", \n",
    "                             ['SUM_Area_SQUAREFEET_12', 'MAX_LU_Cat', 'Minority_LU_Cat', 'Join_ID_1', 'Shape_Leng'])"
   ]
  },
  {
   "cell_type": "code",
   "execution_count": 56,
   "metadata": {},
   "outputs": [
    {
     "data": {
      "text/html": [
       "<h2>Output</h2>C:\\Users\\zrcan\\Documents\\GitHub\\RPP-SBC-EEMS\\Summarize_Reporting_Units.gdb\\A_RU_9<h2>Messages</h2>Start Time: Thursday, May 13, 2021 10:28:27 AM<br/>Succeeded at Thursday, May 13, 2021 10:28:29 AM (Elapsed Time: 1.44 seconds)<br/><style>.rendered_html td, .rendered_html th {text-align: left;}.rendered_html tbody {border: 1px solid black;}</style>"
      ],
      "text/plain": [
       "<Result 'C:\\\\Users\\\\zrcan\\\\Documents\\\\GitHub\\\\RPP-SBC-EEMS\\\\Summarize_Reporting_Units.gdb\\\\A_RU_9'>"
      ]
     },
     "execution_count": 56,
     "metadata": {},
     "output_type": "execute_result"
    }
   ],
   "source": [
    "arcpy.AddField_management(\"A_RU_9\", \"Buil_Rat\", \"FLOAT\")\n",
    "\n",
    "arcpy.CalculateField_management(\"A_RU_9\", \"Buil_Rat\", \n",
    "                                '!Buil_Ar!/!Shape_Area!', \"PYTHON3\")"
   ]
  },
  {
   "cell_type": "code",
   "execution_count": 57,
   "metadata": {},
   "outputs": [
    {
     "data": {
      "text/html": [
       "<h2>Output</h2>C:\\Users\\zrcan\\Documents\\GitHub\\RPP-SBC-EEMS\\out_data\\eems<h2>Messages</h2>Start Time: Thursday, May 13, 2021 10:28:33 AM<br/>C:\\Users\\zrcan\\Documents\\GitHub\\RPP-SBC-EEMS\\Summarize_Reporting_Units.gdb\\A_RU_9 Successfully converted:  C:\\Users\\zrcan\\Documents\\GitHub\\RPP-SBC-EEMS\\out_data/eems\\A_RU_9.shp<br/>Succeeded at Thursday, May 13, 2021 10:28:36 AM (Elapsed Time: 3.17 seconds)<br/><style>.rendered_html td, .rendered_html th {text-align: left;}.rendered_html tbody {border: 1px solid black;}</style>"
      ],
      "text/plain": [
       "<Result 'C:\\\\Users\\\\zrcan\\\\Documents\\\\GitHub\\\\RPP-SBC-EEMS\\\\out_data\\\\eems'>"
      ]
     },
     "execution_count": 57,
     "metadata": {},
     "output_type": "execute_result"
    }
   ],
   "source": [
    "dir_path = os.path.join(THIS_FOLDER, \"out_data/eems\")\n",
    "shutil.rmtree(dir_path)\n",
    "os.mkdir(dir_path)\n",
    "\n",
    "arcpy.conversion.FeatureClassToShapefile(\"A_RU_9\", \n",
    "                                        os.path.join(THIS_FOLDER, \"out_data/eems\"))"
   ]
  },
  {
   "cell_type": "code",
   "execution_count": 58,
   "metadata": {},
   "outputs": [
    {
     "name": "stdout",
     "output_type": "stream",
     "text": [
      "<class 'geopandas.geodataframe.GeoDataFrame'>\n",
      "RangeIndex: 18180 entries, 0 to 18179\n",
      "Data columns (total 15 columns):\n",
      " #   Column      Non-Null Count  Dtype   \n",
      "---  ------      --------------  -----   \n",
      " 0   Join_ID     18180 non-null  int64   \n",
      " 1   apn         18179 non-null  object  \n",
      " 2   Pr_Lg_Fr    18180 non-null  float64 \n",
      " 3   Pr_Fi_Ign   18180 non-null  float64 \n",
      " 4   Pc_Cg_LgFi  18180 non-null  float64 \n",
      " 5   Pc_Fi_Ign   18180 non-null  float64 \n",
      " 6   Mj_LU_Cat   18180 non-null  object  \n",
      " 7   Fl_Fa       18180 non-null  float64 \n",
      " 8   Shape_Leng  18180 non-null  float64 \n",
      " 9   Shape_Area  18180 non-null  float64 \n",
      " 10  Buil_Ar     18180 non-null  float64 \n",
      " 11  WUI_Interm  18180 non-null  object  \n",
      " 12  WUI_Interf  18180 non-null  object  \n",
      " 13  Buil_Rat    18180 non-null  float64 \n",
      " 14  geometry    18180 non-null  geometry\n",
      "dtypes: float64(9), geometry(1), int64(1), object(4)\n",
      "memory usage: 2.1+ MB\n"
     ]
    }
   ],
   "source": [
    "gdf = gpd.read_file(os.path.join(THIS_FOLDER, \"out_data/eems/A_RU_9.shp\"))\n",
    "gdf.info()"
   ]
  },
  {
   "cell_type": "code",
   "execution_count": 59,
   "metadata": {},
   "outputs": [],
   "source": [
    "gdf.to_csv(\"out_data/eems/A_RU_9.csv\", index=False)"
   ]
  },
  {
   "cell_type": "code",
   "execution_count": null,
   "metadata": {},
   "outputs": [],
   "source": []
  }
 ],
 "metadata": {
  "kernelspec": {
   "display_name": "Python 3",
   "language": "python",
   "name": "python3"
  },
  "language_info": {
   "codemirror_mode": {
    "name": "ipython",
    "version": 3
   },
   "file_extension": ".py",
   "mimetype": "text/x-python",
   "name": "python",
   "nbconvert_exporter": "python",
   "pygments_lexer": "ipython3",
   "version": "3.7.9"
  }
 },
 "nbformat": 4,
 "nbformat_minor": 4
}
