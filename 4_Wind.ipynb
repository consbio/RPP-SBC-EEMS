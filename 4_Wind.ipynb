{
 "cells": [
  {
   "cell_type": "code",
   "execution_count": 99,
   "metadata": {},
   "outputs": [],
   "source": [
    "import mpilot\n",
    "import arcpy\n",
    "import inspect\n",
    "import pandas as pd\n",
    "import geopandas as gpd\n",
    "import os\n",
    "import shutil\n",
    "from shapely import wkt\n",
    "from pyproj import CRS\n",
    "\n",
    "src_file_path = inspect.getfile(lambda: None)\n",
    "THIS_FOLDER = os.path.dirname(os.path.abspath(src_file_path))"
   ]
  },
  {
   "cell_type": "code",
   "execution_count": 100,
   "metadata": {},
   "outputs": [
    {
     "data": {
      "text/html": [
       "<h2>Output</h2>true<h2>Messages</h2>Start Time: Wednesday, April 21, 2021 11:00:50 AM<br/>Succeeded at Wednesday, April 21, 2021 11:00:50 AM (Elapsed Time: 0.00 seconds)<br/><style>.rendered_html td, .rendered_html th {text-align: left;}.rendered_html tbody {border: 1px solid black;}</style>"
      ],
      "text/plain": [
       "<Result 'true'>"
      ]
     },
     "execution_count": 100,
     "metadata": {},
     "output_type": "execute_result"
    }
   ],
   "source": [
    "arcpy.ClearWorkspaceCache_management()"
   ]
  },
  {
   "cell_type": "code",
   "execution_count": 102,
   "metadata": {},
   "outputs": [],
   "source": [
    "arcpy.ResetEnvironments()\n",
    "gdb_name = \"Ember_Risk.gdb\"\n",
    "arcpy.env.overwriteOutput = True\n",
    "path = os.path.join(THIS_FOLDER, gdb_name)\n",
    "# arcpy.CreateFileGDB_management(\"./\", gdb_name)\n",
    "arcpy.env.workspace = path\n",
    "arcpy.env.scratchWorkspace = path"
   ]
  },
  {
   "cell_type": "code",
   "execution_count": 103,
   "metadata": {},
   "outputs": [
    {
     "data": {
      "text/html": [
       "<h2>Output</h2>C:\\Users\\zrcan\\Documents\\GitHub\\RPP-SBC-EEMS\\Ember_Risk.gdb\\Prob_Lg_Fire_rpj<h2>Messages</h2>Start Time: Wednesday, April 21, 2021 11:01:09 AM<br/>Succeeded at Wednesday, April 21, 2021 11:01:15 AM (Elapsed Time: 5.96 seconds)<br/><style>.rendered_html td, .rendered_html th {text-align: left;}.rendered_html tbody {border: 1px solid black;}</style>"
      ],
      "text/plain": [
       "<Result 'C:\\\\Users\\\\zrcan\\\\Documents\\\\GitHub\\\\RPP-SBC-EEMS\\\\Ember_Risk.gdb\\\\Prob_Lg_Fire_rpj'>"
      ]
     },
     "execution_count": 103,
     "metadata": {},
     "output_type": "execute_result"
    }
   ],
   "source": [
    "path = os.path.join(THIS_FOLDER, \"out_data/ru/Reporting_Units_APN.shp\")\n",
    "arcpy.CopyFeatures_management(path, \"Reporting_Units\")\n",
    "crs = arcpy.SpatialReference('WGS 1984')\n",
    "arcpy.Project_management(\"Reporting_Units\", \"Reporting_Units_rpj\", crs)\n",
    "\n",
    "path = os.path.join(THIS_FOLDER, \"in_data/Prob_Lg_Fire_Vector.shp\")\n",
    "arcpy.CopyFeatures_management(path, \"Prob_Lg_Fire\")\n",
    "crs = arcpy.SpatialReference('WGS 1984')\n",
    "arcpy.Project_management(\"Prob_Lg_Fire\", \"Prob_Lg_Fire_rpj\", crs)"
   ]
  },
  {
   "cell_type": "code",
   "execution_count": 104,
   "metadata": {},
   "outputs": [
    {
     "data": {
      "text/html": [
       "<h2>Output</h2>C:\\Users\\zrcan\\Documents\\GitHub\\RPP-SBC-EEMS\\Ember_Risk.gdb\\Reporting_Units_Points<h2>Messages</h2>Start Time: Wednesday, April 21, 2021 11:01:15 AM<br/>Succeeded at Wednesday, April 21, 2021 11:01:17 AM (Elapsed Time: 1.92 seconds)<br/><style>.rendered_html td, .rendered_html th {text-align: left;}.rendered_html tbody {border: 1px solid black;}</style>"
      ],
      "text/plain": [
       "<Result 'C:\\\\Users\\\\zrcan\\\\Documents\\\\GitHub\\\\RPP-SBC-EEMS\\\\Ember_Risk.gdb\\\\Reporting_Units_Points'>"
      ]
     },
     "execution_count": 104,
     "metadata": {},
     "output_type": "execute_result"
    }
   ],
   "source": [
    "arcpy.management.FeatureToPoint(\"Reporting_Units_rpj\", \"Reporting_Units_Points\", \"INSIDE\")     "
   ]
  },
  {
   "cell_type": "code",
   "execution_count": 105,
   "metadata": {},
   "outputs": [
    {
     "data": {
      "text/html": [
       "<h2>Output</h2>C:\\Users\\zrcan\\Documents\\GitHub\\RPP-SBC-EEMS\\Ember_Risk.gdb\\wind_pts1<h2>Messages</h2>Start Time: Wednesday, April 21, 2021 11:01:19 AM<br/>Succeeded at Wednesday, April 21, 2021 11:01:19 AM (Elapsed Time: 0.36 seconds)<br/><style>.rendered_html td, .rendered_html th {text-align: left;}.rendered_html tbody {border: 1px solid black;}</style>"
      ],
      "text/plain": [
       "<Result 'C:\\\\Users\\\\zrcan\\\\Documents\\\\GitHub\\\\RPP-SBC-EEMS\\\\Ember_Risk.gdb\\\\wind_pts1'>"
      ]
     },
     "execution_count": 105,
     "metadata": {},
     "output_type": "execute_result"
    }
   ],
   "source": [
    "path = os.path.join(THIS_FOLDER, \"in_data/wind/santa_ana_10162018_speed.tif\")\n",
    "arcpy.sa.ExtractValuesToPoints(\"Reporting_Units_Points\", path, \"wind_pts1\", \"NONE\", \"VALUE_ONLY\")\n",
    "arcpy.AlterField_management('wind_pts1', 'RASTERVALU', 'sa_mag', 'sa_mag')"
   ]
  },
  {
   "cell_type": "code",
   "execution_count": 106,
   "metadata": {},
   "outputs": [
    {
     "data": {
      "text/html": [
       "<h2>Output</h2>C:\\Users\\zrcan\\Documents\\GitHub\\RPP-SBC-EEMS\\Ember_Risk.gdb\\wind_pts2<h2>Messages</h2>Start Time: Wednesday, April 21, 2021 11:01:21 AM<br/>Succeeded at Wednesday, April 21, 2021 11:01:22 AM (Elapsed Time: 0.34 seconds)<br/><style>.rendered_html td, .rendered_html th {text-align: left;}.rendered_html tbody {border: 1px solid black;}</style>"
      ],
      "text/plain": [
       "<Result 'C:\\\\Users\\\\zrcan\\\\Documents\\\\GitHub\\\\RPP-SBC-EEMS\\\\Ember_Risk.gdb\\\\wind_pts2'>"
      ]
     },
     "execution_count": 106,
     "metadata": {},
     "output_type": "execute_result"
    }
   ],
   "source": [
    "path = os.path.join(THIS_FOLDER, \"in_data/wind/santa_ana_10162018_dir.tif\")\n",
    "arcpy.sa.ExtractValuesToPoints(\"wind_pts1\", path, \"wind_pts2\", \"NONE\", \"VALUE_ONLY\")\n",
    "arcpy.AlterField_management('wind_pts2', 'RASTERVALU', 'sa_dir', 'sa_dir')"
   ]
  },
  {
   "cell_type": "code",
   "execution_count": 107,
   "metadata": {},
   "outputs": [
    {
     "data": {
      "text/html": [
       "<h2>Output</h2>C:\\Users\\zrcan\\Documents\\GitHub\\RPP-SBC-EEMS\\Ember_Risk.gdb\\wind_pts3<h2>Messages</h2>Start Time: Wednesday, April 21, 2021 11:01:23 AM<br/>Succeeded at Wednesday, April 21, 2021 11:01:24 AM (Elapsed Time: 0.36 seconds)<br/><style>.rendered_html td, .rendered_html th {text-align: left;}.rendered_html tbody {border: 1px solid black;}</style>"
      ],
      "text/plain": [
       "<Result 'C:\\\\Users\\\\zrcan\\\\Documents\\\\GitHub\\\\RPP-SBC-EEMS\\\\Ember_Risk.gdb\\\\wind_pts3'>"
      ]
     },
     "execution_count": 107,
     "metadata": {},
     "output_type": "execute_result"
    }
   ],
   "source": [
    "path = os.path.join(THIS_FOLDER, \"in_data/wind/sundowner_4132018_dir.tif\")\n",
    "arcpy.sa.ExtractValuesToPoints(\"wind_pts2\", path, \"wind_pts3\", \"NONE\", \"VALUE_ONLY\")\n",
    "arcpy.AlterField_management('wind_pts3', 'RASTERVALU', 'sd_dir', 'sd_dir')"
   ]
  },
  {
   "cell_type": "code",
   "execution_count": 108,
   "metadata": {},
   "outputs": [
    {
     "data": {
      "text/html": [
       "<h2>Output</h2>C:\\Users\\zrcan\\Documents\\GitHub\\RPP-SBC-EEMS\\Ember_Risk.gdb\\wind_pts4<h2>Messages</h2>Start Time: Wednesday, April 21, 2021 11:01:25 AM<br/>Succeeded at Wednesday, April 21, 2021 11:01:26 AM (Elapsed Time: 0.36 seconds)<br/><style>.rendered_html td, .rendered_html th {text-align: left;}.rendered_html tbody {border: 1px solid black;}</style>"
      ],
      "text/plain": [
       "<Result 'C:\\\\Users\\\\zrcan\\\\Documents\\\\GitHub\\\\RPP-SBC-EEMS\\\\Ember_Risk.gdb\\\\wind_pts4'>"
      ]
     },
     "execution_count": 108,
     "metadata": {},
     "output_type": "execute_result"
    }
   ],
   "source": [
    "path = os.path.join(THIS_FOLDER, \"in_data/wind/sundowner_4132018_speed.tif\")\n",
    "arcpy.sa.ExtractValuesToPoints(\"wind_pts3\", path, \"wind_pts4\", \"NONE\", \"VALUE_ONLY\")\n",
    "arcpy.AlterField_management('wind_pts4', 'RASTERVALU', 'sd_mag', 'sd_mag')"
   ]
  },
  {
   "cell_type": "code",
   "execution_count": 109,
   "metadata": {},
   "outputs": [
    {
     "data": {
      "text/html": [
       "<h2>Output</h2>C:\\Users\\zrcan\\Documents\\GitHub\\RPP-SBC-EEMS\\Ember_Risk.gdb\\wind_pts4<h2>Messages</h2>Start Time: Wednesday, April 21, 2021 11:01:27 AM<br/>Succeeded at Wednesday, April 21, 2021 11:01:33 AM (Elapsed Time: 5.39 seconds)<br/><style>.rendered_html td, .rendered_html th {text-align: left;}.rendered_html tbody {border: 1px solid black;}</style>"
      ],
      "text/plain": [
       "<Result 'C:\\\\Users\\\\zrcan\\\\Documents\\\\GitHub\\\\RPP-SBC-EEMS\\\\Ember_Risk.gdb\\\\wind_pts4'>"
      ]
     },
     "execution_count": 109,
     "metadata": {},
     "output_type": "execute_result"
    }
   ],
   "source": [
    "arcpy.AddField_management(\"wind_pts4\", \"x\", \"DOUBLE\")\n",
    "arcpy.AddField_management(\"wind_pts4\", \"y\", \"DOUBLE\")\n",
    "arcpy.management.CalculateGeometryAttributes(\"wind_pts4\", \"x POINT_X;y POINT_Y\", '', '', None, \"SAME_AS_INPUT\")"
   ]
  },
  {
   "cell_type": "code",
   "execution_count": 110,
   "metadata": {},
   "outputs": [
    {
     "data": {
      "text/html": [
       "<h2>Output</h2>C:\\Users\\zrcan\\Documents\\GitHub\\RPP-SBC-EEMS\\Ember_Risk.gdb\\wind_pts4<h2>Messages</h2>Start Time: Wednesday, April 21, 2021 11:01:33 AM<br/>Adding sd_throw to wind_pts4...<br/>Succeeded at Wednesday, April 21, 2021 11:01:34 AM (Elapsed Time: 0.28 seconds)<br/><style>.rendered_html td, .rendered_html th {text-align: left;}.rendered_html tbody {border: 1px solid black;}</style>"
      ],
      "text/plain": [
       "<Result 'C:\\\\Users\\\\zrcan\\\\Documents\\\\GitHub\\\\RPP-SBC-EEMS\\\\Ember_Risk.gdb\\\\wind_pts4'>"
      ]
     },
     "execution_count": 110,
     "metadata": {},
     "output_type": "execute_result"
    }
   ],
   "source": [
    "arcpy.AddField_management(\"wind_pts4\", \"sa_throw\", \"DOUBLE\")\n",
    "arcpy.AddField_management(\"wind_pts4\", \"sd_throw\", \"DOUBLE\")"
   ]
  },
  {
   "cell_type": "code",
   "execution_count": 111,
   "metadata": {},
   "outputs": [
    {
     "data": {
      "text/html": [
       "<h2>Output</h2>C:\\Users\\zrcan\\Documents\\GitHub\\RPP-SBC-EEMS\\Ember_Risk.gdb\\wind_pts4<h2>Messages</h2>Start Time: Wednesday, April 21, 2021 11:01:35 AM<br/>Succeeded at Wednesday, April 21, 2021 11:01:36 AM (Elapsed Time: 0.98 seconds)<br/><style>.rendered_html td, .rendered_html th {text-align: left;}.rendered_html tbody {border: 1px solid black;}</style>"
      ],
      "text/plain": [
       "<Result 'C:\\\\Users\\\\zrcan\\\\Documents\\\\GitHub\\\\RPP-SBC-EEMS\\\\Ember_Risk.gdb\\\\wind_pts4'>"
      ]
     },
     "execution_count": 111,
     "metadata": {},
     "output_type": "execute_result"
    }
   ],
   "source": [
    "codeblock = \"\"\"\n",
    "def get_throw(mag):\n",
    "    return (mag * 100)\n",
    "\"\"\"\n",
    "\n",
    "# Execute CalculateField \n",
    "arcpy.CalculateField_management(\"wind_pts4\", \"sa_throw\", \"get_throw(!sa_mag!)\", \"PYTHON3\", codeblock)\n",
    "arcpy.CalculateField_management(\"wind_pts4\", \"sd_throw\", \"get_throw(!sd_mag!)\", \"PYTHON3\", codeblock)"
   ]
  },
  {
   "cell_type": "code",
   "execution_count": 112,
   "metadata": {},
   "outputs": [],
   "source": [
    "fieldNames = [\"sa_throw\", \"sd_throw\"] \n",
    "fieldCount = len(fieldNames)\n",
    "\n",
    "with arcpy.da.UpdateCursor(\"wind_pts4\", fieldNames) as curU:  \n",
    "    for row in curU:  \n",
    "        rowU = row  \n",
    "        for field in range(fieldCount):  \n",
    "            if (rowU[field] == None or rowU[field] == 0):  \n",
    "                rowU[field] = \"0.01\"  \n",
    "        curU.updateRow(rowU)\n",
    "\n",
    "del curU"
   ]
  },
  {
   "cell_type": "code",
   "execution_count": 113,
   "metadata": {},
   "outputs": [
    {
     "data": {
      "text/html": [
       "<h2>Output</h2>C:\\Users\\zrcan\\Documents\\GitHub\\RPP-SBC-EEMS\\Ember_Risk.gdb\\sd_bearing_line<h2>Messages</h2>Start Time: Wednesday, April 21, 2021 11:01:37 AM<br/>Succeeded at Wednesday, April 21, 2021 11:01:39 AM (Elapsed Time: 1.73 seconds)<br/><style>.rendered_html td, .rendered_html th {text-align: left;}.rendered_html tbody {border: 1px solid black;}</style>"
      ],
      "text/plain": [
       "<Result 'C:\\\\Users\\\\zrcan\\\\Documents\\\\GitHub\\\\RPP-SBC-EEMS\\\\Ember_Risk.gdb\\\\sd_bearing_line'>"
      ]
     },
     "execution_count": 113,
     "metadata": {},
     "output_type": "execute_result"
    }
   ],
   "source": [
    "arcpy.management.BearingDistanceToLine(\"wind_pts4\", \"sd_bearing_line\", \"x\", \"y\", \"sd_throw\", \"METERS\", \"sd_dir\", \"DEGREES\", \"GEODESIC\", None)"
   ]
  },
  {
   "cell_type": "code",
   "execution_count": 114,
   "metadata": {},
   "outputs": [
    {
     "data": {
      "text/html": [
       "<h2>Output</h2>C:\\Users\\zrcan\\Documents\\GitHub\\RPP-SBC-EEMS\\Ember_Risk.gdb\\sa_bearing_line<h2>Messages</h2>Start Time: Wednesday, April 21, 2021 11:01:39 AM<br/>Succeeded at Wednesday, April 21, 2021 11:01:41 AM (Elapsed Time: 1.66 seconds)<br/><style>.rendered_html td, .rendered_html th {text-align: left;}.rendered_html tbody {border: 1px solid black;}</style>"
      ],
      "text/plain": [
       "<Result 'C:\\\\Users\\\\zrcan\\\\Documents\\\\GitHub\\\\RPP-SBC-EEMS\\\\Ember_Risk.gdb\\\\sa_bearing_line'>"
      ]
     },
     "execution_count": 114,
     "metadata": {},
     "output_type": "execute_result"
    }
   ],
   "source": [
    "arcpy.management.BearingDistanceToLine(\"wind_pts4\", \"sa_bearing_line\", \"x\", \"y\", \"sa_throw\", \"METERS\", \"sa_dir\", \"DEGREES\", \"GEODESIC\", None)"
   ]
  },
  {
   "cell_type": "code",
   "execution_count": 146,
   "metadata": {},
   "outputs": [
    {
     "name": "stdout",
     "output_type": "stream",
     "text": [
      "['OID', 'Shape', 'x', 'y', 'sa_throw', 'sa_dir', 'Shape_Length']\n"
     ]
    }
   ],
   "source": [
    "field_names = [f.name for f in arcpy.ListFields(\"sa_bearing_line\")]\n",
    "print(field_names)"
   ]
  },
  {
   "cell_type": "code",
   "execution_count": 147,
   "metadata": {},
   "outputs": [
    {
     "name": "stdout",
     "output_type": "stream",
     "text": [
      "['OID', 'Shape', 'x', 'y', 'sd_throw', 'sd_dir', 'Shape_Length']\n"
     ]
    }
   ],
   "source": [
    "field_names = [f.name for f in arcpy.ListFields(\"sd_bearing_line\")]\n",
    "print(field_names)"
   ]
  },
  {
   "cell_type": "code",
   "execution_count": 148,
   "metadata": {},
   "outputs": [
    {
     "data": {
      "text/html": [
       "<h2>Output</h2>C:\\Users\\zrcan\\Documents\\GitHub\\RPP-SBC-EEMS\\Ember_Risk.gdb\\sa_bearing_line_join<h2>Messages</h2>Start Time: Wednesday, April 21, 2021 11:52:35 AM<br/>Succeeded at Wednesday, April 21, 2021 11:52:39 AM (Elapsed Time: 3.34 seconds)<br/><style>.rendered_html td, .rendered_html th {text-align: left;}.rendered_html tbody {border: 1px solid black;}</style>"
      ],
      "text/plain": [
       "<Result 'C:\\\\Users\\\\zrcan\\\\Documents\\\\GitHub\\\\RPP-SBC-EEMS\\\\Ember_Risk.gdb\\\\sa_bearing_line_join'>"
      ]
     },
     "execution_count": 148,
     "metadata": {},
     "output_type": "execute_result"
    }
   ],
   "source": [
    "fieldmappings = arcpy.FieldMappings()\n",
    "fieldmappings.addTable(\"sa_bearing_line\")\n",
    "fieldmappings.addTable(\"Prob_Lg_Fire_rpj\")\n",
    "keepers = [\"OID\", \"mean_sa_throw\"]\n",
    "\n",
    "pcFieldIndex = fieldmappings.findFieldMapIndex(\"ProbLgFire\")\n",
    "pcfieldmap = fieldmappings.getFieldMap(pcFieldIndex)\n",
    "pcnew = pcfieldmap.outputField\n",
    "pcnew.name = \"mean_sa_throw\"\n",
    "pcnew.aliasName = \"mean_sa_throw\"\n",
    "pcfieldmap.outputField = pcnew\n",
    "pcfieldmap.mergeRule = \"mean\"\n",
    "\n",
    "fieldmappings.replaceFieldMap(pcFieldIndex, pcfieldmap)\n",
    "\n",
    "for field in fieldmappings.fields:\n",
    "    if field.name not in keepers:\n",
    "        fieldmappings.removeFieldMap(fieldmappings.findFieldMapIndex(field.name))\n",
    "        \n",
    "arcpy.SpatialJoin_analysis(\"sa_bearing_line\", \"Prob_Lg_Fire_rpj\", \"sa_bearing_line_join\", \"JOIN_ONE_TO_ONE\", \"#\", fieldmappings) "
   ]
  },
  {
   "cell_type": "code",
   "execution_count": 149,
   "metadata": {},
   "outputs": [
    {
     "data": {
      "text/html": [
       "<h2>Output</h2>C:\\Users\\zrcan\\Documents\\GitHub\\RPP-SBC-EEMS\\Ember_Risk.gdb\\sd_bearing_line_join<h2>Messages</h2>Start Time: Wednesday, April 21, 2021 11:52:39 AM<br/>Succeeded at Wednesday, April 21, 2021 11:52:43 AM (Elapsed Time: 3.52 seconds)<br/><style>.rendered_html td, .rendered_html th {text-align: left;}.rendered_html tbody {border: 1px solid black;}</style>"
      ],
      "text/plain": [
       "<Result 'C:\\\\Users\\\\zrcan\\\\Documents\\\\GitHub\\\\RPP-SBC-EEMS\\\\Ember_Risk.gdb\\\\sd_bearing_line_join'>"
      ]
     },
     "execution_count": 149,
     "metadata": {},
     "output_type": "execute_result"
    }
   ],
   "source": [
    "fieldmappings = arcpy.FieldMappings()\n",
    "fieldmappings.addTable(\"sd_bearing_line\")\n",
    "fieldmappings.addTable(\"Prob_Lg_Fire_rpj\")\n",
    "keepers = [\"OID\", \"mean_sd_throw\"]\n",
    "\n",
    "pcFieldIndex = fieldmappings.findFieldMapIndex(\"ProbLgFire\")\n",
    "pcfieldmap = fieldmappings.getFieldMap(pcFieldIndex)\n",
    "pcnew = pcfieldmap.outputField\n",
    "pcnew.name = \"mean_sd_throw\"\n",
    "pcnew.aliasName = \"mean_sd_throw\"\n",
    "pcfieldmap.outputField = pcnew\n",
    "pcfieldmap.mergeRule = \"mean\"\n",
    "\n",
    "fieldmappings.replaceFieldMap(pcFieldIndex, pcfieldmap)\n",
    "\n",
    "for field in fieldmappings.fields:\n",
    "    if field.name not in keepers:\n",
    "        fieldmappings.removeFieldMap(fieldmappings.findFieldMapIndex(field.name))\n",
    "        \n",
    "arcpy.SpatialJoin_analysis(\"sd_bearing_line\", \"Prob_Lg_Fire_rpj\", \"sd_bearing_line_join\", \"JOIN_ONE_TO_ONE\", \"#\", fieldmappings) "
   ]
  },
  {
   "cell_type": "code",
   "execution_count": 150,
   "metadata": {},
   "outputs": [
    {
     "name": "stdout",
     "output_type": "stream",
     "text": [
      "['OBJECTID', 'Shape', 'Join_Count', 'TARGET_FID', 'mean_sd_throw', 'Shape_Length']\n"
     ]
    }
   ],
   "source": [
    "field_names = [f.name for f in arcpy.ListFields(\"sd_bearing_line_join\")]\n",
    "print(field_names)"
   ]
  },
  {
   "cell_type": "code",
   "execution_count": 151,
   "metadata": {},
   "outputs": [
    {
     "data": {
      "text/html": [
       "<h2>Output</h2>C:\\Users\\zrcan\\Documents\\GitHub\\RPP-SBC-EEMS\\Ember_Risk.gdb\\sa_bearing_line_join<h2>Messages</h2>Start Time: Wednesday, April 21, 2021 11:52:46 AM<br/>Succeeded at Wednesday, April 21, 2021 11:52:48 AM (Elapsed Time: 1.19 seconds)<br/><style>.rendered_html td, .rendered_html th {text-align: left;}.rendered_html tbody {border: 1px solid black;}</style>"
      ],
      "text/plain": [
       "<Result 'C:\\\\Users\\\\zrcan\\\\Documents\\\\GitHub\\\\RPP-SBC-EEMS\\\\Ember_Risk.gdb\\\\sa_bearing_line_join'>"
      ]
     },
     "execution_count": 151,
     "metadata": {},
     "output_type": "execute_result"
    }
   ],
   "source": [
    "# ember_risk = 'mean_sd_throw' * 'Shape_Length'\n",
    "arcpy.AddField_management(\"sd_bearing_line_join\", \"sd_ember_risk\", \"DOUBLE\")\n",
    "arcpy.AddField_management(\"sa_bearing_line_join\", \"sa_ember_risk\", \"DOUBLE\")\n",
    "\n",
    "codeblock = \"\"\"\n",
    "def get_ember_risk(risk, l):\n",
    "    return (risk * l)\n",
    "\"\"\"\n",
    "\n",
    "# Execute CalculateField \n",
    "arcpy.CalculateField_management(\"sd_bearing_line_join\", \"sd_ember_risk\", \"get_ember_risk(!mean_sd_throw!, !Shape_Length!)\", \"PYTHON3\", codeblock)\n",
    "arcpy.CalculateField_management(\"sa_bearing_line_join\", \"sa_ember_risk\", \"get_ember_risk(!mean_sa_throw!, !Shape_Length!)\", \"PYTHON3\", codeblock)"
   ]
  },
  {
   "cell_type": "code",
   "execution_count": 152,
   "metadata": {},
   "outputs": [
    {
     "data": {
      "text/html": [
       "<h2>Output</h2>C:\\Users\\zrcan\\Documents\\GitHub\\RPP-SBC-EEMS\\Ember_Risk.gdb\\sd_ember<h2>Messages</h2>Start Time: Wednesday, April 21, 2021 11:52:48 AM<br/>Succeeded at Wednesday, April 21, 2021 11:52:50 AM (Elapsed Time: 1.73 seconds)<br/><style>.rendered_html td, .rendered_html th {text-align: left;}.rendered_html tbody {border: 1px solid black;}</style>"
      ],
      "text/plain": [
       "<Result 'C:\\\\Users\\\\zrcan\\\\Documents\\\\GitHub\\\\RPP-SBC-EEMS\\\\Ember_Risk.gdb\\\\sd_ember'>"
      ]
     },
     "execution_count": 152,
     "metadata": {},
     "output_type": "execute_result"
    }
   ],
   "source": [
    "joined_table = arcpy.management.AddJoin(\"wind_pts4\", \"OBJECTID\", \"sd_bearing_line_join\", \"OBJECTID\", \"KEEP_ALL\")\n",
    "arcpy.CopyFeatures_management(joined_table, \"sd_ember\")"
   ]
  },
  {
   "cell_type": "code",
   "execution_count": 153,
   "metadata": {},
   "outputs": [
    {
     "data": {
      "text/html": [
       "<h2>Output</h2>C:\\Users\\zrcan\\Documents\\GitHub\\RPP-SBC-EEMS\\Ember_Risk.gdb\\sa_ember<h2>Messages</h2>Start Time: Wednesday, April 21, 2021 11:52:50 AM<br/>Succeeded at Wednesday, April 21, 2021 11:52:52 AM (Elapsed Time: 1.87 seconds)<br/><style>.rendered_html td, .rendered_html th {text-align: left;}.rendered_html tbody {border: 1px solid black;}</style>"
      ],
      "text/plain": [
       "<Result 'C:\\\\Users\\\\zrcan\\\\Documents\\\\GitHub\\\\RPP-SBC-EEMS\\\\Ember_Risk.gdb\\\\sa_ember'>"
      ]
     },
     "execution_count": 153,
     "metadata": {},
     "output_type": "execute_result"
    }
   ],
   "source": [
    "joined_table = arcpy.management.AddJoin(\"wind_pts4\", \"OBJECTID\", \"sa_bearing_line_join\", \"OBJECTID\", \"KEEP_ALL\")\n",
    "arcpy.CopyFeatures_management(joined_table, \"sa_ember\")"
   ]
  },
  {
   "cell_type": "code",
   "execution_count": 154,
   "metadata": {},
   "outputs": [
    {
     "data": {
      "text/html": [
       "<h2>Output</h2>C:\\Users\\zrcan\\Documents\\GitHub\\RPP-SBC-EEMS\\Ember_Risk.gdb\\ember_risk<h2>Messages</h2>Start Time: Wednesday, April 21, 2021 11:52:53 AM<br/>Succeeded at Wednesday, April 21, 2021 11:52:55 AM (Elapsed Time: 2.04 seconds)<br/><style>.rendered_html td, .rendered_html th {text-align: left;}.rendered_html tbody {border: 1px solid black;}</style>"
      ],
      "text/plain": [
       "<Result 'C:\\\\Users\\\\zrcan\\\\Documents\\\\GitHub\\\\RPP-SBC-EEMS\\\\Ember_Risk.gdb\\\\ember_risk'>"
      ]
     },
     "execution_count": 154,
     "metadata": {},
     "output_type": "execute_result"
    }
   ],
   "source": [
    "joined_table = arcpy.management.AddJoin(\"sa_ember\", \"OBJECTID\", \"sd_ember\", \"OBJECTID\", \"KEEP_ALL\")\n",
    "arcpy.CopyFeatures_management(joined_table, \"ember_risk\")"
   ]
  },
  {
   "cell_type": "code",
   "execution_count": 155,
   "metadata": {},
   "outputs": [
    {
     "name": "stdout",
     "output_type": "stream",
     "text": [
      "['OBJECTID', 'Shape', 'sa_ember_wind_pts4_Join_ID', 'sa_ember_wind_pts4_apn', 'sa_ember_wind_pts4_Shape_Leng', 'sa_ember_wind_pts4_ORIG_FID', 'sa_ember_wind_pts4_sa_mag', 'sa_ember_wind_pts4_sa_dir', 'sa_ember_wind_pts4_sd_dir', 'sa_ember_wind_pts4_sd_mag', 'sa_ember_wind_pts4_x', 'sa_ember_wind_pts4_y', 'sa_ember_wind_pts4_sa_throw', 'sa_ember_wind_pts4_sd_throw', 'sa_ember_sa_bearing_line_join_OBJECTID', 'sa_ember_sa_bearing_line_join_Join_Count', 'sa_ember_sa_bearing_line_join_TARGET_FID', 'sa_ember_sa_bearing_line_join_mean_sa_throw', 'sa_ember_sa_bearing_line_join_sa_ember_risk', 'sd_ember_OBJECTID', 'sd_ember_wind_pts4_Join_ID', 'sd_ember_wind_pts4_apn', 'sd_ember_wind_pts4_Shape_Leng', 'sd_ember_wind_pts4_ORIG_FID', 'sd_ember_wind_pts4_sa_mag', 'sd_ember_wind_pts4_sa_dir', 'sd_ember_wind_pts4_sd_dir', 'sd_ember_wind_pts4_sd_mag', 'sd_ember_wind_pts4_x', 'sd_ember_wind_pts4_y', 'sd_ember_wind_pts4_sa_throw', 'sd_ember_wind_pts4_sd_throw', 'sd_ember_sd_bearing_line_join_OBJECTID', 'sd_ember_sd_bearing_line_join_Join_Count', 'sd_ember_sd_bearing_line_join_TARGET_FID', 'sd_ember_sd_bearing_line_join_mean_sd_throw', 'sd_ember_sd_bearing_line_join_sd_ember_risk']\n"
     ]
    }
   ],
   "source": [
    "field_names = [f.name for f in arcpy.ListFields(\"ember_risk\")]\n",
    "print(field_names)"
   ]
  },
  {
   "cell_type": "code",
   "execution_count": 157,
   "metadata": {},
   "outputs": [
    {
     "data": {
      "text/html": [
       "<h2>Output</h2>C:\\Users\\zrcan\\Documents\\GitHub\\RPP-SBC-EEMS\\Ember_Risk.gdb\\ember_risk<h2>Messages</h2>Start Time: Wednesday, April 21, 2021 11:55:18 AM<br/>Succeeded at Wednesday, April 21, 2021 11:55:27 AM (Elapsed Time: 8.94 seconds)<br/><style>.rendered_html td, .rendered_html th {text-align: left;}.rendered_html tbody {border: 1px solid black;}</style>"
      ],
      "text/plain": [
       "<Result 'C:\\\\Users\\\\zrcan\\\\Documents\\\\GitHub\\\\RPP-SBC-EEMS\\\\Ember_Risk.gdb\\\\ember_risk'>"
      ]
     },
     "execution_count": 157,
     "metadata": {},
     "output_type": "execute_result"
    }
   ],
   "source": [
    "# if you can use a key to identify the fields to remove, then it's solved\n",
    "fields = arcpy.ListFields(\"ember_risk\") \n",
    "\n",
    "# manually enter field names to keep here\n",
    "# include mandatory fields name such as OBJECTID (or FID), and Shape in keepfields\n",
    "keepFields = ['OBJECTID', 'Shape', \n",
    "              'sa_ember_wind_pts4_sa_mag', 'sa_ember_wind_pts4_sa_dir', 'sa_ember_wind_pts4_sd_dir', 'sa_ember_wind_pts4_sd_mag',\n",
    "              'sd_ember_sd_bearing_line_join_mean_sd_throw', 'sa_ember_sa_bearing_line_join_mean_sa_throw',\n",
    "              'sa_ember_sa_bearing_line_join_sa_ember_risk', 'sd_ember_sd_bearing_line_join_sd_ember_risk']\n",
    "\n",
    "dropFields = [x.name for x in fields if x.name not in keepFields]\n",
    "# delete fields\n",
    "arcpy.DeleteField_management(\"ember_risk\", dropFields)   "
   ]
  },
  {
   "cell_type": "code",
   "execution_count": 158,
   "metadata": {},
   "outputs": [
    {
     "name": "stdout",
     "output_type": "stream",
     "text": [
      "['OBJECTID', 'Shape', 'sa_ember_wind_pts4_sa_mag', 'sa_ember_wind_pts4_sa_dir', 'sa_ember_wind_pts4_sd_dir', 'sa_ember_wind_pts4_sd_mag', 'sa_ember_sa_bearing_line_join_mean_sa_throw', 'sa_ember_sa_bearing_line_join_sa_ember_risk', 'sd_ember_sd_bearing_line_join_mean_sd_throw', 'sd_ember_sd_bearing_line_join_sd_ember_risk']\n"
     ]
    }
   ],
   "source": [
    "field_names = [f.name for f in arcpy.ListFields(\"ember_risk\")]\n",
    "print(field_names)"
   ]
  },
  {
   "cell_type": "code",
   "execution_count": 159,
   "metadata": {},
   "outputs": [
    {
     "data": {
      "text/html": [
       "<h2>Output</h2>C:\\Users\\zrcan\\Documents\\GitHub\\RPP-SBC-EEMS\\Ember_Risk.gdb\\ember_risk<h2>Messages</h2>Start Time: Wednesday, April 21, 2021 11:57:28 AM<br/>Succeeded at Wednesday, April 21, 2021 11:57:29 AM (Elapsed Time: 0.41 seconds)<br/><style>.rendered_html td, .rendered_html th {text-align: left;}.rendered_html tbody {border: 1px solid black;}</style>"
      ],
      "text/plain": [
       "<Result 'C:\\\\Users\\\\zrcan\\\\Documents\\\\GitHub\\\\RPP-SBC-EEMS\\\\Ember_Risk.gdb\\\\ember_risk'>"
      ]
     },
     "execution_count": 159,
     "metadata": {},
     "output_type": "execute_result"
    }
   ],
   "source": [
    "arcpy.AlterField_management(\"ember_risk\", \n",
    "                            'sa_ember_wind_pts4_sa_mag', 'sa_mag', 'sa_mag')\n",
    "arcpy.AlterField_management(\"ember_risk\", \n",
    "                            'sa_ember_wind_pts4_sa_dir', 'sa_dir', 'sa_dir')\n",
    "arcpy.AlterField_management(\"ember_risk\", \n",
    "                            'sa_ember_wind_pts4_sd_dir', 'sd_dir', 'sd_dir')\n",
    "arcpy.AlterField_management(\"ember_risk\", \n",
    "                            'sa_ember_wind_pts4_sd_mag', 'sd_mag', 'sd_mag')\n",
    "arcpy.AlterField_management(\"ember_risk\", \n",
    "                            'sa_ember_sa_bearing_line_join_mean_sa_throw', 'av_sa_rsk', 'av_sa_rsk')\n",
    "arcpy.AlterField_management(\"ember_risk\", \n",
    "                            'sd_ember_sd_bearing_line_join_mean_sd_throw', 'av_sd_rsk', 'av_sd_rsk')\n",
    "arcpy.AlterField_management(\"ember_risk\", \n",
    "                            'sa_ember_sa_bearing_line_join_sa_ember_risk', 'sa_emb_rsk', 'sa_emb_rsk')\n",
    "arcpy.AlterField_management(\"ember_risk\", \n",
    "                            'sd_ember_sd_bearing_line_join_sd_ember_risk', 'sd_emb_rsk', 'sd_emb_rsk')"
   ]
  },
  {
   "cell_type": "code",
   "execution_count": 162,
   "metadata": {},
   "outputs": [
    {
     "name": "stdout",
     "output_type": "stream",
     "text": [
      "['OBJECTID', 'Shape', 'sa_mag', 'sa_dir', 'sd_dir', 'sd_mag', 'av_sa_rsk', 'sa_emb_rsk', 'av_sd_rsk', 'sd_emb_rsk']\n"
     ]
    }
   ],
   "source": [
    "field_names = [f.name for f in arcpy.ListFields(\"ember_risk\")]\n",
    "print(field_names)"
   ]
  },
  {
   "cell_type": "code",
   "execution_count": 164,
   "metadata": {},
   "outputs": [
    {
     "data": {
      "text/html": [
       "<h2>Output</h2>C:\\Users\\zrcan\\Documents\\GitHub\\RPP-SBC-EEMS\\out_data\\ember<h2>Messages</h2>Start Time: Wednesday, April 21, 2021 12:09:18 PM<br/>C:\\Users\\zrcan\\Documents\\GitHub\\RPP-SBC-EEMS\\Ember_Risk.gdb\\ember_risk Successfully converted:  C:\\Users\\zrcan\\Documents\\GitHub\\RPP-SBC-EEMS\\out_data/ember\\ember_risk.shp<br/>Succeeded at Wednesday, April 21, 2021 12:09:20 PM (Elapsed Time: 1.98 seconds)<br/><style>.rendered_html td, .rendered_html th {text-align: left;}.rendered_html tbody {border: 1px solid black;}</style>"
      ],
      "text/plain": [
       "<Result 'C:\\\\Users\\\\zrcan\\\\Documents\\\\GitHub\\\\RPP-SBC-EEMS\\\\out_data\\\\ember'>"
      ]
     },
     "execution_count": 164,
     "metadata": {},
     "output_type": "execute_result"
    }
   ],
   "source": [
    "dir_path = os.path.join(THIS_FOLDER, \"out_data/ember\")\n",
    "shutil.rmtree(dir_path)\n",
    "os.mkdir(dir_path)\n",
    "\n",
    "arcpy.conversion.FeatureClassToShapefile(\"ember_risk\", \n",
    "                                        os.path.join(THIS_FOLDER, \"out_data/ember\"))"
   ]
  },
  {
   "cell_type": "code",
   "execution_count": null,
   "metadata": {},
   "outputs": [],
   "source": []
  }
 ],
 "metadata": {
  "kernelspec": {
   "display_name": "Python 3",
   "language": "python",
   "name": "python3"
  },
  "language_info": {
   "codemirror_mode": {
    "name": "ipython",
    "version": 3
   },
   "file_extension": ".py",
   "mimetype": "text/x-python",
   "name": "python",
   "nbconvert_exporter": "python",
   "pygments_lexer": "ipython3",
   "version": "3.7.9"
  }
 },
 "nbformat": 4,
 "nbformat_minor": 4
}
