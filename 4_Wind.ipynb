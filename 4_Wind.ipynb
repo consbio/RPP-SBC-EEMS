{
 "cells": [
  {
   "cell_type": "code",
   "execution_count": 1,
   "metadata": {},
   "outputs": [],
   "source": [
    "import mpilot\n",
    "import arcpy\n",
    "import inspect\n",
    "import pandas as pd\n",
    "import geopandas as gpd\n",
    "import os\n",
    "import shutil\n",
    "from shapely import wkt\n",
    "from pyproj import CRS\n",
    "import geopy\n",
    "\n",
    "src_file_path = inspect.getfile(lambda: None)\n",
    "THIS_FOLDER = os.path.dirname(os.path.abspath(src_file_path))"
   ]
  },
  {
   "cell_type": "code",
   "execution_count": 2,
   "metadata": {},
   "outputs": [],
   "source": [
    "# with arcpy.EnvManager(scratchWorkspace=r\"C:\\Users\\zrcan\\Documents\\ArcGIS\\Projects\\MyProject2\\MyProject2.gdb\", workspace=r\"C:\\Users\\zrcan\\Documents\\ArcGIS\\Projects\\MyProject2\\MyProject2.gdb\"):\n",
    "#     arcpy.management.FeatureToPoint(\"Reporting_Units_APN\", r\"C:\\Users\\zrcan\\Documents\\ArcGIS\\Projects\\MyProject2\\MyProject2.gdb\\Reporting_Units_APN_FeatureT\", \"INSIDE\")"
   ]
  },
  {
   "cell_type": "code",
   "execution_count": null,
   "metadata": {},
   "outputs": [],
   "source": [
    "# given: lat1, lon1, b = bearing in degrees, d = distance in kilometers\n",
    "\n",
    "# origin = geopy.Point(lat1, lon1)\n",
    "# destination = geopy.distance.geodesic(kilometers=d).destination(origin, b)\n",
    "\n",
    "# lat2, lon2 = destination.latitude, destination.longitude\n",
    "\n",
    "# https://pro.arcgis.com/en/pro-app/latest/tool-reference/data-management/points-to-line.htm\n",
    "\n",
    "# https://stackoverflow.com/questions/7222382/get-lat-long-given-current-point-distance-and-bearing\n",
    "\n",
    "# https://geopy.readthedocs.io/en/stable/index.html?highlight=Geodesic#geopy.distance.geodesic"
   ]
  }
 ],
 "metadata": {
  "kernelspec": {
   "display_name": "Python 3",
   "language": "python",
   "name": "python3"
  },
  "language_info": {
   "codemirror_mode": {
    "name": "ipython",
    "version": 3
   },
   "file_extension": ".py",
   "mimetype": "text/x-python",
   "name": "python",
   "nbconvert_exporter": "python",
   "pygments_lexer": "ipython3",
   "version": "3.7.9"
  }
 },
 "nbformat": 4,
 "nbformat_minor": 4
}
