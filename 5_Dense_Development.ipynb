{
 "cells": [
  {
   "cell_type": "code",
   "execution_count": 10,
   "metadata": {},
   "outputs": [],
   "source": [
    "import mpilot\n",
    "import arcpy\n",
    "import inspect\n",
    "import pandas as pd\n",
    "import geopandas as gpd\n",
    "import os\n",
    "import shutil\n",
    "from shapely import wkt\n",
    "from pyproj import CRS\n",
    "from arcpy.sa import *\n",
    "\n",
    "src_file_path = inspect.getfile(lambda: None)\n",
    "THIS_FOLDER = os.path.dirname(os.path.abspath(src_file_path))"
   ]
  },
  {
   "cell_type": "code",
   "execution_count": 2,
   "metadata": {},
   "outputs": [],
   "source": [
    "arcpy.ResetEnvironments()\n",
    "gdb_name = \"Dense_Development.gdb\"\n",
    "arcpy.env.overwriteOutput = True\n",
    "path = os.path.join(THIS_FOLDER, gdb_name)\n",
    "arcpy.CreateFileGDB_management(\"./\", gdb_name)\n",
    "arcpy.env.workspace = path\n",
    "arcpy.env.scratchWorkspace = path"
   ]
  },
  {
   "cell_type": "code",
   "execution_count": 3,
   "metadata": {},
   "outputs": [
    {
     "data": {
      "text/html": [
       "<h2>Output</h2>C:\\Users\\zrcan\\Documents\\GitHub\\RPP-SBC-EEMS\\Dense_Development.gdb\\SBC_Buildings_rpj<h2>Messages</h2>Start Time: Wednesday, April 21, 2021 12:27:13 PM<br/>Succeeded at Wednesday, April 21, 2021 12:27:37 PM (Elapsed Time: 23.84 seconds)<br/><style>.rendered_html td, .rendered_html th {text-align: left;}.rendered_html tbody {border: 1px solid black;}</style>"
      ],
      "text/plain": [
       "<Result 'C:\\\\Users\\\\zrcan\\\\Documents\\\\GitHub\\\\RPP-SBC-EEMS\\\\Dense_Development.gdb\\\\SBC_Buildings_rpj'>"
      ]
     },
     "execution_count": 3,
     "metadata": {},
     "output_type": "execute_result"
    }
   ],
   "source": [
    "path = os.path.join(THIS_FOLDER, \"in_data/SBC_Buildings.shp\")\n",
    "arcpy.CopyFeatures_management(path, \"SBC_Buildings\")\n",
    "crs = arcpy.SpatialReference('NAD 1983 StatePlane California V FIPS 0405 (US Feet)')\n",
    "arcpy.Project_management(\"SBC_Buildings\", \"SBC_Buildings_rpj\", crs)"
   ]
  },
  {
   "cell_type": "code",
   "execution_count": 20,
   "metadata": {},
   "outputs": [
    {
     "data": {
      "text/html": [
       "<h2>Output</h2>C:\\Users\\zrcan\\Documents\\GitHub\\RPP-SBC-EEMS\\Dense_Development.gdb\\SBC_Buildings_rpj_SP<h2>Messages</h2>Start Time: Wednesday, April 21, 2021 12:56:09 PM<br/>Succeeded at Wednesday, April 21, 2021 12:56:22 PM (Elapsed Time: 13.13 seconds)<br/><style>.rendered_html td, .rendered_html th {text-align: left;}.rendered_html tbody {border: 1px solid black;}</style>"
      ],
      "text/plain": [
       "<Result 'C:\\\\Users\\\\zrcan\\\\Documents\\\\GitHub\\\\RPP-SBC-EEMS\\\\Dense_Development.gdb\\\\SBC_Buildings_rpj_SP'>"
      ]
     },
     "execution_count": 20,
     "metadata": {},
     "output_type": "execute_result"
    }
   ],
   "source": [
    "arcpy.management.MultipartToSinglepart(\"SBC_Buildings_rpj\", \"SBC_Buildings_rpj_SP\")"
   ]
  },
  {
   "cell_type": "code",
   "execution_count": 21,
   "metadata": {},
   "outputs": [
    {
     "data": {
      "text/html": [
       "<h2>Output</h2>C:\\Users\\zrcan\\Documents\\GitHub\\RPP-SBC-EEMS\\Dense_Development.gdb\\SBC_Buildings_Pts<h2>Messages</h2>Start Time: Wednesday, April 21, 2021 12:56:23 PM<br/>Succeeded at Wednesday, April 21, 2021 12:56:34 PM (Elapsed Time: 10.87 seconds)<br/><style>.rendered_html td, .rendered_html th {text-align: left;}.rendered_html tbody {border: 1px solid black;}</style>"
      ],
      "text/plain": [
       "<Result 'C:\\\\Users\\\\zrcan\\\\Documents\\\\GitHub\\\\RPP-SBC-EEMS\\\\Dense_Development.gdb\\\\SBC_Buildings_Pts'>"
      ]
     },
     "execution_count": 21,
     "metadata": {},
     "output_type": "execute_result"
    }
   ],
   "source": [
    "arcpy.management.FeatureToPoint(\"SBC_Buildings_rpj_SP\", \"SBC_Buildings_Pts\")     "
   ]
  },
  {
   "cell_type": "code",
   "execution_count": 35,
   "metadata": {},
   "outputs": [
    {
     "data": {
      "text/html": [
       "<h2>Output</h2>C:\\Users\\zrcan\\Documents\\GitHub\\RPP-SBC-EEMS\\Dense_Development.gdb\\point_density_3mi<h2>Messages</h2>Start Time: Wednesday, April 21, 2021 3:48:45 PM<br/>Succeeded at Wednesday, April 21, 2021 3:49:07 PM (Elapsed Time: 22.35 seconds)<br/><style>.rendered_html td, .rendered_html th {text-align: left;}.rendered_html tbody {border: 1px solid black;}</style>"
      ],
      "text/plain": [
       "<Result 'C:\\\\Users\\\\zrcan\\\\Documents\\\\GitHub\\\\RPP-SBC-EEMS\\\\Dense_Development.gdb\\\\point_density_3mi'>"
      ]
     },
     "execution_count": 35,
     "metadata": {},
     "output_type": "execute_result"
    }
   ],
   "source": [
    "pdensOut = PointDensity(\"SBC_Buildings_Pts\", \"NONE\", 200, NbrCircle(1000, \"MAP\"))\n",
    "out_raster = arcpy.ia.Int(pdensOut)\n",
    "arcpy.RasterToPolygon_conversion(out_raster, \"point_density_1000ft\", \"NO_SIMPLIFY\", \"VALUE\")\n",
    "\n",
    "pdensOut = PointDensity(\"SBC_Buildings_Pts\", \"NONE\", 200, NbrCircle(2640, \"MAP\"))\n",
    "out_raster = arcpy.ia.Int(pdensOut)\n",
    "arcpy.RasterToPolygon_conversion(out_raster, \"point_density_0p5mi\", \"NO_SIMPLIFY\", \"VALUE\")\n",
    "\n",
    "pdensOut = PointDensity(\"SBC_Buildings_Pts\", \"NONE\", 200, NbrCircle(15840, \"MAP\"))\n",
    "out_raster = arcpy.ia.Int(pdensOut)\n",
    "arcpy.RasterToPolygon_conversion(out_raster, \"point_density_3mi\", \"NO_SIMPLIFY\", \"VALUE\")"
   ]
  },
  {
   "cell_type": "code",
   "execution_count": 36,
   "metadata": {},
   "outputs": [],
   "source": [
    "arcpy.ClearWorkspaceCache_management()\n",
    "del pdensOut\n",
    "del out_raster"
   ]
  },
  {
   "cell_type": "code",
   "execution_count": 37,
   "metadata": {},
   "outputs": [
    {
     "data": {
      "text/html": [
       "<h2>Output</h2>C:\\Users\\zrcan\\Documents\\GitHub\\RPP-SBC-EEMS\\out_data\\dense_dev<h2>Messages</h2>Start Time: Wednesday, April 21, 2021 3:53:01 PM<br/>C:\\Users\\zrcan\\Documents\\GitHub\\RPP-SBC-EEMS\\Dense_Development.gdb\\point_density_3mi Successfully converted:  C:\\Users\\zrcan\\Documents\\GitHub\\RPP-SBC-EEMS\\out_data/dense_dev\\point_density_3mi.shp<br/>Succeeded at Wednesday, April 21, 2021 3:53:24 PM (Elapsed Time: 22.85 seconds)<br/><style>.rendered_html td, .rendered_html th {text-align: left;}.rendered_html tbody {border: 1px solid black;}</style>"
      ],
      "text/plain": [
       "<Result 'C:\\\\Users\\\\zrcan\\\\Documents\\\\GitHub\\\\RPP-SBC-EEMS\\\\out_data\\\\dense_dev'>"
      ]
     },
     "execution_count": 37,
     "metadata": {},
     "output_type": "execute_result"
    }
   ],
   "source": [
    "dir_path = os.path.join(THIS_FOLDER, \"out_data/dense_dev\")\n",
    "shutil.rmtree(dir_path)\n",
    "os.mkdir(dir_path)\n",
    "\n",
    "\n",
    "arcpy.conversion.FeatureClassToShapefile(\"point_density_1000ft\", \n",
    "                                        os.path.join(THIS_FOLDER, \"out_data/dense_dev\"))\n",
    "\n",
    "arcpy.conversion.FeatureClassToShapefile(\"point_density_0p5mi\", \n",
    "                                        os.path.join(THIS_FOLDER, \"out_data/dense_dev\"))\n",
    "\n",
    "arcpy.conversion.FeatureClassToShapefile(\"point_density_3mi\", \n",
    "                                        os.path.join(THIS_FOLDER, \"out_data/dense_dev\"))"
   ]
  },
  {
   "cell_type": "code",
   "execution_count": 38,
   "metadata": {},
   "outputs": [
    {
     "name": "stdout",
     "output_type": "stream",
     "text": [
      "['OBJECTID', 'Shape', 'Id', 'gridcode', 'Shape_Length', 'Shape_Area']\n"
     ]
    }
   ],
   "source": [
    "field_names = [f.name for f in arcpy.ListFields(\"point_density_1000ft\")]\n",
    "print(field_names)"
   ]
  },
  {
   "cell_type": "code",
   "execution_count": null,
   "metadata": {},
   "outputs": [],
   "source": []
  }
 ],
 "metadata": {
  "kernelspec": {
   "display_name": "Python 3",
   "language": "python",
   "name": "python3"
  },
  "language_info": {
   "codemirror_mode": {
    "name": "ipython",
    "version": 3
   },
   "file_extension": ".py",
   "mimetype": "text/x-python",
   "name": "python",
   "nbconvert_exporter": "python",
   "pygments_lexer": "ipython3",
   "version": "3.7.9"
  }
 },
 "nbformat": 4,
 "nbformat_minor": 4
}
