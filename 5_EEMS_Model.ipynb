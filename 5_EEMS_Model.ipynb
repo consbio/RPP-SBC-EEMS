{
 "cells": [
  {
   "cell_type": "code",
   "execution_count": 8,
   "metadata": {},
   "outputs": [],
   "source": [
    "import mpilot\n",
    "import arcpy\n",
    "import inspect\n",
    "import pandas as pd\n",
    "import geopandas as gpd\n",
    "import os\n",
    "import shutil\n",
    "from shapely import wkt\n",
    "from pyproj import CRS\n",
    "\n",
    "src_file_path = inspect.getfile(lambda: None)\n",
    "THIS_FOLDER = os.path.dirname(os.path.abspath(src_file_path))"
   ]
  },
  {
   "cell_type": "markdown",
   "metadata": {},
   "source": [
    "# Summary\n",
    "\n",
    "This notebook uses the mpilot library to build and run the EEMS model. The output is then joined to the original dataset using the `join_id` field using the Geopandas libary\n",
    "\n",
    "**Input Data Layers:**\n",
    "- Summarized Reporting Units (created in `4_Summarize.ipynb`)\n",
    "    - Need both the csv and the shapefile\n"
   ]
  },
  {
   "cell_type": "code",
   "execution_count": 26,
   "metadata": {},
   "outputs": [
    {
     "name": "stdout",
     "output_type": "stream",
     "text": [
      "<class 'pandas.core.frame.DataFrame'>\n",
      "RangeIndex: 18180 entries, 0 to 18179\n",
      "Data columns (total 11 columns):\n",
      " #   Column      Non-Null Count  Dtype  \n",
      "---  ------      --------------  -----  \n",
      " 0   Join_ID     18180 non-null  int64  \n",
      " 1   apn         18179 non-null  object \n",
      " 2   Pr_Lg_Fr    18180 non-null  float64\n",
      " 3   Pr_Fire_Ig  18180 non-null  float64\n",
      " 4   Shape_Leng  18180 non-null  float64\n",
      " 5   Shape_Area  18180 non-null  float64\n",
      " 6   Mj_LU_Cat   18180 non-null  int64  \n",
      " 7   WUI_Interm  18180 non-null  int64  \n",
      " 8   WUI_Interf  18180 non-null  int64  \n",
      " 9   geometry    18180 non-null  object \n",
      " 10  LU_Cat      18180 non-null  float64\n",
      "dtypes: float64(5), int64(4), object(2)\n",
      "memory usage: 1.5+ MB\n"
     ]
    }
   ],
   "source": [
    "df = pd.read_csv(\"out_data/eems/A_RU_5.csv\")\n",
    "df.info()"
   ]
  },
  {
   "cell_type": "markdown",
   "metadata": {},
   "source": [
    "**Create the mpilot command file**"
   ]
  },
  {
   "cell_type": "code",
   "execution_count": 24,
   "metadata": {},
   "outputs": [],
   "source": [
    "def get_base_str(reporting_units_path, output_path):\n",
    "    base_str = f\"\"\"\n",
    "\n",
    "# Read Commands\n",
    "Join_ID = EEMSRead(\n",
    "    InFileName = {reporting_units_path},\n",
    "    InFieldName = \"Join_ID\",\n",
    "    DataType = \"Integer\"\n",
    ")\n",
    "\n",
    "Pr_Lg_Fr = EEMSRead(\n",
    "    InFileName = {reporting_units_path},\n",
    "    InFieldName = \"Pr_Lg_Fr\",\n",
    "    DataType = \"Float\"\n",
    ")\n",
    "\n",
    "Pr_Fire_Ig = EEMSRead(\n",
    "    InFileName = {reporting_units_path},\n",
    "    InFieldName = \"Pr_Fire_Ig\",\n",
    "    DataType = \"Float\"\n",
    ")\n",
    "\n",
    "WUI_Interm = EEMSRead(\n",
    "    InFileName = {reporting_units_path},\n",
    "    InFieldName = \"WUI_Interm\",\n",
    "    DataType = \"Integer\"\n",
    ")\n",
    "\n",
    "WUI_Interf = EEMSRead(\n",
    "    InFileName = {reporting_units_path},\n",
    "    InFieldName = \"WUI_Interf\",\n",
    "    DataType = \"Integer\"\n",
    ")\n",
    "\n",
    "LU_Cat = EEMSRead(\n",
    "    InFileName = {reporting_units_path},\n",
    "    InFieldName = \"LU_Cat\",\n",
    "    DataType = \"Float\"\n",
    ")\n",
    "\n",
    "# Normalizations\n",
    "\n",
    "Nm_Lg_Fire = Normalize(\n",
    "    InFieldName = Pr_Lg_Fr, \n",
    "    StartVal = 0, \n",
    "    EndVal = 1\n",
    ")\n",
    "\n",
    "Nm_Fire_Ig = Normalize(\n",
    "    InFieldName = Pr_Fire_Ig, \n",
    "    StartVal = 0, \n",
    "    EndVal = 1\n",
    ")\n",
    "\n",
    "# Operations\n",
    "\n",
    "Hi_Fr_Rsk = WeightedSum(\n",
    "    InFieldNames = [Nm_Lg_Fire, Nm_Fire_Ig], \n",
    "    Weights = [0.5, 0.5]\n",
    ")\n",
    "\n",
    "WUI_Rsk = Maximum(\n",
    "    InFieldNames = [WUI_Interm, WUI_Interf] \n",
    ")\n",
    "\n",
    "Hi_Pri = WeightedSum(\n",
    "    InFieldNames = [Hi_Fr_Rsk, WUI_Rsk, LU_Cat], \n",
    "    Weights = [0.333, 0.333, 0.334]\n",
    ")\n",
    "\n",
    "# Output\n",
    "\n",
    "Out = EEMSWrite(\n",
    "  OutFileName = {output_path},\n",
    "  OutFieldNames = [Join_ID, Hi_Pri, Hi_Fr_Rsk, WUI_Rsk, Nm_Lg_Fire, Nm_Fire_Ig, WUI_Interm, WUI_Interf, Pr_Lg_Fr, Pr_Fire_Ig, LU_Cat]\n",
    ")\n",
    "    \"\"\"\n",
    "    return base_str"
   ]
  },
  {
   "cell_type": "code",
   "execution_count": 25,
   "metadata": {},
   "outputs": [],
   "source": [
    "reporting_units_path = os.path.join(THIS_FOLDER, \"out_data/eems/A_RU_5.csv\")\n",
    "output_path = os.path.join(THIS_FOLDER, \"out_data/eems/EEMS_Output.csv\")\n",
    "base_str = get_base_str(reporting_units_path, output_path)\n",
    "f = open(\"EEMS_CMD_FILE.mpt\", \"w\")\n",
    "f.write(base_str)\n",
    "f.close()"
   ]
  },
  {
   "cell_type": "markdown",
   "metadata": {},
   "source": [
    "**Run EEMS Command `mpilot eems-csv [command_file]`**"
   ]
  },
  {
   "cell_type": "markdown",
   "metadata": {},
   "source": [
    "**Now we need to merge the outputted EEMS CSV with the rest of the data and create a shapefile for it. Also note we need to project it to UTM Zone 11N so that it visualizes in EEMS Online**"
   ]
  },
  {
   "cell_type": "code",
   "execution_count": 27,
   "metadata": {},
   "outputs": [],
   "source": [
    "eems = pd.merge(pd.read_csv(\"out_data/eems/EEMS_Output.csv\"), pd.read_csv(\"out_data/eems/A_RU_5.csv\")[[\"Join_ID\", \"geometry\"]], on='Join_ID', how='inner')\n",
    "eems['geometry'] = eems['geometry'].apply(wkt.loads)\n",
    "crs_proj = CRS(\"EPSG:26911\")\n",
    "gdf = gpd.GeoDataFrame(eems, crs=crs_proj, geometry = eems.geometry)\n",
    "gdf.to_file(driver = 'ESRI Shapefile', filename= \"out_data/eems/Final_EEMS_Output.shp\")"
   ]
  },
  {
   "cell_type": "code",
   "execution_count": null,
   "metadata": {},
   "outputs": [],
   "source": []
  }
 ],
 "metadata": {
  "kernelspec": {
   "display_name": "Python 3",
   "language": "python",
   "name": "python3"
  },
  "language_info": {
   "codemirror_mode": {
    "name": "ipython",
    "version": 3
   },
   "file_extension": ".py",
   "mimetype": "text/x-python",
   "name": "python",
   "nbconvert_exporter": "python",
   "pygments_lexer": "ipython3",
   "version": "3.7.9"
  }
 },
 "nbformat": 4,
 "nbformat_minor": 4
}
