{
 "cells": [
  {
   "cell_type": "code",
   "execution_count": 3,
   "metadata": {},
   "outputs": [],
   "source": [
    "import mpilot\n",
    "import arcpy\n",
    "import inspect\n",
    "import pandas as pd\n",
    "import geopandas as gpd\n",
    "import os\n",
    "import shutil\n",
    "from shapely import wkt\n",
    "from pyproj import CRS\n",
    "\n",
    "src_file_path = inspect.getfile(lambda: None)\n",
    "THIS_FOLDER = os.path.dirname(os.path.abspath(src_file_path))"
   ]
  },
  {
   "cell_type": "markdown",
   "metadata": {},
   "source": [
    "# Summary\n",
    "\n",
    "This notebook uses the mpilot library to build and run the EEMS model. The output is then joined to the original dataset using the `join_id` field using the Geopandas libary\n",
    "\n",
    "**Input Data Layers:**\n",
    "- Summarized Reporting Units (created in `4_Summarize.ipynb`)\n",
    "    - Need both the csv and the shapefile\n"
   ]
  },
  {
   "cell_type": "code",
   "execution_count": 4,
   "metadata": {},
   "outputs": [
    {
     "name": "stdout",
     "output_type": "stream",
     "text": [
      "<class 'pandas.core.frame.DataFrame'>\n",
      "RangeIndex: 18180 entries, 0 to 18179\n",
      "Data columns (total 11 columns):\n",
      " #   Column      Non-Null Count  Dtype  \n",
      "---  ------      --------------  -----  \n",
      " 0   Join_ID     18180 non-null  int64  \n",
      " 1   apn         18179 non-null  object \n",
      " 2   Pr_Lg_Fr    18180 non-null  float64\n",
      " 3   Pr_Fire_Ig  18180 non-null  float64\n",
      " 4   Shape_Leng  18180 non-null  float64\n",
      " 5   Shape_Area  18180 non-null  float64\n",
      " 6   Mj_LU_Cat   18180 non-null  int64  \n",
      " 7   WUI_Interm  18180 non-null  int64  \n",
      " 8   WUI_Interf  18180 non-null  int64  \n",
      " 9   geometry    18180 non-null  object \n",
      " 10  LU_Cat      18180 non-null  float64\n",
      "dtypes: float64(5), int64(4), object(2)\n",
      "memory usage: 1.5+ MB\n"
     ]
    }
   ],
   "source": [
    "df = pd.read_csv(\"out_data/eems/A_RU_5.csv\")\n",
    "df.info()"
   ]
  },
  {
   "cell_type": "markdown",
   "metadata": {},
   "source": [
    "**Create the mpilot command file**"
   ]
  },
  {
   "cell_type": "code",
   "execution_count": 21,
   "metadata": {},
   "outputs": [],
   "source": [
    "def get_base_str(reporting_units_path, output_path):\n",
    "    base_str = f\"\"\"\n",
    "\n",
    "# Read Commands\n",
    "Join_ID = EEMSRead(\n",
    "    InFileName = {reporting_units_path},\n",
    "    InFieldName = \"Join_ID\",\n",
    "    DataType = \"Integer\",\n",
    "    Metadata = [\n",
    "        DisplayName: Join&nbsp;ID,\n",
    "        Description: Join&nbsp;ID,\n",
    "        ColorMap: RdYlBu_r\n",
    "    ]\n",
    ")\n",
    "\n",
    "Pr_Lg_Fr = EEMSRead(\n",
    "    InFileName = {reporting_units_path},\n",
    "    InFieldName = \"Pr_Lg_Fr\",\n",
    "    DataType = \"Float\",\n",
    "    Metadata = [\n",
    "        DisplayName: Probability&nbsp;Of&nbsp;Large&nbsp;Fire,\n",
    "        Description: Relative&nbsp;Probability&nbsp;Of&nbsp;Large&nbsp;Fire,\n",
    "        ColorMap: RdYlBu_r\n",
    "    ]\n",
    ")\n",
    "\n",
    "Pr_Fire_Ig = EEMSRead(\n",
    "    InFileName = {reporting_units_path},\n",
    "    InFieldName = \"Pr_Fire_Ig\",\n",
    "    DataType = \"Float\",\n",
    "    Metadata = [\n",
    "        DisplayName: Probability&nbsp;Of&nbsp;Fire&nbsp;Ignition,\n",
    "        ColorMap: RdYlBu_r\n",
    "    ]\n",
    ")\n",
    "\n",
    "WUI_Interm = EEMSRead(\n",
    "    InFileName = {reporting_units_path},\n",
    "    InFieldName = \"WUI_Interm\",\n",
    "    DataType = \"Integer\",\n",
    "    Metadata = [\n",
    "        DisplayName: WUI&nbsp;Intermix,\n",
    "        ColorMap: RdYlBu_r\n",
    "    ]\n",
    ")\n",
    "\n",
    "WUI_Interf = EEMSRead(\n",
    "    InFileName = {reporting_units_path},\n",
    "    InFieldName = \"WUI_Interf\",\n",
    "    DataType = \"Integer\",\n",
    "    Metadata = [\n",
    "        DisplayName: WUI&nbsp;Interface,\n",
    "        ColorMap: RdYlBu_r\n",
    "    ]\n",
    ")\n",
    "\n",
    "LU_Cat = EEMSRead(\n",
    "    InFileName = {reporting_units_path},\n",
    "    InFieldName = \"LU_Cat\",\n",
    "    DataType = \"Float\",\n",
    "    Metadata = [\n",
    "        DisplayName: Landuse&nbsp;Category,\n",
    "        ColorMap: RdYlBu_r\n",
    "    ]\n",
    ")\n",
    "\n",
    "# Normalizations\n",
    "\n",
    "Nm_Lg_Fire = Normalize(\n",
    "    InFieldName = Pr_Lg_Fr, \n",
    "    StartVal = 0, \n",
    "    EndVal = 1,\n",
    "    Metadata = [\n",
    "        DisplayName: Normalized&nbsp;Probability&nbsp;Of&nbsp;Large&nbsp;Fire,\n",
    "        ColorMap: RdYlBu_r\n",
    "    ]\n",
    ")\n",
    "\n",
    "Nm_Fire_Ig = Normalize(\n",
    "    InFieldName = Pr_Fire_Ig, \n",
    "    StartVal = 0, \n",
    "    EndVal = 1,\n",
    "    Metadata = [\n",
    "        DisplayName: Normalized&nbsp;Probability&nbsp;Of&nbsp;Fire&nbsp;Ignition,\n",
    "        ColorMap: RdYlBu_r\n",
    "    ]\n",
    ")\n",
    "\n",
    "# Operations\n",
    "\n",
    "Hi_Fr_Rsk = WeightedSum(\n",
    "    InFieldNames = [Nm_Lg_Fire, Nm_Fire_Ig], \n",
    "    Weights = [0.5, 0.5],\n",
    "    Metadata = [\n",
    "        DisplayName: High&nbsp;Fire&nbsp;Risk,\n",
    "        ColorMap: RdYlBu_r\n",
    "    ]\n",
    ")\n",
    "\n",
    "Nm_Fr_Rsk = Normalize(\n",
    "    InFieldName = Hi_Fr_Rsk, \n",
    "    StartVal = 0, \n",
    "    EndVal = 1,\n",
    "    Metadata = [\n",
    "        DisplayName: Normalized&nbsp;High&nbsp;Fire&nbsp;Risk,\n",
    "        ColorMap: RdYlBu_r\n",
    "    ]\n",
    ")\n",
    "\n",
    "WUI_Rsk = Maximum(\n",
    "    InFieldNames = [WUI_Interm, WUI_Interf],\n",
    "    Metadata = [\n",
    "        DisplayName: WUI&nbsp;Risk,\n",
    "        ColorMap: RdYlBu_r\n",
    "    ]\n",
    ")\n",
    "\n",
    "Hi_Pri = WeightedSum(\n",
    "    InFieldNames = [Nm_Fr_Rsk, WUI_Rsk, LU_Cat], \n",
    "    Weights = [0.333, 0.333, 0.334],\n",
    "    Metadata = [\n",
    "        DisplayName: High&nbsp;Priority&nbsp;Area,\n",
    "        ColorMap: RdYlBu_r\n",
    "    ]\n",
    ")\n",
    "\n",
    "Nm_Hi_Pri = Normalize(\n",
    "    InFieldName = Hi_Pri, \n",
    "    StartVal = 0, \n",
    "    EndVal = 1,\n",
    "    Metadata = [\n",
    "        DisplayName: Normalized&nbsp;High&nbsp;Priority&nbsp;Area,\n",
    "        ColorMap: RdYlBu_r\n",
    "    ]\n",
    ")\n",
    "\n",
    "# Output\n",
    "\n",
    "Out = EEMSWrite(\n",
    "  OutFileName = {output_path},\n",
    "  OutFieldNames = [Join_ID, Nm_Hi_Pri, Hi_Pri, Nm_Fr_Rsk, Hi_Fr_Rsk, WUI_Rsk, Nm_Lg_Fire, Nm_Fire_Ig, WUI_Interm, WUI_Interf, Pr_Lg_Fr, Pr_Fire_Ig, LU_Cat]\n",
    ")\n",
    "    \"\"\"\n",
    "    return base_str"
   ]
  },
  {
   "cell_type": "code",
   "execution_count": 22,
   "metadata": {},
   "outputs": [],
   "source": [
    "reporting_units_path = os.path.join(THIS_FOLDER, \"out_data/eems/A_RU_5.csv\")\n",
    "output_path = os.path.join(THIS_FOLDER, \"out_data/eems/EEMS_Output.csv\")\n",
    "base_str = get_base_str(reporting_units_path, output_path)\n",
    "f = open(\"EEMS_CMD_FILE.mpt\", \"w\")\n",
    "f.write(base_str)\n",
    "f.close()"
   ]
  },
  {
   "cell_type": "markdown",
   "metadata": {},
   "source": [
    "**Run EEMS Command `mpilot eems-csv [command_file]`**"
   ]
  },
  {
   "cell_type": "markdown",
   "metadata": {},
   "source": [
    "**Now we need to merge the outputted EEMS CSV with the rest of the data and create a shapefile for it. Also note we need to project it to UTM Zone 11N so that it visualizes in EEMS Online**"
   ]
  },
  {
   "cell_type": "code",
   "execution_count": 16,
   "metadata": {},
   "outputs": [],
   "source": [
    "dir_path = os.path.join(THIS_FOLDER, \"out_data/final\")\n",
    "shutil.rmtree(dir_path)\n",
    "os.mkdir(dir_path)\n",
    "\n",
    "eems = pd.merge(pd.read_csv(\"out_data/eems/EEMS_Output.csv\"), pd.read_csv(\"out_data/eems/A_RU_5.csv\")[[\"Join_ID\", \"geometry\"]], on='Join_ID', how='inner')\n",
    "eems['geometry'] = eems['geometry'].apply(wkt.loads)\n",
    "crs_proj = CRS(\"EPSG:2229\")\n",
    "gdf = gpd.GeoDataFrame(eems, crs=crs_proj, geometry = eems.geometry)\n",
    "gdf.to_file(driver = 'ESRI Shapefile', filename= \"out_data/final/Final_EEMS_Output.shp\")"
   ]
  },
  {
   "cell_type": "markdown",
   "metadata": {},
   "source": [
    "**Now prep the Command File and the geodatabase for EEMS Online**"
   ]
  },
  {
   "cell_type": "code",
   "execution_count": 17,
   "metadata": {},
   "outputs": [
    {
     "data": {
      "text/html": [
       "<h2>Output</h2>true<h2>Messages</h2>Start Time: Tuesday, April 13, 2021 9:05:06 AM<br/>Succeeded at Tuesday, April 13, 2021 9:05:07 AM (Elapsed Time: 0.35 seconds)<br/><style>.rendered_html td, .rendered_html th {text-align: left;}.rendered_html tbody {border: 1px solid black;}</style>"
      ],
      "text/plain": [
       "<Result 'true'>"
      ]
     },
     "execution_count": 17,
     "metadata": {},
     "output_type": "execute_result"
    }
   ],
   "source": [
    "arcpy.ResetEnvironments()\n",
    "gdb_name = \"EEMS.gdb\"\n",
    "arcpy.env.overwriteOutput = True\n",
    "path = os.path.join(THIS_FOLDER, gdb_name)\n",
    "arcpy.CreateFileGDB_management(\"./\", gdb_name)\n",
    "arcpy.env.workspace = path\n",
    "arcpy.env.scratchWorkspace = path\n",
    "path = os.path.join(THIS_FOLDER, \"out_data/final/Final_EEMS_Output.shp\")\n",
    "FeatureClass = arcpy.CopyFeatures_management(path, \"EEMS\")\n",
    "crs = arcpy.SpatialReference('NAD 1983 UTM Zone 11N')\n",
    "FeatureClass = arcpy.Project_management(\"EEMS\", \"EEMS_rpj\", crs)\n",
    "arcpy.management.Delete(\"EEMS\")"
   ]
  },
  {
   "cell_type": "code",
   "execution_count": 18,
   "metadata": {},
   "outputs": [],
   "source": [
    "f1 = open(\"EEMS_CMD_FILE.mpt\", 'r')\n",
    "f2 = open(\"EEMS_CMD_FILE_2.mpt\", 'w')\n",
    "for line in f1:\n",
    "    f2.write(line.replace('\"', ''))\n",
    "f1.close()\n",
    "f2.close()"
   ]
  },
  {
   "cell_type": "code",
   "execution_count": 19,
   "metadata": {},
   "outputs": [],
   "source": [
    "arcpy.ClearWorkspaceCache_management()\n",
    "del FeatureClass"
   ]
  },
  {
   "cell_type": "markdown",
   "metadata": {},
   "source": [
    "**Now delete the EEMSWRITE command from the Command File and zip the geodatabase with the final EEMS feature class (and only that feature class)**"
   ]
  },
  {
   "cell_type": "code",
   "execution_count": 20,
   "metadata": {},
   "outputs": [
    {
     "name": "stdout",
     "output_type": "stream",
     "text": [
      "<class 'geopandas.geodataframe.GeoDataFrame'>\n",
      "Int64Index: 18180 entries, 0 to 18179\n",
      "Data columns (total 14 columns):\n",
      " #   Column      Non-Null Count  Dtype   \n",
      "---  ------      --------------  -----   \n",
      " 0   Join_ID     18180 non-null  float64 \n",
      " 1   Nm_Hi_Pri   18180 non-null  float64 \n",
      " 2   Hi_Pri      18180 non-null  float64 \n",
      " 3   Nm_Fr_Rsk   18180 non-null  float64 \n",
      " 4   Hi_Fr_Rsk   18180 non-null  float64 \n",
      " 5   WUI_Rsk     18180 non-null  float64 \n",
      " 6   Nm_Lg_Fire  18180 non-null  float64 \n",
      " 7   Nm_Fire_Ig  18180 non-null  float64 \n",
      " 8   WUI_Interm  18180 non-null  float64 \n",
      " 9   WUI_Interf  18180 non-null  float64 \n",
      " 10  Pr_Lg_Fr    18180 non-null  float64 \n",
      " 11  Pr_Fire_Ig  18180 non-null  float64 \n",
      " 12  LU_Cat      18180 non-null  float64 \n",
      " 13  geometry    18180 non-null  geometry\n",
      "dtypes: float64(13), geometry(1)\n",
      "memory usage: 2.1 MB\n"
     ]
    }
   ],
   "source": [
    "gdf.info()"
   ]
  },
  {
   "cell_type": "code",
   "execution_count": null,
   "metadata": {},
   "outputs": [],
   "source": []
  }
 ],
 "metadata": {
  "kernelspec": {
   "display_name": "Python 3",
   "language": "python",
   "name": "python3"
  },
  "language_info": {
   "codemirror_mode": {
    "name": "ipython",
    "version": 3
   },
   "file_extension": ".py",
   "mimetype": "text/x-python",
   "name": "python",
   "nbconvert_exporter": "python",
   "pygments_lexer": "ipython3",
   "version": "3.7.9"
  }
 },
 "nbformat": 4,
 "nbformat_minor": 4
}
