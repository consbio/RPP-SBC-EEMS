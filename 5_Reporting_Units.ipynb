{
 "cells": [
  {
   "cell_type": "code",
   "execution_count": 2,
   "metadata": {},
   "outputs": [
    {
     "name": "stdout",
     "output_type": "stream",
     "text": [
      "C:\\Users\\zrcan\\Documents\\GitHub\\RPP-SBC-EEMS\n"
     ]
    }
   ],
   "source": [
    "import pandas as pd\n",
    "import geopandas as gpd\n",
    "import arcpy\n",
    "import os\n",
    "import shutil\n",
    "import datetime as dt\n",
    "import math\n",
    "THIS_FOLDER = os.path.dirname(os.path.abspath(\"RPP-SBC-EEMS\"))\n",
    "print(THIS_FOLDER)"
   ]
  },
  {
   "cell_type": "code",
   "execution_count": 3,
   "metadata": {},
   "outputs": [
    {
     "name": "stdout",
     "output_type": "stream",
     "text": [
      "Already Exists\n"
     ]
    }
   ],
   "source": [
    "arcpy.ResetEnvironments()\n",
    "gdb_name = \"Reporting_Units.gdb\"\n",
    "arcpy.env.overwriteOutput = True\n",
    "path = os.path.join(THIS_FOLDER, gdb_name)\n",
    "if arcpy.Exists(gdb_name):\n",
    "    print(\"Already Exists\")\n",
    "else:\n",
    "    try:\n",
    "        arcpy.CreateFileGDB_management(\"./\", gdb_name)\n",
    "    except:\n",
    "        print(\"{} already exists\".format(gdb_name))\n",
    "        pass\n",
    "arcpy.env.workspace = path\n",
    "arcpy.env.scratchWorkspace = path"
   ]
  },
  {
   "cell_type": "code",
   "execution_count": 4,
   "metadata": {},
   "outputs": [],
   "source": [
    "data = [\"in_data/Pr_Lg_Fire.shp\", \"in_data/Pr_Fire_Ign.shp\",\n",
    "        \"in_data/Pct_Cg_Lg_Fi.shp\", \"in_data/Pct_Cg_Fi_Ign.shp\",\n",
    "        \"in_data/WUI_Intermix.shp\", \"in_data/WUI_Interface.shp\",\n",
    "        \"in_data/FloraFaunaMerge.shp\",\n",
    "        \"out_data/lu/LU_merged.shp\", \"out_data/ru/Reporting_Units.shp\",\n",
    "        \"out_data/building/Building_Intersect.shp\",\n",
    "        \"in_data/Slope.shp\", \"in_data/Veg_Only.shp\",\n",
    "        \"in_data/FHSZ.shp\"]\n",
    "\n",
    "for v in data:\n",
    "    path = os.path.join(THIS_FOLDER, \"{}\".format(v))\n",
    "    name = v.rsplit('/', 1)[-1].split(\".\")[0]\n",
    "    arcpy.CopyFeatures_management(path, name)\n",
    "    crs = arcpy.SpatialReference('NAD 1983 StatePlane California V FIPS 0405 (US Feet)')\n",
    "    arcpy.Project_management(name, \"{}_rpj\".format(name), crs)"
   ]
  },
  {
   "cell_type": "code",
   "execution_count": 5,
   "metadata": {},
   "outputs": [
    {
     "data": {
      "text/html": [
       "<h2>Output</h2><table><tr><th>id</th><th>value</th></tr><tr><td>0</td><td>C:\\Users\\zrcan\\Documents\\GitHub\\RPP-SBC-EEMS\\Reporting_Units.gdb\\A_RU_1</td></tr><tr><td>1</td><td></td></tr></table><h2>Messages</h2>Start Time: Thursday, November 11, 2021 7:01:59 AM<br/>Succeeded at Thursday, November 11, 2021 7:02:20 AM (Elapsed Time: 21.54 seconds)<br/><style>.rendered_html td, .rendered_html th {text-align: left;}.rendered_html tbody {border: 1px solid black;}</style>"
      ],
      "text/plain": [
       "<Result 'C:\\\\Users\\\\zrcan\\\\Documents\\\\GitHub\\\\RPP-SBC-EEMS\\\\Reporting_Units.gdb\\\\A_RU_1'>"
      ]
     },
     "execution_count": 5,
     "metadata": {},
     "output_type": "execute_result"
    }
   ],
   "source": [
    "arcpy.analysis.Intersect(\"Reporting_Units_rpj; Pr_Lg_Fire_rpj\", \"A_RU_0_int\", \"ALL\", None, \"INPUT\")\n",
    "\n",
    "arcpy.SummarizeWithin_analysis(\"Reporting_Units_rpj\", \"A_RU_0_int\", \n",
    "                               \"A_RU_1\", \"KEEP_ALL\", [['gridcode', 'MEAN']],\n",
    "                               \"NO_SHAPE_SUM\", \"SQUAREFEET\", None, \"NO_MIN_MAJ\", \"NO_PERCENT\", None)"
   ]
  },
  {
   "cell_type": "code",
   "execution_count": 6,
   "metadata": {},
   "outputs": [
    {
     "data": {
      "text/html": [
       "<h2>Output</h2><table><tr><th>id</th><th>value</th></tr><tr><td>0</td><td>C:\\Users\\zrcan\\Documents\\GitHub\\RPP-SBC-EEMS\\Reporting_Units.gdb\\A_RU_2</td></tr><tr><td>1</td><td></td></tr></table><h2>Messages</h2>Start Time: Thursday, November 11, 2021 7:02:30 AM<br/>Succeeded at Thursday, November 11, 2021 7:02:51 AM (Elapsed Time: 21.21 seconds)<br/><style>.rendered_html td, .rendered_html th {text-align: left;}.rendered_html tbody {border: 1px solid black;}</style>"
      ],
      "text/plain": [
       "<Result 'C:\\\\Users\\\\zrcan\\\\Documents\\\\GitHub\\\\RPP-SBC-EEMS\\\\Reporting_Units.gdb\\\\A_RU_2'>"
      ]
     },
     "execution_count": 6,
     "metadata": {},
     "output_type": "execute_result"
    }
   ],
   "source": [
    "arcpy.analysis.Intersect(\"Pr_Fire_Ign_rpj; A_RU_1\", \"A_RU_1_int\", \"ALL\", None, \"INPUT\")\n",
    "\n",
    "arcpy.SummarizeWithin_analysis(\"A_RU_1\", \"A_RU_1_int\", \n",
    "                               \"A_RU_2\", \"KEEP_ALL\", [['gridcode', 'MEAN']],\n",
    "                               \"NO_SHAPE_SUM\", \"SQUAREFEET\", None, \"NO_MIN_MAJ\", \"NO_PERCENT\", None)"
   ]
  },
  {
   "cell_type": "code",
   "execution_count": 7,
   "metadata": {},
   "outputs": [
    {
     "data": {
      "text/html": [
       "<h2>Output</h2><table><tr><th>id</th><th>value</th></tr><tr><td>0</td><td>C:\\Users\\zrcan\\Documents\\GitHub\\RPP-SBC-EEMS\\Reporting_Units.gdb\\A_RU_3</td></tr><tr><td>1</td><td></td></tr></table><h2>Messages</h2>Start Time: Thursday, November 11, 2021 7:02:59 AM<br/>Succeeded at Thursday, November 11, 2021 7:03:17 AM (Elapsed Time: 18.16 seconds)<br/><style>.rendered_html td, .rendered_html th {text-align: left;}.rendered_html tbody {border: 1px solid black;}</style>"
      ],
      "text/plain": [
       "<Result 'C:\\\\Users\\\\zrcan\\\\Documents\\\\GitHub\\\\RPP-SBC-EEMS\\\\Reporting_Units.gdb\\\\A_RU_3'>"
      ]
     },
     "execution_count": 7,
     "metadata": {},
     "output_type": "execute_result"
    }
   ],
   "source": [
    "arcpy.analysis.Intersect(\"Pct_Cg_Lg_Fi_rpj; A_RU_2\", \"A_RU_2_int\", \"ALL\", None, \"INPUT\")\n",
    "\n",
    "arcpy.SummarizeWithin_analysis(\"A_RU_2\", \"A_RU_2_int\", \n",
    "                               \"A_RU_3\", \"KEEP_ALL\", [['gridcode', 'MEAN']],\n",
    "                               \"NO_SHAPE_SUM\", \"SQUAREFEET\", None, \"NO_MIN_MAJ\", \"NO_PERCENT\", None)"
   ]
  },
  {
   "cell_type": "code",
   "execution_count": 8,
   "metadata": {},
   "outputs": [
    {
     "data": {
      "text/html": [
       "<h2>Output</h2><table><tr><th>id</th><th>value</th></tr><tr><td>0</td><td>C:\\Users\\zrcan\\Documents\\GitHub\\RPP-SBC-EEMS\\Reporting_Units.gdb\\A_RU_4</td></tr><tr><td>1</td><td></td></tr></table><h2>Messages</h2>Start Time: Thursday, November 11, 2021 7:03:26 AM<br/>Succeeded at Thursday, November 11, 2021 7:03:48 AM (Elapsed Time: 21.77 seconds)<br/><style>.rendered_html td, .rendered_html th {text-align: left;}.rendered_html tbody {border: 1px solid black;}</style>"
      ],
      "text/plain": [
       "<Result 'C:\\\\Users\\\\zrcan\\\\Documents\\\\GitHub\\\\RPP-SBC-EEMS\\\\Reporting_Units.gdb\\\\A_RU_4'>"
      ]
     },
     "execution_count": 8,
     "metadata": {},
     "output_type": "execute_result"
    }
   ],
   "source": [
    "arcpy.analysis.Intersect(\"A_RU_3; Pct_Cg_Fi_Ign_rpj\", \"A_RU_3_int\", \"ALL\", None, \"INPUT\")\n",
    "\n",
    "arcpy.SummarizeWithin_analysis(\"A_RU_3\", \"A_RU_3_int\", \n",
    "                               \"A_RU_4\", \"KEEP_ALL\", [['gridcode', 'MEAN']],\n",
    "                               \"NO_SHAPE_SUM\", \"SQUAREFEET\", None, \"NO_MIN_MAJ\", \"NO_PERCENT\", None)"
   ]
  },
  {
   "cell_type": "code",
   "execution_count": 9,
   "metadata": {},
   "outputs": [
    {
     "data": {
      "text/html": [
       "<h2>Output</h2><table><tr><th>id</th><th>value</th></tr><tr><td>0</td><td>C:\\Users\\zrcan\\Documents\\GitHub\\RPP-SBC-EEMS\\Reporting_Units.gdb\\A_RU_5</td></tr><tr><td>1</td><td></td></tr></table><h2>Messages</h2>Start Time: Thursday, November 11, 2021 7:03:51 AM<br/>Succeeded at Thursday, November 11, 2021 7:04:01 AM (Elapsed Time: 10.26 seconds)<br/><style>.rendered_html td, .rendered_html th {text-align: left;}.rendered_html tbody {border: 1px solid black;}</style>"
      ],
      "text/plain": [
       "<Result 'C:\\\\Users\\\\zrcan\\\\Documents\\\\GitHub\\\\RPP-SBC-EEMS\\\\Reporting_Units.gdb\\\\A_RU_5'>"
      ]
     },
     "execution_count": 9,
     "metadata": {},
     "output_type": "execute_result"
    }
   ],
   "source": [
    "arcpy.analysis.Intersect(\"A_RU_4; WUI_Intermix_rpj\", \"A_RU_4_int\", \"ALL\", None, \"INPUT\")\n",
    "\n",
    "arcpy.SummarizeWithin_analysis(\"A_RU_4\", \"A_RU_4_int\", \n",
    "                               \"A_RU_5\", \"KEEP_ALL\", [['SHAPE_AREA', 'MEAN']],\n",
    "                               \"ADD_SHAPE_SUM\", \"SQUAREFEET\", None, \"NO_MIN_MAJ\", \"NO_PERCENT\", None)"
   ]
  },
  {
   "cell_type": "code",
   "execution_count": 10,
   "metadata": {},
   "outputs": [
    {
     "data": {
      "text/html": [
       "<h2>Output</h2><table><tr><th>id</th><th>value</th></tr><tr><td>0</td><td>C:\\Users\\zrcan\\Documents\\GitHub\\RPP-SBC-EEMS\\Reporting_Units.gdb\\A_RU_6</td></tr><tr><td>1</td><td></td></tr></table><h2>Messages</h2>Start Time: Thursday, November 11, 2021 7:04:05 AM<br/>Succeeded at Thursday, November 11, 2021 7:04:15 AM (Elapsed Time: 9.95 seconds)<br/><style>.rendered_html td, .rendered_html th {text-align: left;}.rendered_html tbody {border: 1px solid black;}</style>"
      ],
      "text/plain": [
       "<Result 'C:\\\\Users\\\\zrcan\\\\Documents\\\\GitHub\\\\RPP-SBC-EEMS\\\\Reporting_Units.gdb\\\\A_RU_6'>"
      ]
     },
     "execution_count": 10,
     "metadata": {},
     "output_type": "execute_result"
    }
   ],
   "source": [
    "arcpy.analysis.Intersect(\"A_RU_5; WUI_Interface_rpj\", \"A_RU_5_int\", \"ALL\", None, \"INPUT\")\n",
    "\n",
    "arcpy.SummarizeWithin_analysis(\"A_RU_5\", \"A_RU_5_int\", \n",
    "                               \"A_RU_6\", \"KEEP_ALL\", [['SHAPE_AREA', 'MEAN']],\n",
    "                               \"ADD_SHAPE_SUM\", \"SQUAREFEET\", None, \"NO_MIN_MAJ\", \"NO_PERCENT\", None)"
   ]
  },
  {
   "cell_type": "code",
   "execution_count": 11,
   "metadata": {},
   "outputs": [
    {
     "data": {
      "text/html": [
       "<h2>Output</h2><table><tr><th>id</th><th>value</th></tr><tr><td>0</td><td>C:\\Users\\zrcan\\Documents\\GitHub\\RPP-SBC-EEMS\\Reporting_Units.gdb\\A_RU_7</td></tr><tr><td>1</td><td>C:\\Users\\zrcan\\Documents\\GitHub\\RPP-SBC-EEMS\\Reporting_Units.gdb\\LU_Cat_Summary</td></tr></table><h2>Messages</h2>Start Time: Thursday, November 11, 2021 7:04:20 AM<br/>Succeeded at Thursday, November 11, 2021 7:04:43 AM (Elapsed Time: 22.92 seconds)<br/><style>.rendered_html td, .rendered_html th {text-align: left;}.rendered_html tbody {border: 1px solid black;}</style>"
      ],
      "text/plain": [
       "<Result 'C:\\\\Users\\\\zrcan\\\\Documents\\\\GitHub\\\\RPP-SBC-EEMS\\\\Reporting_Units.gdb\\\\A_RU_7'>"
      ]
     },
     "execution_count": 11,
     "metadata": {},
     "output_type": "execute_result"
    }
   ],
   "source": [
    "arcpy.analysis.Intersect(\"A_RU_6; LU_Merged_rpj\", \"A_RU_6_int\", \"ALL\", None, \"INPUT\")\n",
    "\n",
    "arcpy.SummarizeWithin_analysis(\"A_RU_6\", \"A_RU_6_int\", \n",
    "                               \"A_RU_7\", \"KEEP_ALL\", [['LU_Cat', 'Max']],\n",
    "                               \"NO_SHAPE_SUM\", \"SQUAREFEET\", \"LU_Cat\", \"ADD_MIN_MAJ\", \"ADD_PERCENT\", None)"
   ]
  },
  {
   "cell_type": "code",
   "execution_count": 12,
   "metadata": {},
   "outputs": [
    {
     "data": {
      "text/html": [
       "<h2>Output</h2><table><tr><th>id</th><th>value</th></tr><tr><td>0</td><td>C:\\Users\\zrcan\\Documents\\GitHub\\RPP-SBC-EEMS\\Reporting_Units.gdb\\A_RU_8</td></tr><tr><td>1</td><td></td></tr></table><h2>Messages</h2>Start Time: Thursday, November 11, 2021 7:04:49 AM<br/>Succeeded at Thursday, November 11, 2021 7:05:05 AM (Elapsed Time: 16.51 seconds)<br/><style>.rendered_html td, .rendered_html th {text-align: left;}.rendered_html tbody {border: 1px solid black;}</style>"
      ],
      "text/plain": [
       "<Result 'C:\\\\Users\\\\zrcan\\\\Documents\\\\GitHub\\\\RPP-SBC-EEMS\\\\Reporting_Units.gdb\\\\A_RU_8'>"
      ]
     },
     "execution_count": 12,
     "metadata": {},
     "output_type": "execute_result"
    }
   ],
   "source": [
    "arcpy.analysis.Intersect(\"A_RU_7; FloraFaunaMerge_rpj\", \"A_RU_7_int\", \"ALL\", None, \"INPUT\")\n",
    "\n",
    "arcpy.SummarizeWithin_analysis(\"A_RU_7\", \"A_RU_7_int\", \n",
    "                               \"A_RU_8\", \"KEEP_ALL\", [['Flora_Faun', 'Mean']],\n",
    "                               \"NO_SHAPE_SUM\", \"SQUAREFEET\", None, \"NO_MIN_MAJ\", \"NO_PERCENT\", None)"
   ]
  },
  {
   "cell_type": "code",
   "execution_count": 13,
   "metadata": {},
   "outputs": [
    {
     "data": {
      "text/html": [
       "<h2>Output</h2><table><tr><th>id</th><th>value</th></tr><tr><td>0</td><td>C:\\Users\\zrcan\\Documents\\GitHub\\RPP-SBC-EEMS\\Reporting_Units.gdb\\A_RU_9</td></tr><tr><td>1</td><td></td></tr></table><h2>Messages</h2>Start Time: Thursday, November 11, 2021 7:05:18 AM<br/>Succeeded at Thursday, November 11, 2021 7:05:53 AM (Elapsed Time: 35.85 seconds)<br/><style>.rendered_html td, .rendered_html th {text-align: left;}.rendered_html tbody {border: 1px solid black;}</style>"
      ],
      "text/plain": [
       "<Result 'C:\\\\Users\\\\zrcan\\\\Documents\\\\GitHub\\\\RPP-SBC-EEMS\\\\Reporting_Units.gdb\\\\A_RU_9'>"
      ]
     },
     "execution_count": 13,
     "metadata": {},
     "output_type": "execute_result"
    }
   ],
   "source": [
    "arcpy.analysis.Intersect(\"A_RU_8; Building_Intersect_rpj\", \"A_RU_8_int\", \"ALL\", None, \"INPUT\")\n",
    "\n",
    "arcpy.analysis.SummarizeWithin(\"A_RU_8\", \"A_RU_8_int\", \n",
    "                               \"A_RU_9\", \"KEEP_ALL\", \"\", \n",
    "                               \"ADD_SHAPE_SUM\", \"SQUAREFEET\", None, \"NO_MIN_MAJ\", \"NO_PERCENT\", None)"
   ]
  },
  {
   "cell_type": "code",
   "execution_count": 14,
   "metadata": {},
   "outputs": [
    {
     "data": {
      "text/html": [
       "<h2>Output</h2><table><tr><th>id</th><th>value</th></tr><tr><td>0</td><td>C:\\Users\\zrcan\\Documents\\GitHub\\RPP-SBC-EEMS\\Reporting_Units.gdb\\A_RU_10</td></tr><tr><td>1</td><td></td></tr></table><h2>Messages</h2>Start Time: Thursday, November 11, 2021 7:08:11 AM<br/>Succeeded at Thursday, November 11, 2021 7:10:40 AM (Elapsed Time: 2 minutes 29 seconds)<br/><style>.rendered_html td, .rendered_html th {text-align: left;}.rendered_html tbody {border: 1px solid black;}</style>"
      ],
      "text/plain": [
       "<Result 'C:\\\\Users\\\\zrcan\\\\Documents\\\\GitHub\\\\RPP-SBC-EEMS\\\\Reporting_Units.gdb\\\\A_RU_10'>"
      ]
     },
     "execution_count": 14,
     "metadata": {},
     "output_type": "execute_result"
    }
   ],
   "source": [
    "arcpy.analysis.Intersect(\"A_RU_9; Slope_rpj\", \"A_RU_9_int\", \"ALL\", None, \"INPUT\")\n",
    "\n",
    "arcpy.analysis.SummarizeWithin(\"A_RU_9\", \"A_RU_9_int\", \n",
    "                               \"A_RU_10\", \"KEEP_ALL\", \"gridcode Mean\", \n",
    "                               \"NO_SHAPE_SUM\", \"SQUAREFEET\", None, \"NO_MIN_MAJ\", \"NO_PERCENT\", None)"
   ]
  },
  {
   "cell_type": "code",
   "execution_count": 15,
   "metadata": {},
   "outputs": [
    {
     "data": {
      "text/html": [
       "<h2>Output</h2><table><tr><th>id</th><th>value</th></tr><tr><td>0</td><td>C:\\Users\\zrcan\\Documents\\GitHub\\RPP-SBC-EEMS\\Reporting_Units.gdb\\A_RU_11</td></tr><tr><td>1</td><td>C:\\Users\\zrcan\\Documents\\GitHub\\RPP-SBC-EEMS\\Reporting_Units.gdb\\gridcode_Summary</td></tr></table><h2>Messages</h2>Start Time: Thursday, November 11, 2021 7:10:45 AM<br/>Succeeded at Thursday, November 11, 2021 7:11:10 AM (Elapsed Time: 24.80 seconds)<br/><style>.rendered_html td, .rendered_html th {text-align: left;}.rendered_html tbody {border: 1px solid black;}</style>"
      ],
      "text/plain": [
       "<Result 'C:\\\\Users\\\\zrcan\\\\Documents\\\\GitHub\\\\RPP-SBC-EEMS\\\\Reporting_Units.gdb\\\\A_RU_11'>"
      ]
     },
     "execution_count": 15,
     "metadata": {},
     "output_type": "execute_result"
    }
   ],
   "source": [
    "arcpy.analysis.Intersect(\"A_RU_10; Veg_Only_rpj\", \"A_RU_10_int\", \"ALL\", None, \"INPUT\")\n",
    "\n",
    "arcpy.analysis.SummarizeWithin(\"A_RU_10\", \"A_RU_10_int\", \n",
    "                               \"A_RU_11\", \"KEEP_ALL\", \"gridcode Max\", \n",
    "                               \"NO_SHAPE_SUM\", \"SQUAREFEET\", \"gridcode\", \"ADD_MIN_MAJ\", \"ADD_PERCENT\", None)"
   ]
  },
  {
   "cell_type": "code",
   "execution_count": 34,
   "metadata": {},
   "outputs": [
    {
     "data": {
      "text/html": [
       "<h2>Output</h2><table><tr><th>id</th><th>value</th></tr><tr><td>0</td><td>C:\\Users\\zrcan\\Documents\\GitHub\\RPP-SBC-EEMS\\Reporting_Units.gdb\\A_RU_12</td></tr><tr><td>1</td><td>C:\\Users\\zrcan\\Documents\\GitHub\\RPP-SBC-EEMS\\Reporting_Units.gdb\\HAZ_CODE_Summary</td></tr></table><h2>Messages</h2>Start Time: Thursday, November 11, 2021 9:38:36 AM<br/>Succeeded at Thursday, November 11, 2021 9:39:13 AM (Elapsed Time: 37.24 seconds)<br/><style>.rendered_html td, .rendered_html th {text-align: left;}.rendered_html tbody {border: 1px solid black;}</style>"
      ],
      "text/plain": [
       "<Result 'C:\\\\Users\\\\zrcan\\\\Documents\\\\GitHub\\\\RPP-SBC-EEMS\\\\Reporting_Units.gdb\\\\A_RU_12'>"
      ]
     },
     "execution_count": 34,
     "metadata": {},
     "output_type": "execute_result"
    }
   ],
   "source": [
    "arcpy.analysis.Intersect(\"A_RU_11; FHSZ_rpj\", \"A_RU_11_int\", \"ALL\", None, \"INPUT\")\n",
    "\n",
    "arcpy.analysis.SummarizeWithin(\"A_RU_11\", \"A_RU_11_int\", \n",
    "                               \"A_RU_12\", \"KEEP_ALL\", \"HAZ_CODE Max\", \n",
    "                               \"NO_SHAPE_SUM\", \"SQUAREFEET\", \"HAZ_CODE\", \"ADD_MIN_MAJ\", \"ADD_PERCENT\", None)"
   ]
  },
  {
   "cell_type": "code",
   "execution_count": 35,
   "metadata": {},
   "outputs": [
    {
     "data": {
      "text/html": [
       "<h2>Output</h2>C:\\Users\\zrcan\\Documents\\GitHub\\RPP-SBC-EEMS\\Reporting_Units.gdb\\A_RU_12<h2>Messages</h2>Start Time: Thursday, November 11, 2021 9:39:15 AM<br/>Succeeded at Thursday, November 11, 2021 9:39:16 AM (Elapsed Time: 0.57 seconds)<br/><style>.rendered_html td, .rendered_html th {text-align: left;}.rendered_html tbody {border: 1px solid black;}</style>"
      ],
      "text/plain": [
       "<Result 'C:\\\\Users\\\\zrcan\\\\Documents\\\\GitHub\\\\RPP-SBC-EEMS\\\\Reporting_Units.gdb\\\\A_RU_12'>"
      ]
     },
     "execution_count": 35,
     "metadata": {},
     "output_type": "execute_result"
    }
   ],
   "source": [
    "arcpy.AddField_management(\"A_RU_12\", \"WUI_Interm\", \"LONG\")\n",
    "arcpy.AddField_management(\"A_RU_12\", \"WUI_Interf\", \"LONG\")\n",
    "\n",
    "codeblock = \"\"\"\n",
    "def get_val(m):\n",
    "    if m is None:\n",
    "        return 0\n",
    "    elif m > 0:\n",
    "        return 1\n",
    "    else:\n",
    "        return 0\n",
    "\"\"\"\n",
    "\n",
    "# Execute CalculateField \n",
    "arcpy.CalculateField_management(\"A_RU_12\", \"WUI_Interm\", \"get_val(!mean_shape_area!)\", \"PYTHON3\", codeblock)\n",
    "arcpy.CalculateField_management(\"A_RU_12\", \"WUI_Interf\", \"get_val(!mean_shape_area_1!)\", \"PYTHON3\", codeblock)\n",
    "\n",
    "arcpy.DeleteField_management(\"A_RU_12\", \n",
    "                             ['SUM_Area_SQUAREFEET', 'SUM_Area_SQUAREFEET_1'])"
   ]
  },
  {
   "cell_type": "code",
   "execution_count": 36,
   "metadata": {},
   "outputs": [
    {
     "data": {
      "text/html": [
       "<h2>Output</h2>C:\\Users\\zrcan\\Documents\\GitHub\\RPP-SBC-EEMS\\Reporting_Units.gdb\\A_RU_12<h2>Messages</h2>Start Time: Thursday, November 11, 2021 9:39:17 AM<br/>Succeeded at Thursday, November 11, 2021 9:39:19 AM (Elapsed Time: 1.21 seconds)<br/><style>.rendered_html td, .rendered_html th {text-align: left;}.rendered_html tbody {border: 1px solid black;}</style>"
      ],
      "text/plain": [
       "<Result 'C:\\\\Users\\\\zrcan\\\\Documents\\\\GitHub\\\\RPP-SBC-EEMS\\\\Reporting_Units.gdb\\\\A_RU_12'>"
      ]
     },
     "execution_count": 36,
     "metadata": {},
     "output_type": "execute_result"
    }
   ],
   "source": [
    "arcpy.AddField_management(\"A_RU_12\", \"Mj_LU_Cat\", \"LONG\")\n",
    "\n",
    "codeblock = \"\"\"\n",
    "def get_val(a, m):\n",
    "    if m is None:\n",
    "        return 0\n",
    "    elif m >= 50:\n",
    "        return a\n",
    "    else:\n",
    "        return 0\n",
    "\"\"\"\n",
    "\n",
    "# Execute CalculateField \n",
    "arcpy.CalculateField_management(\"A_RU_12\", \"Mj_LU_Cat\", \"get_val(!Majority_LU_Cat!, !Majority_LU_Cat_Percent!)\", \"PYTHON3\", codeblock)\n",
    "\n",
    "arcpy.DeleteField_management(\"A_RU_12\", \n",
    "                             ['MAX_LU_Cat', 'Minority_LU_Cat', 'Majority_LU_Cat', 'Majority_LU_Cat_Percent', 'Minority_LU_Cat_Percent'])"
   ]
  },
  {
   "cell_type": "code",
   "execution_count": 37,
   "metadata": {},
   "outputs": [
    {
     "data": {
      "text/html": [
       "<h2>Output</h2>C:\\Users\\zrcan\\Documents\\GitHub\\RPP-SBC-EEMS\\Reporting_Units.gdb\\A_RU_12<h2>Messages</h2>Start Time: Thursday, November 11, 2021 9:39:20 AM<br/>Succeeded at Thursday, November 11, 2021 9:39:21 AM (Elapsed Time: 1.43 seconds)<br/><style>.rendered_html td, .rendered_html th {text-align: left;}.rendered_html tbody {border: 1px solid black;}</style>"
      ],
      "text/plain": [
       "<Result 'C:\\\\Users\\\\zrcan\\\\Documents\\\\GitHub\\\\RPP-SBC-EEMS\\\\Reporting_Units.gdb\\\\A_RU_12'>"
      ]
     },
     "execution_count": 37,
     "metadata": {},
     "output_type": "execute_result"
    }
   ],
   "source": [
    "arcpy.AddField_management(\"A_RU_12\", \"Mj_Haz_Cat\", \"LONG\")\n",
    "\n",
    "codeblock = \"\"\"\n",
    "def get_val(a, m):\n",
    "    if m is None:\n",
    "        return 0\n",
    "    elif m >= 50:\n",
    "        return a\n",
    "    else:\n",
    "        return 0\n",
    "\"\"\"\n",
    "\n",
    "# Execute CalculateField \n",
    "arcpy.CalculateField_management(\"A_RU_12\", \"Mj_Haz_Cat\", \"get_val(!Majority_HAZ_CODE!, !Majority_HAZ_CODE_Percent!)\", \"PYTHON3\", codeblock)\n",
    "\n",
    "arcpy.DeleteField_management(\"A_RU_12\", \n",
    "                             ['MAX_HAZ_CODE', 'Minority_HAZ_CODE', 'Majority_HAZ_CODE', 'Majority_HAZ_CODE_Percent', 'Minority_HAZ_CODE_Percent'])"
   ]
  },
  {
   "cell_type": "code",
   "execution_count": 38,
   "metadata": {},
   "outputs": [
    {
     "data": {
      "text/html": [
       "<h2>Output</h2>C:\\Users\\zrcan\\Documents\\GitHub\\RPP-SBC-EEMS\\Reporting_Units.gdb\\A_RU_12<h2>Messages</h2>Start Time: Thursday, November 11, 2021 9:39:23 AM<br/>Succeeded at Thursday, November 11, 2021 9:39:24 AM (Elapsed Time: 0.93 seconds)<br/><style>.rendered_html td, .rendered_html th {text-align: left;}.rendered_html tbody {border: 1px solid black;}</style>"
      ],
      "text/plain": [
       "<Result 'C:\\\\Users\\\\zrcan\\\\Documents\\\\GitHub\\\\RPP-SBC-EEMS\\\\Reporting_Units.gdb\\\\A_RU_12'>"
      ]
     },
     "execution_count": 38,
     "metadata": {},
     "output_type": "execute_result"
    }
   ],
   "source": [
    "arcpy.AddField_management(\"A_RU_12\", \"Vg_Pct\", \"FLOAT\")\n",
    "\n",
    "codeblock = \"\"\"\n",
    "def get_val(a, m):\n",
    "    if m is None:\n",
    "        return 0\n",
    "    else:\n",
    "        return round(m/100, 2)\n",
    "\"\"\"\n",
    "\n",
    "# Execute CalculateField \n",
    "arcpy.CalculateField_management(\"A_RU_12\", \"Vg_Pct\", \"get_val(!Majority_gridcode!, !Majority_gridcode_Percent!)\", \"PYTHON3\", codeblock)\n",
    "\n",
    "arcpy.DeleteField_management(\"A_RU_12\", \n",
    "                             ['MAX_gridcode', 'Minority_gridcode', 'Minority_gridcode_Percent'])"
   ]
  },
  {
   "cell_type": "code",
   "execution_count": 39,
   "metadata": {},
   "outputs": [
    {
     "name": "stdout",
     "output_type": "stream",
     "text": [
      "['OBJECTID', 'Shape', 'Shape_Leng', 'mean_gridcode', 'Polygon_Count', 'mean_gridcode_1', 'Polygon_Count_1', 'mean_gridcode_12', 'Polygon_Count_12', 'mean_gridcode_12_13', 'Polygon_Count_12_13', 'mean_shape_area', 'Polygon_Count_12_13_14', 'mean_shape_area_1', 'Polygon_Count_12_13_14_15', 'sum_Area_SQUAREFEET_12', 'Polygon_Count_12_13_14_15_16', 'Join_ID', 'mean_flora_faun', 'Polygon_Count_12_13_14_15_16_17', 'sum_Area_SQUAREFEET_12_13', 'Polygon_Count_12_13_14_15_16_17_18', 'mean_gridcode_12_13_14', 'Polygon_Count_12_13_14_15_16_17_18_19', 'sum_Area_SQUAREFEET_12_13_14', 'Polygon_Count_12_13_14_15_16_17_18_19_20', 'Majority_gridcode', 'Majority_gridcode_Percent', 'Join_ID_1', 'Shape_Length', 'Shape_Area', 'sum_Area_SQUAREFEET_12_13_14_15', 'Polygon_Count_12_13_14_15_16_17_18_19_20_21', 'Join_ID_1_2', 'WUI_Interm', 'WUI_Interf', 'Mj_LU_Cat', 'Mj_Haz_Cat', 'Vg_Pct']\n"
     ]
    }
   ],
   "source": [
    "fieldObs = arcpy.ListFields(\"A_RU_12\")  \n",
    "\n",
    "fieldNames = []  \n",
    "for field in fieldObs:  \n",
    "    fieldNames.append(field.name)\n",
    "del fieldObs  \n",
    "fieldCount = len(fieldNames) \n",
    "\n",
    "with arcpy.da.UpdateCursor(\"A_RU_12\", fieldNames) as curU:  \n",
    "    for row in curU:  \n",
    "        rowU = row  \n",
    "        for field in range(fieldCount):  \n",
    "            if rowU[field] == None:  \n",
    "                rowU[field] = \"0\"  \n",
    "        curU.updateRow(rowU)\n",
    "\n",
    "del curU\n",
    "\n",
    "print(fieldNames)"
   ]
  },
  {
   "cell_type": "code",
   "execution_count": 40,
   "metadata": {},
   "outputs": [
    {
     "data": {
      "text/html": [
       "<h2>Output</h2>C:\\Users\\zrcan\\Documents\\GitHub\\RPP-SBC-EEMS\\Reporting_Units.gdb\\A_RU_12<h2>Messages</h2>Start Time: Thursday, November 11, 2021 9:39:27 AM<br/>Succeeded at Thursday, November 11, 2021 9:39:29 AM (Elapsed Time: 1.67 seconds)<br/><style>.rendered_html td, .rendered_html th {text-align: left;}.rendered_html tbody {border: 1px solid black;}</style>"
      ],
      "text/plain": [
       "<Result 'C:\\\\Users\\\\zrcan\\\\Documents\\\\GitHub\\\\RPP-SBC-EEMS\\\\Reporting_Units.gdb\\\\A_RU_12'>"
      ]
     },
     "execution_count": 40,
     "metadata": {},
     "output_type": "execute_result"
    }
   ],
   "source": [
    "arcpy.AlterField_management('A_RU_12', \n",
    "                            'MEAN_gridcode', 'Pr_Lg_Fr', 'Pr_Lg_Fr')\n",
    "arcpy.AlterField_management('A_RU_12', \n",
    "                            'MEAN_gridcode_1', 'Pr_Fi_Ign', 'Pr_Fi_Ign')\n",
    "arcpy.AlterField_management('A_RU_12', \n",
    "                            'MEAN_gridcode_12', 'Pc_Cg_LgFi', 'Pc_Cg_LgFi')\n",
    "arcpy.AlterField_management('A_RU_12', \n",
    "                            'MEAN_gridcode_12_13', 'Pc_Fi_Ign', 'Pc_Fi_Ign')\n",
    "arcpy.AlterField_management('A_RU_12', \n",
    "                            'MEAN_gridcode_12_13_14', 'Slp', 'Slp')\n",
    "\n",
    "arcpy.AlterField_management('A_RU_12', \n",
    "                            'MEAN_Flora_Faun', 'Fl_Fa', 'Fl_Fa')\n",
    "\n",
    "arcpy.AlterField_management('A_RU_12', \n",
    "                            'SUM_Area_SQUAREFEET_12_13', 'Buil_Ar', 'Buil_Ar')\n",
    "\n",
    "arcpy.DeleteField_management(\"A_RU_12\", \n",
    "                             ['SUM_Area_SQUAREFEET_12', 'Join_ID_1', 'Shape_Leng', 'SUM_Area_SQUAREFEET_12_13_14', \n",
    "                              'SUM_Area_SQUAREFEET_12_13_14_15', \"Majority_gridcode\", \"Majority_gridcode_Percent\"])"
   ]
  },
  {
   "cell_type": "code",
   "execution_count": 41,
   "metadata": {},
   "outputs": [
    {
     "data": {
      "text/html": [
       "<h2>Output</h2>C:\\Users\\zrcan\\Documents\\GitHub\\RPP-SBC-EEMS\\Reporting_Units.gdb\\A_RU_12<h2>Messages</h2>Start Time: Thursday, November 11, 2021 9:39:29 AM<br/>Succeeded at Thursday, November 11, 2021 9:39:30 AM (Elapsed Time: 0.85 seconds)<br/><style>.rendered_html td, .rendered_html th {text-align: left;}.rendered_html tbody {border: 1px solid black;}</style>"
      ],
      "text/plain": [
       "<Result 'C:\\\\Users\\\\zrcan\\\\Documents\\\\GitHub\\\\RPP-SBC-EEMS\\\\Reporting_Units.gdb\\\\A_RU_12'>"
      ]
     },
     "execution_count": 41,
     "metadata": {},
     "output_type": "execute_result"
    }
   ],
   "source": [
    "arcpy.AddField_management(\"A_RU_12\", \"Buil_Rat\", \"FLOAT\")\n",
    "\n",
    "arcpy.CalculateField_management(\"A_RU_12\", \"Buil_Rat\", \n",
    "                                '!Buil_Ar!/!Shape_Area!', \"PYTHON3\")"
   ]
  },
  {
   "cell_type": "code",
   "execution_count": 42,
   "metadata": {},
   "outputs": [
    {
     "name": "stdout",
     "output_type": "stream",
     "text": [
      "OBJECTID\n",
      "Shape\n",
      "Pr_Lg_Fr\n",
      "Polygon_Count\n",
      "Pr_Fi_Ign\n",
      "Polygon_Count_1\n",
      "Pc_Cg_LgFi\n",
      "Polygon_Count_12\n",
      "Pc_Fi_Ign\n",
      "Polygon_Count_12_13\n",
      "mean_shape_area\n",
      "Polygon_Count_12_13_14\n",
      "mean_shape_area_1\n",
      "Polygon_Count_12_13_14_15\n",
      "Polygon_Count_12_13_14_15_16\n",
      "Join_ID\n",
      "Fl_Fa\n",
      "Polygon_Count_12_13_14_15_16_17\n",
      "Buil_Ar\n",
      "Polygon_Count_12_13_14_15_16_17_18\n",
      "Slp\n",
      "Polygon_Count_12_13_14_15_16_17_18_19\n",
      "Polygon_Count_12_13_14_15_16_17_18_19_20\n",
      "Shape_Length\n",
      "Shape_Area\n",
      "Polygon_Count_12_13_14_15_16_17_18_19_20_21\n",
      "Join_ID_1_2\n",
      "WUI_Interm\n",
      "WUI_Interf\n",
      "Mj_LU_Cat\n",
      "Mj_Haz_Cat\n",
      "Vg_Pct\n",
      "Buil_Rat\n"
     ]
    }
   ],
   "source": [
    "fieldObs = arcpy.ListFields(\"A_RU_12\") \n",
    "\n",
    "fieldNames = []  \n",
    "for field in fieldObs: \n",
    "    print(field.name)\n",
    "    fieldNames.append(field.name)  \n",
    "del fieldObs"
   ]
  },
  {
   "cell_type": "code",
   "execution_count": 43,
   "metadata": {},
   "outputs": [
    {
     "data": {
      "text/html": [
       "<h2>Output</h2>C:\\Users\\zrcan\\Documents\\GitHub\\RPP-SBC-EEMS\\out_data\\eems<h2>Messages</h2>Start Time: Thursday, November 11, 2021 9:39:30 AM<br/>C:\\Users\\zrcan\\Documents\\GitHub\\RPP-SBC-EEMS\\Reporting_Units.gdb\\A_RU_12 Successfully converted:  C:\\Users\\zrcan\\Documents\\GitHub\\RPP-SBC-EEMS\\out_data/eems\\A_RU_12.shp<br/>Succeeded at Thursday, November 11, 2021 9:39:32 AM (Elapsed Time: 1.82 seconds)<br/><style>.rendered_html td, .rendered_html th {text-align: left;}.rendered_html tbody {border: 1px solid black;}</style>"
      ],
      "text/plain": [
       "<Result 'C:\\\\Users\\\\zrcan\\\\Documents\\\\GitHub\\\\RPP-SBC-EEMS\\\\out_data\\\\eems'>"
      ]
     },
     "execution_count": 43,
     "metadata": {},
     "output_type": "execute_result"
    }
   ],
   "source": [
    "dir_path = os.path.join(THIS_FOLDER, \"out_data/eems\")\n",
    "shutil.rmtree(dir_path)\n",
    "os.mkdir(dir_path)\n",
    "\n",
    "arcpy.conversion.FeatureClassToShapefile(\"A_RU_12\", \n",
    "                                        os.path.join(THIS_FOLDER, \"out_data/eems\"))"
   ]
  },
  {
   "cell_type": "code",
   "execution_count": 44,
   "metadata": {},
   "outputs": [
    {
     "name": "stdout",
     "output_type": "stream",
     "text": [
      "<class 'geopandas.geodataframe.GeoDataFrame'>\n",
      "RangeIndex: 18176 entries, 0 to 18175\n",
      "Data columns (total 17 columns):\n",
      " #   Column      Non-Null Count  Dtype   \n",
      "---  ------      --------------  -----   \n",
      " 0   Join_ID     18176 non-null  int64   \n",
      " 1   Pr_Lg_Fr    18176 non-null  float64 \n",
      " 2   Pr_Fi_Ign   18176 non-null  float64 \n",
      " 3   Pc_Cg_LgFi  18176 non-null  float64 \n",
      " 4   Pc_Fi_Ign   18176 non-null  float64 \n",
      " 5   Fl_Fa       18176 non-null  float64 \n",
      " 6   Buil_Ar     18176 non-null  float64 \n",
      " 7   Slp         18176 non-null  float64 \n",
      " 8   Shape_Leng  18176 non-null  float64 \n",
      " 9   Shape_Area  18176 non-null  float64 \n",
      " 10  WUI_Interm  18176 non-null  int64   \n",
      " 11  WUI_Interf  18176 non-null  int64   \n",
      " 12  Mj_LU_Cat   18176 non-null  int64   \n",
      " 13  Mj_Haz_Cat  18176 non-null  int64   \n",
      " 14  Vg_Pct      18176 non-null  float64 \n",
      " 15  Buil_Rat    18176 non-null  float64 \n",
      " 16  geometry    18176 non-null  geometry\n",
      "dtypes: float64(11), geometry(1), int64(5)\n",
      "memory usage: 2.4 MB\n"
     ]
    }
   ],
   "source": [
    "gdf = gpd.read_file(os.path.join(THIS_FOLDER, \"out_data/eems/A_RU_12.shp\"))\n",
    "gdf = gdf[['Join_ID', 'Pr_Lg_Fr', 'Pr_Fi_Ign', 'Pc_Cg_LgFi', 'Pc_Fi_Ign',\n",
    "           'Fl_Fa', 'Buil_Ar', 'Slp', 'Shape_Leng', 'Shape_Area', 'WUI_Interm',\n",
    "           'WUI_Interf', 'Mj_LU_Cat', 'Mj_Haz_Cat', 'Vg_Pct', 'Buil_Rat', 'geometry']]\n",
    "gdf.info()"
   ]
  },
  {
   "cell_type": "code",
   "execution_count": 45,
   "metadata": {},
   "outputs": [],
   "source": [
    "gdf['geometry'] = gdf['geometry'].to_crs(epsg=26911)"
   ]
  },
  {
   "cell_type": "code",
   "execution_count": 46,
   "metadata": {},
   "outputs": [],
   "source": [
    "gdf.to_csv(\"out_data/eems/Reporting_Units.csv\", index=False)"
   ]
  },
  {
   "cell_type": "code",
   "execution_count": null,
   "metadata": {},
   "outputs": [],
   "source": []
  },
  {
   "cell_type": "code",
   "execution_count": null,
   "metadata": {},
   "outputs": [],
   "source": []
  }
 ],
 "metadata": {
  "kernelspec": {
   "display_name": "Python 3 (ipykernel)",
   "language": "python",
   "name": "python3"
  },
  "language_info": {
   "codemirror_mode": {
    "name": "ipython",
    "version": 3
   },
   "file_extension": ".py",
   "mimetype": "text/x-python",
   "name": "python",
   "nbconvert_exporter": "python",
   "pygments_lexer": "ipython3",
   "version": "3.7.11"
  }
 },
 "nbformat": 4,
 "nbformat_minor": 4
}
