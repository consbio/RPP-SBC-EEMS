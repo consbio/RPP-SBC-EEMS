{
 "cells": [
  {
   "cell_type": "code",
   "execution_count": 5,
   "metadata": {},
   "outputs": [],
   "source": [
    "import pandas as pd\n",
    "import geopandas as gpd\n",
    "import arcpy\n",
    "import os\n",
    "import shutil\n",
    "import math\n",
    "import inspect\n",
    "\n",
    "src_file_path = inspect.getfile(lambda: None)\n",
    "THIS_FOLDER = os.path.dirname(os.path.abspath(src_file_path))"
   ]
  },
  {
   "cell_type": "code",
   "execution_count": 2,
   "metadata": {},
   "outputs": [],
   "source": [
    "arcpy.ResetEnvironments()\n",
    "gdb_name = \"Summarize_Reporting_Units.gdb\"\n",
    "arcpy.env.overwriteOutput = True\n",
    "path = os.path.join(THIS_FOLDER, gdb_name)\n",
    "arcpy.CreateFileGDB_management(\"./\", gdb_name)\n",
    "arcpy.env.workspace = path\n",
    "arcpy.env.scratchWorkspace = path"
   ]
  },
  {
   "cell_type": "code",
   "execution_count": 3,
   "metadata": {},
   "outputs": [
    {
     "ename": "ExecuteError",
     "evalue": "Failed to execute. Parameters are not valid.\nERROR 000732: Input Features: Dataset C:\\Users\\zrcan\\Documents\\GitHub\\RPP-SBC-EEMS\\out_data/building/Building_Intersect.shp does not exist or is not supported\nFailed to execute (CopyFeatures).\n",
     "output_type": "error",
     "traceback": [
      "\u001b[1;31m---------------------------------------------------------------------------\u001b[0m",
      "\u001b[1;31mExecuteError\u001b[0m                              Traceback (most recent call last)",
      "\u001b[1;32m<ipython-input-3-cf887011cf14>\u001b[0m in \u001b[0;36m<module>\u001b[1;34m\u001b[0m\n\u001b[0;32m     11\u001b[0m     \u001b[0mpath\u001b[0m \u001b[1;33m=\u001b[0m \u001b[0mos\u001b[0m\u001b[1;33m.\u001b[0m\u001b[0mpath\u001b[0m\u001b[1;33m.\u001b[0m\u001b[0mjoin\u001b[0m\u001b[1;33m(\u001b[0m\u001b[0mTHIS_FOLDER\u001b[0m\u001b[1;33m,\u001b[0m \u001b[1;34m\"{}\"\u001b[0m\u001b[1;33m.\u001b[0m\u001b[0mformat\u001b[0m\u001b[1;33m(\u001b[0m\u001b[0mv\u001b[0m\u001b[1;33m)\u001b[0m\u001b[1;33m)\u001b[0m\u001b[1;33m\u001b[0m\u001b[1;33m\u001b[0m\u001b[0m\n\u001b[0;32m     12\u001b[0m     \u001b[0mname\u001b[0m \u001b[1;33m=\u001b[0m \u001b[0mv\u001b[0m\u001b[1;33m.\u001b[0m\u001b[0mrsplit\u001b[0m\u001b[1;33m(\u001b[0m\u001b[1;34m'/'\u001b[0m\u001b[1;33m,\u001b[0m \u001b[1;36m1\u001b[0m\u001b[1;33m)\u001b[0m\u001b[1;33m[\u001b[0m\u001b[1;33m-\u001b[0m\u001b[1;36m1\u001b[0m\u001b[1;33m]\u001b[0m\u001b[1;33m.\u001b[0m\u001b[0msplit\u001b[0m\u001b[1;33m(\u001b[0m\u001b[1;34m\".\"\u001b[0m\u001b[1;33m)\u001b[0m\u001b[1;33m[\u001b[0m\u001b[1;36m0\u001b[0m\u001b[1;33m]\u001b[0m\u001b[1;33m\u001b[0m\u001b[1;33m\u001b[0m\u001b[0m\n\u001b[1;32m---> 13\u001b[1;33m     \u001b[0marcpy\u001b[0m\u001b[1;33m.\u001b[0m\u001b[0mCopyFeatures_management\u001b[0m\u001b[1;33m(\u001b[0m\u001b[0mpath\u001b[0m\u001b[1;33m,\u001b[0m \u001b[0mname\u001b[0m\u001b[1;33m)\u001b[0m\u001b[1;33m\u001b[0m\u001b[1;33m\u001b[0m\u001b[0m\n\u001b[0m\u001b[0;32m     14\u001b[0m     \u001b[0mcrs\u001b[0m \u001b[1;33m=\u001b[0m \u001b[0marcpy\u001b[0m\u001b[1;33m.\u001b[0m\u001b[0mSpatialReference\u001b[0m\u001b[1;33m(\u001b[0m\u001b[1;34m'NAD 1983 StatePlane California V FIPS 0405 (US Feet)'\u001b[0m\u001b[1;33m)\u001b[0m\u001b[1;33m\u001b[0m\u001b[1;33m\u001b[0m\u001b[0m\n\u001b[0;32m     15\u001b[0m     \u001b[0marcpy\u001b[0m\u001b[1;33m.\u001b[0m\u001b[0mProject_management\u001b[0m\u001b[1;33m(\u001b[0m\u001b[0mname\u001b[0m\u001b[1;33m,\u001b[0m \u001b[1;34m\"{}_rpj\"\u001b[0m\u001b[1;33m.\u001b[0m\u001b[0mformat\u001b[0m\u001b[1;33m(\u001b[0m\u001b[0mname\u001b[0m\u001b[1;33m)\u001b[0m\u001b[1;33m,\u001b[0m \u001b[0mcrs\u001b[0m\u001b[1;33m)\u001b[0m\u001b[1;33m\u001b[0m\u001b[1;33m\u001b[0m\u001b[0m\n",
      "\u001b[1;32mC:\\Program Files\\ArcGIS\\Pro\\Resources\\ArcPy\\arcpy\\management.py\u001b[0m in \u001b[0;36mCopyFeatures\u001b[1;34m(in_features, out_feature_class, config_keyword, spatial_grid_1, spatial_grid_2, spatial_grid_3)\u001b[0m\n\u001b[0;32m   3863\u001b[0m         \u001b[1;32mreturn\u001b[0m \u001b[0mretval\u001b[0m\u001b[1;33m\u001b[0m\u001b[1;33m\u001b[0m\u001b[0m\n\u001b[0;32m   3864\u001b[0m     \u001b[1;32mexcept\u001b[0m \u001b[0mException\u001b[0m \u001b[1;32mas\u001b[0m \u001b[0me\u001b[0m\u001b[1;33m:\u001b[0m\u001b[1;33m\u001b[0m\u001b[1;33m\u001b[0m\u001b[0m\n\u001b[1;32m-> 3865\u001b[1;33m         \u001b[1;32mraise\u001b[0m \u001b[0me\u001b[0m\u001b[1;33m\u001b[0m\u001b[1;33m\u001b[0m\u001b[0m\n\u001b[0m\u001b[0;32m   3866\u001b[0m \u001b[1;33m\u001b[0m\u001b[0m\n\u001b[0;32m   3867\u001b[0m \u001b[1;33m@\u001b[0m\u001b[0mgptooldoc\u001b[0m\u001b[1;33m(\u001b[0m\u001b[1;34m'DeleteFeatures_management'\u001b[0m\u001b[1;33m,\u001b[0m \u001b[1;32mNone\u001b[0m\u001b[1;33m)\u001b[0m\u001b[1;33m\u001b[0m\u001b[1;33m\u001b[0m\u001b[0m\n",
      "\u001b[1;32mC:\\Program Files\\ArcGIS\\Pro\\Resources\\ArcPy\\arcpy\\management.py\u001b[0m in \u001b[0;36mCopyFeatures\u001b[1;34m(in_features, out_feature_class, config_keyword, spatial_grid_1, spatial_grid_2, spatial_grid_3)\u001b[0m\n\u001b[0;32m   3860\u001b[0m     \u001b[1;32mfrom\u001b[0m \u001b[0marcpy\u001b[0m\u001b[1;33m.\u001b[0m\u001b[0marcobjects\u001b[0m\u001b[1;33m.\u001b[0m\u001b[0marcobjectconversion\u001b[0m \u001b[1;32mimport\u001b[0m \u001b[0mconvertArcObjectToPythonObject\u001b[0m\u001b[1;33m\u001b[0m\u001b[1;33m\u001b[0m\u001b[0m\n\u001b[0;32m   3861\u001b[0m     \u001b[1;32mtry\u001b[0m\u001b[1;33m:\u001b[0m\u001b[1;33m\u001b[0m\u001b[1;33m\u001b[0m\u001b[0m\n\u001b[1;32m-> 3862\u001b[1;33m         \u001b[0mretval\u001b[0m \u001b[1;33m=\u001b[0m \u001b[0mconvertArcObjectToPythonObject\u001b[0m\u001b[1;33m(\u001b[0m\u001b[0mgp\u001b[0m\u001b[1;33m.\u001b[0m\u001b[0mCopyFeatures_management\u001b[0m\u001b[1;33m(\u001b[0m\u001b[1;33m*\u001b[0m\u001b[0mgp_fixargs\u001b[0m\u001b[1;33m(\u001b[0m\u001b[1;33m(\u001b[0m\u001b[0min_features\u001b[0m\u001b[1;33m,\u001b[0m \u001b[0mout_feature_class\u001b[0m\u001b[1;33m,\u001b[0m \u001b[0mconfig_keyword\u001b[0m\u001b[1;33m,\u001b[0m \u001b[0mspatial_grid_1\u001b[0m\u001b[1;33m,\u001b[0m \u001b[0mspatial_grid_2\u001b[0m\u001b[1;33m,\u001b[0m \u001b[0mspatial_grid_3\u001b[0m\u001b[1;33m)\u001b[0m\u001b[1;33m,\u001b[0m \u001b[1;32mTrue\u001b[0m\u001b[1;33m)\u001b[0m\u001b[1;33m)\u001b[0m\u001b[1;33m)\u001b[0m\u001b[1;33m\u001b[0m\u001b[1;33m\u001b[0m\u001b[0m\n\u001b[0m\u001b[0;32m   3863\u001b[0m         \u001b[1;32mreturn\u001b[0m \u001b[0mretval\u001b[0m\u001b[1;33m\u001b[0m\u001b[1;33m\u001b[0m\u001b[0m\n\u001b[0;32m   3864\u001b[0m     \u001b[1;32mexcept\u001b[0m \u001b[0mException\u001b[0m \u001b[1;32mas\u001b[0m \u001b[0me\u001b[0m\u001b[1;33m:\u001b[0m\u001b[1;33m\u001b[0m\u001b[1;33m\u001b[0m\u001b[0m\n",
      "\u001b[1;32mC:\\Program Files\\ArcGIS\\Pro\\Resources\\ArcPy\\arcpy\\geoprocessing\\_base.py\u001b[0m in \u001b[0;36m<lambda>\u001b[1;34m(*args)\u001b[0m\n\u001b[0;32m    510\u001b[0m         \u001b[0mval\u001b[0m \u001b[1;33m=\u001b[0m \u001b[0mgetattr\u001b[0m\u001b[1;33m(\u001b[0m\u001b[0mself\u001b[0m\u001b[1;33m.\u001b[0m\u001b[0m_gp\u001b[0m\u001b[1;33m,\u001b[0m \u001b[0mattr\u001b[0m\u001b[1;33m)\u001b[0m\u001b[1;33m\u001b[0m\u001b[1;33m\u001b[0m\u001b[0m\n\u001b[0;32m    511\u001b[0m         \u001b[1;32mif\u001b[0m \u001b[0mcallable\u001b[0m\u001b[1;33m(\u001b[0m\u001b[0mval\u001b[0m\u001b[1;33m)\u001b[0m\u001b[1;33m:\u001b[0m\u001b[1;33m\u001b[0m\u001b[1;33m\u001b[0m\u001b[0m\n\u001b[1;32m--> 512\u001b[1;33m             \u001b[1;32mreturn\u001b[0m \u001b[1;32mlambda\u001b[0m \u001b[1;33m*\u001b[0m\u001b[0margs\u001b[0m\u001b[1;33m:\u001b[0m \u001b[0mval\u001b[0m\u001b[1;33m(\u001b[0m\u001b[1;33m*\u001b[0m\u001b[0mgp_fixargs\u001b[0m\u001b[1;33m(\u001b[0m\u001b[0margs\u001b[0m\u001b[1;33m,\u001b[0m \u001b[1;32mTrue\u001b[0m\u001b[1;33m)\u001b[0m\u001b[1;33m)\u001b[0m\u001b[1;33m\u001b[0m\u001b[1;33m\u001b[0m\u001b[0m\n\u001b[0m\u001b[0;32m    513\u001b[0m         \u001b[1;32melse\u001b[0m\u001b[1;33m:\u001b[0m\u001b[1;33m\u001b[0m\u001b[1;33m\u001b[0m\u001b[0m\n\u001b[0;32m    514\u001b[0m             \u001b[1;32mreturn\u001b[0m \u001b[0mconvertArcObjectToPythonObject\u001b[0m\u001b[1;33m(\u001b[0m\u001b[0mval\u001b[0m\u001b[1;33m)\u001b[0m\u001b[1;33m\u001b[0m\u001b[1;33m\u001b[0m\u001b[0m\n",
      "\u001b[1;31mExecuteError\u001b[0m: Failed to execute. Parameters are not valid.\nERROR 000732: Input Features: Dataset C:\\Users\\zrcan\\Documents\\GitHub\\RPP-SBC-EEMS\\out_data/building/Building_Intersect.shp does not exist or is not supported\nFailed to execute (CopyFeatures).\n"
     ]
    }
   ],
   "source": [
    "data = [\"in_data/Pr_Lg_Fire.shp\", \"in_data/Pr_Fire_Ign.shp\",\n",
    "        \"in_data/Pct_Cg_Lg_Fi.shp\", \"in_data/Pct_Cg_Fi_Ign.shp\",\n",
    "        \"in_data/WUI_Intermix.shp\", \"in_data/WUI_Interface.shp\",\n",
    "        \"in_data/FloraFaunaMerge.shp\",\n",
    "        \"out_data/lu/LU_merged.shp\", \"out_data/ru/Reporting_Units_APN.shp\",\n",
    "        \"out_data/building/Building_Intersect.shp\",\n",
    "        \"in_data/Slope.shp\", \"in_data/Veg_Only.shp\",\n",
    "        \"in_data/FHSZ.shp\"]\n",
    "\n",
    "for v in data:\n",
    "    path = os.path.join(THIS_FOLDER, \"{}\".format(v))\n",
    "    name = v.rsplit('/', 1)[-1].split(\".\")[0]\n",
    "    arcpy.CopyFeatures_management(path, name)\n",
    "    crs = arcpy.SpatialReference('NAD 1983 StatePlane California V FIPS 0405 (US Feet)')\n",
    "    arcpy.Project_management(name, \"{}_rpj\".format(name), crs)"
   ]
  },
  {
   "cell_type": "code",
   "execution_count": null,
   "metadata": {},
   "outputs": [],
   "source": [
    "arcpy.analysis.SummarizeWithin(\"Reporting_Units_APN_rpj\", \"Pr_Lg_Fire_rpj\", \n",
    "                               \"A_RU_1\", \"KEEP_ALL\", \"gridcode Mean\", \n",
    "                               \"NO_SHAPE_SUM\", \"SQUAREFEET\", None, \"NO_MIN_MAJ\", \"NO_PERCENT\", None)"
   ]
  },
  {
   "cell_type": "code",
   "execution_count": null,
   "metadata": {},
   "outputs": [],
   "source": [
    "arcpy.analysis.SummarizeWithin(\"A_RU_1\", \"Pr_Fire_Ign_rpj\", \n",
    "                               \"A_RU_2\", \"KEEP_ALL\", \"gridcode Mean\", \n",
    "                               \"NO_SHAPE_SUM\", \"SQUAREFEET\", None, \"NO_MIN_MAJ\", \"NO_PERCENT\", None)"
   ]
  },
  {
   "cell_type": "code",
   "execution_count": null,
   "metadata": {},
   "outputs": [],
   "source": [
    "arcpy.analysis.SummarizeWithin(\"A_RU_2\", \"Pct_Cg_Lg_Fi_rpj\", \n",
    "                               \"A_RU_3\", \"KEEP_ALL\", \"gridcode Mean\", \n",
    "                               \"NO_SHAPE_SUM\", \"SQUAREFEET\", None, \"NO_MIN_MAJ\", \"NO_PERCENT\", None)"
   ]
  },
  {
   "cell_type": "code",
   "execution_count": null,
   "metadata": {},
   "outputs": [],
   "source": [
    "arcpy.analysis.SummarizeWithin(\"A_RU_3\", \"Pct_Cg_Fi_Ign_rpj\", \n",
    "                               \"A_RU_4\", \"KEEP_ALL\", \"gridcode Mean\", \n",
    "                               \"NO_SHAPE_SUM\", \"SQUAREFEET\", None, \"NO_MIN_MAJ\", \"NO_PERCENT\", None)"
   ]
  },
  {
   "cell_type": "code",
   "execution_count": null,
   "metadata": {},
   "outputs": [],
   "source": [
    "arcpy.analysis.SummarizeWithin(\"A_RU_4\", \"WUI_Intermix_rpj\", \n",
    "                               \"A_RU_5\", \"KEEP_ALL\", None, \n",
    "                               \"ADD_SHAPE_SUM\", \"SQUAREFEET\", None, \"NO_MIN_MAJ\", \"NO_PERCENT\", None)\n",
    "arcpy.analysis.SummarizeWithin(\"A_RU_5\", \"WUI_Interface_rpj\", \n",
    "                               \"A_RU_6\", \"KEEP_ALL\", None, \n",
    "                               \"ADD_SHAPE_SUM\", \"SQUAREFEET\", None, \"NO_MIN_MAJ\", \"NO_PERCENT\", None)"
   ]
  },
  {
   "cell_type": "code",
   "execution_count": null,
   "metadata": {},
   "outputs": [],
   "source": [
    "arcpy.analysis.SummarizeWithin(\"A_RU_6\", \"LU_Merged_rpj\", \n",
    "                               \"A_RU_7\", \"KEEP_ALL\", \"LU_Cat Max\", \n",
    "                               \"NO_SHAPE_SUM\", \"SQUAREFEET\", \"LU_Cat\", \"ADD_MIN_MAJ\", \"ADD_PERCENT\", None)"
   ]
  },
  {
   "cell_type": "code",
   "execution_count": null,
   "metadata": {},
   "outputs": [],
   "source": [
    "arcpy.analysis.SummarizeWithin(\"A_RU_7\", \"FloraFaunaMerge_rpj\", \n",
    "                               \"A_RU_8\", \"KEEP_ALL\", \"Flora_Faun Mean\", \n",
    "                               \"NO_SHAPE_SUM\", \"SQUAREFEET\", None, \"NO_MIN_MAJ\", \"NO_PERCENT\", None)"
   ]
  },
  {
   "cell_type": "code",
   "execution_count": null,
   "metadata": {},
   "outputs": [],
   "source": [
    "arcpy.analysis.SummarizeWithin(\"A_RU_8\", \"Building_Intersect_rpj\", \n",
    "                               \"A_RU_9\", \"KEEP_ALL\", \"\", \n",
    "                               \"ADD_SHAPE_SUM\", \"SQUAREFEET\", None, \"NO_MIN_MAJ\", \"NO_PERCENT\", None)"
   ]
  },
  {
   "cell_type": "code",
   "execution_count": null,
   "metadata": {},
   "outputs": [],
   "source": [
    "arcpy.analysis.SummarizeWithin(\"A_RU_9\", \"Slope_rpj\", \n",
    "                               \"A_RU_10\", \"KEEP_ALL\", \"gridcode Mean\", \n",
    "                               \"NO_SHAPE_SUM\", \"SQUAREFEET\", None, \"NO_MIN_MAJ\", \"NO_PERCENT\", None)"
   ]
  },
  {
   "cell_type": "code",
   "execution_count": null,
   "metadata": {},
   "outputs": [],
   "source": [
    "arcpy.analysis.SummarizeWithin(\"A_RU_10\", \"Veg_Only_rpj\", \n",
    "                               \"A_RU_11\", \"KEEP_ALL\", \"gridcode Max\", \n",
    "                               \"NO_SHAPE_SUM\", \"SQUAREFEET\", \"gridcode\", \"ADD_MIN_MAJ\", \"ADD_PERCENT\", None)"
   ]
  },
  {
   "cell_type": "code",
   "execution_count": null,
   "metadata": {},
   "outputs": [],
   "source": [
    "arcpy.analysis.SummarizeWithin(\"A_RU_11\", \"FHSZ_rpj\", \n",
    "                               \"A_RU_12\", \"KEEP_ALL\", \"HAZ_CODE Max\", \n",
    "                               \"NO_SHAPE_SUM\", \"SQUAREFEET\", \"HAZ_CODE\", \"ADD_MIN_MAJ\", \"ADD_PERCENT\", None)"
   ]
  },
  {
   "cell_type": "code",
   "execution_count": null,
   "metadata": {},
   "outputs": [],
   "source": [
    "fieldObs = arcpy.ListFields(\"A_RU_12\")  \n",
    "\n",
    "fieldNames = []  \n",
    "for field in fieldObs:  \n",
    "    fieldNames.append(field.name)\n",
    "del fieldObs  \n",
    "fieldCount = len(fieldNames) \n",
    "\n",
    "with arcpy.da.UpdateCursor(\"A_RU_12\", fieldNames) as curU:  \n",
    "    for row in curU:  \n",
    "        rowU = row  \n",
    "        for field in range(fieldCount):  \n",
    "            if rowU[field] == None:  \n",
    "                rowU[field] = \"0\"  \n",
    "        curU.updateRow(rowU)\n",
    "\n",
    "del curU"
   ]
  },
  {
   "cell_type": "code",
   "execution_count": null,
   "metadata": {},
   "outputs": [],
   "source": [
    "arcpy.AddField_management(\"A_RU_12\", \"WUI_Interm\", \"LONG\")\n",
    "arcpy.AddField_management(\"A_RU_12\", \"WUI_Interf\", \"LONG\")\n",
    "\n",
    "codeblock = \"\"\"\n",
    "def get_val(m):\n",
    "    if m > 0:\n",
    "        return 1\n",
    "    else:\n",
    "        return 0\n",
    "\"\"\"\n",
    "\n",
    "# Execute CalculateField \n",
    "arcpy.CalculateField_management(\"A_RU_12\", \"WUI_Interm\", \"get_val(!SUM_Area_SQUAREFEET!)\", \"PYTHON3\", codeblock)\n",
    "arcpy.CalculateField_management(\"A_RU_12\", \"WUI_Interf\", \"get_val(!SUM_Area_SQUAREFEET_1!)\", \"PYTHON3\", codeblock)\n",
    "\n",
    "arcpy.DeleteField_management(\"A_RU_12\", \n",
    "                             ['SUM_Area_SQUAREFEET', 'SUM_Area_SQUAREFEET_1'])"
   ]
  },
  {
   "cell_type": "code",
   "execution_count": null,
   "metadata": {},
   "outputs": [],
   "source": [
    "arcpy.AddField_management(\"A_RU_12\", \"Mj_LU_Cat\", \"LONG\")\n",
    "\n",
    "codeblock = \"\"\"\n",
    "def get_val(a, m):\n",
    "    if m >= 50:\n",
    "        return a\n",
    "    else:\n",
    "        return 0\n",
    "\"\"\"\n",
    "\n",
    "# Execute CalculateField \n",
    "arcpy.CalculateField_management(\"A_RU_12\", \"Mj_LU_Cat\", \"get_val(!Majority_LU_Cat!, !Majority_LU_Cat_Percent!)\", \"PYTHON3\", codeblock)\n",
    "\n",
    "arcpy.DeleteField_management(\"A_RU_12\", \n",
    "                             ['MAX_LU_Cat', 'Minority_LU_Cat', 'Majority_LU_Cat', 'Majority_LU_Cat_Percent', 'Minority_LU_Cat_Percent'])"
   ]
  },
  {
   "cell_type": "code",
   "execution_count": null,
   "metadata": {},
   "outputs": [],
   "source": [
    "arcpy.AddField_management(\"A_RU_12\", \"Mj_Haz_Cat\", \"LONG\")\n",
    "\n",
    "codeblock = \"\"\"\n",
    "def get_val(a, m):\n",
    "    if m >= 50:\n",
    "        return a\n",
    "    else:\n",
    "        return 0\n",
    "\"\"\"\n",
    "\n",
    "# Execute CalculateField \n",
    "arcpy.CalculateField_management(\"A_RU_12\", \"Mj_Haz_Cat\", \"get_val(!Majority_HAZ_CODE!, !Majority_HAZ_CODE_Percent!)\", \"PYTHON3\", codeblock)\n",
    "\n",
    "arcpy.DeleteField_management(\"A_RU_12\", \n",
    "                             ['MAX_HAZ_CODE', 'Minority_HAZ_CODE', 'Majority_HAZ_CODE', 'Majority_HAZ_CODE_Percent', 'Minority_HAZ_CODE_Percent'])"
   ]
  },
  {
   "cell_type": "code",
   "execution_count": null,
   "metadata": {},
   "outputs": [],
   "source": [
    "arcpy.AddField_management(\"A_RU_12\", \"Vg_Pct\", \"FLOAT\")\n",
    "\n",
    "codeblock = \"\"\"\n",
    "def get_val(a, m):\n",
    "    return round(m/100, 2)\n",
    "\"\"\"\n",
    "\n",
    "# Execute CalculateField \n",
    "arcpy.CalculateField_management(\"A_RU_12\", \"Vg_Pct\", \"get_val(!Majority_gridcode!, !Majority_gridcode_Percent!)\", \"PYTHON3\", codeblock)\n",
    "\n",
    "arcpy.DeleteField_management(\"A_RU_12\", \n",
    "                             ['MAX_gridcode', 'Minority_gridcode', 'Minority_gridcode_Percent'])"
   ]
  },
  {
   "cell_type": "code",
   "execution_count": null,
   "metadata": {},
   "outputs": [],
   "source": [
    "arcpy.AlterField_management('A_RU_12', \n",
    "                            'MEAN_gridcode', 'Pr_Lg_Fr', 'Pr_Lg_Fr')\n",
    "arcpy.AlterField_management('A_RU_12', \n",
    "                            'MEAN_gridcode_1', 'Pr_Fi_Ign', 'Pr_Fi_Ign')\n",
    "arcpy.AlterField_management('A_RU_12', \n",
    "                            'MEAN_gridcode_12', 'Pc_Cg_LgFi', 'Pc_Cg_LgFi')\n",
    "arcpy.AlterField_management('A_RU_12', \n",
    "                            'MEAN_gridcode_12_13', 'Pc_Fi_Ign', 'Pc_Fi_Ign')\n",
    "arcpy.AlterField_management('A_RU_12', \n",
    "                            'MEAN_gridcode_12_13_14', 'Slp', 'Slp')\n",
    "\n",
    "arcpy.AlterField_management('A_RU_12', \n",
    "                            'MEAN_Flora_Faun', 'Fl_Fa', 'Fl_Fa')\n",
    "\n",
    "arcpy.AlterField_management('A_RU_12', \n",
    "                            'SUM_Area_SQUAREFEET_12_13', 'Buil_Ar', 'Buil_Ar')\n",
    "\n",
    "arcpy.DeleteField_management(\"A_RU_12\", \n",
    "                             ['SUM_Area_SQUAREFEET_12', 'Join_ID_1', 'Shape_Leng', 'SUM_Area_SQUAREFEET_12_13_14', \n",
    "                              'SUM_Area_SQUAREFEET_12_13_14_15', \"Majority_gridcode\", \"Majority_gridcode_Percent\"])"
   ]
  },
  {
   "cell_type": "code",
   "execution_count": null,
   "metadata": {},
   "outputs": [],
   "source": [
    "arcpy.AddField_management(\"A_RU_12\", \"Buil_Rat\", \"FLOAT\")\n",
    "\n",
    "arcpy.CalculateField_management(\"A_RU_12\", \"Buil_Rat\", \n",
    "                                '!Buil_Ar!/!Shape_Area!', \"PYTHON3\")"
   ]
  },
  {
   "cell_type": "code",
   "execution_count": null,
   "metadata": {},
   "outputs": [],
   "source": [
    "fieldObs = arcpy.ListFields(\"A_RU_12\") \n",
    "\n",
    "fieldNames = []  \n",
    "for field in fieldObs: \n",
    "    print(field.name)\n",
    "    fieldNames.append(field.name)  \n",
    "del fieldObs"
   ]
  },
  {
   "cell_type": "code",
   "execution_count": null,
   "metadata": {},
   "outputs": [],
   "source": [
    "dir_path = os.path.join(THIS_FOLDER, \"out_data/eems\")\n",
    "shutil.rmtree(dir_path)\n",
    "os.mkdir(dir_path)\n",
    "\n",
    "arcpy.conversion.FeatureClassToShapefile(\"A_RU_12\", \n",
    "                                        os.path.join(THIS_FOLDER, \"out_data/eems\"))"
   ]
  },
  {
   "cell_type": "code",
   "execution_count": null,
   "metadata": {},
   "outputs": [],
   "source": [
    "gdf = gpd.read_file(os.path.join(THIS_FOLDER, \"out_data/eems/A_RU_12.shp\"))\n",
    "gdf.info()"
   ]
  },
  {
   "cell_type": "code",
   "execution_count": null,
   "metadata": {},
   "outputs": [],
   "source": [
    "gdf.to_csv(\"out_data/eems/A_RU_12.csv\", index=False)"
   ]
  },
  {
   "cell_type": "code",
   "execution_count": null,
   "metadata": {},
   "outputs": [],
   "source": []
  }
 ],
 "metadata": {
  "kernelspec": {
   "display_name": "Python 3",
   "language": "python",
   "name": "python3"
  },
  "language_info": {
   "codemirror_mode": {
    "name": "ipython",
    "version": 3
   },
   "file_extension": ".py",
   "mimetype": "text/x-python",
   "name": "python",
   "nbconvert_exporter": "python",
   "pygments_lexer": "ipython3",
   "version": "3.7.10"
  }
 },
 "nbformat": 4,
 "nbformat_minor": 4
}
