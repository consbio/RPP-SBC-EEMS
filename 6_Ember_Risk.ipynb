{
 "cells": [
  {
   "cell_type": "code",
   "execution_count": 1,
   "metadata": {},
   "outputs": [],
   "source": [
    "import mpilot\n",
    "import arcpy\n",
    "import pandas as pd\n",
    "import geopandas as gpd\n",
    "import os\n",
    "import shutil\n",
    "from shapely import wkt\n",
    "from pyproj import CRS\n",
    "\n",
    "THIS_FOLDER = os.path.dirname(os.path.abspath(\"RPP-SBC-EEMS\"))\n",
    "print(THIS_FOLDER)"
   ]
  },
  {
   "cell_type": "code",
   "execution_count": 2,
   "metadata": {},
   "outputs": [
    {
     "data": {
      "text/html": [
       "<h2>Output</h2>true<h2>Messages</h2>Start Time: Thursday, May 13, 2021 11:06:10 AM<br/>Succeeded at Thursday, May 13, 2021 11:06:10 AM (Elapsed Time: 0.00 seconds)<br/><style>.rendered_html td, .rendered_html th {text-align: left;}.rendered_html tbody {border: 1px solid black;}</style>"
      ],
      "text/plain": [
       "<Result 'true'>"
      ]
     },
     "execution_count": 2,
     "metadata": {},
     "output_type": "execute_result"
    }
   ],
   "source": [
    "arcpy.ClearWorkspaceCache_management()"
   ]
  },
  {
   "cell_type": "code",
   "execution_count": 6,
   "metadata": {},
   "outputs": [],
   "source": [
    "arcpy.ResetEnvironments()\n",
    "gdb_name = \"Ember_Risk.gdb\"\n",
    "arcpy.env.overwriteOutput = True\n",
    "path = os.path.join(THIS_FOLDER, gdb_name)\n",
    "try:\n",
    "    arcpy.CreateFileGDB_management(\"./\", gdb_name)\n",
    "except:\n",
    "    print(\"{} already exists\".format(gdb_name))\n",
    "    pass\n",
    "arcpy.env.workspace = path\n",
    "arcpy.env.scratchWorkspace = path"
   ]
  },
  {
   "cell_type": "code",
   "execution_count": 7,
   "metadata": {},
   "outputs": [
    {
     "data": {
      "text/html": [
       "<h2>Output</h2>C:\\Users\\zrcan\\Documents\\GitHub\\RPP-SBC-EEMS\\Ember_Risk.gdb\\Prob_Lg_Fire_rpj<h2>Messages</h2>Start Time: Thursday, May 13, 2021 11:07:10 AM<br/>Succeeded at Thursday, May 13, 2021 11:07:17 AM (Elapsed Time: 7.11 seconds)<br/><style>.rendered_html td, .rendered_html th {text-align: left;}.rendered_html tbody {border: 1px solid black;}</style>"
      ],
      "text/plain": [
       "<Result 'C:\\\\Users\\\\zrcan\\\\Documents\\\\GitHub\\\\RPP-SBC-EEMS\\\\Ember_Risk.gdb\\\\Prob_Lg_Fire_rpj'>"
      ]
     },
     "execution_count": 7,
     "metadata": {},
     "output_type": "execute_result"
    }
   ],
   "source": [
    "path = os.path.join(THIS_FOLDER, \"out_data/ru/Reporting_Units.shp\")\n",
    "arcpy.CopyFeatures_management(path, \"Reporting_Units\")\n",
    "crs = arcpy.SpatialReference('WGS 1984')\n",
    "arcpy.Project_management(\"Reporting_Units\", \"Reporting_Units_rpj\", crs)\n",
    "\n",
    "path = os.path.join(THIS_FOLDER, \"in_data/Prob_Lg_Fire_Vector.shp\")\n",
    "arcpy.CopyFeatures_management(path, \"Prob_Lg_Fire\")\n",
    "crs = arcpy.SpatialReference('WGS 1984')\n",
    "arcpy.Project_management(\"Prob_Lg_Fire\", \"Prob_Lg_Fire_rpj\", crs)"
   ]
  },
  {
   "cell_type": "code",
   "execution_count": 8,
   "metadata": {},
   "outputs": [
    {
     "data": {
      "text/html": [
       "<h2>Output</h2>C:\\Users\\zrcan\\Documents\\GitHub\\RPP-SBC-EEMS\\Ember_Risk.gdb\\Reporting_Units_Points<h2>Messages</h2>Start Time: Thursday, May 13, 2021 11:07:18 AM<br/>Succeeded at Thursday, May 13, 2021 11:07:20 AM (Elapsed Time: 2.45 seconds)<br/><style>.rendered_html td, .rendered_html th {text-align: left;}.rendered_html tbody {border: 1px solid black;}</style>"
      ],
      "text/plain": [
       "<Result 'C:\\\\Users\\\\zrcan\\\\Documents\\\\GitHub\\\\RPP-SBC-EEMS\\\\Ember_Risk.gdb\\\\Reporting_Units_Points'>"
      ]
     },
     "execution_count": 8,
     "metadata": {},
     "output_type": "execute_result"
    }
   ],
   "source": [
    "arcpy.management.FeatureToPoint(\"Reporting_Units_rpj\", \"Reporting_Units_Points\", \"INSIDE\")     "
   ]
  },
  {
   "cell_type": "code",
   "execution_count": 9,
   "metadata": {},
   "outputs": [
    {
     "data": {
      "text/html": [
       "<h2>Output</h2>C:\\Users\\zrcan\\Documents\\GitHub\\RPP-SBC-EEMS\\Ember_Risk.gdb\\wind_pts1<h2>Messages</h2>Start Time: Thursday, May 13, 2021 11:07:54 AM<br/>Succeeded at Thursday, May 13, 2021 11:07:54 AM (Elapsed Time: 0.45 seconds)<br/><style>.rendered_html td, .rendered_html th {text-align: left;}.rendered_html tbody {border: 1px solid black;}</style>"
      ],
      "text/plain": [
       "<Result 'C:\\\\Users\\\\zrcan\\\\Documents\\\\GitHub\\\\RPP-SBC-EEMS\\\\Ember_Risk.gdb\\\\wind_pts1'>"
      ]
     },
     "execution_count": 9,
     "metadata": {},
     "output_type": "execute_result"
    }
   ],
   "source": [
    "path = os.path.join(THIS_FOLDER, \"in_data/wind/sa_ws.tif\")\n",
    "arcpy.sa.ExtractValuesToPoints(\"Reporting_Units_Points\", path, \"wind_pts1\", \"NONE\", \"VALUE_ONLY\")\n",
    "arcpy.AlterField_management('wind_pts1', 'RASTERVALU', 'sa_mag', 'sa_mag')"
   ]
  },
  {
   "cell_type": "code",
   "execution_count": 10,
   "metadata": {},
   "outputs": [
    {
     "data": {
      "text/html": [
       "<h2>Output</h2>C:\\Users\\zrcan\\Documents\\GitHub\\RPP-SBC-EEMS\\Ember_Risk.gdb\\wind_pts2<h2>Messages</h2>Start Time: Thursday, May 13, 2021 11:08:04 AM<br/>Succeeded at Thursday, May 13, 2021 11:08:05 AM (Elapsed Time: 0.53 seconds)<br/><style>.rendered_html td, .rendered_html th {text-align: left;}.rendered_html tbody {border: 1px solid black;}</style>"
      ],
      "text/plain": [
       "<Result 'C:\\\\Users\\\\zrcan\\\\Documents\\\\GitHub\\\\RPP-SBC-EEMS\\\\Ember_Risk.gdb\\\\wind_pts2'>"
      ]
     },
     "execution_count": 10,
     "metadata": {},
     "output_type": "execute_result"
    }
   ],
   "source": [
    "path = os.path.join(THIS_FOLDER, \"in_data/wind/sa_dir.tif\")\n",
    "arcpy.sa.ExtractValuesToPoints(\"wind_pts1\", path, \"wind_pts2\", \"NONE\", \"VALUE_ONLY\")\n",
    "arcpy.AlterField_management('wind_pts2', 'RASTERVALU', 'sa_dir', 'sa_dir')"
   ]
  },
  {
   "cell_type": "code",
   "execution_count": 11,
   "metadata": {},
   "outputs": [
    {
     "data": {
      "text/html": [
       "<h2>Output</h2>C:\\Users\\zrcan\\Documents\\GitHub\\RPP-SBC-EEMS\\Ember_Risk.gdb\\wind_pts3<h2>Messages</h2>Start Time: Thursday, May 13, 2021 11:08:15 AM<br/>Succeeded at Thursday, May 13, 2021 11:08:15 AM (Elapsed Time: 0.51 seconds)<br/><style>.rendered_html td, .rendered_html th {text-align: left;}.rendered_html tbody {border: 1px solid black;}</style>"
      ],
      "text/plain": [
       "<Result 'C:\\\\Users\\\\zrcan\\\\Documents\\\\GitHub\\\\RPP-SBC-EEMS\\\\Ember_Risk.gdb\\\\wind_pts3'>"
      ]
     },
     "execution_count": 11,
     "metadata": {},
     "output_type": "execute_result"
    }
   ],
   "source": [
    "path = os.path.join(THIS_FOLDER, \"in_data/wind/sd_dir.tif\")\n",
    "arcpy.sa.ExtractValuesToPoints(\"wind_pts2\", path, \"wind_pts3\", \"NONE\", \"VALUE_ONLY\")\n",
    "arcpy.AlterField_management('wind_pts3', 'RASTERVALU', 'sd_dir', 'sd_dir')"
   ]
  },
  {
   "cell_type": "code",
   "execution_count": 12,
   "metadata": {},
   "outputs": [
    {
     "data": {
      "text/html": [
       "<h2>Output</h2>C:\\Users\\zrcan\\Documents\\GitHub\\RPP-SBC-EEMS\\Ember_Risk.gdb\\wind_pts4<h2>Messages</h2>Start Time: Thursday, May 13, 2021 11:08:26 AM<br/>Succeeded at Thursday, May 13, 2021 11:08:27 AM (Elapsed Time: 0.44 seconds)<br/><style>.rendered_html td, .rendered_html th {text-align: left;}.rendered_html tbody {border: 1px solid black;}</style>"
      ],
      "text/plain": [
       "<Result 'C:\\\\Users\\\\zrcan\\\\Documents\\\\GitHub\\\\RPP-SBC-EEMS\\\\Ember_Risk.gdb\\\\wind_pts4'>"
      ]
     },
     "execution_count": 12,
     "metadata": {},
     "output_type": "execute_result"
    }
   ],
   "source": [
    "path = os.path.join(THIS_FOLDER, \"in_data/wind/sd_ws.tif\")\n",
    "arcpy.sa.ExtractValuesToPoints(\"wind_pts3\", path, \"wind_pts4\", \"NONE\", \"VALUE_ONLY\")\n",
    "arcpy.AlterField_management('wind_pts4', 'RASTERVALU', 'sd_mag', 'sd_mag')"
   ]
  },
  {
   "cell_type": "code",
   "execution_count": 13,
   "metadata": {},
   "outputs": [
    {
     "data": {
      "text/html": [
       "<h2>Output</h2>C:\\Users\\zrcan\\Documents\\GitHub\\RPP-SBC-EEMS\\Ember_Risk.gdb\\wind_pts4<h2>Messages</h2>Start Time: Thursday, May 13, 2021 11:08:31 AM<br/>Succeeded at Thursday, May 13, 2021 11:08:40 AM (Elapsed Time: 8.62 seconds)<br/><style>.rendered_html td, .rendered_html th {text-align: left;}.rendered_html tbody {border: 1px solid black;}</style>"
      ],
      "text/plain": [
       "<Result 'C:\\\\Users\\\\zrcan\\\\Documents\\\\GitHub\\\\RPP-SBC-EEMS\\\\Ember_Risk.gdb\\\\wind_pts4'>"
      ]
     },
     "execution_count": 13,
     "metadata": {},
     "output_type": "execute_result"
    }
   ],
   "source": [
    "arcpy.AddField_management(\"wind_pts4\", \"x\", \"DOUBLE\")\n",
    "arcpy.AddField_management(\"wind_pts4\", \"y\", \"DOUBLE\")\n",
    "arcpy.management.CalculateGeometryAttributes(\"wind_pts4\", \"x POINT_X;y POINT_Y\", '', '', None, \"SAME_AS_INPUT\")"
   ]
  },
  {
   "cell_type": "code",
   "execution_count": 14,
   "metadata": {},
   "outputs": [
    {
     "data": {
      "text/html": [
       "<h2>Output</h2>C:\\Users\\zrcan\\Documents\\GitHub\\RPP-SBC-EEMS\\Ember_Risk.gdb\\wind_pts4<h2>Messages</h2>Start Time: Thursday, May 13, 2021 11:08:44 AM<br/>Succeeded at Thursday, May 13, 2021 11:08:45 AM (Elapsed Time: 1.28 seconds)<br/><style>.rendered_html td, .rendered_html th {text-align: left;}.rendered_html tbody {border: 1px solid black;}</style>"
      ],
      "text/plain": [
       "<Result 'C:\\\\Users\\\\zrcan\\\\Documents\\\\GitHub\\\\RPP-SBC-EEMS\\\\Ember_Risk.gdb\\\\wind_pts4'>"
      ]
     },
     "execution_count": 14,
     "metadata": {},
     "output_type": "execute_result"
    }
   ],
   "source": [
    "arcpy.AddField_management(\"wind_pts4\", \"sa_throw\", \"DOUBLE\")\n",
    "arcpy.AddField_management(\"wind_pts4\", \"sd_throw\", \"DOUBLE\")\n",
    "\n",
    "codeblock = \"\"\"\n",
    "def get_ember_mag(m):\n",
    "    return (m * 100)\n",
    "\"\"\"\n",
    "\n",
    "# Execute CalculateField \n",
    "arcpy.CalculateField_management(\"wind_pts4\", \"sa_throw\", \"get_ember_mag(!sd_mag!)\", \"PYTHON3\", codeblock)\n",
    "arcpy.CalculateField_management(\"wind_pts4\", \"sd_throw\", \"get_ember_mag(!sa_mag!)\", \"PYTHON3\", codeblock)"
   ]
  },
  {
   "cell_type": "code",
   "execution_count": 15,
   "metadata": {},
   "outputs": [],
   "source": [
    "fieldNames = [\"sa_throw\", \"sd_throw\"] \n",
    "fieldCount = len(fieldNames)\n",
    "\n",
    "with arcpy.da.UpdateCursor(\"wind_pts4\", fieldNames) as curU:  \n",
    "    for row in curU:  \n",
    "        rowU = row  \n",
    "        for field in range(fieldCount):  \n",
    "            if (rowU[field] == None or rowU[field] == 0):  \n",
    "                rowU[field] = \"0.01\"  \n",
    "        curU.updateRow(rowU)\n",
    "\n",
    "del curU"
   ]
  },
  {
   "cell_type": "code",
   "execution_count": 16,
   "metadata": {},
   "outputs": [
    {
     "data": {
      "text/html": [
       "<h2>Output</h2>C:\\Users\\zrcan\\Documents\\GitHub\\RPP-SBC-EEMS\\Ember_Risk.gdb\\sd_bearing_line<h2>Messages</h2>Start Time: Thursday, May 13, 2021 11:08:46 AM<br/>Succeeded at Thursday, May 13, 2021 11:08:47 AM (Elapsed Time: 1.76 seconds)<br/><style>.rendered_html td, .rendered_html th {text-align: left;}.rendered_html tbody {border: 1px solid black;}</style>"
      ],
      "text/plain": [
       "<Result 'C:\\\\Users\\\\zrcan\\\\Documents\\\\GitHub\\\\RPP-SBC-EEMS\\\\Ember_Risk.gdb\\\\sd_bearing_line'>"
      ]
     },
     "execution_count": 16,
     "metadata": {},
     "output_type": "execute_result"
    }
   ],
   "source": [
    "arcpy.management.BearingDistanceToLine(\"wind_pts4\", \"sd_bearing_line\", \"x\", \"y\", \"sd_throw\", \"METERS\", \"sd_dir\", \"DEGREES\", \"GEODESIC\", None)"
   ]
  },
  {
   "cell_type": "code",
   "execution_count": 17,
   "metadata": {},
   "outputs": [
    {
     "data": {
      "text/html": [
       "<h2>Output</h2>C:\\Users\\zrcan\\Documents\\GitHub\\RPP-SBC-EEMS\\Ember_Risk.gdb\\sa_bearing_line<h2>Messages</h2>Start Time: Thursday, May 13, 2021 11:08:48 AM<br/>Succeeded at Thursday, May 13, 2021 11:08:49 AM (Elapsed Time: 1.67 seconds)<br/><style>.rendered_html td, .rendered_html th {text-align: left;}.rendered_html tbody {border: 1px solid black;}</style>"
      ],
      "text/plain": [
       "<Result 'C:\\\\Users\\\\zrcan\\\\Documents\\\\GitHub\\\\RPP-SBC-EEMS\\\\Ember_Risk.gdb\\\\sa_bearing_line'>"
      ]
     },
     "execution_count": 17,
     "metadata": {},
     "output_type": "execute_result"
    }
   ],
   "source": [
    "arcpy.management.BearingDistanceToLine(\"wind_pts4\", \"sa_bearing_line\", \"x\", \"y\", \"sa_throw\", \"METERS\", \"sa_dir\", \"DEGREES\", \"GEODESIC\", None)"
   ]
  },
  {
   "cell_type": "code",
   "execution_count": 18,
   "metadata": {},
   "outputs": [
    {
     "name": "stdout",
     "output_type": "stream",
     "text": [
      "['OID', 'Shape', 'x', 'y', 'sa_throw', 'sa_dir', 'Shape_Length']\n"
     ]
    }
   ],
   "source": [
    "field_names = [f.name for f in arcpy.ListFields(\"sa_bearing_line\")]\n",
    "print(field_names)"
   ]
  },
  {
   "cell_type": "code",
   "execution_count": 19,
   "metadata": {},
   "outputs": [
    {
     "name": "stdout",
     "output_type": "stream",
     "text": [
      "['OID', 'Shape', 'x', 'y', 'sd_throw', 'sd_dir', 'Shape_Length']\n"
     ]
    }
   ],
   "source": [
    "field_names = [f.name for f in arcpy.ListFields(\"sd_bearing_line\")]\n",
    "print(field_names)"
   ]
  },
  {
   "cell_type": "code",
   "execution_count": 20,
   "metadata": {},
   "outputs": [
    {
     "data": {
      "text/html": [
       "<h2>Output</h2>C:\\Users\\zrcan\\Documents\\GitHub\\RPP-SBC-EEMS\\Ember_Risk.gdb\\sa_bearing_line_join<h2>Messages</h2>Start Time: Thursday, May 13, 2021 11:08:50 AM<br/>Succeeded at Thursday, May 13, 2021 11:08:53 AM (Elapsed Time: 3.04 seconds)<br/><style>.rendered_html td, .rendered_html th {text-align: left;}.rendered_html tbody {border: 1px solid black;}</style>"
      ],
      "text/plain": [
       "<Result 'C:\\\\Users\\\\zrcan\\\\Documents\\\\GitHub\\\\RPP-SBC-EEMS\\\\Ember_Risk.gdb\\\\sa_bearing_line_join'>"
      ]
     },
     "execution_count": 20,
     "metadata": {},
     "output_type": "execute_result"
    }
   ],
   "source": [
    "fieldmappings = arcpy.FieldMappings()\n",
    "fieldmappings.addTable(\"sa_bearing_line\")\n",
    "fieldmappings.addTable(\"Prob_Lg_Fire_rpj\")\n",
    "keepers = [\"OID\", \"sum_sa_ember\"]\n",
    "\n",
    "pcFieldIndex = fieldmappings.findFieldMapIndex(\"ProbLgFire\")\n",
    "pcfieldmap = fieldmappings.getFieldMap(pcFieldIndex)\n",
    "pcnew = pcfieldmap.outputField\n",
    "pcnew.name = \"sum_sa_ember\"\n",
    "pcnew.aliasName = \"sum_sa_ember\"\n",
    "pcfieldmap.outputField = pcnew\n",
    "pcfieldmap.mergeRule = \"sum\"\n",
    "\n",
    "fieldmappings.replaceFieldMap(pcFieldIndex, pcfieldmap)\n",
    "\n",
    "for field in fieldmappings.fields:\n",
    "    if field.name not in keepers:\n",
    "        fieldmappings.removeFieldMap(fieldmappings.findFieldMapIndex(field.name))\n",
    "        \n",
    "arcpy.SpatialJoin_analysis(\"sa_bearing_line\", \"Prob_Lg_Fire_rpj\", \"sa_bearing_line_join\", \"JOIN_ONE_TO_ONE\", \"#\", fieldmappings) "
   ]
  },
  {
   "cell_type": "code",
   "execution_count": 21,
   "metadata": {},
   "outputs": [
    {
     "data": {
      "text/html": [
       "<h2>Output</h2>C:\\Users\\zrcan\\Documents\\GitHub\\RPP-SBC-EEMS\\Ember_Risk.gdb\\sd_bearing_line_join<h2>Messages</h2>Start Time: Thursday, May 13, 2021 11:08:53 AM<br/>Succeeded at Thursday, May 13, 2021 11:08:56 AM (Elapsed Time: 2.54 seconds)<br/><style>.rendered_html td, .rendered_html th {text-align: left;}.rendered_html tbody {border: 1px solid black;}</style>"
      ],
      "text/plain": [
       "<Result 'C:\\\\Users\\\\zrcan\\\\Documents\\\\GitHub\\\\RPP-SBC-EEMS\\\\Ember_Risk.gdb\\\\sd_bearing_line_join'>"
      ]
     },
     "execution_count": 21,
     "metadata": {},
     "output_type": "execute_result"
    }
   ],
   "source": [
    "fieldmappings = arcpy.FieldMappings()\n",
    "fieldmappings.addTable(\"sd_bearing_line\")\n",
    "fieldmappings.addTable(\"Prob_Lg_Fire_rpj\")\n",
    "keepers = [\"OID\", \"sum_sd_ember\"]\n",
    "\n",
    "pcFieldIndex = fieldmappings.findFieldMapIndex(\"ProbLgFire\")\n",
    "pcfieldmap = fieldmappings.getFieldMap(pcFieldIndex)\n",
    "pcnew = pcfieldmap.outputField\n",
    "pcnew.name = \"sum_sd_ember\"\n",
    "pcnew.aliasName = \"sum_sd_ember\"\n",
    "pcfieldmap.outputField = pcnew\n",
    "pcfieldmap.mergeRule = \"sum\"\n",
    "\n",
    "fieldmappings.replaceFieldMap(pcFieldIndex, pcfieldmap)\n",
    "\n",
    "for field in fieldmappings.fields:\n",
    "    if field.name not in keepers:\n",
    "        fieldmappings.removeFieldMap(fieldmappings.findFieldMapIndex(field.name))\n",
    "        \n",
    "arcpy.SpatialJoin_analysis(\"sd_bearing_line\", \"Prob_Lg_Fire_rpj\", \"sd_bearing_line_join\", \"JOIN_ONE_TO_ONE\", \"#\", fieldmappings) "
   ]
  },
  {
   "cell_type": "code",
   "execution_count": 22,
   "metadata": {},
   "outputs": [
    {
     "name": "stdout",
     "output_type": "stream",
     "text": [
      "['OBJECTID', 'Shape', 'Join_Count', 'TARGET_FID', 'sum_sd_ember', 'Shape_Length']\n"
     ]
    }
   ],
   "source": [
    "field_names = [f.name for f in arcpy.ListFields(\"sd_bearing_line_join\")]\n",
    "print(field_names)"
   ]
  },
  {
   "cell_type": "code",
   "execution_count": 23,
   "metadata": {},
   "outputs": [
    {
     "data": {
      "text/html": [
       "<h2>Output</h2>C:\\Users\\zrcan\\Documents\\GitHub\\RPP-SBC-EEMS\\Ember_Risk.gdb\\sd_ember<h2>Messages</h2>Start Time: Thursday, May 13, 2021 11:09:00 AM<br/>Succeeded at Thursday, May 13, 2021 11:09:02 AM (Elapsed Time: 1.66 seconds)<br/><style>.rendered_html td, .rendered_html th {text-align: left;}.rendered_html tbody {border: 1px solid black;}</style>"
      ],
      "text/plain": [
       "<Result 'C:\\\\Users\\\\zrcan\\\\Documents\\\\GitHub\\\\RPP-SBC-EEMS\\\\Ember_Risk.gdb\\\\sd_ember'>"
      ]
     },
     "execution_count": 23,
     "metadata": {},
     "output_type": "execute_result"
    }
   ],
   "source": [
    "joined_table = arcpy.management.AddJoin(\"wind_pts4\", \"OBJECTID\", \"sd_bearing_line_join\", \"OBJECTID\", \"KEEP_ALL\")\n",
    "arcpy.CopyFeatures_management(joined_table, \"sd_ember\")"
   ]
  },
  {
   "cell_type": "code",
   "execution_count": 24,
   "metadata": {},
   "outputs": [
    {
     "data": {
      "text/html": [
       "<h2>Output</h2>C:\\Users\\zrcan\\Documents\\GitHub\\RPP-SBC-EEMS\\Ember_Risk.gdb\\sa_ember<h2>Messages</h2>Start Time: Thursday, May 13, 2021 11:09:03 AM<br/>Succeeded at Thursday, May 13, 2021 11:09:04 AM (Elapsed Time: 1.69 seconds)<br/><style>.rendered_html td, .rendered_html th {text-align: left;}.rendered_html tbody {border: 1px solid black;}</style>"
      ],
      "text/plain": [
       "<Result 'C:\\\\Users\\\\zrcan\\\\Documents\\\\GitHub\\\\RPP-SBC-EEMS\\\\Ember_Risk.gdb\\\\sa_ember'>"
      ]
     },
     "execution_count": 24,
     "metadata": {},
     "output_type": "execute_result"
    }
   ],
   "source": [
    "joined_table = arcpy.management.AddJoin(\"wind_pts4\", \"OBJECTID\", \"sa_bearing_line_join\", \"OBJECTID\", \"KEEP_ALL\")\n",
    "arcpy.CopyFeatures_management(joined_table, \"sa_ember\")"
   ]
  },
  {
   "cell_type": "code",
   "execution_count": 25,
   "metadata": {},
   "outputs": [
    {
     "data": {
      "text/html": [
       "<h2>Output</h2>C:\\Users\\zrcan\\Documents\\GitHub\\RPP-SBC-EEMS\\Ember_Risk.gdb\\ember_risk<h2>Messages</h2>Start Time: Thursday, May 13, 2021 11:09:05 AM<br/>Succeeded at Thursday, May 13, 2021 11:09:07 AM (Elapsed Time: 2.00 seconds)<br/><style>.rendered_html td, .rendered_html th {text-align: left;}.rendered_html tbody {border: 1px solid black;}</style>"
      ],
      "text/plain": [
       "<Result 'C:\\\\Users\\\\zrcan\\\\Documents\\\\GitHub\\\\RPP-SBC-EEMS\\\\Ember_Risk.gdb\\\\ember_risk'>"
      ]
     },
     "execution_count": 25,
     "metadata": {},
     "output_type": "execute_result"
    }
   ],
   "source": [
    "joined_table = arcpy.management.AddJoin(\"sa_ember\", \"OBJECTID\", \"sd_ember\", \"OBJECTID\", \"KEEP_ALL\")\n",
    "arcpy.CopyFeatures_management(joined_table, \"ember_risk\")"
   ]
  },
  {
   "cell_type": "code",
   "execution_count": 26,
   "metadata": {},
   "outputs": [
    {
     "name": "stdout",
     "output_type": "stream",
     "text": [
      "['OBJECTID', 'Shape', 'sa_ember_wind_pts4_Join_ID', 'sa_ember_wind_pts4_apn', 'sa_ember_wind_pts4_Shape_Leng', 'sa_ember_wind_pts4_ORIG_FID', 'sa_ember_wind_pts4_sa_mag', 'sa_ember_wind_pts4_sa_dir', 'sa_ember_wind_pts4_sd_dir', 'sa_ember_wind_pts4_sd_mag', 'sa_ember_wind_pts4_x', 'sa_ember_wind_pts4_y', 'sa_ember_wind_pts4_sa_throw', 'sa_ember_wind_pts4_sd_throw', 'sa_ember_sa_bearing_line_join_OBJECTID', 'sa_ember_sa_bearing_line_join_Join_Count', 'sa_ember_sa_bearing_line_join_TARGET_FID', 'sa_ember_sa_bearing_line_join_sum_sa_ember', 'sd_ember_OBJECTID', 'sd_ember_wind_pts4_Join_ID', 'sd_ember_wind_pts4_apn', 'sd_ember_wind_pts4_Shape_Leng', 'sd_ember_wind_pts4_ORIG_FID', 'sd_ember_wind_pts4_sa_mag', 'sd_ember_wind_pts4_sa_dir', 'sd_ember_wind_pts4_sd_dir', 'sd_ember_wind_pts4_sd_mag', 'sd_ember_wind_pts4_x', 'sd_ember_wind_pts4_y', 'sd_ember_wind_pts4_sa_throw', 'sd_ember_wind_pts4_sd_throw', 'sd_ember_sd_bearing_line_join_OBJECTID', 'sd_ember_sd_bearing_line_join_Join_Count', 'sd_ember_sd_bearing_line_join_TARGET_FID', 'sd_ember_sd_bearing_line_join_sum_sd_ember']\n"
     ]
    }
   ],
   "source": [
    "field_names = [f.name for f in arcpy.ListFields(\"ember_risk\")]\n",
    "print(field_names)"
   ]
  },
  {
   "cell_type": "code",
   "execution_count": 27,
   "metadata": {},
   "outputs": [
    {
     "data": {
      "text/html": [
       "<h2>Output</h2>C:\\Users\\zrcan\\Documents\\GitHub\\RPP-SBC-EEMS\\Ember_Risk.gdb\\ember_risk<h2>Messages</h2>Start Time: Thursday, May 13, 2021 11:09:10 AM<br/>Succeeded at Thursday, May 13, 2021 11:09:20 AM (Elapsed Time: 10.01 seconds)<br/><style>.rendered_html td, .rendered_html th {text-align: left;}.rendered_html tbody {border: 1px solid black;}</style>"
      ],
      "text/plain": [
       "<Result 'C:\\\\Users\\\\zrcan\\\\Documents\\\\GitHub\\\\RPP-SBC-EEMS\\\\Ember_Risk.gdb\\\\ember_risk'>"
      ]
     },
     "execution_count": 27,
     "metadata": {},
     "output_type": "execute_result"
    }
   ],
   "source": [
    "# if you can use a key to identify the fields to remove, then it's solved\n",
    "fields = arcpy.ListFields(\"ember_risk\") \n",
    "\n",
    "# manually enter field names to keep here\n",
    "# include mandatory fields name such as OBJECTID (or FID), and Shape in keepfields\n",
    "keepFields = ['OBJECTID', 'Shape', \n",
    "              'sa_ember_wind_pts4_sa_mag', 'sa_ember_wind_pts4_sa_dir', 'sa_ember_wind_pts4_sd_dir', 'sa_ember_wind_pts4_sd_mag',\n",
    "              'sd_ember_sd_bearing_line_join_sum_sd_ember', 'sa_ember_sa_bearing_line_join_sum_sa_ember',\n",
    "              'sd_ember_wind_pts4_sd_throw', 'sa_ember_wind_pts4_sa_throw']\n",
    "\n",
    "dropFields = [x.name for x in fields if x.name not in keepFields]\n",
    "# delete fields\n",
    "arcpy.DeleteField_management(\"ember_risk\", dropFields)   "
   ]
  },
  {
   "cell_type": "code",
   "execution_count": 28,
   "metadata": {},
   "outputs": [
    {
     "name": "stdout",
     "output_type": "stream",
     "text": [
      "['OBJECTID', 'Shape', 'sa_ember_wind_pts4_sa_mag', 'sa_ember_wind_pts4_sa_dir', 'sa_ember_wind_pts4_sd_dir', 'sa_ember_wind_pts4_sd_mag', 'sa_ember_wind_pts4_sa_throw', 'sa_ember_sa_bearing_line_join_sum_sa_ember', 'sd_ember_wind_pts4_sd_throw', 'sd_ember_sd_bearing_line_join_sum_sd_ember']\n"
     ]
    }
   ],
   "source": [
    "field_names = [f.name for f in arcpy.ListFields(\"ember_risk\")]\n",
    "print(field_names)"
   ]
  },
  {
   "cell_type": "code",
   "execution_count": 29,
   "metadata": {},
   "outputs": [
    {
     "data": {
      "text/html": [
       "<h2>Output</h2>C:\\Users\\zrcan\\Documents\\GitHub\\RPP-SBC-EEMS\\Ember_Risk.gdb\\ember_risk<h2>Messages</h2>Start Time: Thursday, May 13, 2021 11:09:25 AM<br/>Succeeded at Thursday, May 13, 2021 11:09:26 AM (Elapsed Time: 0.43 seconds)<br/><style>.rendered_html td, .rendered_html th {text-align: left;}.rendered_html tbody {border: 1px solid black;}</style>"
      ],
      "text/plain": [
       "<Result 'C:\\\\Users\\\\zrcan\\\\Documents\\\\GitHub\\\\RPP-SBC-EEMS\\\\Ember_Risk.gdb\\\\ember_risk'>"
      ]
     },
     "execution_count": 29,
     "metadata": {},
     "output_type": "execute_result"
    }
   ],
   "source": [
    "arcpy.AlterField_management(\"ember_risk\", \n",
    "                            'sa_ember_wind_pts4_sa_mag', 'sa_mag', 'sa_mag')\n",
    "arcpy.AlterField_management(\"ember_risk\", \n",
    "                            'sa_ember_wind_pts4_sa_dir', 'sa_dir', 'sa_dir')\n",
    "arcpy.AlterField_management(\"ember_risk\", \n",
    "                            'sa_ember_wind_pts4_sd_dir', 'sd_dir', 'sd_dir')\n",
    "arcpy.AlterField_management(\"ember_risk\", \n",
    "                            'sa_ember_wind_pts4_sd_mag', 'sd_mag', 'sd_mag')\n",
    "arcpy.AlterField_management(\"ember_risk\", \n",
    "                            'sa_ember_wind_pts4_sa_throw', 'sa_throw', 'sa_throw')\n",
    "arcpy.AlterField_management(\"ember_risk\", \n",
    "                            'sd_ember_wind_pts4_sd_throw', 'sd_throw', 'sd_throw')\n",
    "arcpy.AlterField_management(\"ember_risk\", \n",
    "                            'sa_ember_sa_bearing_line_join_sum_sa_ember', 'sa_emb_rsk', 'sa_emb_rsk')\n",
    "arcpy.AlterField_management(\"ember_risk\", \n",
    "                            'sd_ember_sd_bearing_line_join_sum_sd_ember', 'sd_emb_rsk', 'sd_emb_rsk')"
   ]
  },
  {
   "cell_type": "code",
   "execution_count": 30,
   "metadata": {},
   "outputs": [
    {
     "name": "stdout",
     "output_type": "stream",
     "text": [
      "['OBJECTID', 'Shape', 'sa_mag', 'sa_dir', 'sd_dir', 'sd_mag', 'sa_throw', 'sa_emb_rsk', 'sd_throw', 'sd_emb_rsk']\n"
     ]
    }
   ],
   "source": [
    "field_names = [f.name for f in arcpy.ListFields(\"ember_risk\")]\n",
    "print(field_names)"
   ]
  },
  {
   "cell_type": "code",
   "execution_count": 31,
   "metadata": {},
   "outputs": [
    {
     "data": {
      "text/html": [
       "<h2>Output</h2>C:\\Users\\zrcan\\Documents\\GitHub\\RPP-SBC-EEMS\\out_data\\ember<h2>Messages</h2>Start Time: Thursday, May 13, 2021 11:09:26 AM<br/>C:\\Users\\zrcan\\Documents\\GitHub\\RPP-SBC-EEMS\\Ember_Risk.gdb\\ember_risk Successfully converted:  C:\\Users\\zrcan\\Documents\\GitHub\\RPP-SBC-EEMS\\out_data/ember\\ember_risk.shp<br/>Succeeded at Thursday, May 13, 2021 11:09:28 AM (Elapsed Time: 2.08 seconds)<br/><style>.rendered_html td, .rendered_html th {text-align: left;}.rendered_html tbody {border: 1px solid black;}</style>"
      ],
      "text/plain": [
       "<Result 'C:\\\\Users\\\\zrcan\\\\Documents\\\\GitHub\\\\RPP-SBC-EEMS\\\\out_data\\\\ember'>"
      ]
     },
     "execution_count": 31,
     "metadata": {},
     "output_type": "execute_result"
    }
   ],
   "source": [
    "dir_path = os.path.join(THIS_FOLDER, \"out_data/ember\")\n",
    "shutil.rmtree(dir_path)\n",
    "os.mkdir(dir_path)\n",
    "\n",
    "arcpy.conversion.FeatureClassToShapefile(\"ember_risk\", \n",
    "                                        os.path.join(THIS_FOLDER, \"out_data/ember\"))"
   ]
  },
  {
   "cell_type": "code",
   "execution_count": null,
   "metadata": {},
   "outputs": [],
   "source": []
  }
 ],
 "metadata": {
  "kernelspec": {
   "display_name": "Python 3 (ipykernel)",
   "language": "python",
   "name": "python3"
  },
  "language_info": {
   "codemirror_mode": {
    "name": "ipython",
    "version": 3
   },
   "file_extension": ".py",
   "mimetype": "text/x-python",
   "name": "python",
   "nbconvert_exporter": "python",
   "pygments_lexer": "ipython3",
   "version": "3.7.10"
  }
 },
 "nbformat": 4,
 "nbformat_minor": 4
}
