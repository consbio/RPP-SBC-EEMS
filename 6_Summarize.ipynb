{
 "cells": [
  {
   "cell_type": "code",
   "execution_count": 1,
   "metadata": {},
   "outputs": [],
   "source": [
    "import pandas as pd\n",
    "import geopandas as gpd\n",
    "import arcpy\n",
    "import os\n",
    "import shutil\n",
    "import math\n",
    "import inspect\n",
    "\n",
    "src_file_path = inspect.getfile(lambda: None)\n",
    "THIS_FOLDER = os.path.dirname(os.path.abspath(src_file_path))"
   ]
  },
  {
   "cell_type": "markdown",
   "metadata": {},
   "source": [
    "# Summary\n",
    "\n",
    "This notebook summarizes the various layers into the reporting units layer in preperation for EEMS modeling. It also describes the various methodological decisions made in order to summarize the layers into reporting units. Note that the fire probability layers have been converted from raster to vector using Raster to Polygon tool in order to accomodate the summarization process.\n",
    "\n",
    "**Input Data Layers:**\n",
    "- Reporting Units (created in `2_Reporting_Units.ipynb`, to be uploaded to DB)\n",
    "- Land Use Categories (created in `3_Land_Use.ipynb`, to be uploaded to DB)\n",
    "- [Large Fire Probability](https://databasin.org/datasets/760913fb26844afd9e891209a2dd3811/)\n",
    "- [Fire Ignition Probability](https://databasin.org/datasets/2d9df577e42b4abe8fd495f75d35a3f1/)\n",
    "- [WUI Intermix & Interface](https://databasin.org/datasets/218e54cf56f94342a46fefcf05c64f9a/)\n"
   ]
  },
  {
   "cell_type": "code",
   "execution_count": 2,
   "metadata": {},
   "outputs": [],
   "source": [
    "arcpy.ResetEnvironments()\n",
    "gdb_name = \"Summarize_Reporting_Units.gdb\"\n",
    "arcpy.env.overwriteOutput = True\n",
    "path = os.path.join(THIS_FOLDER, gdb_name)\n",
    "# arcpy.CreateFileGDB_management(\"./\", gdb_name)\n",
    "arcpy.env.workspace = path\n",
    "arcpy.env.scratchWorkspace = path"
   ]
  },
  {
   "cell_type": "markdown",
   "metadata": {},
   "source": [
    "**Load the input data layers**"
   ]
  },
  {
   "cell_type": "code",
   "execution_count": 3,
   "metadata": {},
   "outputs": [],
   "source": [
    "data = [\"in_data/Pr_Lg_Fire.shp\", \"in_data/Pr_Fire_Ign.shp\", \"in_data/WUI_Intermix.shp\", \"in_data/WUI_Interface.shp\", \n",
    "        \"out_data/ember/ember_risk.shp\", \"out_data/lu/LU_merged.shp\", \"out_data/ru/Reporting_Units_APN.shp\",\n",
    "        \"out_data/dense_dev/point_density_0p5mi.shp\", \"out_data/dense_dev/point_density_3mi.shp\", \"out_data/dense_dev/point_density_1000ft.shp\"]\n",
    "\n",
    "for v in data:\n",
    "    path = os.path.join(THIS_FOLDER, \"{}\".format(v))\n",
    "    name = v.rsplit('/', 1)[-1].split(\".\")[0]\n",
    "    arcpy.CopyFeatures_management(path, name)\n",
    "    crs = arcpy.SpatialReference('NAD 1983 StatePlane California V FIPS 0405 (US Feet)')\n",
    "    arcpy.Project_management(name, \"{}_rpj\".format(name), crs)"
   ]
  },
  {
   "cell_type": "markdown",
   "metadata": {},
   "source": [
    "**Summarize the fire probability layers into the reporting units. Take the mean value of the fire risk layer for the extent of each reporting unit**"
   ]
  },
  {
   "cell_type": "code",
   "execution_count": 4,
   "metadata": {},
   "outputs": [
    {
     "data": {
      "text/html": [
       "<h2>Output</h2><table><tr><th>id</th><th>value</th></tr><tr><td>0</td><td>C:\\Users\\zrcan\\Documents\\GitHub\\RPP-SBC-EEMS\\Summarize_Reporting_Units.gdb\\A_RU_2</td></tr><tr><td>1</td><td></td></tr></table><h2>Messages</h2>Start Time: Thursday, April 22, 2021 9:06:37 AM<br/>Succeeded at Thursday, April 22, 2021 9:07:12 AM (Elapsed Time: 35.65 seconds)<br/><style>.rendered_html td, .rendered_html th {text-align: left;}.rendered_html tbody {border: 1px solid black;}</style>"
      ],
      "text/plain": [
       "<Result 'C:\\\\Users\\\\zrcan\\\\Documents\\\\GitHub\\\\RPP-SBC-EEMS\\\\Summarize_Reporting_Units.gdb\\\\A_RU_2'>"
      ]
     },
     "execution_count": 4,
     "metadata": {},
     "output_type": "execute_result"
    }
   ],
   "source": [
    "arcpy.analysis.SummarizeWithin(\"Reporting_Units_APN_rpj\", \"Pr_Lg_Fire_rpj\", \n",
    "                               \"A_RU_1\", \"KEEP_ALL\", \"gridcode Mean\", \n",
    "                               \"NO_SHAPE_SUM\", \"SQUAREKILOMETERS\", None, \"NO_MIN_MAJ\", \"NO_PERCENT\", None)\n",
    "arcpy.analysis.SummarizeWithin(\"A_RU_1\", \"Pr_Fire_Ign_rpj\", \n",
    "                               \"A_RU_2\", \"KEEP_ALL\", \"gridcode Mean\", \n",
    "                               \"NO_SHAPE_SUM\", \"SQUAREKILOMETERS\", None, \"NO_MIN_MAJ\", \"NO_PERCENT\", None)"
   ]
  },
  {
   "cell_type": "markdown",
   "metadata": {},
   "source": [
    "**Summarize the WUI intermix and interface areas into the reporting units. Add shape attributes as we will use those to determine if a reporting unit is inside the WUI or not**"
   ]
  },
  {
   "cell_type": "code",
   "execution_count": 5,
   "metadata": {},
   "outputs": [
    {
     "data": {
      "text/html": [
       "<h2>Output</h2><table><tr><th>id</th><th>value</th></tr><tr><td>0</td><td>C:\\Users\\zrcan\\Documents\\GitHub\\RPP-SBC-EEMS\\Summarize_Reporting_Units.gdb\\A_RU_4</td></tr><tr><td>1</td><td></td></tr></table><h2>Messages</h2>Start Time: Thursday, April 22, 2021 9:07:26 AM<br/>Succeeded at Thursday, April 22, 2021 9:07:40 AM (Elapsed Time: 13.21 seconds)<br/><style>.rendered_html td, .rendered_html th {text-align: left;}.rendered_html tbody {border: 1px solid black;}</style>"
      ],
      "text/plain": [
       "<Result 'C:\\\\Users\\\\zrcan\\\\Documents\\\\GitHub\\\\RPP-SBC-EEMS\\\\Summarize_Reporting_Units.gdb\\\\A_RU_4'>"
      ]
     },
     "execution_count": 5,
     "metadata": {},
     "output_type": "execute_result"
    }
   ],
   "source": [
    "arcpy.analysis.SummarizeWithin(\"A_RU_2\", \"WUI_Intermix_rpj\", \n",
    "                               \"A_RU_3\", \"KEEP_ALL\", None, \n",
    "                               \"ADD_SHAPE_SUM\", \"SQUAREKILOMETERS\", None, \"NO_MIN_MAJ\", \"NO_PERCENT\", None)\n",
    "arcpy.analysis.SummarizeWithin(\"A_RU_3\", \"WUI_Interface_rpj\", \n",
    "                               \"A_RU_4\", \"KEEP_ALL\", None, \n",
    "                               \"ADD_SHAPE_SUM\", \"SQUAREKILOMETERS\", None, \"NO_MIN_MAJ\", \"NO_PERCENT\", None)"
   ]
  },
  {
   "cell_type": "markdown",
   "metadata": {},
   "source": [
    "**Summarize the land-use categories into the reporting units. Note that we need to add the majority and minority land-use categories as we will only keep the majority designation and use that to determine the reporting unit land-use category**"
   ]
  },
  {
   "cell_type": "code",
   "execution_count": 6,
   "metadata": {},
   "outputs": [
    {
     "data": {
      "text/html": [
       "<h2>Output</h2><table><tr><th>id</th><th>value</th></tr><tr><td>0</td><td>C:\\Users\\zrcan\\Documents\\GitHub\\RPP-SBC-EEMS\\Summarize_Reporting_Units.gdb\\A_RU_5</td></tr><tr><td>1</td><td>C:\\Users\\zrcan\\Documents\\GitHub\\RPP-SBC-EEMS\\Summarize_Reporting_Units.gdb\\LU_Cat_Summary</td></tr></table><h2>Messages</h2>Start Time: Thursday, April 22, 2021 9:07:40 AM<br/>Succeeded at Thursday, April 22, 2021 9:08:06 AM (Elapsed Time: 26.17 seconds)<br/><style>.rendered_html td, .rendered_html th {text-align: left;}.rendered_html tbody {border: 1px solid black;}</style>"
      ],
      "text/plain": [
       "<Result 'C:\\\\Users\\\\zrcan\\\\Documents\\\\GitHub\\\\RPP-SBC-EEMS\\\\Summarize_Reporting_Units.gdb\\\\A_RU_5'>"
      ]
     },
     "execution_count": 6,
     "metadata": {},
     "output_type": "execute_result"
    }
   ],
   "source": [
    "arcpy.analysis.SummarizeWithin(\"A_RU_4\", \"LU_Merged_rpj\", \n",
    "                               \"A_RU_5\", \"KEEP_ALL\", \"LU_Cat Max\", \n",
    "                               \"NO_SHAPE_SUM\", \"SQUAREKILOMETERS\", \"LU_Cat\", \"ADD_MIN_MAJ\", \"NO_PERCENT\", None)"
   ]
  },
  {
   "cell_type": "markdown",
   "metadata": {},
   "source": [
    "**Replace all reporting unit null values with 0**"
   ]
  },
  {
   "cell_type": "code",
   "execution_count": 7,
   "metadata": {},
   "outputs": [],
   "source": [
    "fieldObs = arcpy.ListFields(\"A_RU_5\")  \n",
    "\n",
    "fieldNames = []  \n",
    "for field in fieldObs:  \n",
    "    fieldNames.append(field.name)  \n",
    "del fieldObs  \n",
    "fieldCount = len(fieldNames) \n",
    "\n",
    "with arcpy.da.UpdateCursor(\"A_RU_5\", fieldNames) as curU:  \n",
    "    for row in curU:  \n",
    "        rowU = row  \n",
    "        for field in range(fieldCount):  \n",
    "            if rowU[field] == None:  \n",
    "                rowU[field] = \"0\"  \n",
    "        curU.updateRow(rowU)\n",
    "\n",
    "del curU"
   ]
  },
  {
   "cell_type": "markdown",
   "metadata": {},
   "source": [
    "**Establish the WUI field and populate the value based on the shape area attribute of the summarize within command, then delete the original shape attribute field**"
   ]
  },
  {
   "cell_type": "code",
   "execution_count": 8,
   "metadata": {},
   "outputs": [
    {
     "data": {
      "text/html": [
       "<h2>Output</h2>C:\\Users\\zrcan\\Documents\\GitHub\\RPP-SBC-EEMS\\Summarize_Reporting_Units.gdb\\A_RU_5<h2>Messages</h2>Start Time: Thursday, April 22, 2021 9:08:12 AM<br/>Succeeded at Thursday, April 22, 2021 9:08:13 AM (Elapsed Time: 0.84 seconds)<br/><style>.rendered_html td, .rendered_html th {text-align: left;}.rendered_html tbody {border: 1px solid black;}</style>"
      ],
      "text/plain": [
       "<Result 'C:\\\\Users\\\\zrcan\\\\Documents\\\\GitHub\\\\RPP-SBC-EEMS\\\\Summarize_Reporting_Units.gdb\\\\A_RU_5'>"
      ]
     },
     "execution_count": 8,
     "metadata": {},
     "output_type": "execute_result"
    }
   ],
   "source": [
    "arcpy.AddField_management(\"A_RU_5\", \"WUI_Interm\", \"LONG\")\n",
    "arcpy.AddField_management(\"A_RU_5\", \"WUI_Interf\", \"LONG\")\n",
    "\n",
    "arcpy.CalculateField_management(\"A_RU_5\", \"WUI_Interm\", \n",
    "                                'math.ceil(!SUM_Area_SQUAREKILOMETERS!)', \"PYTHON3\")\n",
    "arcpy.CalculateField_management(\"A_RU_5\", \"WUI_Interf\", \n",
    "                                'math.ceil(!SUM_Area_SQUAREKILOMETERS_1!)', \"PYTHON3\")\n",
    "\n",
    "arcpy.DeleteField_management(\"A_RU_5\", \n",
    "                             ['SUM_Area_SQUAREKILOMETERS', 'SUM_Area_SQUAREKILOMETERS_1'])"
   ]
  },
  {
   "cell_type": "markdown",
   "metadata": {},
   "source": [
    "**Rename some of the summarization fields and delete unused ones**"
   ]
  },
  {
   "cell_type": "code",
   "execution_count": 9,
   "metadata": {},
   "outputs": [
    {
     "name": "stdout",
     "output_type": "stream",
     "text": [
      "OBJECTID\n",
      "Shape\n",
      "Join_ID\n",
      "apn\n",
      "Pr_Lg_Fr\n",
      "Pr_Fire_Ig\n",
      "Shape_Length\n",
      "Shape_Area\n",
      "Mj_LU_Cat\n",
      "WUI_Interm\n",
      "WUI_Interf\n"
     ]
    }
   ],
   "source": [
    "arcpy.AlterField_management('A_RU_5', \n",
    "                            'MEAN_gridcode', 'Pr_Lg_Fr', 'Pr_Lg_Fr')\n",
    "arcpy.AlterField_management('A_RU_5', \n",
    "                            'MEAN_gridcode_1', 'Pr_Fire_Ig', 'Pr_Fire_Ig')\n",
    "arcpy.AlterField_management('A_RU_5', \n",
    "                            'Majority_LU_Cat', 'Mj_LU_Cat', 'Mj_LU_Cat')\n",
    "arcpy.DeleteField_management(\"A_RU_5\", \n",
    "                             ['SUM_Area_SQUAREKILOMETERS_12', 'MAX_LU_Cat', 'Minority_LU_Cat', 'Join_ID_1', 'Shape_Leng'])\n",
    "\n",
    "fieldObs = arcpy.ListFields(\"A_RU_5\")  \n",
    "\n",
    "fieldNames = []  \n",
    "for field in fieldObs: \n",
    "    print(field.name)\n",
    "    fieldNames.append(field.name)  \n",
    "del fieldObs"
   ]
  },
  {
   "cell_type": "markdown",
   "metadata": {},
   "source": [
    "**Handle ember risk**"
   ]
  },
  {
   "cell_type": "code",
   "execution_count": 10,
   "metadata": {},
   "outputs": [
    {
     "data": {
      "text/html": [
       "<h2>Output</h2><table><tr><th>id</th><th>value</th></tr><tr><td>0</td><td>C:\\Users\\zrcan\\Documents\\GitHub\\RPP-SBC-EEMS\\Summarize_Reporting_Units.gdb\\A_RU_6</td></tr><tr><td>1</td><td></td></tr></table><h2>Messages</h2>Start Time: Thursday, April 22, 2021 9:08:15 AM<br/>Succeeded at Thursday, April 22, 2021 9:08:28 AM (Elapsed Time: 12.12 seconds)<br/><style>.rendered_html td, .rendered_html th {text-align: left;}.rendered_html tbody {border: 1px solid black;}</style>"
      ],
      "text/plain": [
       "<Result 'C:\\\\Users\\\\zrcan\\\\Documents\\\\GitHub\\\\RPP-SBC-EEMS\\\\Summarize_Reporting_Units.gdb\\\\A_RU_6'>"
      ]
     },
     "execution_count": 10,
     "metadata": {},
     "output_type": "execute_result"
    }
   ],
   "source": [
    "arcpy.analysis.SummarizeWithin(\"A_RU_5\", \"ember_risk_rpj\", \n",
    "                               \"A_RU_6\", \"KEEP_ALL\", \"sa_emb_rsk Max;sd_emb_rsk Max\", \n",
    "                               \"NO_SHAPE_SUM\", \"SQUAREKILOMETERS\", None, \"NO_MIN_MAJ\", \"NO_PERCENT\", None)"
   ]
  },
  {
   "cell_type": "code",
   "execution_count": 11,
   "metadata": {},
   "outputs": [
    {
     "data": {
      "text/html": [
       "<h2>Output</h2>C:\\Users\\zrcan\\Documents\\GitHub\\RPP-SBC-EEMS\\Summarize_Reporting_Units.gdb\\A_RU_6<h2>Messages</h2>Start Time: Thursday, April 22, 2021 9:08:28 AM<br/>Succeeded at Thursday, April 22, 2021 9:08:28 AM (Elapsed Time: 0.17 seconds)<br/><style>.rendered_html td, .rendered_html th {text-align: left;}.rendered_html tbody {border: 1px solid black;}</style>"
      ],
      "text/plain": [
       "<Result 'C:\\\\Users\\\\zrcan\\\\Documents\\\\GitHub\\\\RPP-SBC-EEMS\\\\Summarize_Reporting_Units.gdb\\\\A_RU_6'>"
      ]
     },
     "execution_count": 11,
     "metadata": {},
     "output_type": "execute_result"
    }
   ],
   "source": [
    "arcpy.AlterField_management('A_RU_6', \n",
    "                            'MAX_sa_emb_rsk', 'sa_emb_rsk', 'sa_emb_rsk')\n",
    "arcpy.AlterField_management('A_RU_6', \n",
    "                            'MAX_sd_emb_rsk', 'sd_emb_rsk', 'sd_emb_rsk')"
   ]
  },
  {
   "cell_type": "code",
   "execution_count": 12,
   "metadata": {},
   "outputs": [
    {
     "name": "stdout",
     "output_type": "stream",
     "text": [
      "['OBJECTID', 'Shape', 'Join_ID', 'apn', 'Pr_Lg_Fr', 'Pr_Fire_Ig', 'Mj_LU_Cat', 'WUI_Interm', 'WUI_Interf', 'Shape_Length', 'Shape_Area', 'sa_emb_rsk', 'sd_emb_rsk']\n"
     ]
    }
   ],
   "source": [
    "field_names = [f.name for f in arcpy.ListFields(\"A_RU_6\")]\n",
    "print(field_names)"
   ]
  },
  {
   "cell_type": "markdown",
   "metadata": {},
   "source": [
    "**Add building density**"
   ]
  },
  {
   "cell_type": "code",
   "execution_count": 13,
   "metadata": {},
   "outputs": [
    {
     "data": {
      "text/html": [
       "<h2>Output</h2><table><tr><th>id</th><th>value</th></tr><tr><td>0</td><td>C:\\Users\\zrcan\\Documents\\GitHub\\RPP-SBC-EEMS\\Summarize_Reporting_Units.gdb\\A_RU_9</td></tr><tr><td>1</td><td></td></tr></table><h2>Messages</h2>Start Time: Thursday, April 22, 2021 9:11:21 AM<br/>Succeeded at Thursday, April 22, 2021 9:12:57 AM (Elapsed Time: 1 minutes 35 seconds)<br/><style>.rendered_html td, .rendered_html th {text-align: left;}.rendered_html tbody {border: 1px solid black;}</style>"
      ],
      "text/plain": [
       "<Result 'C:\\\\Users\\\\zrcan\\\\Documents\\\\GitHub\\\\RPP-SBC-EEMS\\\\Summarize_Reporting_Units.gdb\\\\A_RU_9'>"
      ]
     },
     "execution_count": 13,
     "metadata": {},
     "output_type": "execute_result"
    }
   ],
   "source": [
    "arcpy.analysis.SummarizeWithin(\"A_RU_6\", \"point_density_0p5mi\", \n",
    "                               \"A_RU_7\", \"KEEP_ALL\", \"gridcode Mean\", \n",
    "                               \"NO_SHAPE_SUM\", \"SQUAREKILOMETERS\", None, \"NO_MIN_MAJ\", \"NO_PERCENT\", None)\n",
    "\n",
    "arcpy.analysis.SummarizeWithin(\"A_RU_7\", \"point_density_3mi\", \n",
    "                               \"A_RU_8\", \"KEEP_ALL\", \"gridcode Mean\", \n",
    "                               \"NO_SHAPE_SUM\", \"SQUAREKILOMETERS\", None, \"NO_MIN_MAJ\", \"NO_PERCENT\", None)\n",
    "\n",
    "arcpy.analysis.SummarizeWithin(\"A_RU_8\", \"point_density_1000ft\", \n",
    "                               \"A_RU_9\", \"KEEP_ALL\", \"gridcode Mean\", \n",
    "                               \"NO_SHAPE_SUM\", \"SQUAREKILOMETERS\", None, \"NO_MIN_MAJ\", \"NO_PERCENT\", None)"
   ]
  },
  {
   "cell_type": "code",
   "execution_count": 14,
   "metadata": {},
   "outputs": [
    {
     "data": {
      "text/html": [
       "<h2>Output</h2>C:\\Users\\zrcan\\Documents\\GitHub\\RPP-SBC-EEMS\\Summarize_Reporting_Units.gdb\\A_RU_9<h2>Messages</h2>Start Time: Thursday, April 22, 2021 9:12:58 AM<br/>Succeeded at Thursday, April 22, 2021 9:12:58 AM (Elapsed Time: 0.22 seconds)<br/><style>.rendered_html td, .rendered_html th {text-align: left;}.rendered_html tbody {border: 1px solid black;}</style>"
      ],
      "text/plain": [
       "<Result 'C:\\\\Users\\\\zrcan\\\\Documents\\\\GitHub\\\\RPP-SBC-EEMS\\\\Summarize_Reporting_Units.gdb\\\\A_RU_9'>"
      ]
     },
     "execution_count": 14,
     "metadata": {},
     "output_type": "execute_result"
    }
   ],
   "source": [
    "arcpy.AlterField_management('A_RU_9', \n",
    "                            'MEAN_gridcode', 'bl_dns_0p5', 'bl_dns_0p5')\n",
    "arcpy.AlterField_management('A_RU_9', \n",
    "                            'MEAN_gridcode_1', 'bl_dns_3mi', 'bl_dns_3mi')\n",
    "arcpy.AlterField_management('A_RU_9', \n",
    "                            'MEAN_gridcode_12', 'bl_dns_1kf', 'bl_dns_1kf')"
   ]
  },
  {
   "cell_type": "code",
   "execution_count": 15,
   "metadata": {},
   "outputs": [
    {
     "name": "stdout",
     "output_type": "stream",
     "text": [
      "['OBJECTID', 'Shape', 'Join_ID', 'apn', 'Pr_Lg_Fr', 'Pr_Fire_Ig', 'Mj_LU_Cat', 'WUI_Interm', 'WUI_Interf', 'sa_emb_rsk', 'sd_emb_rsk', 'bl_dns_0p5', 'bl_dns_3mi', 'Shape_Length', 'Shape_Area', 'bl_dns_1kf']\n"
     ]
    }
   ],
   "source": [
    "field_names = [f.name for f in arcpy.ListFields(\"A_RU_9\")]\n",
    "print(field_names)"
   ]
  },
  {
   "cell_type": "markdown",
   "metadata": {},
   "source": [
    "**Export the layer for EEMS modeling. This requires exporting the layer as a CSV, as well as a shapefile, so that we can rejoin the EEMS modeling output. This process uses the Geopandas library**"
   ]
  },
  {
   "cell_type": "code",
   "execution_count": 16,
   "metadata": {},
   "outputs": [],
   "source": [
    "dir_path = os.path.join(THIS_FOLDER, \"out_data/eems\")\n",
    "shutil.rmtree(dir_path)\n",
    "os.mkdir(dir_path)\n",
    "\n",
    "arcpy.conversion.FeatureClassToShapefile(\"A_RU_9\", \n",
    "                                        os.path.join(THIS_FOLDER, \"out_data/eems\"))\n",
    "\n",
    "gdf = gpd.read_file(os.path.join(THIS_FOLDER, \"out_data/eems/A_RU_9.shp\"))"
   ]
  },
  {
   "cell_type": "code",
   "execution_count": 17,
   "metadata": {},
   "outputs": [],
   "source": [
    "def normalizeCategory(v):\n",
    "    if v == 1:\n",
    "        return 0\n",
    "    elif v == 2:\n",
    "        return 0.1\n",
    "    elif v == 3:\n",
    "        return 0\n",
    "    elif v == 4:\n",
    "        return 0\n",
    "    else:\n",
    "        return 1.0\n",
    "\n",
    "gdf['LU_Cat'] = gdf.apply(lambda row: normalizeCategory(row['Mj_LU_Cat']), axis = 1)"
   ]
  },
  {
   "cell_type": "code",
   "execution_count": 18,
   "metadata": {},
   "outputs": [
    {
     "name": "stdout",
     "output_type": "stream",
     "text": [
      "<class 'geopandas.geodataframe.GeoDataFrame'>\n",
      "RangeIndex: 18180 entries, 0 to 18179\n",
      "Data columns (total 16 columns):\n",
      " #   Column      Non-Null Count  Dtype   \n",
      "---  ------      --------------  -----   \n",
      " 0   Join_ID     18180 non-null  int64   \n",
      " 1   apn         18179 non-null  object  \n",
      " 2   Pr_Lg_Fr    18180 non-null  float64 \n",
      " 3   Pr_Fire_Ig  18180 non-null  float64 \n",
      " 4   Mj_LU_Cat   18180 non-null  object  \n",
      " 5   WUI_Interm  18180 non-null  int64   \n",
      " 6   WUI_Interf  18180 non-null  int64   \n",
      " 7   sa_emb_rsk  18180 non-null  float64 \n",
      " 8   sd_emb_rsk  18180 non-null  float64 \n",
      " 9   bl_dns_0p5  18180 non-null  float64 \n",
      " 10  bl_dns_3mi  18180 non-null  float64 \n",
      " 11  Shape_Leng  18180 non-null  float64 \n",
      " 12  Shape_Area  18180 non-null  float64 \n",
      " 13  bl_dns_1kf  18180 non-null  float64 \n",
      " 14  geometry    18180 non-null  geometry\n",
      " 15  LU_Cat      18180 non-null  float64 \n",
      "dtypes: float64(10), geometry(1), int64(3), object(2)\n",
      "memory usage: 2.2+ MB\n"
     ]
    }
   ],
   "source": [
    "gdf.info()"
   ]
  },
  {
   "cell_type": "code",
   "execution_count": 19,
   "metadata": {},
   "outputs": [],
   "source": [
    "gdf.to_csv(\"out_data/eems/A_RU_9.csv\", index=False)"
   ]
  },
  {
   "cell_type": "code",
   "execution_count": null,
   "metadata": {},
   "outputs": [],
   "source": []
  }
 ],
 "metadata": {
  "kernelspec": {
   "display_name": "Python 3",
   "language": "python",
   "name": "python3"
  },
  "language_info": {
   "codemirror_mode": {
    "name": "ipython",
    "version": 3
   },
   "file_extension": ".py",
   "mimetype": "text/x-python",
   "name": "python",
   "nbconvert_exporter": "python",
   "pygments_lexer": "ipython3",
   "version": "3.7.9"
  }
 },
 "nbformat": 4,
 "nbformat_minor": 4
}
