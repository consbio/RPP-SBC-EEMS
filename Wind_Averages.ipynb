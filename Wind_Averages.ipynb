{
 "cells": [
  {
   "cell_type": "code",
   "execution_count": 1,
   "id": "d5480ead",
   "metadata": {},
   "outputs": [],
   "source": [
    "import rasterio\n",
    "import numpy as np\n",
    "from glob import glob\n",
    "import os\n",
    "from matplotlib import pyplot\n",
    "from rasterio.plot import show\n",
    "import rioxarray\n",
    "import xarray\n",
    "import os\n",
    "import sys\n",
    "import shutil\n",
    "import math"
   ]
  },
  {
   "cell_type": "code",
   "execution_count": 2,
   "id": "65f5dd85",
   "metadata": {},
   "outputs": [],
   "source": [
    "def cvt_ncdf_file(ext, file):\n",
    "    xds = xarray.open_dataset(file)\n",
    "    xds.rio.write_crs(\"epsg:4326\", inplace=True)\n",
    "    fn = file.split(\".\")[1].split(\"_\")[0]\n",
    "    xds[\"wind_speed\"].rio.to_raster('output/ws/{}/{}.tif'.format(ext, fn))\n",
    "    xds[\"wind_dir\"].rio.to_raster('output/dir/{}/{}.tif'.format(ext, fn))"
   ]
  },
  {
   "cell_type": "code",
   "execution_count": 96,
   "id": "a5613f19",
   "metadata": {},
   "outputs": [],
   "source": [
    "data_dir = 'netcdf/sa'\n",
    "file_list = glob(os.path.join(data_dir, '*.nc'))\n",
    "\n",
    "for file in file_list:\n",
    "    cvt_ncdf_file(\"sa\", file)\n",
    "    \n",
    "data_dir = 'netcdf/sd'\n",
    "file_list = glob(os.path.join(data_dir, '*.nc'))\n",
    "\n",
    "for file in file_list:\n",
    "    cvt_ncdf_file(\"sd\", file)"
   ]
  },
  {
   "cell_type": "code",
   "execution_count": 97,
   "id": "67388ac7",
   "metadata": {},
   "outputs": [],
   "source": [
    "def read_tif_file(file):\n",
    "    with rasterio.open(file) as src:\n",
    "        return(src.read(1))"
   ]
  },
  {
   "cell_type": "code",
   "execution_count": 98,
   "id": "86af0193",
   "metadata": {},
   "outputs": [],
   "source": [
    "data_dir = 'output/ws/sa' # Or sys.argv[1]\n",
    "file_list = glob(os.path.join(data_dir, '*.tif'))\n",
    "\n",
    "array_list = [read_tif_file(x) for x in file_list]\n",
    "\n",
    "# Perform averaging\n",
    "array_out = np.mean(array_list, axis=0)\n",
    "\n",
    "# Get metadata from one of the input files\n",
    "with rasterio.open(file_list[0]) as src:\n",
    "    meta = src.meta\n",
    "\n",
    "meta.update(dtype=rasterio.float32)\n",
    "\n",
    "# Write output file\n",
    "with rasterio.open('output/sa_ws_avg.tif', 'w', **meta) as dst:\n",
    "    dst.write(array_out.astype(rasterio.float32), 1)"
   ]
  },
  {
   "cell_type": "code",
   "execution_count": 99,
   "id": "58f0947b",
   "metadata": {},
   "outputs": [],
   "source": [
    "data_dir = 'output/ws/sd' # Or sys.argv[1]\n",
    "file_list = glob(os.path.join(data_dir, '*.tif'))\n",
    "\n",
    "array_list = [read_tif_file(x) for x in file_list]\n",
    "\n",
    "# Perform averaging\n",
    "array_out = np.mean(array_list, axis=0)\n",
    "\n",
    "# Get metadata from one of the input files\n",
    "with rasterio.open(file_list[0]) as src:\n",
    "    meta = src.meta\n",
    "\n",
    "meta.update(dtype=rasterio.float32)\n",
    "\n",
    "# Write output file\n",
    "with rasterio.open('output/sd_ws_avg.tif', 'w', **meta) as dst:\n",
    "    dst.write(array_out.astype(rasterio.float32), 1)"
   ]
  },
  {
   "cell_type": "code",
   "execution_count": 100,
   "id": "93190019",
   "metadata": {},
   "outputs": [],
   "source": [
    "data_dir = 'output/dir/sa' # Or sys.argv[1]\n",
    "file_list = glob(os.path.join(data_dir, '*.tif'))\n",
    "\n",
    "array_list = [read_tif_file(x) for x in file_list]"
   ]
  },
  {
   "cell_type": "code",
   "execution_count": 101,
   "id": "158f0fdf",
   "metadata": {},
   "outputs": [],
   "source": [
    "lst = []\n",
    "for x in array_list:\n",
    "    p = (x + 180) % 360\n",
    "    lst.append(p)"
   ]
  },
  {
   "cell_type": "code",
   "execution_count": 102,
   "id": "32d46d93",
   "metadata": {},
   "outputs": [],
   "source": [
    "arr = np.array(lst)"
   ]
  },
  {
   "cell_type": "code",
   "execution_count": 103,
   "id": "d37c13ea",
   "metadata": {},
   "outputs": [],
   "source": [
    "u_east = np.mean(np.sin(arr * np.pi/180), axis=0)\n",
    "u_north = np.mean(np.cos(arr * np.pi/180), axis=0)\n",
    "unit_WD = np.arctan2(u_east, u_north) * 180/np.pi\n",
    "unit_WD = (360 + unit_WD) % 360"
   ]
  },
  {
   "cell_type": "code",
   "execution_count": 104,
   "id": "04d0a25c",
   "metadata": {
    "scrolled": true
   },
   "outputs": [
    {
     "data": {
      "text/plain": [
       "array([[204.75348, 204.68549, 204.61766, ..., 181.282  , 181.06265,\n",
       "        181.65506],\n",
       "       [205.62848, 205.56416, 205.50037, ..., 172.93481, 172.22144,\n",
       "        172.2973 ],\n",
       "       [205.58372, 205.52885, 205.47531, ..., 173.59247, 172.80682,\n",
       "        172.92566],\n",
       "       ...,\n",
       "       [148.39569, 149.18561, 153.83301, ..., 192.64427, 192.78976,\n",
       "        187.88884],\n",
       "       [158.29059, 160.89587, 167.21375, ..., 192.55045, 191.04533,\n",
       "        185.42558],\n",
       "       [159.09583, 161.2544 , 157.5553 , ..., 191.5666 , 187.97469,\n",
       "        183.34247]], dtype=float32)"
      ]
     },
     "execution_count": 104,
     "metadata": {},
     "output_type": "execute_result"
    }
   ],
   "source": [
    "unit_WD"
   ]
  },
  {
   "cell_type": "code",
   "execution_count": 105,
   "id": "3bd9523f",
   "metadata": {},
   "outputs": [],
   "source": [
    "# Get metadata from one of the input files\n",
    "with rasterio.open(file_list[0]) as src:\n",
    "    meta = src.meta\n",
    "\n",
    "meta.update(dtype=rasterio.float32)\n",
    "\n",
    "# Write output file\n",
    "with rasterio.open('output/sa_dir_avg.tif', 'w', **meta) as dst:\n",
    "    dst.write(unit_WD.astype(rasterio.float32), 1)"
   ]
  },
  {
   "cell_type": "code",
   "execution_count": 106,
   "id": "e281b7a0",
   "metadata": {},
   "outputs": [
    {
     "name": "stdout",
     "output_type": "stream",
     "text": [
      "[[ 24.753479   24.685486   24.617676  ...   1.2819824   1.0626526\n",
      "    1.6550598]\n",
      " [ 25.628479   25.564148   25.500366  ... 352.9348    352.22144\n",
      "  352.2973   ]\n",
      " [ 25.58374    25.52887    25.475311  ... 353.59247   352.80682\n",
      "  352.92566  ]\n",
      " ...\n",
      " [328.3957    329.1856    333.833     ...  12.644287   12.789764\n",
      "    7.888855 ]\n",
      " [338.2906    340.89587   347.21375   ...  12.550446   11.045349\n",
      "    5.425598 ]\n",
      " [339.09583   341.2544    337.5553    ...  11.566589    7.9746704\n",
      "    3.3424683]]\n"
     ]
    }
   ],
   "source": [
    "unit_WD = (unit_WD + 180) % 360\n",
    "print(unit_WD)"
   ]
  },
  {
   "cell_type": "code",
   "execution_count": 107,
   "id": "31585d56",
   "metadata": {},
   "outputs": [],
   "source": [
    "# Get metadata from one of the input files\n",
    "with rasterio.open(file_list[0]) as src:\n",
    "    meta = src.meta\n",
    "\n",
    "meta.update(dtype=rasterio.float32)\n",
    "\n",
    "# Write output file\n",
    "with rasterio.open('output/sa_dir_avg_flp.tif', 'w', **meta) as dst:\n",
    "    dst.write(unit_WD.astype(rasterio.float32), 1)"
   ]
  },
  {
   "cell_type": "code",
   "execution_count": 108,
   "id": "2b4da7c1",
   "metadata": {},
   "outputs": [],
   "source": [
    "data_dir = 'output/dir/sd' # Or sys.argv[1]\n",
    "file_list = glob(os.path.join(data_dir, '*.tif'))\n",
    "\n",
    "array_list = [read_tif_file(x) for x in file_list]\n",
    "\n",
    "lst = []\n",
    "for x in array_list:\n",
    "    p = (x + 180) % 360\n",
    "    lst.append(p)\n",
    "    \n",
    "arr = np.array(lst)\n",
    "\n",
    "u_east = np.mean(np.sin(arr * np.pi/180), axis=0)\n",
    "u_north = np.mean(np.cos(arr * np.pi/180), axis=0)\n",
    "unit_WD = np.arctan2(u_east, u_north) * 180/np.pi\n",
    "unit_WD = (360 + unit_WD) % 360\n",
    "\n",
    "# Get metadata from one of the input files\n",
    "with rasterio.open(file_list[0]) as src:\n",
    "    meta = src.meta\n",
    "\n",
    "meta.update(dtype=rasterio.float32)\n",
    "\n",
    "# Write output file\n",
    "with rasterio.open('output/sd_dir_avg.tif', 'w', **meta) as dst:\n",
    "    dst.write(unit_WD.astype(rasterio.float32), 1)\n",
    "    \n",
    "unit_WD = (unit_WD + 180) % 360\n",
    "\n",
    "# Get metadata from one of the input files\n",
    "with rasterio.open(file_list[0]) as src:\n",
    "    meta = src.meta\n",
    "\n",
    "meta.update(dtype=rasterio.float32)\n",
    "\n",
    "# Write output file\n",
    "with rasterio.open('output/sd_dir_avg_flp.tif', 'w', **meta) as dst:\n",
    "    dst.write(unit_WD.astype(rasterio.float32), 1)"
   ]
  },
  {
   "cell_type": "code",
   "execution_count": null,
   "id": "02b7070b",
   "metadata": {},
   "outputs": [],
   "source": []
  },
  {
   "cell_type": "code",
   "execution_count": null,
   "id": "d092fcd4",
   "metadata": {},
   "outputs": [],
   "source": []
  }
 ],
 "metadata": {
  "kernelspec": {
   "display_name": "Python 3 (ipykernel)",
   "language": "python",
   "name": "python3"
  },
  "language_info": {
   "codemirror_mode": {
    "name": "ipython",
    "version": 3
   },
   "file_extension": ".py",
   "mimetype": "text/x-python",
   "name": "python",
   "nbconvert_exporter": "python",
   "pygments_lexer": "ipython3",
   "version": "3.7.11"
  }
 },
 "nbformat": 4,
 "nbformat_minor": 5
}
