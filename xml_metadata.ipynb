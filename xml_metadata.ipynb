{
 "cells": [
  {
   "cell_type": "code",
   "execution_count": 47,
   "metadata": {},
   "outputs": [],
   "source": [
    "import xml.etree.ElementTree as ET\n",
    "tree = ET.parse('metadata1.xml')\n",
    "root = tree.getroot()"
   ]
  },
  {
   "cell_type": "code",
   "execution_count": 48,
   "metadata": {},
   "outputs": [
    {
     "name": "stdout",
     "output_type": "stream",
     "text": [
      "eainfo {}\n",
      "distinfo {}\n",
      "idinfo {}\n"
     ]
    }
   ],
   "source": [
    "for child in root:\n",
    "    print(child.tag, child.attrib)\n"
   ]
  },
  {
   "cell_type": "code",
   "execution_count": 49,
   "metadata": {},
   "outputs": [
    {
     "data": {
      "text/plain": [
       "'FID'"
      ]
     },
     "execution_count": 49,
     "metadata": {},
     "output_type": "execute_result"
    }
   ],
   "source": [
    "root[0][0][0][0].text"
   ]
  },
  {
   "cell_type": "code",
   "execution_count": 50,
   "metadata": {},
   "outputs": [
    {
     "name": "stdout",
     "output_type": "stream",
     "text": [
      "FID\n",
      "Fl_Fa\n",
      "Fr_Rsk\n",
      "databasin.org/datasets/40f34ea090e446a5ac7c24473d8cf3a1/\n",
      "Join_ID\n",
      "LU_Cat_C_1\n",
      "LU_Cat_Cvt\n",
      "LU_Cat_Fz\n",
      "Mj_LU_Cat\n",
      "Nm_Fl_Fa\n",
      "Nm_Fr_Rsk\n",
      "Nm_Hi_Pri\n",
      "Nm_Lg_Fire\n",
      "Nm_PcC_LgF\n",
      "Nm_Pr_F_Ig\n",
      "Pc_Cg_LgFi\n",
      "Pr_Fi_Ign\n",
      "Pr_Lg_Fr\n",
      "Shape\n",
      "WUI_Interf\n",
      "WUI_Interm\n",
      "WUI_Rsk\n"
     ]
    }
   ],
   "source": [
    "for v in root.iter('attrdef'):\n",
    "    print(v.text)"
   ]
  },
  {
   "cell_type": "code",
   "execution_count": 51,
   "metadata": {},
   "outputs": [],
   "source": [
    "for v in root.iter('attrdef'):\n",
    "    v.text = \"databasin.org/datasets/40f34ea090e446a5ac7c24473d8cf3a1/\""
   ]
  },
  {
   "cell_type": "code",
   "execution_count": 52,
   "metadata": {},
   "outputs": [
    {
     "name": "stdout",
     "output_type": "stream",
     "text": [
      "databasin.org/datasets/40f34ea090e446a5ac7c24473d8cf3a1/\n",
      "databasin.org/datasets/40f34ea090e446a5ac7c24473d8cf3a1/\n",
      "databasin.org/datasets/40f34ea090e446a5ac7c24473d8cf3a1/\n",
      "databasin.org/datasets/40f34ea090e446a5ac7c24473d8cf3a1/\n",
      "databasin.org/datasets/40f34ea090e446a5ac7c24473d8cf3a1/\n",
      "databasin.org/datasets/40f34ea090e446a5ac7c24473d8cf3a1/\n",
      "databasin.org/datasets/40f34ea090e446a5ac7c24473d8cf3a1/\n",
      "databasin.org/datasets/40f34ea090e446a5ac7c24473d8cf3a1/\n",
      "databasin.org/datasets/40f34ea090e446a5ac7c24473d8cf3a1/\n",
      "databasin.org/datasets/40f34ea090e446a5ac7c24473d8cf3a1/\n",
      "databasin.org/datasets/40f34ea090e446a5ac7c24473d8cf3a1/\n",
      "databasin.org/datasets/40f34ea090e446a5ac7c24473d8cf3a1/\n",
      "databasin.org/datasets/40f34ea090e446a5ac7c24473d8cf3a1/\n",
      "databasin.org/datasets/40f34ea090e446a5ac7c24473d8cf3a1/\n",
      "databasin.org/datasets/40f34ea090e446a5ac7c24473d8cf3a1/\n",
      "databasin.org/datasets/40f34ea090e446a5ac7c24473d8cf3a1/\n",
      "databasin.org/datasets/40f34ea090e446a5ac7c24473d8cf3a1/\n",
      "databasin.org/datasets/40f34ea090e446a5ac7c24473d8cf3a1/\n",
      "databasin.org/datasets/40f34ea090e446a5ac7c24473d8cf3a1/\n",
      "databasin.org/datasets/40f34ea090e446a5ac7c24473d8cf3a1/\n",
      "databasin.org/datasets/40f34ea090e446a5ac7c24473d8cf3a1/\n",
      "databasin.org/datasets/40f34ea090e446a5ac7c24473d8cf3a1/\n"
     ]
    }
   ],
   "source": [
    "for v in root.iter('attrdef'):\n",
    "    print(v.text)"
   ]
  },
  {
   "cell_type": "code",
   "execution_count": 53,
   "metadata": {},
   "outputs": [],
   "source": [
    "tree.write('output.xml')"
   ]
  },
  {
   "cell_type": "code",
   "execution_count": null,
   "metadata": {},
   "outputs": [],
   "source": []
  }
 ],
 "metadata": {
  "kernelspec": {
   "display_name": "Python 3",
   "language": "python",
   "name": "python3"
  },
  "language_info": {
   "codemirror_mode": {
    "name": "ipython",
    "version": 3
   },
   "file_extension": ".py",
   "mimetype": "text/x-python",
   "name": "python",
   "nbconvert_exporter": "python",
   "pygments_lexer": "ipython3",
   "version": "3.7.9"
  }
 },
 "nbformat": 4,
 "nbformat_minor": 4
}
